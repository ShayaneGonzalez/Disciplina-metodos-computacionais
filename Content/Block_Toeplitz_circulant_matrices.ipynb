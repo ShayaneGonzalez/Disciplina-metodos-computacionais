{
 "cells": [
  {
   "cell_type": "markdown",
   "metadata": {},
   "source": [
    "# Matrix-vector products with BTTB/BCCB matrices\n",
    "\n",
    "This notebook illustrates algoritmhs for computing the matrix-vector product for the cases in which the matrix is Block Toeplitz formed by Toeplitz Blocks (BTTB) and Block Circulant formed by Circulant Blocks (BCCB).\n",
    "\n",
    "#### References\n",
    "\n",
    "* Davis, P. J. (1979). Circulant matrices, John Wiley & Sons Inc, ISBN 0-471-05771-1\n",
    "\n",
    "* Jain, A. K. (1989), Fundamentals of Digital Image Processing, Prentice Hall, ISBN 978-0-13-336165-0.\n",
    "\n",
    "* Horn, R. A. and C. R. Johnson, (1991), Topics in Matrix Analysis, Cambridge University Press, ISBN 978-0-521-46713-1.\n",
    "\n",
    "* Chan, R. H. and X-Q Jin (2007), An introduction to iterative Toeplitz solvers, Philadelphia: Society for Industrial and Applied Mathematics, ISBN 978-0-898716-36-8.\n",
    "\n",
    "* Magnus, J. R. and H. Neudecker (2007), Matrix differential calculus with applications in statistics and econometrics, 3rd edition, John Wiley & Sons, ISBN 0-471-98632-1.\n",
    "\n",
    "* Golub, G. H. and C. F. Van Loan, (2013), Matrix computations, 4th edition, Johns Hopkins University Press, ISBN 978-1-4214-0794-4."
   ]
  },
  {
   "cell_type": "markdown",
   "metadata": {},
   "source": [
    "## Topics"
   ]
  },
  {
   "cell_type": "markdown",
   "metadata": {},
   "source": [
    "* [Block Circulant - Circulant Blocks (BCCB) matrices](#sec1)\n",
    "\n",
    "    * [BCCB are diagonalized by the Kronecker product of Fourier matrices](#sec1a)\n",
    "    \n",
    "    * [The eigenvalues of a BCCB matrix can be computed by the 2D Fourier transform](#sec1b)\n",
    "\n",
    "    * [Product of $\\mathbf{C}_{BCCB}$ and an arbitrary vector $\\mathbf{a}$](#sec1c)\n",
    "\n",
    "* [Block Toeplitz - Toeplitz Blocks (BTTB) matrices](#sec2)\n",
    "\n",
    "    * [Arbitrary BTTB matrices are not diagonalized by the Kronecker product of Fourier matrices](#sec2a)\n",
    "    \n",
    "    * [The Fourier approach used for BCCB matrices is not valid for the product of arbitrary BTTB matrices and arbitrary vectors](#sec2b)\n",
    "    \n",
    "    * [The Fourier approach used for BCCB matrices is valid for the product of some particular BTTB matrices and some particular vectors](#sec2c)\n",
    "   \n",
    "* [Arbitrary BTTB matrices can be embedded into BCCB matrices](#sec3)\n",
    "\n",
    "    * [Product of an arbitrary BTTB matrix $\\mathbf{T}_{BTTB}$ and an arbitrary vector $\\mathbf{b}$](#sec3a)"
   ]
  },
  {
   "cell_type": "code",
   "execution_count": 1,
   "metadata": {},
   "outputs": [],
   "source": [
    "import numpy as np\n",
    "from numpy.linalg import multi_dot\n",
    "import matplotlib.pyplot as plt\n",
    "from scipy.linalg import toeplitz, circulant, dft\n",
    "from scipy.fft import fft, ifft, fft2, ifft2"
   ]
  },
  {
   "cell_type": "markdown",
   "metadata": {},
   "source": [
    "<a id='sec1'></a>\n",
    "## Block Circulant - Circulant Blocks (BCCB) matrices"
   ]
  },
  {
   "cell_type": "markdown",
   "metadata": {},
   "source": [
    "Let $\\mathbf{C}_{BCCB}$ be a BCCB matrix (e.g., Davis, 1979, p. 184; Jain, 1989, p. 28). Such matrices have a $Q \\times Q$ circulant block structure formed by $P \\times P$ circulant blocks $\\mathbf{C}_{q}$, $q = 0, \\dots, Q - 1$. For convenience, we represent the elements of a block $\\mathbf{C}_{q}$ by $c_{p}^{(q)}$, $p = 0, \\dots, P - 1$. The example below illustrates a $\\mathbf{C}_{BCCB}$ matrix formed by $Q = 4$ and $P = 3$:\n",
    "\n",
    "<a id='eq1a'></a>\n",
    "$$\n",
    "\\mathbf{C}_{BCCB} = \\begin{bmatrix}\n",
    "\\mathbf{C}_{0} & \\mathbf{C}_{3} & \\mathbf{C}_{2} & \\mathbf{C}_{1} \\\\\n",
    "\\mathbf{C}_{1} & \\mathbf{C}_{0} & \\mathbf{C}_{3} & \\mathbf{C}_{2} \\\\\n",
    "\\mathbf{C}_{2} & \\mathbf{C}_{1} & \\mathbf{C}_{0} & \\mathbf{C}_{3} \\\\\n",
    "\\mathbf{C}_{3} & \\mathbf{C}_{2} & \\mathbf{C}_{1} & \\mathbf{C}_{0}\n",
    "\\end{bmatrix} \\quad , \\tag{1a}\n",
    "$$\n",
    "\n",
    "where\n",
    "\n",
    "<a id='eq1b'></a>\n",
    "$$\n",
    "\\mathbf{C}_{q} = \\begin{bmatrix}\n",
    "c_{0}^{(q)} & c_{2}^{(q)} & c_{1}^{(q)} \\\\\n",
    "c_{1}^{(q)} & c_{0}^{(q)} & c_{2}^{(q)} \\\\\n",
    "c_{2}^{(q)} & c_{1}^{(q)} & c_{0}^{(q)}\n",
    "\\end{bmatrix} \\quad , \\quad q = 0, 1, 2, 3 \\: . \\tag{1b}\n",
    "$$"
   ]
  },
  {
   "cell_type": "code",
   "execution_count": 2,
   "metadata": {},
   "outputs": [],
   "source": [
    "Q = 4 # number of blocks along rows/columns\n",
    "P = 3 # number of rows/columns in each block"
   ]
  },
  {
   "cell_type": "code",
   "execution_count": 3,
   "metadata": {},
   "outputs": [],
   "source": [
    "# matrix containing the columns of each block\n",
    "columns = 17*np.random.rand(Q, P) + 3"
   ]
  },
  {
   "cell_type": "code",
   "execution_count": 4,
   "metadata": {},
   "outputs": [],
   "source": [
    "# create the first column of blocks\n",
    "column_of_blocks = []\n",
    "for block_column in columns:\n",
    "    column_of_blocks.append(circulant(block_column))\n",
    "column_of_blocks = np.stack(column_of_blocks, axis=0)"
   ]
  },
  {
   "cell_type": "code",
   "execution_count": 5,
   "metadata": {},
   "outputs": [],
   "source": [
    "# create the BCCB matrix from the first column of blocks\n",
    "ind_col, ind_row = np.ogrid[0:Q, 0:-Q:-1]\n",
    "indices = ind_col + ind_row\n",
    "C_BCCB = np.hstack(np.hstack(column_of_blocks[indices]))"
   ]
  },
  {
   "cell_type": "code",
   "execution_count": 6,
   "metadata": {},
   "outputs": [
    {
     "data": {
      "image/png": "[encoded data removed]",
      "text/plain": [
       "<Figure size 432x432 with 2 Axes>"
      ]
     },
     "metadata": {
      "needs_background": "light"
     },
     "output_type": "display_data"
    }
   ],
   "source": [
    "plt.figure(figsize=(6,6))\n",
    "plt.title('$\\mathbf{C}_{BCCB} \\: (Q = 4, P = 3)$', fontsize=18)\n",
    "plt.matshow(C_BCCB, fignum=0, vmin = 0, vmax = 20, cmap='gist_rainbow_r')\n",
    "plt.colorbar(shrink=0.85)\n",
    "plt.xticks(ticks=np.arange(Q)*P - 0.5, labels=[])\n",
    "plt.yticks(ticks=np.arange(Q)*P - 0.5, labels=[])\n",
    "plt.grid(color='k', linewidth=2)\n",
    "plt.show()"
   ]
  },
  {
   "cell_type": "markdown",
   "metadata": {},
   "source": [
    "<a id='sec1a'></a>\n",
    "### BCCB are diagonalized by the Kronecker product of Fourier matrices"
   ]
  },
  {
   "cell_type": "markdown",
   "metadata": {},
   "source": [
    "It can be shown that the BCCB matrix $\\mathbf{C}_{BCCB}$ (equations [1a](#eq1a) and [1b](#eq1b)) is diagonalized by $\\left( \\mathbf{H}_{Q} \\otimes \\mathbf{H}_{P} \\right)$, where $\\mathbf{H}_{Q}$ and $\\mathbf{H}_{P}$ are the Fourier matrices of order $Q$ and $P$, respectively. These Fourier matrices are computed with normalization factors $\\sqrt{Q}$ and $\\sqrt{P}$, so that they are unitary (see the notebook `fourier_1D_4`). It means that $\\mathbf{C}_{BCCB}$ satisfies the following equation:\n",
    "\n",
    "<a id='eq2'></a>\n",
    "$$\n",
    "\\mathbf{C}_{BCCB} = \\left( \\mathbf{H}_{Q} \\otimes \\mathbf{H}_{P} \\right)^{\\ast}\n",
    "\\boldsymbol{\\Lambda}_{BCCB}\n",
    "\\left( \\mathbf{H}_{Q} \\otimes \\mathbf{H}_{P} \\right) \\: , \\tag{2}\n",
    "$$\n",
    "\n",
    "where $\\boldsymbol{\\Lambda}_{BCCB}$ is a diagonal matrix containing the eigenvalues of $\\mathbf{C}_{BCCB}$ and \"$\\otimes$\" denotes the Kronecker product (Jain, 1989; Horn and Johnson, 1991; the notebook `kronecker-product`)."
   ]
  },
  {
   "cell_type": "markdown",
   "metadata": {},
   "source": [
    "By properly manipulating [equation 2](#eq2), we obtain (Chan and Jin, 2007):\n",
    "\n",
    "$$\n",
    "\\begin{split}\n",
    "\\left( \\mathbf{H}_{Q} \\otimes \\mathbf{H}_{P} \\right) \\mathbf{C}_{BCCB} &= \\boldsymbol{\\Lambda}_{BCCB} \\, \\left( \\mathbf{H}_{Q} \\otimes \\mathbf{H}_{P} \\right) \\\\\n",
    "\\left( \\mathbf{H}_{Q} \\otimes \\mathbf{H}_{P} \\right) \\, \\mathbf{C}_{BCCB} \\, \\mathbf{u}_{0} &= \\boldsymbol{\\Lambda}_{BCCB} \\, \\left( \\mathbf{H}_{Q} \\otimes \\mathbf{H}_{P} \\right) \\, \\mathbf{u}_{0} \\\\\n",
    "\\left( \\mathbf{H}_{Q} \\otimes \\mathbf{H}_{P} \\right) \\, \\mathbf{c}_{0} &= \\boldsymbol{\\Lambda}_{BCCB} \\, \\frac{1}{\\sqrt{QP}}\\mathbf{1}_{QP}\n",
    "\\end{split} \\quad ,\n",
    "$$\n",
    "\n",
    "which results in the following equation\n",
    "\n",
    "<a id='eq3'></a>\n",
    "$$\n",
    "\\sqrt{QP} \\, \\left( \\mathbf{H}_{Q} \\otimes \\mathbf{H}_{P} \\right) \\, \\mathbf{c}_{0} = \\boldsymbol{\\lambda}_{BCCB} \\quad , \\tag{3}\n",
    "$$\n",
    "\n",
    "\n",
    "where $\\mathbf{u}_{0}$ is a $QP \\times 1$ vector with the first element equal to $1$ and all the remaining elements equal to $0$, $\\mathbf{c}_{0}$ is the first column of $\\mathbf{C}_{BTTB}$, $\\mathbf{1}_{QP}$ is a $QP \\times 1$ with all elements equal to $1$ and $\\boldsymbol{\\lambda}_{BTTB}$ is the vector forming the diagonal of $\\boldsymbol{\\Lambda}_{BTTB}$ (the eigenvalues of $\\mathbf{C}_{BTTB}$).\n",
    "\n",
    "[Equation 3](#eq3) shows that the eigenvalues of $\\mathbf{C}_{BTTB}$ from its first column."
   ]
  },
  {
   "cell_type": "code",
   "execution_count": 7,
   "metadata": {},
   "outputs": [],
   "source": [
    "# scale must be sqrt(n) for DFT be unitary\n",
    "HQ = dft(n=Q, scale='sqrtn')\n",
    "HP = dft(n=P, scale='sqrtn')"
   ]
  },
  {
   "cell_type": "code",
   "execution_count": 8,
   "metadata": {},
   "outputs": [],
   "source": [
    "# compute the Kronecker product\n",
    "HQ_kron_HP = np.kron(HQ, HP)"
   ]
  },
  {
   "cell_type": "code",
   "execution_count": 9,
   "metadata": {},
   "outputs": [],
   "source": [
    "# compute the eigenvalues of C_BCCB\n",
    "lambda_BCCB = np.sqrt(Q*P)*np.dot(HQ_kron_HP, C_BCCB[:,0])"
   ]
  },
  {
   "cell_type": "code",
   "execution_count": 10,
   "metadata": {},
   "outputs": [],
   "source": [
    "# create matrix Lambda_BCCB\n",
    "Lambda_BCCB = np.diag(lambda_BCCB)"
   ]
  },
  {
   "cell_type": "code",
   "execution_count": 11,
   "metadata": {},
   "outputs": [],
   "source": [
    "# compute a BCCB matrix C2 by evaluating the right side of equation 2\n",
    "C2 = multi_dot([np.conj(HQ_kron_HP), Lambda_BCCB, HQ_kron_HP])"
   ]
  },
  {
   "cell_type": "code",
   "execution_count": 12,
   "metadata": {},
   "outputs": [
    {
     "data": {
      "text/plain": [
       "True"
      ]
     },
     "execution_count": 12,
     "metadata": {},
     "output_type": "execute_result"
    }
   ],
   "source": [
    "# verify that C_BCCB and C2 are equal to each other\n",
    "np.allclose(C_BCCB, C2)"
   ]
  },
  {
   "cell_type": "markdown",
   "metadata": {},
   "source": [
    "<a id='sec1b'></a>\n",
    "### The eigenvalues of a BCCB matrix can be computed by the 2D Fourier transform"
   ]
  },
  {
   "cell_type": "markdown",
   "metadata": {},
   "source": [
    "By using the Kronecker product (see equations 3 and 4 of the notebook `kronecker-product`) and the symmetry of Fourier matrices, [equation 3](#eq3) can be rewritten as follows:\n",
    "\n",
    "<a id='eq4a'></a>\n",
    "$$\n",
    "\\sqrt{QP} \\; \\mathbf{H}_{Q} \\, \\mathbf{G}_{row} \\, \\mathbf{H}_{P} = \\mathbf{L}_{row} \\: , \\tag{4a}\n",
    "$$\n",
    "\n",
    "where $\\mathbf{G}_{row}$ and $\\mathbf{L}_{row}$ are $Q \\times P$ matrices obtained, respectively, by reorganizing the vectors $\\mathbf{c}_{0}$ and $\\boldsymbol{\\lambda}_{BCCB}$ along their rows (Jain, 1989; Horn and Johnson, 1991).\n",
    "Alternatively, [equation 3](#eq3) can be rewritten as follows (see equations 5 and 6 of the notebook `kronecker-product`):\n",
    "\n",
    "<a id='eq4b'></a>\n",
    "$$\n",
    "\\sqrt{QP} \\; \\mathbf{H}_{P} \\, \\mathbf{G}_{col} \\, \\mathbf{H}_{Q} = \\mathbf{L}_{col} \\: , \\tag{4b}\n",
    "$$\n",
    "\n",
    "where $\\mathbf{G}_{col}$ and $\\mathbf{L}_{col}$ are $P \\times Q$ matrices obtained, respectively, by reorganizing the vectors $\\mathbf{c}_{0}$ and $\\boldsymbol{\\lambda}_{BCCB}$ along their columns (Magnus and Neudecker, 2007).\n",
    "\n",
    "\n",
    "Equations [4a](#eq4a) and [4b](#eq4b) show that the eigenvalues of $\\mathbf{C}_{BCCB}$ can be computed from the 2D DFT of its first column $\\mathbf{c}_{0}$ (see the notebook `fourier_2D`)."
   ]
  },
  {
   "cell_type": "code",
   "execution_count": 13,
   "metadata": {},
   "outputs": [],
   "source": [
    "L_row = np.reshape(lambda_BCCB, (Q, P))"
   ]
  },
  {
   "cell_type": "code",
   "execution_count": 14,
   "metadata": {},
   "outputs": [],
   "source": [
    "G_row = np.reshape(C_BCCB[:,0], (Q, P))"
   ]
  },
  {
   "cell_type": "code",
   "execution_count": 15,
   "metadata": {},
   "outputs": [
    {
     "data": {
      "text/plain": [
       "True"
      ]
     },
     "execution_count": 15,
     "metadata": {},
     "output_type": "execute_result"
    }
   ],
   "source": [
    "np.allclose(np.sqrt(Q*P)*multi_dot([HQ, G_row, HP]), L_row)"
   ]
  },
  {
   "cell_type": "code",
   "execution_count": 16,
   "metadata": {
    "scrolled": false
   },
   "outputs": [
    {
     "data": {
      "text/plain": [
       "True"
      ]
     },
     "execution_count": 16,
     "metadata": {},
     "output_type": "execute_result"
    }
   ],
   "source": [
    "np.allclose(np.sqrt(Q*P)*fft2(x=G_row, norm='ortho'), L_row)"
   ]
  },
  {
   "cell_type": "code",
   "execution_count": 17,
   "metadata": {},
   "outputs": [],
   "source": [
    "L_col = np.reshape(lambda_BCCB, (Q, P)).T"
   ]
  },
  {
   "cell_type": "code",
   "execution_count": 18,
   "metadata": {},
   "outputs": [
    {
     "data": {
      "text/plain": [
       "True"
      ]
     },
     "execution_count": 18,
     "metadata": {},
     "output_type": "execute_result"
    }
   ],
   "source": [
    "np.allclose(L_col, L_row.T)"
   ]
  },
  {
   "cell_type": "code",
   "execution_count": 19,
   "metadata": {},
   "outputs": [],
   "source": [
    "G_col = np.reshape(C_BCCB[:,0], (Q, P)).T"
   ]
  },
  {
   "cell_type": "code",
   "execution_count": 20,
   "metadata": {},
   "outputs": [
    {
     "data": {
      "text/plain": [
       "True"
      ]
     },
     "execution_count": 20,
     "metadata": {},
     "output_type": "execute_result"
    }
   ],
   "source": [
    "np.allclose(G_col, G_row.T)"
   ]
  },
  {
   "cell_type": "code",
   "execution_count": 21,
   "metadata": {},
   "outputs": [
    {
     "data": {
      "text/plain": [
       "True"
      ]
     },
     "execution_count": 21,
     "metadata": {},
     "output_type": "execute_result"
    }
   ],
   "source": [
    "np.allclose(np.sqrt(Q*P)*multi_dot([HP, G_col, HQ]), L_col)"
   ]
  },
  {
   "cell_type": "code",
   "execution_count": 22,
   "metadata": {},
   "outputs": [
    {
     "data": {
      "text/plain": [
       "True"
      ]
     },
     "execution_count": 22,
     "metadata": {},
     "output_type": "execute_result"
    }
   ],
   "source": [
    "np.allclose(np.sqrt(Q*P)*fft2(x=G_col, norm='ortho'), L_col)"
   ]
  },
  {
   "cell_type": "markdown",
   "metadata": {},
   "source": [
    "<a id='sec1c'></a>\n",
    "### Product of $\\mathbf{C}_{BCCB}$ and an arbitrary vector $\\mathbf{a}$"
   ]
  },
  {
   "cell_type": "markdown",
   "metadata": {},
   "source": [
    "Let's consider the following matrix-vector product:\n",
    "\n",
    "<a id='eq5'></a>\n",
    "$$\n",
    "\\mathbf{C}_{BCCB} \\; \\mathbf{a} = \\mathbf{w} \\: , \\tag{5}\n",
    "$$\n",
    "\n",
    "where $\\mathbf{a}$ and $\\mathbf{w}$ are $QP \\times 1$ vectors and $\\mathbf{C}_{BCCB}$ is an arbitrary $QP \\times QP$ BCCB matrix. By using [equation 2](#eq2), we can rewrite [equation 5](#eq5) and obtain \n",
    "\n",
    "<a id='eq6'></a>\n",
    "$$\n",
    "\\left( \\mathbf{H}_{Q} \\otimes \\mathbf{H}_{P} \\right)^{\\ast} \\boldsymbol{\\Lambda}_{BCCB} \\left( \\mathbf{H}_{Q} \\otimes \\mathbf{H}_{P} \\right) \\mathbf{a} = \\mathbf{w} \\: . \\tag{6}\n",
    "$$"
   ]
  },
  {
   "cell_type": "markdown",
   "metadata": {},
   "source": [
    "Remember that $\\boldsymbol{\\Lambda}_{BCCB}$ is a diagonal matrix with diagonal defined by the vector $\\boldsymbol{\\lambda}_{BCCB}$ ([equation 3](#eq3)). Consequently, we can rewrite [equation 6](#eq6) according to:\n",
    "\n",
    "<a id='eq7a'></a>\n",
    "$$\n",
    "\\left( \\mathbf{H}_{Q} \\otimes \\mathbf{H}_{P} \\right)^{\\ast} \\mathbf{h}\n",
    " = \\mathbf{w} \\: , \\tag{7a}\n",
    "$$\n",
    "\n",
    "where $\\mathbf{h}$ is a $QP \\times 1$ vector given by\n",
    "\n",
    "<a id='eq7b'></a>\n",
    "$$\n",
    "\\mathbf{h} = \\boldsymbol{\\lambda}_{BCCB} \\circ \\left( \\mathbf{H}_{Q} \\otimes \\mathbf{H}_{P} \\right) \\mathbf{a} \\tag{7b}\n",
    "$$\n",
    "\n",
    "and \"$\\circ$\" denotes the Hadamard product."
   ]
  },
  {
   "cell_type": "markdown",
   "metadata": {},
   "source": [
    "By using the Kronecker product (see equations 3 and 4 of the notebook `kronecker-product`), we can transform equations [7a](#eq7a) and [7b](#eq7b) into:\n",
    "\n",
    "<a id='eq8a'></a>\n",
    "$$\n",
    "\\mathbf{H}_{Q}^{\\ast} \\, \\mathbf{H}_{row} \\, \\mathbf{H}_{P}^{\\ast} = \\mathbf{W}_{row} \\tag{8a}\n",
    "$$\n",
    "\n",
    "and\n",
    "\n",
    "<a id='eq8b'></a>\n",
    "$$\n",
    "\\mathbf{H}_{row} = \\mathbf{L}_{row} \\circ \\left( \\mathbf{H}_{Q} \\mathbf{A}_{row} \\, \\mathbf{H}_{P} \\right) \\quad , \\tag{8b}\n",
    "$$\n",
    "\n",
    "where $\\mathbf{H}_{row}$, $\\mathbf{W}_{row}$ and $\\mathbf{A}_{row}$ are $Q \\times P$ matrices obtained by reorganizing, respectively, the vectors $\\mathbf{h}$ ([equation 7b](#eq7b)), $\\mathbf{a}$ and $\\mathbf{w}$ ([equation 5](#eq5)) along their rows and $\\mathbf{L}_{row}$ is defined by [equation 4a](#eq4a). By combining equations [8a](#eq8a) and [8b](#eq8b), we obtain \n",
    "\n",
    "<a id='eq8c'></a>\n",
    "$$\n",
    "\\mathbf{H}_{Q}^{\\ast} \\left[ \\mathbf{L}_{row} \\circ \\left( \\mathbf{H}_{Q} \\mathbf{A}_{row} \\, \\mathbf{H}_{P} \\right) \\right] \\mathbf{H}_{P}^{\\ast} = \\mathbf{W}_{row} \\: . \\tag{8c}\n",
    "$$"
   ]
  },
  {
   "cell_type": "markdown",
   "metadata": {},
   "source": [
    "Alternatively, we can transform equations [7a](#eq7a) and [7b](#eq7b) into (see equations 5 and 6 of the notebook `kronecker-product`):\n",
    "\n",
    "<a id='eq9a'></a>\n",
    "$$\n",
    "\\mathbf{H}_{P}^{\\ast} \\, \\mathbf{H}_{col} \\, \\mathbf{H}_{Q}^{\\ast} = \\mathbf{W}_{col} \\tag{9a}\n",
    "$$\n",
    "\n",
    "and\n",
    "\n",
    "<a id='eq9b'></a>\n",
    "$$\n",
    "\\mathbf{H}_{col} = \\mathbf{L}_{col} \\circ \\left( \\mathbf{H}_{P} \\mathbf{A}_{col} \\, \\mathbf{H}_{Q} \\right) \\quad , \\tag{9b}\n",
    "$$\n",
    "\n",
    "where $\\mathbf{H}_{col}$, $\\mathbf{W}_{col}$ and $\\mathbf{A}_{col}$ are $P \\times Q$ matrices obtained by reorganizing, respectively, the vectors $\\mathbf{h}$ ([equation 7b](#eq7b)), $\\mathbf{a}$ and $\\mathbf{w}$ ([equation 5](#eq5)) along their columns and $\\mathbf{L}_{col}$ is defined by [equation 4b](#eq4b). By combining equations [9a](#eq9a) and [9b](#eq9b), we obtain \n",
    "\n",
    "<a id='eq9c'></a>\n",
    "$$\n",
    "\\mathbf{H}_{P}^{\\ast} \\left[ \\mathbf{L}_{col} \\circ \\left( \\mathbf{H}_{P} \\mathbf{A}_{col} \\, \\mathbf{H}_{Q} \\right) \\right] \\mathbf{H}_{Q}^{\\ast} = \\mathbf{W}_{col} \\: . \\tag{9c}\n",
    "$$"
   ]
  },
  {
   "cell_type": "markdown",
   "metadata": {},
   "source": [
    "It is worth noting that matrix $\\mathbf{W}_{row}$ ([equation 8a](#eq8a)), which contain the elements of vector $\\mathbf{w}$ ([equation 5](#eq5)), is the 2D IDFT of the Hadamard product of the matrix $\\mathbf{L}_{row}$ ([equation 4a](#eq4a)), which contains the eigenvalues of the BCCB matrix $\\mathbf{C}_{BCCB}$ ([equation 5](#eq5)), and the 2D DFT of the matrix $\\mathbf{A}_{row}$, which contains the elements of vector $\\mathbf{a}$ ([equation 5](#eq5)). Similarly, matrix $\\mathbf{W}_{col}$ ([equation 9a](#eq9a)), which contain the elements of vector $\\mathbf{w}$ ([equation 5](#eq5)), is the 2D IDFT of the Hadamard product of the matrix $\\mathbf{L}_{col}$ ([equation 4b](#eq4b)), which contains the eigenvalues of the BCCB matrix $\\mathbf{C}_{BCCB}$ ([equation 5](#eq5)), and the 2D DFT of the matrix $\\mathbf{A}_{col}$, which contains the elements of vector $\\mathbf{a}$ ([equation 5](#eq5)). Equations [8c](#eq8c) and [9c](#eq9c) show that the matrix-vector product of a BCCB matrix and an arbitrary vector can be computed by using the 2D DFT."
   ]
  },
  {
   "cell_type": "code",
   "execution_count": 23,
   "metadata": {},
   "outputs": [],
   "source": [
    "# create an arbitrary vector a\n",
    "a = np.random.rand(Q*P)"
   ]
  },
  {
   "cell_type": "code",
   "execution_count": 24,
   "metadata": {},
   "outputs": [],
   "source": [
    "# compute a vector w by using equation 5\n",
    "w = np.dot(C_BCCB, a)"
   ]
  },
  {
   "cell_type": "code",
   "execution_count": 25,
   "metadata": {},
   "outputs": [],
   "source": [
    "# reorganize w along the lines of a Q x P matrix W\n",
    "W_row = np.reshape(w, (Q, P))"
   ]
  },
  {
   "cell_type": "code",
   "execution_count": 26,
   "metadata": {},
   "outputs": [],
   "source": [
    "# reorganize a along the lines of a Q x P matrix A\n",
    "A_row = np.reshape(a, (Q, P))"
   ]
  },
  {
   "cell_type": "code",
   "execution_count": 27,
   "metadata": {},
   "outputs": [],
   "source": [
    "# compute matrix H by using equation 8b\n",
    "H_row = L_row*fft2(x=A_row, norm='ortho')"
   ]
  },
  {
   "cell_type": "code",
   "execution_count": 28,
   "metadata": {},
   "outputs": [],
   "source": [
    "# compute a matrix W2 by using equation 8a\n",
    "W_row2 = ifft2(x=H_row, norm='ortho')"
   ]
  },
  {
   "cell_type": "code",
   "execution_count": 29,
   "metadata": {},
   "outputs": [
    {
     "data": {
      "text/plain": [
       "True"
      ]
     },
     "execution_count": 29,
     "metadata": {},
     "output_type": "execute_result"
    }
   ],
   "source": [
    "# compare matrices W and W2\n",
    "np.allclose(W_row, W_row2)"
   ]
  },
  {
   "cell_type": "code",
   "execution_count": 30,
   "metadata": {},
   "outputs": [],
   "source": [
    "# reorganize w along the columns of a P x Q matrix W\n",
    "W_col = np.reshape(w, (Q, P)).T"
   ]
  },
  {
   "cell_type": "code",
   "execution_count": 31,
   "metadata": {},
   "outputs": [],
   "source": [
    "# reorganize a along the lines of a P x Q matrix A\n",
    "A_col = np.reshape(a, (Q, P)).T"
   ]
  },
  {
   "cell_type": "code",
   "execution_count": 32,
   "metadata": {},
   "outputs": [],
   "source": [
    "# compute matrix H by using equation 9b\n",
    "H_col = L_col*fft2(x=A_col, norm='ortho')"
   ]
  },
  {
   "cell_type": "code",
   "execution_count": 33,
   "metadata": {},
   "outputs": [],
   "source": [
    "# compute a matrix W2 by using equation 9a\n",
    "W_col2 = ifft2(x=H_col, norm='ortho')"
   ]
  },
  {
   "cell_type": "code",
   "execution_count": 34,
   "metadata": {},
   "outputs": [
    {
     "data": {
      "text/plain": [
       "True"
      ]
     },
     "execution_count": 34,
     "metadata": {},
     "output_type": "execute_result"
    }
   ],
   "source": [
    "# compare matrices W and W2\n",
    "np.allclose(W_col, W_col2)"
   ]
  },
  {
   "cell_type": "code",
   "execution_count": 35,
   "metadata": {},
   "outputs": [
    {
     "data": {
      "text/plain": [
       "True"
      ]
     },
     "execution_count": 35,
     "metadata": {},
     "output_type": "execute_result"
    }
   ],
   "source": [
    "np.allclose(W_col, W_row.T)"
   ]
  },
  {
   "cell_type": "markdown",
   "metadata": {},
   "source": [
    "<a id='sec2'></a>\n",
    "## Block Toeplitz - Toeplitz Block (BTTB) matrices"
   ]
  },
  {
   "cell_type": "markdown",
   "metadata": {},
   "source": [
    "Let $\\mathbf{T}_{BTTB}$ be a BTTB matrix (e.g., Jain, 1989, p. 28; Chan and Jin, 2007, p. 67). Such matrices have a $Q \\times Q$ Toeplitz block structure formed by $P \\times P$ Toeplitz blocks $\\mathbf{T}_{q}$, $q = -Q + 1, \\dots, Q - 1$. For convenience, we represent the elements of a block $\\mathbf{T}_{q}$ by $t_{p}^{(q)}$, $p = -P + 1, \\dots, P - 1$. The example below illustrates a $\\mathbf{T}_{BTTB}$ matrix formed by $Q = 4$ and $P = 3$:\n",
    "\n",
    "<a id='eq10a'></a>\n",
    "$$\n",
    "\\mathbf{T}_{BTTB} = \\begin{bmatrix}\n",
    "\\mathbf{T}_{0} & \\mathbf{T}_{1} & \\mathbf{T}_{2} & \\mathbf{T}_{3} \\\\\n",
    "\\mathbf{T}_{-1} & \\mathbf{T}_{0} & \\mathbf{T}_{1} & \\mathbf{T}_{2} \\\\\n",
    "\\mathbf{T}_{-2} & \\mathbf{T}_{-1} & \\mathbf{T}_{0} & \\mathbf{T}_{1} \\\\\n",
    "\\mathbf{T}_{-3} & \\mathbf{T}_{-2} & \\mathbf{T}_{-1} & \\mathbf{T}_{0}\n",
    "\\end{bmatrix} \\quad , \\tag{10a}\n",
    "$$\n",
    "\n",
    "where\n",
    "\n",
    "<a id='eq10b'></a>\n",
    "$$\n",
    "\\mathbf{T}_{q} = \\begin{bmatrix}\n",
    "t_{0}^{(q)} & t_{2}^{(q)} & t_{1}^{(q)} \\\\\n",
    "t_{-1}^{(q)} & t_{0}^{(q)} & t_{2}^{(q)} \\\\\n",
    "t_{-2}^{(q)} & t_{-1}^{(q)} & t_{0}^{(q)}\n",
    "\\end{bmatrix} \\quad , \\quad q = -3, \\dots, 3 \\: . \\tag{10b}\n",
    "$$"
   ]
  },
  {
   "cell_type": "code",
   "execution_count": null,
   "metadata": {},
   "outputs": [],
   "source": [
    "Q = 4 # number of blocks along rows/columns\n",
    "P = 3 # number of rows/columns in each block"
   ]
  },
  {
   "cell_type": "code",
   "execution_count": null,
   "metadata": {},
   "outputs": [],
   "source": [
    "# matrix containing the columns of each block\n",
    "columns = 17*np.random.rand(2*Q -1, P) + 3\n",
    "rows = 17*np.random.rand(2*Q - 1, P) + 3"
   ]
  },
  {
   "cell_type": "code",
   "execution_count": null,
   "metadata": {},
   "outputs": [],
   "source": [
    "# create a list of blocks \n",
    "list_of_blocks = []\n",
    "for block_column, block_row in zip(columns, rows):\n",
    "    list_of_blocks.append(toeplitz(block_column, block_row))\n",
    "list_of_blocks = np.stack(list_of_blocks, axis=0)"
   ]
  },
  {
   "cell_type": "code",
   "execution_count": null,
   "metadata": {},
   "outputs": [],
   "source": [
    "# create the BCCB matrix from the list of blocks\n",
    "ind_col, ind_row = np.ogrid[0:Q, Q-1:-1:-1]\n",
    "indices = ind_col + ind_row\n",
    "T_BTTB = np.hstack(np.hstack(list_of_blocks[indices]))"
   ]
  },
  {
   "cell_type": "code",
   "execution_count": null,
   "metadata": {},
   "outputs": [],
   "source": [
    "plt.figure(figsize=(6,6))\n",
    "plt.title('$\\mathbf{T}_{BTTB} \\: (Q = 4, P = 3)$', fontsize=18)\n",
    "plt.matshow(T_BTTB, fignum=0, vmin = 0, vmax = 20, cmap='gist_rainbow_r')\n",
    "plt.colorbar(shrink=0.85)\n",
    "plt.xticks(ticks=np.arange(Q)*P - 0.5, labels=[])\n",
    "plt.yticks(ticks=np.arange(Q)*P - 0.5, labels=[])\n",
    "plt.grid(color='k', linewidth=2)\n",
    "plt.show()"
   ]
  },
  {
   "cell_type": "markdown",
   "metadata": {},
   "source": [
    "<a id='sec2a'></a>\n",
    "### Arbitrary BTTB matrices are not diagonalized by the Kronecker product of Fourier matrices"
   ]
  },
  {
   "cell_type": "markdown",
   "metadata": {},
   "source": [
    "Differently from BCCB matrices (equation [1a](#eq1a) and [1b](#eq1b)), arbitrary BTTB matrices $\\mathbf{T}_{BTTB}$ are not diagonalized by the matrix $\\left( \\mathbf{H}_{Q} \\otimes \\mathbf{H}_{P} \\right)$. It means that we cannot write an [equation 2](#eq2) for the BTTB matrix $\\mathbf{T}_{BTTB}$, in which the elements of a diagonal matrix $\\boldsymbol{\\Lambda}_{BTTB}$ are obtained by computing the Fourier transform of the first column of $\\mathbf{T}_{BTTB}$, according to equations [3](#eq3), [4a](#eq4a) or [4b](#eq4b). In order to illustrate this issue, consider the matrix $\\mathbf{T}_{BTTB}^{\\prime}$ given by:"
   ]
  },
  {
   "cell_type": "markdown",
   "metadata": {},
   "source": [
    "<a id='eq11'></a>\n",
    "$$\n",
    "\\mathbf{T}_{BTTB}^{\\prime} = \\left( \\mathbf{H}_{Q} \\otimes \\mathbf{H}_{P} \\right)^{\\ast} \\, \\boldsymbol{\\Lambda}_{BTTB}^{\\prime} \\, \\left( \\mathbf{H}_{Q} \\otimes \\mathbf{H}_{P} \\right) \\: , \\tag{11}\n",
    "$$"
   ]
  },
  {
   "cell_type": "markdown",
   "metadata": {},
   "source": [
    "where $\\boldsymbol{\\Lambda}_{BTTB}^{\\prime}$ is a diagonal matrix. Besides, consider that the diagonal of $\\boldsymbol{\\Lambda}_{BTTB}^{\\prime}$ is defined by the vector $\\boldsymbol{\\lambda}_{BTTB}^{\\prime}$:"
   ]
  },
  {
   "cell_type": "markdown",
   "metadata": {},
   "source": [
    "<a id='eq12'></a>\n",
    "$$\n",
    "\\boldsymbol{\\lambda}_{BTTB}^{\\prime} = \\sqrt{QP} \\, \\left( \\mathbf{H}_{Q} \\otimes \\mathbf{H}_{P} \\right) \\, \\mathbf{t}_{0} \\quad , \\tag{12}\n",
    "$$"
   ]
  },
  {
   "cell_type": "markdown",
   "metadata": {},
   "source": [
    "where $\\mathbf{t}_{0}$ is the first column of the $QP \\times QP$ BTTB matrix $\\mathbf{T}_{BTTB}$. The cells below show that matrix $\\mathbf{T}_{BTTB}^{\\prime}$ is different from the BTTB matrix $\\mathbf{T}_{BTTB}$."
   ]
  },
  {
   "cell_type": "code",
   "execution_count": null,
   "metadata": {},
   "outputs": [],
   "source": [
    "# scale must be sqrt(n) for DFT be unitary\n",
    "HQ = dft(n=Q, scale='sqrtn')\n",
    "HP = dft(n=P, scale='sqrtn')"
   ]
  },
  {
   "cell_type": "code",
   "execution_count": null,
   "metadata": {},
   "outputs": [],
   "source": [
    "# compute the Kronecker product\n",
    "HQ_kron_HP = np.kron(HQ, HP)"
   ]
  },
  {
   "cell_type": "code",
   "execution_count": null,
   "metadata": {},
   "outputs": [],
   "source": [
    "# compute the eigenvalues of lambda_BTTB_prime (equation 12)\n",
    "lambda_BTTB_prime = np.sqrt(Q*P)*np.dot(HQ_kron_HP, T_BTTB[:,0])"
   ]
  },
  {
   "cell_type": "code",
   "execution_count": null,
   "metadata": {},
   "outputs": [],
   "source": [
    "# create matrix Lambda_BTTB_prime (equation 11)\n",
    "Lambda_BTTB_prime = np.diag(lambda_BTTB_prime)"
   ]
  },
  {
   "cell_type": "code",
   "execution_count": null,
   "metadata": {},
   "outputs": [],
   "source": [
    "# compute the matrix T_BTTB_prime according to equation 11\n",
    "T_BTTB_prime = multi_dot([np.conj(HQ_kron_HP), Lambda_BTTB_prime, HQ_kron_HP]).real"
   ]
  },
  {
   "cell_type": "code",
   "execution_count": null,
   "metadata": {},
   "outputs": [],
   "source": [
    "# verify that T_BTTB and T_BTTB_prime are equal to each other\n",
    "np.allclose(T_BTTB, T_BTTB_prime)"
   ]
  },
  {
   "cell_type": "markdown",
   "metadata": {},
   "source": [
    "The cell above shows that $\\mathbf{T}_{BTTB} \\ne \\mathbf{T}_{BTTB}^{\\prime}$."
   ]
  },
  {
   "cell_type": "code",
   "execution_count": null,
   "metadata": {},
   "outputs": [],
   "source": [
    "plt.close('all')\n",
    "\n",
    "fig, ax = plt.subplots(nrows=1, ncols=2, figsize=(10,5))\n",
    "\n",
    "plt.subplot(121)\n",
    "plt.title('$\\mathbf{T}_{BTTB}$', fontsize=18)\n",
    "plt.matshow(T_BTTB, fignum=False, vmin = 0, vmax = 20, cmap='gist_rainbow_r')\n",
    "plt.colorbar()\n",
    "plt.xticks(ticks=np.arange(Q)*P - 0.5, labels=[])\n",
    "plt.yticks(ticks=np.arange(Q)*P - 0.5, labels=[])\n",
    "plt.grid(color='k', linewidth=2)\n",
    "\n",
    "plt.subplot(122)\n",
    "plt.title('$\\mathbf{T}_{BTTB}^{\\prime}$', fontsize=18)\n",
    "plt.matshow(T_BTTB_prime, fignum=False, vmin = 0, vmax = 20, cmap='gist_rainbow_r')\n",
    "plt.colorbar()\n",
    "plt.xticks(ticks=np.arange(Q)*P - 0.5, labels=[])\n",
    "plt.yticks(ticks=np.arange(Q)*P - 0.5, labels=[])\n",
    "plt.grid(color='k', linewidth=2)\n",
    "\n",
    "plt.tight_layout()\n",
    "\n",
    "plt.show()"
   ]
  },
  {
   "cell_type": "markdown",
   "metadata": {},
   "source": [
    "<a id='sec2b'></a>\n",
    "### The Fourier approch used for BCCB matrices is not valid for the product of arbitrary BTTB matrices and arbitrary vectors"
   ]
  },
  {
   "cell_type": "markdown",
   "metadata": {},
   "source": [
    "The cells above show that, for arbitrary BTTB matrices $\\mathbf{T}_{BTTB}$ and vectors $\\mathbf{a}$, \n",
    "\n",
    "$$\n",
    "\\mathbf{T}_{BTTB} \\, \\mathbf{a} \\ne \\mathbf{T}_{BTTB}^{\\prime} \\, \\mathbf{a} \\: ,\n",
    "$$\n",
    "\n",
    "where $\\mathbf{T}_{BTTB}^{\\prime}$ is defined by equations [11](#eq11) and [12](#eq12). This implies that, for arbitrary BTTB matrices $\\mathbf{T}_{BTTB}$ and vectors $\\mathbf{a}$, we cannot compute the product $\\mathbf{T}_{BTTB} \\, \\mathbf{a}$ via 2D Fourier transform by using the same approach for BCCB matrices (equations [5](#eq5)-[9](#eq9))."
   ]
  },
  {
   "cell_type": "code",
   "execution_count": null,
   "metadata": {},
   "outputs": [],
   "source": [
    "# create a vector a\n",
    "a = np.random.rand(Q*P)"
   ]
  },
  {
   "cell_type": "code",
   "execution_count": null,
   "metadata": {},
   "outputs": [],
   "source": [
    "# product of T_BTTB and this vector a\n",
    "T_BTTB_a = np.dot(T_BTTB, a)"
   ]
  },
  {
   "cell_type": "code",
   "execution_count": null,
   "metadata": {},
   "outputs": [],
   "source": [
    "# product of T_BTTB' and vector a\n",
    "T_BTTB_prime_a = np.dot(T_BTTB_prime, a)"
   ]
  },
  {
   "cell_type": "code",
   "execution_count": null,
   "metadata": {},
   "outputs": [],
   "source": [
    "# notice that they are not the same\n",
    "np.allclose(T_BTTB_a, T_BTTB_prime_a)"
   ]
  },
  {
   "cell_type": "markdown",
   "metadata": {},
   "source": [
    "<a id='sec2c'></a>\n",
    "### The Fourier approch used for BCCB matrices is valid for the product of some particular BTTB matrices and some particular vectors"
   ]
  },
  {
   "cell_type": "markdown",
   "metadata": {},
   "source": [
    "For some particular BTTB matrices $\\mathbf{T}_{BTTB}$ and some particular vectors $\\mathbf{a}$, the same approach defined by equations [5](#eq5)-[9](#eq9) for BCCB matrices can be used to compute the product $\\mathbf{T}_{BTTB} \\, \\mathbf{a}$. "
   ]
  },
  {
   "cell_type": "markdown",
   "metadata": {},
   "source": [
    "These particular BTTB matrices $\\mathbf{T}_{BTTB}$ and vectors $\\mathbf{a}$ must satisfy the following conditions:\n",
    "\n",
    "* Matrix $\\mathbf{T}_{BTTB}$ must be block lower triangular;\n",
    "* All blocks $\\mathbf{T}_{q}$ must be lower triangular;\n",
    "* The last $Q-Q_{1}$ blocks $\\mathbf{T}_{q}$ (with $Q_{1} < Q$) in the first block column must be formed by null elements;\n",
    "* The last $P-P_{1}$ elements of $\\mathbf{t}^{(q)}_{0} \\equiv \\mathbf{T}_{q}[: \\, , \\, 0]$ (with $P_{1} < P$) of each block must be equal to zero;\n",
    "* Vector $\\mathbf{a}$ must be formed by stacking $Q$ $P \\times 1$ vectors $\\mathbf{a}_{q}$;\n",
    "* The last $Q_{1}$ vectors $\\mathbf{a}_{q}$ (with $Q_{1} < Q$) must be formed by null elements;\n",
    "* The last $P_{1}$ elements (with $P_{1} < P$) of all vectors $\\mathbf{a}_{q}$ must be equal to zero.\n",
    "\n",
    "If $\\mathbf{T}_{BTTB}$ and $\\mathbf{a}$ satisfy the above conditions, the matrix $\\mathbf{T}_{BTTB}^{\\prime}$ satisfies the following conditions:\n",
    "\n",
    "* $\\mathbf{T}_{BTTB}^{\\prime} \\ne \\mathbf{T}_{BTTB}$;\n",
    "* $\\mathbf{T}_{BTTB}^{\\prime} \\, \\mathbf{a} = \\mathbf{T}_{BTTB} \\, \\mathbf{a}$  ."
   ]
  },
  {
   "cell_type": "code",
   "execution_count": null,
   "metadata": {},
   "outputs": [],
   "source": [
    "Q = 7 # number of blocks along rows/columns\n",
    "P = 5 # number of rows/columns in each block"
   ]
  },
  {
   "cell_type": "code",
   "execution_count": null,
   "metadata": {},
   "outputs": [],
   "source": [
    "Q1 = 3 \n",
    "P1 = 3"
   ]
  },
  {
   "cell_type": "code",
   "execution_count": null,
   "metadata": {},
   "outputs": [],
   "source": [
    "# matrices containing the columns/rows of each block\n",
    "columns = 17*np.random.rand(2*Q -1, P) + 3\n",
    "columns[:Q-1] = 0 # fill the row blocks with zeros\n",
    "columns[Q-1 + Q1:] = 0 # \n",
    "for i in range(Q-1, Q-1 + Q1):\n",
    "    columns[i][P1:] = 0\n",
    "rows = np.zeros((2*Q - 1, P))"
   ]
  },
  {
   "cell_type": "code",
   "execution_count": null,
   "metadata": {},
   "outputs": [],
   "source": [
    "# create a list of blocks \n",
    "list_of_blocks = []\n",
    "for block_column, block_row in zip(columns, rows):\n",
    "    list_of_blocks.append(toeplitz(block_column, block_row))\n",
    "list_of_blocks = np.stack(list_of_blocks, axis=0)"
   ]
  },
  {
   "cell_type": "code",
   "execution_count": null,
   "metadata": {},
   "outputs": [],
   "source": [
    "# create the BTTB matrix from the list of blocks\n",
    "ind_col, ind_row = np.ogrid[0:Q, Q-1:-1:-1]\n",
    "indices = ind_col + ind_row\n",
    "T_BTTB = np.hstack(np.hstack(list_of_blocks[indices]))"
   ]
  },
  {
   "cell_type": "code",
   "execution_count": null,
   "metadata": {},
   "outputs": [],
   "source": [
    "# vector a satisfying the conditions above\n",
    "a = []\n",
    "for i in range(Q - Q1):\n",
    "    a.append(np.hstack([17*np.random.rand(P-P1) + 3, np.zeros(P1)]))\n",
    "for i in range(Q1):\n",
    "    a.append(np.zeros(P))\n",
    "a = np.hstack(a)"
   ]
  },
  {
   "cell_type": "code",
   "execution_count": null,
   "metadata": {},
   "outputs": [],
   "source": [
    "plt.figure(figsize=(10, 6))\n",
    "\n",
    "plt.subplot(1,2,1)\n",
    "plt.title('$\\mathbf{T}_{BTTB}$', fontsize=18)\n",
    "plt.matshow(T_BTTB, fignum=0, vmin = 0, vmax = 20, cmap='gist_rainbow_r')\n",
    "plt.xticks(ticks=np.arange(Q)*P - 0.5, labels=[])\n",
    "plt.yticks(ticks=np.arange(Q)*P - 0.5, labels=[])\n",
    "plt.grid(color='k', linewidth=2)\n",
    "\n",
    "plt.subplot(1,2,2)\n",
    "plt.title('$\\mathbf{a}$', fontsize=18)\n",
    "plt.matshow(np.reshape(a, (a.size,1)), fignum=0, vmin = 0, vmax = 20, cmap='gist_rainbow_r')\n",
    "plt.colorbar()\n",
    "plt.xticks(ticks=[0.5], labels=[])\n",
    "plt.yticks(ticks=np.arange(Q)*P - 0.5, labels=[])\n",
    "plt.grid(color='k', linewidth=2)\n",
    "\n",
    "plt.tight_layout()\n",
    "\n",
    "plt.show()"
   ]
  },
  {
   "cell_type": "code",
   "execution_count": null,
   "metadata": {},
   "outputs": [],
   "source": [
    "# scale must be sqrt(n) for DFT be unitary\n",
    "HQ = dft(n=Q, scale='sqrtn')\n",
    "HP = dft(n=P, scale='sqrtn')"
   ]
  },
  {
   "cell_type": "code",
   "execution_count": null,
   "metadata": {},
   "outputs": [],
   "source": [
    "# compute the Kronecker product\n",
    "HQ_kron_HP = np.kron(HQ, HP)"
   ]
  },
  {
   "cell_type": "code",
   "execution_count": null,
   "metadata": {},
   "outputs": [],
   "source": [
    "# compute the eigenvalues of lambda_BTTB_prime (equation 12)\n",
    "lambda_BTTB_prime = np.sqrt(Q*P)*np.dot(HQ_kron_HP, T_BTTB[:,0])"
   ]
  },
  {
   "cell_type": "code",
   "execution_count": null,
   "metadata": {},
   "outputs": [],
   "source": [
    "# create matrix Lambda_BTTB_prime (equation 11)\n",
    "Lambda_BTTB_prime = np.diag(lambda_BTTB_prime)"
   ]
  },
  {
   "cell_type": "code",
   "execution_count": null,
   "metadata": {},
   "outputs": [],
   "source": [
    "# compute the matrix T_BTTB_prime according to equation 11\n",
    "T_BTTB_prime = multi_dot([np.conj(HQ_kron_HP), Lambda_BTTB_prime, HQ_kron_HP]).real"
   ]
  },
  {
   "cell_type": "code",
   "execution_count": null,
   "metadata": {},
   "outputs": [],
   "source": [
    "# verify that T_BTTB and T_BTTB_prime are not equal to each other\n",
    "np.allclose(T_BTTB, T_BTTB_prime)"
   ]
  },
  {
   "cell_type": "code",
   "execution_count": null,
   "metadata": {
    "scrolled": false
   },
   "outputs": [],
   "source": [
    "plt.close('all')\n",
    "\n",
    "fig, ax = plt.subplots(nrows=1, ncols=2, figsize=(12,5))\n",
    "\n",
    "plt.subplot(121)\n",
    "plt.title('$\\mathbf{T}_{BTTB}$', fontsize=18)\n",
    "plt.matshow(T_BTTB, fignum=False, vmin = 0, vmax = 20, cmap='gist_rainbow_r')\n",
    "plt.colorbar()\n",
    "plt.xticks(ticks=np.arange(Q)*P - 0.5, labels=[])\n",
    "plt.yticks(ticks=np.arange(Q)*P - 0.5, labels=[])\n",
    "plt.grid(color='k', linewidth=2)\n",
    "\n",
    "plt.subplot(122)\n",
    "plt.title('$\\mathbf{T}_{BTTB}^{\\prime}$', fontsize=18)\n",
    "plt.matshow(T_BTTB_prime, fignum=False, vmin = 0, vmax = 20, cmap='gist_rainbow_r')\n",
    "plt.colorbar()\n",
    "plt.xticks(ticks=np.arange(Q)*P - 0.5, labels=[])\n",
    "plt.yticks(ticks=np.arange(Q)*P - 0.5, labels=[])\n",
    "plt.grid(color='k', linewidth=2)\n",
    "\n",
    "plt.tight_layout()\n",
    "\n",
    "plt.show()"
   ]
  },
  {
   "cell_type": "markdown",
   "metadata": {},
   "source": [
    "The differences between $\\mathbf{T}_{BTTB}$ and $\\mathbf{T}_{BTTB}^{\\prime}$ are concentrated at the blocks located at the upper right corner and at the upper right corner of each non-null block. The remaining parts of these matrices are equal to each other. These differences, however, coincide with the null elements of $\\mathbf{a}$. As a consequence:\n",
    "\n",
    "$$\n",
    "\\mathbf{T}_{BTTB} \\, \\mathbf{a} = \\mathbf{T}_{BTTB}^{\\prime} \\, \\mathbf{a} \\: .\n",
    "$$"
   ]
  },
  {
   "cell_type": "code",
   "execution_count": null,
   "metadata": {},
   "outputs": [],
   "source": [
    "# product of T_BTTB and this vector a\n",
    "w = np.dot(T_BTTB, a)"
   ]
  },
  {
   "cell_type": "code",
   "execution_count": null,
   "metadata": {},
   "outputs": [],
   "source": [
    "# product of T_BTTB' and vector a\n",
    "w2 = np.dot(T_BTTB_prime, a)"
   ]
  },
  {
   "cell_type": "code",
   "execution_count": null,
   "metadata": {},
   "outputs": [],
   "source": [
    "# notice that they are not the same\n",
    "np.allclose(w, w2)"
   ]
  },
  {
   "cell_type": "markdown",
   "metadata": {},
   "source": [
    "In this case, we can also use the approach defined by equations [5](#eq5)-[9](#eq9) to compute the product $\\mathbf{T}_{BTTB} \\, \\mathbf{a}$ involving the particular BTTB matrix $\\mathbf{T}_{BTTB}$ and vector $\\mathbf{a}$:"
   ]
  },
  {
   "cell_type": "code",
   "execution_count": null,
   "metadata": {},
   "outputs": [],
   "source": [
    "# reorganize w along the lines of a Q x P matrix W\n",
    "W = np.reshape(w, (Q, P))"
   ]
  },
  {
   "cell_type": "code",
   "execution_count": null,
   "metadata": {},
   "outputs": [],
   "source": [
    "# reorganize lambda_BTTB_prime along the lines of a Q x P matrix L\n",
    "L = np.reshape(lambda_BTTB_prime, (Q, P))"
   ]
  },
  {
   "cell_type": "code",
   "execution_count": null,
   "metadata": {},
   "outputs": [],
   "source": [
    "# reorganize a along the lines of a Q x P matrix A\n",
    "A = np.reshape(a, (Q, P))"
   ]
  },
  {
   "cell_type": "code",
   "execution_count": null,
   "metadata": {},
   "outputs": [],
   "source": [
    "# compute matrix H by using equation 8b\n",
    "H = L*fft2(x=A, norm='ortho')"
   ]
  },
  {
   "cell_type": "code",
   "execution_count": null,
   "metadata": {},
   "outputs": [],
   "source": [
    "# compute a matrix W2 by using equation 8a\n",
    "W2 = ifft2(x=H, norm='ortho')"
   ]
  },
  {
   "cell_type": "code",
   "execution_count": null,
   "metadata": {},
   "outputs": [],
   "source": [
    "# compare matrices W and W2\n",
    "np.allclose(W, W2)"
   ]
  },
  {
   "cell_type": "markdown",
   "metadata": {},
   "source": [
    "<a id='sec3'></a>\n",
    "## Arbitrary BTTB matrices can be embedded into BCCB matrices"
   ]
  },
  {
   "cell_type": "markdown",
   "metadata": {},
   "source": [
    "Any $QP \\times QP$ BTTB matrix $\\mathbf{T}_{BTTB}$ can be embedded into a $4QP \\times 4QP$ BCCB matrix $\\mathbf{C}_{BCCB}$. The embedding matrix $\\mathbf{C}_{BCCB}$ is formed by a $2Q \\times 2Q$ grid of blocks $\\mathbf{C}_{q}$, $q = -Q + 1, \\dots, Q - 1$."
   ]
  },
  {
   "cell_type": "markdown",
   "metadata": {},
   "source": [
    "The first block column of $\\mathbf{C}_{BCCB}$ is given by:"
   ]
  },
  {
   "cell_type": "markdown",
   "metadata": {},
   "source": [
    "<a id='eq13'></a>\n",
    "$$\n",
    "\\mathbf{C}^{(0)} = \\begin{bmatrix}\n",
    "\\mathbf{C}_{0} \\\\\n",
    "\\mathbf{C}_{-1} \\\\\n",
    "\\vdots \\\\\n",
    "\\mathbf{C}_{-Q+1} \\\\\n",
    "\\mathbf{0} \\\\\n",
    "\\mathbf{C}_{Q-1} \\\\\n",
    "\\mathbf{C}_{Q-2} \\\\\n",
    "\\vdots \\\\\n",
    "\\mathbf{C}_{1}\n",
    "\\end{bmatrix} \\: , \\tag{13}\n",
    "$$\n",
    "\n",
    "where $\\mathbf{0}$ is a $2P \\times 2P$ matrix of zeros. The remaining block columns of $\\mathbf{C}_{BCCB}$ are obtained by properly down-shifting the blocks along the first block column $\\mathbf{C}^{(0)}$ (Golub and Van Loan, 2013)."
   ]
  },
  {
   "cell_type": "markdown",
   "metadata": {},
   "source": [
    "Each block $\\mathbf{C}_{q}$, $q = -Q + 1, \\dots, Q - 1$, is a $2P \\times 2P$ circulant matrix obtained by reorganizing the elements of each Toeplitz block of $\\mathbf{T}_{BTTB}$. The first column $\\mathbf{c}^{(q)}_{0}$ of $\\mathbf{C}_{q}$ is given by:"
   ]
  },
  {
   "cell_type": "markdown",
   "metadata": {},
   "source": [
    "<a id='eq14'></a>\n",
    "$$\n",
    "\\mathbf{c}^{(q)}_{0} = \\begin{bmatrix}\n",
    "t_{0}^{(q)} \\\\\n",
    "t_{-1}^{(q)} \\\\\n",
    "\\vdots \\\\\n",
    "t_{-P+1}^{(q)} \\\\\n",
    "0 \\\\\n",
    "t_{P-1}^{(q)} \\\\\n",
    "t_{P-2}^{(q)} \\\\\n",
    "\\vdots \\\\\n",
    "t_{1}^{(q)}\n",
    "\\end{bmatrix} \\: , \\tag{14}\n",
    "$$\n",
    "\n",
    "where $t_{p}^{(q)}$, $p = -P + 1, \\dots, P - 1$, are the elements of the block $q$ forming the BTTB matrix $\\mathbf{T}_{BTTB}$. The remaining columns of $\\mathbf{C}_{q}$ are generated by properly down-shifting the elements of $\\mathbf{c}^{(q)}_{0}$ (Golub and Van Loan, 2013)."
   ]
  },
  {
   "cell_type": "markdown",
   "metadata": {},
   "source": [
    "Consider the BTTB matrix $\\mathbf{T}_{BTTB}$ defined by [equation 10a](#eq10a), with blocks $\\mathbf{T}_{q}$ defined by [equation 10b](#eq10b). The embedding matrix $\\mathbf{C}_{BCCB}$, in this case, is given by:"
   ]
  },
  {
   "cell_type": "markdown",
   "metadata": {},
   "source": [
    "<a id='eq15a'></a>\n",
    "$$\n",
    "\\mathbf{C}_{BCCB} = \\begin{bmatrix}\n",
    "\\mathbf{C}_{ 0} & \\mathbf{C}_{ 1} & \\mathbf{C}_{ 2} & \\mathbf{C}_{ 3} & \\mathbf{0}      & \\mathbf{C}_{-3} & \\mathbf{C}_{-2} & \\mathbf{C}_{-1} \\\\\n",
    "\\mathbf{C}_{-1} & \\mathbf{C}_{ 0} & \\mathbf{C}_{ 1} & \\mathbf{C}_{ 2} & \\mathbf{C}_{ 3} & \\mathbf{0}      & \\mathbf{C}_{-3} & \\mathbf{C}_{-2} \\\\\n",
    "\\mathbf{C}_{-2} & \\mathbf{C}_{-1} & \\mathbf{C}_{ 0} & \\mathbf{C}_{ 1} & \\mathbf{C}_{ 2} & \\mathbf{C}_{ 3} & \\mathbf{0}      & \\mathbf{C}_{-3} \\\\\n",
    "\\mathbf{C}_{-3} & \\mathbf{C}_{-2} & \\mathbf{C}_{-1} & \\mathbf{C}_{ 0} & \\mathbf{C}_{ 1} & \\mathbf{C}_{ 2} & \\mathbf{C}_{ 3} & \\mathbf{0}     \\\\\n",
    "\\mathbf{0}      & \\mathbf{C}_{-3} & \\mathbf{C}_{-2} & \\mathbf{C}_{-1} & \\mathbf{C}_{ 0} & \\mathbf{C}_{ 1} & \\mathbf{C}_{ 2} & \\mathbf{C}_{ 3} \\\\\n",
    "\\mathbf{C}_{ 3} & \\mathbf{0}      & \\mathbf{C}_{-3} & \\mathbf{C}_{-2} & \\mathbf{C}_{-1} & \\mathbf{C}_{ 0} & \\mathbf{C}_{ 1} & \\mathbf{C}_{ 2} \\\\\n",
    "\\mathbf{C}_{ 2} & \\mathbf{C}_{ 3} & \\mathbf{0}      & \\mathbf{C}_{-3} & \\mathbf{C}_{-2} & \\mathbf{C}_{-1} & \\mathbf{C}_{ 0} & \\mathbf{C}_{ 1} \\\\\n",
    "\\mathbf{C}_{ 1} & \\mathbf{C}_{ 2} & \\mathbf{C}_{ 3} & \\mathbf{0}      & \\mathbf{C}_{-3} & \\mathbf{C}_{-2} & \\mathbf{C}_{-1} & \\mathbf{C}_{ 0} \\\\\n",
    "\\end{bmatrix} \\: , \\tag{15a}\n",
    "$$"
   ]
  },
  {
   "cell_type": "markdown",
   "metadata": {},
   "source": [
    "with blocks"
   ]
  },
  {
   "cell_type": "markdown",
   "metadata": {},
   "source": [
    "<a id='eq15b'></a>\n",
    "$$\n",
    "\\mathbf{C}_{q} = \\begin{bmatrix}\n",
    "t^{(q)}_{ 0} & t^{(q)}_{ 1} & t^{(q)}_{ 2} & t^{(q)}_{ 3} & 0      & t^{(q)}_{-3} & t^{(q)}_{-2} & t^{(q)}_{-1} \\\\\n",
    "t^{(q)}_{-1} & t^{(q)}_{ 0} & t^{(q)}_{ 1} & t^{(q)}_{ 2} & t^{(q)}_{ 3} & 0      & t^{(q)}_{-3} & t^{(q)}_{-2} \\\\\n",
    "t^{(q)}_{-2} & t^{(q)}_{-1} & t^{(q)}_{ 0} & t^{(q)}_{ 1} & t^{(q)}_{ 2} & t_{ 3} & 0      & t^{(q)}_{-3} \\\\\n",
    "t^{(q)}_{-3} & t^{(q)}_{-2} & t^{(q)}_{-1} & t^{(q)}_{ 0} & t^{(q)}_{ 1} & t^{(q)}_{ 2} & t^{(q)}_{ 3} & 0     \\\\\n",
    "0      & t^{(q)}_{-3} & t^{(q)}_{-2} & t^{(q)}_{-1} & t^{(q)}_{ 0} & t^{(q)}_{ 1} & t^{(q)}_{ 2} & t^{(q)}_{ 3} \\\\\n",
    "t^{(q)}_{ 3} & 0      & t^{(q)}_{-3} & t^{(q)}_{-2} & t^{(q)}_{-1} & t_{ 0} & t^{(q)}_{ 1} & t^{(q)}_{ 2} \\\\\n",
    "t^{(q)}_{ 2} & t^{(q)}_{ 3} & 0      & t^{(q)}_{-3} & t^{(q)}_{-2} & t_{-1} & t^{(q)}_{ 0} & t^{(q)}_{ 1} \\\\\n",
    "t^{(q)}_{ 1} & t^{(q)}_{ 2} & t^{(q)}_{ 3} & 0      & t^{(q)}_{-3} & t_{-2} & t^{(q)}_{-1} & t^{(q)}_{ 0} \\\\\n",
    "\\end{bmatrix} \\: . \\tag{15b}\n",
    "$$"
   ]
  },
  {
   "cell_type": "code",
   "execution_count": null,
   "metadata": {},
   "outputs": [],
   "source": [
    "Q = 4 # number of blocks along rows/columns\n",
    "P = 3 # number of rows/columns in each block"
   ]
  },
  {
   "cell_type": "code",
   "execution_count": null,
   "metadata": {},
   "outputs": [],
   "source": [
    "# matrix containing the columns of each block\n",
    "columns = 17*np.random.rand(2*Q -1, P) + 3\n",
    "rows = 17*np.random.rand(2*Q - 1, P) + 3"
   ]
  },
  {
   "cell_type": "code",
   "execution_count": null,
   "metadata": {},
   "outputs": [],
   "source": [
    "# create a list of blocks BTTB matrix\n",
    "list_of_blocks_BTTB = []\n",
    "for block_column, block_row in zip(columns, rows):\n",
    "    list_of_blocks_BTTB.append(toeplitz(block_column, block_row))"
   ]
  },
  {
   "cell_type": "code",
   "execution_count": null,
   "metadata": {},
   "outputs": [],
   "source": [
    "# create the first column of blocks of the embedding BCCB\n",
    "list_of_blocks_BCCB = []\n",
    "\n",
    "# iterate over the column BTTB blocks\n",
    "for BTTB_block in list_of_blocks_BTTB[Q-1:]:\n",
    "    list_of_blocks_BCCB.append(circulant(np.hstack([BTTB_block[:,0],\n",
    "                                                    0,\n",
    "                                                    BTTB_block[0,1:][::-1]])))\n",
    "\n",
    "# insert the block of zeros\n",
    "list_of_blocks_BCCB.append(np.zeros((2*P,2*P)))\n",
    "\n",
    "# iterate over the row BTTB blocks\n",
    "for BTTB_block in list_of_blocks_BTTB[:Q-1]:\n",
    "    list_of_blocks_BCCB.append(circulant(np.hstack([BTTB_block[:,0],\n",
    "                                                    0,\n",
    "                                                    BTTB_block[0,1:][::-1]])))"
   ]
  },
  {
   "cell_type": "code",
   "execution_count": null,
   "metadata": {},
   "outputs": [],
   "source": [
    "list_of_blocks_BTTB = np.stack(list_of_blocks_BTTB, axis=0)"
   ]
  },
  {
   "cell_type": "code",
   "execution_count": null,
   "metadata": {},
   "outputs": [],
   "source": [
    "list_of_blocks_BCCB = np.stack(list_of_blocks_BCCB, axis=0)"
   ]
  },
  {
   "cell_type": "code",
   "execution_count": null,
   "metadata": {},
   "outputs": [],
   "source": [
    "# create the BTTB matrix from the list of BTTB blocks\n",
    "ind_col, ind_row = np.ogrid[0:Q, Q-1:-1:-1]\n",
    "indices = ind_col + ind_row\n",
    "T_BTTB = np.hstack(np.hstack(list_of_blocks_BTTB[indices]))"
   ]
  },
  {
   "cell_type": "code",
   "execution_count": null,
   "metadata": {},
   "outputs": [],
   "source": [
    "# create the BCCB matrix from the list of BCCB blocks\n",
    "ind_col, ind_row = np.ogrid[0:2*Q, 0:-2*Q:-1]\n",
    "indices = ind_col + ind_row\n",
    "C_BCCB = np.hstack(np.hstack(list_of_blocks_BCCB[indices]))"
   ]
  },
  {
   "cell_type": "code",
   "execution_count": null,
   "metadata": {},
   "outputs": [],
   "source": [
    "plt.close('all')\n",
    "\n",
    "fig, ax = plt.subplots(nrows=1, ncols=2, figsize=(12,5))\n",
    "\n",
    "plt.subplot(121)\n",
    "plt.title('$\\mathbf{T}_{BTTB}$', fontsize=18)\n",
    "plt.matshow(T_BTTB, fignum=False, vmin = 0, vmax = 20, cmap='gist_rainbow_r')\n",
    "plt.colorbar()\n",
    "plt.xticks(ticks=np.arange(Q)*P - 0.5, labels=[])\n",
    "plt.yticks(ticks=np.arange(Q)*P - 0.5, labels=[])\n",
    "plt.grid(color='k', linewidth=2)\n",
    "\n",
    "plt.subplot(122)\n",
    "plt.title('Embedding $\\mathbf{C}_{BCCB}$', fontsize=18)\n",
    "plt.matshow(C_BCCB, fignum=False, vmin = 0, vmax = 20, cmap='gist_rainbow_r')\n",
    "plt.colorbar()\n",
    "plt.xticks(ticks=np.arange(2*Q)*2*P - 0.5, labels=[])\n",
    "plt.yticks(ticks=np.arange(2*Q)*2*P - 0.5, labels=[])\n",
    "plt.grid(color='k', linewidth=2)\n",
    "\n",
    "plt.tight_layout()\n",
    "\n",
    "plt.show()"
   ]
  },
  {
   "cell_type": "markdown",
   "metadata": {},
   "source": [
    "<a id='sec3a'></a>\n",
    "### Product of an arbitrary BTTB matrix $\\mathbf{T}$ and an arbitrary vector $\\mathbf{b}$"
   ]
  },
  {
   "cell_type": "markdown",
   "metadata": {},
   "source": [
    "Let's consider the product\n",
    "\n",
    "<a id='eq16'></a>\n",
    "$$\n",
    "\\mathbf{T}_{BTTB} \\, \\mathbf{x} = \\mathbf{y} \\: , \\tag{16}\n",
    "$$\n",
    "\n",
    "where $\\mathbf{T}_{BTTB}$ is a BTTB matrix formed by a $Q \\times Q$ grid of $P \\times P$ blocks (e.g., equations [10a](#eq10a) and [10b](#eq10b)), "
   ]
  },
  {
   "cell_type": "markdown",
   "metadata": {},
   "source": [
    "<a id='eq17'></a>\n",
    "$$\n",
    "\\mathbf{x} = \\begin{bmatrix}\n",
    "\\mathbf{x}_{0} \\\\\n",
    "\\mathbf{x}_{1} \\\\\n",
    "\\vdots \\\\\n",
    "\\mathbf{x}_{Q-1}\n",
    "\\end{bmatrix} \\tag{17}\n",
    "$$\n",
    "\n",
    "and\n",
    "\n",
    "<a id='eq18'></a>\n",
    "$$\n",
    "\\mathbf{y} = \\begin{bmatrix}\n",
    "\\mathbf{y}_{0} \\\\\n",
    "\\mathbf{y}_{1} \\\\\n",
    "\\vdots \\\\\n",
    "\\mathbf{y}_{Q-1}\n",
    "\\end{bmatrix} \\: , \\tag{18}\n",
    "$$\n",
    "\n",
    "where $\\mathbf{x}_{k}$ and $\\mathbf{y}_{k}$, $k = 0, \\dots, Q-1$, are $P \\times 1$ vectors."
   ]
  },
  {
   "cell_type": "markdown",
   "metadata": {},
   "source": [
    "In order to compute the matrix-vetor product defined by [equation 16](#eq16), let's transform it in the auxiliary matrix-vector product\n",
    "\n",
    "<a id='eq19'></a>\n",
    "$$\n",
    "\\mathbf{C}_{BCCB} \\, \\mathbf{p} = \\mathbf{q} \\: , \\tag{19}\n",
    "$$\n",
    "\n",
    "where $\\mathbf{C}$ is a $4QP \\times 4QP$ embedding BCCB matrix (equations [13](#eq13)-[15b](#eq15b)) and $\\mathbf{p}$ and $\\mathbf{q}$ are $4QP \\times 1$ vectors given by  "
   ]
  },
  {
   "cell_type": "markdown",
   "metadata": {},
   "source": [
    "<a id='eq20'></a>\n",
    "$$\n",
    "\\mathbf{p} = \\begin{bmatrix}\n",
    "\\mathbf{p}_{0} \\\\\n",
    "\\mathbf{p}_{1} \\\\\n",
    "\\vdots \\\\\n",
    "\\mathbf{p}_{Q-1} \\\\\n",
    "\\mathbf{0}_{2QP}\n",
    "\\end{bmatrix} \\tag{20}\n",
    "$$\n",
    "\n",
    "and\n",
    "\n",
    "<a id='eq21'></a>\n",
    "$$\n",
    "\\mathbf{q} = \\begin{bmatrix}\n",
    "\\mathbf{q}_{0} \\\\\n",
    "\\mathbf{q}_{1} \\\\\n",
    "\\vdots \\\\\n",
    "\\mathbf{q}_{Q-1} \\\\\n",
    "\\mathbf{0}_{2QP}\n",
    "\\end{bmatrix} \\: . \\tag{21}\n",
    "$$"
   ]
  },
  {
   "cell_type": "markdown",
   "metadata": {},
   "source": [
    "In equations [20](#eq20) and [21](#eq21), $\\mathbf{0}_{2QP}$ is a $2QP \\times 1$ vetor of zeros,\n",
    "\n",
    "<a id='eq22'></a>\n",
    "$$\n",
    "\\mathbf{p}_{k} = \\begin{bmatrix}\n",
    "\\mathbf{x}_{k} \\\\\n",
    "\\mathbf{0}_{P}\n",
    "\\end{bmatrix} \\: , \\tag{22}\n",
    "$$\n",
    "\n",
    "<a id='eq23'></a>\n",
    "$$\n",
    "\\mathbf{q}_{k} = \\begin{bmatrix}\n",
    "\\mathbf{y}_{k} \\\\\n",
    "\\mathbf{0}_{P}\n",
    "\\end{bmatrix} \\tag{23}\n",
    "$$\n",
    "\n",
    "and $\\mathbf{0}_{P}$ is a $P \\times 1$ vetor of zeros."
   ]
  },
  {
   "cell_type": "markdown",
   "metadata": {},
   "source": [
    "By using the properties of BCCB matrices (e.g., [equation 8c](#eq8c)), the auxiliary matrix-vetor product ([equation 19](#eq19)) can be rewritten as follows:\n",
    "\n",
    "<a id='eq24'></a>\n",
    "$$\n",
    "\\mathbf{H}_{2Q}^{\\ast} \\left[ \\mathbf{L} \\circ \\left( \\mathbf{H}_{2Q} \\, \\mathbf{P} \\, \\mathbf{H}_{2P} \\right) \\right] \\mathbf{H}_{2P}^{\\ast} = \\mathbf{Q} \\: , \\tag{24}\n",
    "$$\n",
    "\n",
    "where $\\mathbf{L}$ is a $2Q \\times 2P$ column-oriented matrix containing the eigenvalues of $\\mathbf{C}_{BCCB}$ ([equation 4b](#eq4b)), and $\\mathbf{P}$ and $\\mathbf{Q}$ are $2Q \\times 2P$ row-oriented matrices obtained from the vectors $\\mathbf{p}$ ([equation 20](#eq20)) and $\\mathbf{q}$ ([equation 21](#eq21))."
   ]
  },
  {
   "cell_type": "code",
   "execution_count": null,
   "metadata": {},
   "outputs": [],
   "source": [
    "x = 17*np.random.rand(Q*P) + 3"
   ]
  },
  {
   "cell_type": "code",
   "execution_count": null,
   "metadata": {},
   "outputs": [],
   "source": [
    "y_matvec = np.dot(T_BTTB, x)"
   ]
  },
  {
   "cell_type": "code",
   "execution_count": null,
   "metadata": {},
   "outputs": [],
   "source": [
    "L = np.sqrt(4*Q*P)*fft2(x=np.reshape(C_BCCB[:,0], (2*Q, 2*P)), norm='ortho')"
   ]
  },
  {
   "cell_type": "code",
   "execution_count": null,
   "metadata": {},
   "outputs": [],
   "source": [
    "# scale must be sqrt(n) for DFT be unitary\n",
    "H2Q = dft(n=2*Q, scale='sqrtn')\n",
    "H2P = dft(n=2*P, scale='sqrtn')"
   ]
  },
  {
   "cell_type": "code",
   "execution_count": null,
   "metadata": {},
   "outputs": [],
   "source": [
    "# compute the Kronecker product\n",
    "H2Q_kron_H2P = np.kron(H2Q, H2P)"
   ]
  },
  {
   "cell_type": "code",
   "execution_count": null,
   "metadata": {},
   "outputs": [],
   "source": [
    "np.allclose(multi_dot([np.conj(H2Q_kron_H2P), \n",
    "                       np.diag(np.ravel(L)), \n",
    "                       H2Q_kron_H2P]), C_BCCB)"
   ]
  },
  {
   "cell_type": "code",
   "execution_count": null,
   "metadata": {},
   "outputs": [],
   "source": [
    "x"
   ]
  },
  {
   "cell_type": "code",
   "execution_count": null,
   "metadata": {},
   "outputs": [],
   "source": [
    "P_matrix = np.vstack(np.split(ary=x, indices_or_sections=Q))"
   ]
  },
  {
   "cell_type": "code",
   "execution_count": null,
   "metadata": {},
   "outputs": [],
   "source": [
    "P_matrix = np.hstack([P_matrix, np.zeros((Q, P))])"
   ]
  },
  {
   "cell_type": "code",
   "execution_count": null,
   "metadata": {},
   "outputs": [],
   "source": [
    "P_matrix = np.vstack([P_matrix, np.zeros((Q, 2*P))])"
   ]
  },
  {
   "cell_type": "code",
   "execution_count": null,
   "metadata": {},
   "outputs": [],
   "source": [
    "plt.figure(figsize=(10, 6))\n",
    "\n",
    "plt.subplot(1,2,1)\n",
    "plt.title('$\\mathbf{P}$', fontsize=18)\n",
    "plt.matshow(P_matrix, fignum=0, vmin = 0, vmax = 20, cmap='gist_rainbow_r')\n",
    "plt.xticks(ticks=np.arange(2*P) - 0.5, labels=[])\n",
    "plt.yticks(ticks=np.arange(2*Q) - 0.5, labels=[])\n",
    "plt.grid(color='k', linewidth=2)\n",
    "\n",
    "plt.subplot(1,2,2)\n",
    "plt.title('$\\mathbf{x}$', fontsize=18)\n",
    "plt.matshow(np.reshape(x, (x.size,1)), fignum=0, vmin = 0, vmax = 20, cmap='gist_rainbow_r')\n",
    "plt.colorbar()\n",
    "plt.xticks(ticks=[0.5], labels=[])\n",
    "plt.yticks(ticks=np.arange(Q)*P - 0.5, labels=[])\n",
    "plt.grid(color='k', linewidth=2)\n",
    "\n",
    "plt.tight_layout()\n",
    "\n",
    "plt.show()"
   ]
  },
  {
   "cell_type": "code",
   "execution_count": null,
   "metadata": {},
   "outputs": [],
   "source": [
    "H = L*fft2(x=P_matrix, norm='ortho')"
   ]
  },
  {
   "cell_type": "code",
   "execution_count": null,
   "metadata": {},
   "outputs": [],
   "source": [
    "Q_matrix = ifft2(x=H, norm='ortho').real"
   ]
  },
  {
   "cell_type": "code",
   "execution_count": null,
   "metadata": {},
   "outputs": [],
   "source": [
    "plt.figure(figsize=(10, 6))\n",
    "\n",
    "plt.subplot(1,2,1)\n",
    "plt.title('$\\mathbf{Q}$', fontsize=18)\n",
    "plt.matshow(Q_matrix, fignum=0, \n",
    "            vmin = np.min(y_matvec), vmax = np.max(y_matvec), \n",
    "            cmap='gist_rainbow_r')\n",
    "plt.xticks(ticks=np.arange(2*P) - 0.5, labels=[])\n",
    "plt.yticks(ticks=np.arange(2*Q) - 0.5, labels=[])\n",
    "plt.grid(color='k', linewidth=2)\n",
    "\n",
    "plt.subplot(1,2,2)\n",
    "plt.title('$\\mathbf{y}$', fontsize=18)\n",
    "plt.matshow(np.reshape(y_matvec, (y_matvec.size,1)), fignum=0, \n",
    "            vmin = np.min(y_matvec), vmax = np.max(y_matvec), \n",
    "            cmap='gist_rainbow_r')\n",
    "plt.colorbar()\n",
    "plt.xticks(ticks=[0.5], labels=[])\n",
    "plt.yticks(ticks=np.arange(Q)*P - 0.5, labels=[])\n",
    "plt.grid(color='k', linewidth=2)\n",
    "\n",
    "plt.tight_layout()\n",
    "\n",
    "plt.show()"
   ]
  },
  {
   "cell_type": "code",
   "execution_count": null,
   "metadata": {},
   "outputs": [],
   "source": [
    "y_fft = np.ravel(Q_matrix[:Q,:P])"
   ]
  },
  {
   "cell_type": "code",
   "execution_count": null,
   "metadata": {},
   "outputs": [],
   "source": [
    "np.allclose(y_matvec, y_fft)"
   ]
  },
  {
   "cell_type": "code",
   "execution_count": null,
   "metadata": {},
   "outputs": [],
   "source": []
  }
 ],
 "metadata": {
  "kernelspec": {
   "display_name": "Python 3",
   "language": "python",
   "name": "python3"
  },
  "language_info": {
   "codemirror_mode": {
    "name": "ipython",
    "version": 3
   },
   "file_extension": ".py",
   "mimetype": "text/x-python",
   "name": "python",
   "nbconvert_exporter": "python",
   "pygments_lexer": "ipython3",
   "version": "3.7.7"
  }
 },
 "nbformat": 4,
 "nbformat_minor": 2
}
