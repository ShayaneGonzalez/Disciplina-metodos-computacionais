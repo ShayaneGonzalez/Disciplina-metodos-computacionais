{
 "cells": [
  {
   "cell_type": "markdown",
   "metadata": {},
   "source": [
    "# Triangular matrices - part 1"
   ]
  },
  {
   "cell_type": "markdown",
   "metadata": {},
   "source": [
    "Consider two $N \\times N$ matrices $\\mathbf{U}$ and $\\mathbf{L}$ given by:"
   ]
  },
  {
   "cell_type": "markdown",
   "metadata": {},
   "source": [
    "$$\\mathbf{U} \n",
    "= \\left[ \\begin{array}{ccccc}\n",
    "u_{00} & u_{01} & u_{02} & \\cdots & u_{0(N-1)} \\\\\n",
    "       & u_{11} & u_{12} & \\cdots & u_{1(N-1)} \\\\\n",
    "       &        & u_{22} & \\cdots & u_{2(N-1)}  \\\\\n",
    "       &        &        & \\ddots & \\vdots  \\\\\n",
    "       &        &        &        & u_{(N-1)(N-1)}\n",
    "\\end{array} \\right]\n",
    "$$"
   ]
  },
  {
   "cell_type": "markdown",
   "metadata": {},
   "source": [
    "and"
   ]
  },
  {
   "cell_type": "markdown",
   "metadata": {},
   "source": [
    "$$\n",
    "\\mathbf{L} \n",
    "= \\left[ \\begin{array}{ccccc}\n",
    "l_{00} & & & & \\\\\n",
    "\\vdots & \\ddots & & & \\\\\n",
    "l_{(N-3)0} & \\cdots & l_{(N-3)(N-3)} & &\\\\\n",
    "l_{(N-2)0} & \\cdots & l_{(N-2)(N-3)} & l_{(N-2)(N-2)} &\\\\\n",
    "l_{(N-1)0} & \\cdots & l_{(N-1)(N-3)} & l_{(N-1)(N-2)} & l_{(N-1)(N-1)}\n",
    "\\end{array} \\right] \\: .\n",
    "$$"
   ]
  },
  {
   "cell_type": "markdown",
   "metadata": {},
   "source": [
    "The matrix $\\mathbf{U}$ is called **upper triangular** and has all the elements below the main diagonal equal to zero. Similarly, the matrix $\\mathbf{L}$ is called **lower triangular** and has all the elements above the main diagonal equal to zero."
   ]
  },
  {
   "cell_type": "markdown",
   "metadata": {},
   "source": [
    "Let $\\mathbf{x}$ be a $N \\times 1$ vector given by:"
   ]
  },
  {
   "cell_type": "markdown",
   "metadata": {},
   "source": [
    "$$\\mathbf{x} = \n",
    "\\left[ \\begin{array}{c}\n",
    "x_{0} \\\\\n",
    "\\vdots \\\\\n",
    "x_{(N-1)}\n",
    "\\end{array} \\right] \\: .\n",
    "$$"
   ]
  },
  {
   "cell_type": "markdown",
   "metadata": {},
   "source": [
    "By using the notebook [`matrix-vector.ipynb`](https://nbviewer.jupyter.org/github/birocoles/Disciplina-metodos-computacionais/blob/main/Content/matrix-vector.ipynb), it can be shown that the product $\\mathbf{y} = \\mathbf{U} \\mathbf{x}$ can be calculated by following different algorithms:"
   ]
  },
  {
   "cell_type": "markdown",
   "metadata": {},
   "source": [
    "**Algorithm 1**\n",
    "    \n",
    "    for i = 0:N-1\n",
    "        for j = 0:N-1\n",
    "            y[i] = y[i] + U[i,j]*x[j]"
   ]
  },
  {
   "cell_type": "markdown",
   "metadata": {},
   "source": [
    "**Algorithm 2**\n",
    "    \n",
    "    for i = 0:N-1\n",
    "        for j = i:N-1\n",
    "            y[i] = y[i] + U[i,j]*x[j]"
   ]
  },
  {
   "cell_type": "markdown",
   "metadata": {},
   "source": [
    "**Algorithm 3**\n",
    "\n",
    "    for i = 0:N-1\n",
    "        y[i] = dot(U[i,i:],x[i:])"
   ]
  },
  {
   "cell_type": "markdown",
   "metadata": {},
   "source": [
    "**Algorithm 4**\n",
    "\n",
    "    for j = 0:N-1\n",
    "        for i = 0:j\n",
    "            y[i] = y[i] + U[i,j]*x[j]"
   ]
  },
  {
   "cell_type": "markdown",
   "metadata": {},
   "source": [
    "**Algorithm 5**\n",
    "\n",
    "    for j = 0:N-1\n",
    "        y[:j] = y[:j] + U[:j,j]*x[j]"
   ]
  },
  {
   "cell_type": "markdown",
   "metadata": {},
   "source": [
    "Similarly, there are different algorithms to compute the product $\\mathbf{z} = \\mathbf{L} \\mathbf{x}$:"
   ]
  },
  {
   "cell_type": "markdown",
   "metadata": {},
   "source": [
    "**Algorithm 6**\n",
    "    \n",
    "    for i = 0:N-1\n",
    "        for j = 0:N-1\n",
    "            z[i] = z[i] + L[i,j]*x[j]"
   ]
  },
  {
   "cell_type": "markdown",
   "metadata": {},
   "source": [
    "**Algorithm 7**\n",
    "    \n",
    "    for i = 0:N-1\n",
    "        for j = 0:i\n",
    "            z[i] = z[i] + L[i,j]*x[j]"
   ]
  },
  {
   "cell_type": "markdown",
   "metadata": {},
   "source": [
    "**Algorithm 8**\n",
    "\n",
    "    for i = 0:N-1\n",
    "        z[i] = dot(L[i,:i],x[:i])"
   ]
  },
  {
   "cell_type": "markdown",
   "metadata": {},
   "source": [
    "**Algorithm 9**\n",
    "\n",
    "    for j = 0:N-1\n",
    "        for i = j:N-1\n",
    "            z[i] = z[i] + L[i,j]*x[j]"
   ]
  },
  {
   "cell_type": "markdown",
   "metadata": {},
   "source": [
    "**Algorithm 10**\n",
    "\n",
    "    for j = 0:N-1\n",
    "        z[j:] = z[j:] + L[j:,j]*x[j]"
   ]
  },
  {
   "cell_type": "markdown",
   "metadata": {},
   "source": [
    "Note that some of the algorithms presented above access the null elements of the triangular matrices and other algorithms do not access the null elements."
   ]
  },
  {
   "cell_type": "markdown",
   "metadata": {},
   "source": [
    "### Exercise 1\n",
    "\n",
    "What is the total number of flops associated with each algorithm presented above?"
   ]
  },
  {
   "cell_type": "markdown",
   "metadata": {},
   "source": [
    "### Exercise 2"
   ]
  },
  {
   "cell_type": "markdown",
   "metadata": {},
   "source": [
    "1. In your `my_functions.py` file, create four functions called `matvec_triu_prod3`, `matvec_triu_prod5`, `matvec_tril_prod8` and `matvec_tril_prod10` to implement the algorithms 3, 5, 8, and 10, respectively. Each algorithm must receive the triangular matrix $\\mathbf{U}$ or $\\mathbf{L}$ and the vector $\\mathbf{x}$ and return the resultant vector $\\mathbf{y}$ or $\\mathbf{z}$, according to the text presented above. The cells below show how to create triangular matrices $\\mathbf{U}$ and $\\mathbf{L}$ from full matrices.\n",
    "2. In your `test_my_functions.py` file, create at least two tests. The first test must compare the results produced by the functions `matvec_triu_prod3` and `matvec_triu_prod5` with the result produced by the routine [`numpy.dot`](https://docs.scipy.org/doc/numpy/reference/generated/numpy.dot.html). The second test must compare the results produced by the functions `matvec_tril_prod8` and `matvec_tril_prod10` with the result produced by the routine [`numpy.dot`](https://docs.scipy.org/doc/numpy/reference/generated/numpy.dot.html)"
   ]
  },
  {
   "cell_type": "markdown",
   "metadata": {},
   "source": [
    "#### How to create triangular matrices from full matrices?"
   ]
  },
  {
   "cell_type": "markdown",
   "metadata": {},
   "source": [
    "The code below uses the routines [`numpy.random.rand`](https://docs.scipy.org/doc/numpy/reference/generated/numpy.random.rand.html), [`numpy.triu`](https://docs.scipy.org/doc/numpy/reference/generated/numpy.triu.html), and [`numpy.tril`](https://docs.scipy.org/doc/numpy/reference/generated/numpy.tril.html)."
   ]
  },
  {
   "cell_type": "code",
   "execution_count": 1,
   "metadata": {},
   "outputs": [],
   "source": [
    "import numpy as np"
   ]
  },
  {
   "cell_type": "code",
   "execution_count": 2,
   "metadata": {},
   "outputs": [],
   "source": [
    "N = 5"
   ]
  },
  {
   "cell_type": "code",
   "execution_count": 3,
   "metadata": {},
   "outputs": [],
   "source": [
    "A = 10*np.random.rand(N,N)"
   ]
  },
  {
   "cell_type": "code",
   "execution_count": 4,
   "metadata": {},
   "outputs": [],
   "source": [
    "U = np.triu(A)"
   ]
  },
  {
   "cell_type": "code",
   "execution_count": 5,
   "metadata": {},
   "outputs": [],
   "source": [
    "L = np.tril(A)"
   ]
  },
  {
   "cell_type": "code",
   "execution_count": 7,
   "metadata": {},
   "outputs": [
    {
     "data": {
      "text/plain": [
       "array([[7.01718117, 5.68432108, 6.63469429, 7.46441974, 2.89290608],\n",
       "       [8.46778867, 1.95805811, 3.70039965, 3.55683556, 0.35377703],\n",
       "       [9.3899707 , 3.44357192, 8.25396946, 1.2056961 , 7.06074992],\n",
       "       [8.96343784, 3.20113979, 7.31977538, 2.9235426 , 8.81175334],\n",
       "       [5.12841362, 8.94764649, 8.42383142, 4.505968  , 3.56083785]])"
      ]
     },
     "execution_count": 7,
     "metadata": {},
     "output_type": "execute_result"
    }
   ],
   "source": [
    "A"
   ]
  },
  {
   "cell_type": "code",
   "execution_count": 8,
   "metadata": {},
   "outputs": [
    {
     "data": {
      "text/plain": [
       "array([[7.01718117, 5.68432108, 6.63469429, 7.46441974, 2.89290608],\n",
       "       [0.        , 1.95805811, 3.70039965, 3.55683556, 0.35377703],\n",
       "       [0.        , 0.        , 8.25396946, 1.2056961 , 7.06074992],\n",
       "       [0.        , 0.        , 0.        , 2.9235426 , 8.81175334],\n",
       "       [0.        , 0.        , 0.        , 0.        , 3.56083785]])"
      ]
     },
     "execution_count": 8,
     "metadata": {},
     "output_type": "execute_result"
    }
   ],
   "source": [
    "U"
   ]
  },
  {
   "cell_type": "code",
   "execution_count": 9,
   "metadata": {},
   "outputs": [
    {
     "data": {
      "text/plain": [
       "array([[7.01718117, 0.        , 0.        , 0.        , 0.        ],\n",
       "       [8.46778867, 1.95805811, 0.        , 0.        , 0.        ],\n",
       "       [9.3899707 , 3.44357192, 8.25396946, 0.        , 0.        ],\n",
       "       [8.96343784, 3.20113979, 7.31977538, 2.9235426 , 0.        ],\n",
       "       [5.12841362, 8.94764649, 8.42383142, 4.505968  , 3.56083785]])"
      ]
     },
     "execution_count": 9,
     "metadata": {},
     "output_type": "execute_result"
    }
   ],
   "source": [
    "L"
   ]
  }
 ],
 "metadata": {
  "anaconda-cloud": {},
  "kernelspec": {
   "display_name": "Python 3",
   "language": "python",
   "name": "python3"
  },
  "language_info": {
   "codemirror_mode": {
    "name": "ipython",
    "version": 3
   },
   "file_extension": ".py",
   "mimetype": "text/x-python",
   "name": "python",
   "nbconvert_exporter": "python",
   "pygments_lexer": "ipython3",
   "version": "3.7.7"
  }
 },
 "nbformat": 4,
 "nbformat_minor": 1
}
