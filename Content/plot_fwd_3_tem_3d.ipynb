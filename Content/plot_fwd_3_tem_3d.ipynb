{
 "cells": [
  {
   "cell_type": "code",
   "execution_count": 1,
   "metadata": {},
   "outputs": [],
   "source": [
    "%matplotlib inline"
   ]
  },
  {
   "cell_type": "markdown",
   "metadata": {},
   "source": [
    "\n",
    "# Forward Simulation with User-Defined Waveform on a Tree Mesh\n",
    "\n",
    "Here we use the module *SimPEG.electromagnetics.time_domain* to predict the\n",
    "TDEM response for a trapezoidal waveform. We consider an airborne survey\n",
    "which uses a horizontal coplanar geometry. For this tutorial, we focus\n",
    "on the following:\n",
    "\n",
    "    - How to define the transmitters and receivers\n",
    "    - How to define more complicated transmitter waveforms\n",
    "    - How to define the time-stepping\n",
    "    - How to define the survey\n",
    "    - How to solve TDEM problems on an OcTree mesh\n",
    "    - How to include topography\n",
    "    - The units of the conductivity model and resulting data\n",
    "\n",
    "\n",
    "Please note that we have used a coarse mesh and larger time-stepping to shorten\n",
    "the time of the simulation. Proper discretization in space and time is required\n",
    "to simulate the fields at each time channel with sufficient accuracy.\n"
   ]
  },
  {
   "cell_type": "markdown",
   "metadata": {},
   "source": [
    "## Import Modules\n",
    "\n",
    "\n"
   ]
  },
  {
   "cell_type": "code",
   "execution_count": 2,
   "metadata": {},
   "outputs": [],
   "source": [
    "from discretize import TreeMesh\n",
    "from discretize.utils import mkvc, refine_tree_xyz\n",
    "\n",
    "from SimPEG.utils import plot2Ddata, surface2ind_topo\n",
    "from SimPEG import maps\n",
    "import SimPEG.electromagnetics.time_domain as tdem\n",
    "\n",
    "import numpy as np\n",
    "import matplotlib as mpl\n",
    "import matplotlib.pyplot as plt\n",
    "import os\n",
    "\n",
    "try:\n",
    "    from pymatsolver import Pardiso as Solver\n",
    "except ImportError:\n",
    "    from SimPEG import SolverLU as Solver\n",
    "\n",
    "save_file = False\n",
    "\n",
    "# sphinx_gallery_thumbnail_number = 3"
   ]
  },
  {
   "cell_type": "markdown",
   "metadata": {},
   "source": [
    "## Defining Topography\n",
    "\n",
    "Here we define surface topography as an (N, 3) numpy array. Topography could\n",
    "also be loaded from a file. Here we define flat topography, however more\n",
    "complex topographies can be considered.\n",
    "\n",
    "\n"
   ]
  },
  {
   "cell_type": "code",
   "execution_count": 3,
   "metadata": {},
   "outputs": [],
   "source": [
    "xx, yy = np.meshgrid(np.linspace(-3000, 3000, 101), np.linspace(-3000, 3000, 101))\n",
    "zz = np.zeros(np.shape(xx))\n",
    "topo_xyz = np.c_[mkvc(xx), mkvc(yy), mkvc(zz)]"
   ]
  },
  {
   "cell_type": "markdown",
   "metadata": {},
   "source": [
    "## Defining the Waveform\n",
    "\n",
    "Under *SimPEG.electromagnetic.time_domain.sources*\n",
    "there are a multitude of waveforms that can be defined (VTEM, Ramp-off etc...).\n",
    "Here, we consider a trapezoidal waveform, which consists of a\n",
    "linear ramp-on followed by a linear ramp-off. For each waveform, it\n",
    "is important you are cognizant of the off time!!!\n",
    "\n",
    "\n"
   ]
  },
  {
   "cell_type": "code",
   "execution_count": 4,
   "metadata": {},
   "outputs": [
    {
     "data": {
      "text/plain": [
       "Text(0.5, 1.0, 'Waveform')"
      ]
     },
     "execution_count": 4,
     "metadata": {},
     "output_type": "execute_result"
    },
    {
     "data": {
      "image/png": "[encoded data removed]",
      "text/plain": [
       "<Figure size 720x288 with 1 Axes>"
      ]
     },
     "metadata": {
      "needs_background": "light"
     },
     "output_type": "display_data"
    }
   ],
   "source": [
    "# Define a discrete set of times for which your transmitter is 'on'. Here\n",
    "# the waveform is on from -0.002 s to 0 s.\n",
    "waveform_times = np.linspace(-0.002, 0, 21)\n",
    "\n",
    "# For each waveform type, you must define the necessary set of kwargs.\n",
    "# For the trapezoidal waveform we define the ramp on interval, the\n",
    "# ramp-off interval and the off-time.\n",
    "waveform = tdem.sources.TrapezoidWaveform(\n",
    "    ramp_on=np.r_[-0.002, -0.001], ramp_off=np.r_[-0.001, 0.0], offTime=0.0\n",
    ")\n",
    "\n",
    "# Uncomment to try a quarter sine wave ramp on, followed by a linear ramp-off.\n",
    "# waveform = tdem.sources.QuarterSineRampOnWaveform(\n",
    "#     ramp_on=np.r_[-0.002, -0.001],  ramp_off=np.r_[-0.001, 0.], offTime=0.\n",
    "# )\n",
    "\n",
    "# Uncomment to try a custom waveform (just a linear ramp-off). This requires\n",
    "# defining a function for your waveform.\n",
    "# def wave_function(t):\n",
    "#     return - t/(np.max(waveform_times) - np.min(waveform_times))\n",
    "#\n",
    "# waveform = tdem.sources.RawWaveform(waveFct=wave_function, offTime=0.)\n",
    "\n",
    "# Evaluate the waveform for each on time.\n",
    "waveform_value = [waveform.eval(t) for t in waveform_times]\n",
    "\n",
    "# Plot the waveform\n",
    "fig = plt.figure(figsize=(10, 4))\n",
    "ax1 = fig.add_subplot(111)\n",
    "ax1.plot(waveform_times, waveform_value, lw=2)\n",
    "ax1.set_xlabel(\"Times [s]\")\n",
    "ax1.set_ylabel(\"Waveform value\")\n",
    "ax1.set_title(\"Waveform\")"
   ]
  },
  {
   "cell_type": "markdown",
   "metadata": {},
   "source": [
    "## Create Airborne Survey\n",
    "\n",
    "Here we define the survey used in our simulation. For time domain\n",
    "simulations, we must define the geometry of the source and its waveform. For\n",
    "the receivers, we define their geometry, the type of field they measure and\n",
    "the time channels at which they measure the field. For this example,\n",
    "the survey consists of a uniform grid of airborne measurements.\n",
    "\n",
    "\n"
   ]
  },
  {
   "cell_type": "code",
   "execution_count": 5,
   "metadata": {},
   "outputs": [],
   "source": [
    "# Observation times for response (time channels)\n",
    "n_times = 3\n",
    "time_channels = np.logspace(-4, -3, n_times)\n",
    "\n",
    "# Defining transmitter locations\n",
    "n_tx = 11\n",
    "xtx, ytx, ztx = np.meshgrid(\n",
    "    np.linspace(-200, 200, n_tx), np.linspace(-200, 200, n_tx), [50]\n",
    ")\n",
    "source_locations = np.c_[mkvc(xtx), mkvc(ytx), mkvc(ztx)]\n",
    "ntx = np.size(xtx)\n",
    "\n",
    "# Define receiver locations\n",
    "xrx, yrx, zrx = np.meshgrid(\n",
    "    np.linspace(-200, 200, n_tx), np.linspace(-190, 190, n_tx), [30]\n",
    ")\n",
    "receiver_locations = np.c_[mkvc(xrx), mkvc(yrx), mkvc(zrx)]\n",
    "\n",
    "source_list = []  # Create empty list to store sources\n",
    "\n",
    "# Each unique location defines a new transmitter\n",
    "for ii in range(ntx):\n",
    "\n",
    "    # Here we define receivers that measure the h-field in A/m\n",
    "    dbzdt_receiver = tdem.receivers.PointMagneticFluxTimeDerivative(\n",
    "        receiver_locations[ii, :], time_channels, \"z\"\n",
    "    )\n",
    "    receivers_list = [\n",
    "        dbzdt_receiver\n",
    "    ]  # Make a list containing all receivers even if just one\n",
    "\n",
    "    # Must define the transmitter properties and associated receivers\n",
    "    source_list.append(\n",
    "        tdem.sources.MagDipole(\n",
    "            receivers_list,\n",
    "            location=source_locations[ii],\n",
    "            waveform=waveform,\n",
    "            moment=1.0,\n",
    "            orientation=\"z\",\n",
    "        )\n",
    "    )\n",
    "\n",
    "survey = tdem.Survey(source_list)"
   ]
  },
  {
   "cell_type": "markdown",
   "metadata": {},
   "source": [
    "## Create OcTree Mesh\n",
    "\n",
    "Here we define the OcTree mesh that is used for this example.\n",
    "We chose to design a coarser mesh to decrease the run time.\n",
    "When designing a mesh to solve practical time domain problems:\n",
    "\n",
    "    - Your smallest cell size should be 10%-20% the size of your smallest diffusion distance\n",
    "    - The thickness of your padding needs to be 2-3 times biggest than your largest diffusion distance\n",
    "    - The diffusion distance is ~1260*np.sqrt(rho*t)\n",
    "\n",
    "\n",
    "\n"
   ]
  },
  {
   "cell_type": "code",
   "execution_count": 6,
   "metadata": {},
   "outputs": [],
   "source": [
    "dh = 25.0  # base cell width\n",
    "dom_width = 1600.0  # domain width\n",
    "nbc = 2 ** int(np.round(np.log(dom_width / dh) / np.log(2.0)))  # num. base cells\n",
    "\n",
    "# Define the base mesh\n",
    "h = [(dh, nbc)]\n",
    "mesh = TreeMesh([h, h, h], x0=\"CCC\")\n",
    "\n",
    "# Mesh refinement based on topography\n",
    "mesh = refine_tree_xyz(\n",
    "    mesh, topo_xyz, octree_levels=[0, 0, 0, 1], method=\"surface\", finalize=False\n",
    ")\n",
    "\n",
    "# Mesh refinement near transmitters and receivers\n",
    "mesh = refine_tree_xyz(\n",
    "    mesh, receiver_locations, octree_levels=[2, 4], method=\"radial\", finalize=False\n",
    ")\n",
    "\n",
    "# Refine core mesh region\n",
    "xp, yp, zp = np.meshgrid([-250.0, 250.0], [-250.0, 250.0], [-250.0, 0.0])\n",
    "xyz = np.c_[mkvc(xp), mkvc(yp), mkvc(zp)]\n",
    "mesh = refine_tree_xyz(mesh, xyz, octree_levels=[0, 2, 4], method=\"box\", finalize=False)\n",
    "\n",
    "mesh.finalize()"
   ]
  },
  {
   "cell_type": "markdown",
   "metadata": {},
   "source": [
    "## Create Conductivity Model and Mapping for OcTree Mesh\n",
    "\n",
    "Here, we define the electrical properties of the Earth as a conductivity\n",
    "model. The model consists of a conductive block within a more\n",
    "resistive background.\n",
    "\n",
    "\n"
   ]
  },
  {
   "cell_type": "code",
   "execution_count": 7,
   "metadata": {},
   "outputs": [
    {
     "data": {
      "image/png": "[encoded data removed]",
      "text/plain": [
       "<Figure size 504x432 with 2 Axes>"
      ]
     },
     "metadata": {
      "needs_background": "light"
     },
     "output_type": "display_data"
    }
   ],
   "source": [
    "# Conductivity in S/m\n",
    "air_conductivity = 1e-8\n",
    "background_conductivity = 2e-3\n",
    "block_conductivity = 2e0\n",
    "\n",
    "# Active cells are cells below the surface.\n",
    "ind_active = surface2ind_topo(mesh, topo_xyz)\n",
    "model_map = maps.InjectActiveCells(mesh, ind_active, air_conductivity)\n",
    "\n",
    "# Define the model\n",
    "model = background_conductivity * np.ones(ind_active.sum())\n",
    "ind_block = (\n",
    "    (mesh.gridCC[ind_active, 0] < 100.0)\n",
    "    & (mesh.gridCC[ind_active, 0] > -100.0)\n",
    "    & (mesh.gridCC[ind_active, 1] < 100.0)\n",
    "    & (mesh.gridCC[ind_active, 1] > -100.0)\n",
    "    & (mesh.gridCC[ind_active, 2] > -200.0)\n",
    "    & (mesh.gridCC[ind_active, 2] < -50.0)\n",
    ")\n",
    "model[ind_block] = block_conductivity\n",
    "\n",
    "# Plot log-conductivity model\n",
    "mpl.rcParams.update({\"font.size\": 12})\n",
    "fig = plt.figure(figsize=(7, 6))\n",
    "\n",
    "log_model = np.log10(model)\n",
    "\n",
    "plotting_map = maps.InjectActiveCells(mesh, ind_active, np.nan)\n",
    "\n",
    "ax1 = fig.add_axes([0.13, 0.1, 0.6, 0.85])\n",
    "mesh.plotSlice(\n",
    "    plotting_map * log_model,\n",
    "    normal=\"Y\",\n",
    "    ax=ax1,\n",
    "    ind=int(mesh.hx.size / 2),\n",
    "    grid=True,\n",
    "    clim=(np.min(log_model), np.max(log_model)),\n",
    ")\n",
    "ax1.set_title(\"Conductivity Model at Y = 0 m\")\n",
    "\n",
    "ax2 = fig.add_axes([0.75, 0.1, 0.05, 0.85])\n",
    "norm = mpl.colors.Normalize(vmin=np.min(log_model), vmax=np.max(log_model))\n",
    "cbar = mpl.colorbar.ColorbarBase(\n",
    "    ax2, norm=norm, orientation=\"vertical\", format=\"$10^{%.1f}$\"\n",
    ")\n",
    "cbar.set_label(\"Conductivity [S/m]\", rotation=270, labelpad=15, size=12)"
   ]
  },
  {
   "cell_type": "markdown",
   "metadata": {},
   "source": [
    "## Define the Time-Stepping\n",
    "\n",
    "Stuff about time-stepping and some rule of thumb\n",
    "\n",
    "\n"
   ]
  },
  {
   "cell_type": "code",
   "execution_count": 8,
   "metadata": {},
   "outputs": [],
   "source": [
    "time_steps = [(1e-4, 20), (1e-5, 10), (1e-4, 10)]"
   ]
  },
  {
   "cell_type": "markdown",
   "metadata": {},
   "source": [
    "## Simulation: Time-Domain Response\n",
    "\n",
    "Here we define the formulation for solving Maxwell's equations. Since we are\n",
    "measuring the time-derivative of the magnetic flux density and working with\n",
    "a resistivity model, the EB formulation is the most natural. We must also\n",
    "remember to define the mapping for the conductivity model.\n",
    "We defined a waveform 'on-time' is from -0.002 s to 0 s. As a result, we need\n",
    "to set the start time for the simulation to be at -0.002 s.\n",
    "\n",
    "\n"
   ]
  },
  {
   "cell_type": "code",
   "execution_count": 9,
   "metadata": {},
   "outputs": [],
   "source": [
    "simulation = tdem.simulation.Simulation3DMagneticFluxDensity(\n",
    "    mesh, survey=survey, sigmaMap=model_map, Solver=Solver, t0=-0.002\n",
    ")\n",
    "\n",
    "# Set the time-stepping for the simulation\n",
    "simulation.time_steps = time_steps"
   ]
  },
  {
   "cell_type": "markdown",
   "metadata": {},
   "source": [
    "## Predict Data and Plot\n",
    "\n",
    "\n"
   ]
  },
  {
   "cell_type": "code",
   "execution_count": 10,
   "metadata": {},
   "outputs": [],
   "source": [
    "# Predict data for a given model\n",
    "dpred = simulation.dpred(model)"
   ]
  },
  {
   "cell_type": "code",
   "execution_count": 11,
   "metadata": {},
   "outputs": [],
   "source": [
    "# Data were organized by location, then by time channel\n",
    "dpred_plotting = np.reshape(dpred, (n_tx ** 2, n_times))"
   ]
  },
  {
   "cell_type": "code",
   "execution_count": 12,
   "metadata": {},
   "outputs": [
    {
     "data": {
      "image/png": "[encoded data removed]",
      "text/plain": [
       "<Figure size 720x288 with 4 Axes>"
      ]
     },
     "metadata": {
      "needs_background": "light"
     },
     "output_type": "display_data"
    }
   ],
   "source": [
    "# Plot\n",
    "fig = plt.figure(figsize=(10, 4))\n",
    "\n",
    "# dB/dt at early time\n",
    "v_max = np.max(np.abs(dpred_plotting[:, 0]))\n",
    "ax11 = fig.add_axes([0.05, 0.05, 0.35, 0.9])\n",
    "plot2Ddata(\n",
    "    receiver_locations[:, 0:2],\n",
    "    dpred_plotting[:, 0],\n",
    "    ax=ax11,\n",
    "    ncontour=30,\n",
    "    clim=(-v_max, v_max),\n",
    "    contourOpts={\"cmap\": \"bwr\"},\n",
    ")\n",
    "ax11.set_title(\"dBz/dt at 0.0001 s\")\n",
    "\n",
    "ax12 = fig.add_axes([0.42, 0.05, 0.02, 0.9])\n",
    "norm1 = mpl.colors.Normalize(vmin=-v_max, vmax=v_max)\n",
    "cbar1 = mpl.colorbar.ColorbarBase(\n",
    "    ax12, norm=norm1, orientation=\"vertical\", cmap=mpl.cm.bwr\n",
    ")\n",
    "cbar1.set_label(\"$T/s$\", rotation=270, labelpad=15, size=12)\n",
    "\n",
    "# dB/dt at later times\n",
    "v_max = np.max(np.abs(dpred_plotting[:, -1]))\n",
    "ax21 = fig.add_axes([0.55, 0.05, 0.35, 0.9])\n",
    "plot2Ddata(\n",
    "    receiver_locations[:, 0:2],\n",
    "    dpred_plotting[:, -1],\n",
    "    ax=ax21,\n",
    "    ncontour=30,\n",
    "    clim=(-v_max, v_max),\n",
    "    contourOpts={\"cmap\": \"bwr\"},\n",
    ")\n",
    "ax21.set_title(\"dBz/dt at 0.001 s\")\n",
    "\n",
    "ax22 = fig.add_axes([0.92, 0.05, 0.02, 0.9])\n",
    "norm2 = mpl.colors.Normalize(vmin=-v_max, vmax=v_max)\n",
    "cbar2 = mpl.colorbar.ColorbarBase(\n",
    "    ax22, norm=norm2, orientation=\"vertical\", cmap=mpl.cm.bwr\n",
    ")\n",
    "cbar2.set_label(\"$T/s$\", rotation=270, labelpad=15, size=12)\n",
    "\n",
    "plt.show()"
   ]
  },
  {
   "cell_type": "markdown",
   "metadata": {},
   "source": [
    "## Optional: Export Data\n",
    "\n",
    "Write the true model, data and topography\n",
    "\n",
    "\n"
   ]
  },
  {
   "cell_type": "raw",
   "metadata": {},
   "source": [
    "if save_file:\n",
    "\n",
    "    dir_path = os.path.dirname(tdem.__file__).split(os.path.sep)[:-3]\n",
    "    dir_path.extend([\"tutorials\", \"assets\", \"tdem\"])\n",
    "    dir_path = os.path.sep.join(dir_path) + os.path.sep\n",
    "\n",
    "    fname = dir_path + \"tdem_topo.txt\"\n",
    "    np.savetxt(fname, np.c_[topo_xyz], fmt=\"%.4e\")\n",
    "\n",
    "    # Write data with 2% noise added\n",
    "    fname = dir_path + \"tdem_data.obs\"\n",
    "    dpred = dpred + 0.02 * np.abs(dpred) * np.random.rand(len(dpred))\n",
    "    t_vec = np.kron(np.ones(ntx), time_channels)\n",
    "    receiver_locations = np.kron(receiver_locations, np.ones((len(time_channels), 1)))\n",
    "\n",
    "    np.savetxt(fname, np.c_[receiver_locations, t_vec, dpred], fmt=\"%.4e\")\n",
    "\n",
    "    # Plot true model\n",
    "    output_model = plotting_map * model\n",
    "    output_model[np.isnan(output_model)] = 1e-8\n",
    "\n",
    "    fname = dir_path + \"true_model.txt\"\n",
    "    np.savetxt(fname, output_model, fmt=\"%.4e\")"
   ]
  }
 ],
 "metadata": {
  "kernelspec": {
   "display_name": "Python 3",
   "language": "python",
   "name": "python3"
  },
  "language_info": {
   "codemirror_mode": {
    "name": "ipython",
    "version": 3
   },
   "file_extension": ".py",
   "mimetype": "text/x-python",
   "name": "python",
   "nbconvert_exporter": "python",
   "pygments_lexer": "ipython3",
   "version": "3.7.7"
  }
 },
 "nbformat": 4,
 "nbformat_minor": 1
}
