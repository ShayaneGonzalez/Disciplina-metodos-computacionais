{
 "cells": [
  {
   "cell_type": "markdown",
   "metadata": {},
   "source": [
    "# Rotations"
   ]
  },
  {
   "cell_type": "markdown",
   "metadata": {},
   "source": [
    "This code illustrates the use of rotation matrix."
   ]
  },
  {
   "cell_type": "markdown",
   "metadata": {},
   "source": [
    "### Import the required stuff and set parameters"
   ]
  },
  {
   "cell_type": "code",
   "execution_count": 1,
   "metadata": {},
   "outputs": [],
   "source": [
    "# Enabling the `widget` backend.\n",
    "# This requires jupyter-matplotlib a.k.a. ipympl.\n",
    "# ipympl can be install via pip or conda.\n",
    "%matplotlib widget\n",
    "# aka import ipympl"
   ]
  },
  {
   "cell_type": "code",
   "execution_count": 2,
   "metadata": {},
   "outputs": [],
   "source": [
    "import matplotlib.pyplot as plt\n",
    "from mpl_toolkits import mplot3d\n",
    "\n",
    "import numpy as np"
   ]
  },
  {
   "cell_type": "markdown",
   "metadata": {},
   "source": [
    "##### Import my functions"
   ]
  },
  {
   "cell_type": "code",
   "execution_count": 3,
   "metadata": {},
   "outputs": [],
   "source": [
    "import plot_functions as pfun\n",
    "import my_functions as mf"
   ]
  },
  {
   "cell_type": "markdown",
   "metadata": {},
   "source": [
    "### Define the Reference Cartesian System (RCS)"
   ]
  },
  {
   "cell_type": "markdown",
   "metadata": {},
   "source": [
    "Let's consider a RCS given by:"
   ]
  },
  {
   "cell_type": "code",
   "execution_count": 4,
   "metadata": {},
   "outputs": [
    {
     "data": {
      "application/vnd.jupyter.widget-view+json": {
       "model_id": "",
       "version_major": 2,
       "version_minor": 0
      },
      "text/plain": [
       "Canvas(toolbar=Toolbar(toolitems=[('Home', 'Reset original view', 'home', 'home'), ('Back', 'Back to previous …"
      ]
     },
     "metadata": {},
     "output_type": "display_data"
    }
   ],
   "source": [
    "plt.close('all')\n",
    "fig = plt.figure(figsize=(8,10))\n",
    "ax = fig.gca(projection='3d')\n",
    "\n",
    "# use the parameter box to plot a gray box around the axes\n",
    "pfun.limits(ax, 0, 20, 0, 20, 0, 20, box=True)\n",
    "\n",
    "pfun.draw_axes(ax, R= np.identity(3), size=20, color='k', label=('x', 'y', 'z'))\n",
    "\n",
    "ax.view_init(20, 50)\n",
    "\n",
    "plt.show()"
   ]
  },
  {
   "cell_type": "markdown",
   "metadata": {},
   "source": [
    "### Define the rotation matrices"
   ]
  },
  {
   "cell_type": "markdown",
   "metadata": {},
   "source": [
    "Given the RCS, we can define different Cartesian systems by using rotations. Rotations are defined by using $3 \\times 3$ [orthogonal matrices](http://mathworld.wolfram.com/OrthogonalMatrix.html), whose components are functions of [Euler angles](http://mathworld.wolfram.com/EulerAngles.html). There are three matrices and each one defines a rotation around a specific axis. The matrix defining a rotation around the $x$-axis is given by:"
   ]
  },
  {
   "cell_type": "markdown",
   "metadata": {},
   "source": [
    "<a id='eq1'></a>\n",
    "\n",
    "$$\n",
    "\\mathbf{R}_{1}(\\psi) = \\begin{bmatrix}\n",
    "1 & 0 & 0 \\\\\n",
    "0 & \\cos(\\psi) & \\sin(\\psi) \\\\\n",
    "0 & -\\sin(\\psi) & \\cos(\\psi)\n",
    "\\end{bmatrix} \\: . \\tag{1}\n",
    "$$"
   ]
  },
  {
   "cell_type": "markdown",
   "metadata": {},
   "source": [
    "Similarly, the matrices defining rotations around the axes $y$ and $z$ are, respectively, given by:"
   ]
  },
  {
   "cell_type": "markdown",
   "metadata": {},
   "source": [
    "<a id='eq2'></a>\n",
    "\n",
    "$$\n",
    "\\mathbf{R}_{2}(\\psi) = \\begin{bmatrix}\n",
    "\\cos(\\psi) & 0 & -\\sin(\\psi) \\\\\n",
    "0 & 1 & 0 \\\\\n",
    "\\sin(\\psi) & 0 & \\cos(\\psi)\n",
    "\\end{bmatrix} \\tag{2}\n",
    "$$"
   ]
  },
  {
   "cell_type": "markdown",
   "metadata": {},
   "source": [
    "and"
   ]
  },
  {
   "cell_type": "markdown",
   "metadata": {},
   "source": [
    "<a id='eq3'></a>\n",
    "\n",
    "$$\n",
    "\\mathbf{R}_{3}(\\psi) = \\begin{bmatrix}\n",
    "\\cos(\\psi) & \\sin(\\psi) & 0 \\\\\n",
    "-\\sin(\\psi) & \\cos(\\psi) & 0 \\\\\n",
    "0 & 0 & 1\n",
    "\\end{bmatrix} \\: . \\tag{3}\n",
    "$$"
   ]
  },
  {
   "cell_type": "markdown",
   "metadata": {},
   "source": [
    "We use these matrices to compute a vector $\\mathbf{v}^{\\prime}$ by rotating a given vector $\\mathbf{v}$ defined in the RCS as follows:"
   ]
  },
  {
   "cell_type": "markdown",
   "metadata": {},
   "source": [
    "<a id='eq4'></a>\n",
    "\n",
    "$$\n",
    "\\mathbf{v}^{\\prime} = \\mathbf{R}^{\\top} \\mathbf{v} \\: , \\tag{4}\n",
    "$$"
   ]
  },
  {
   "cell_type": "markdown",
   "metadata": {},
   "source": [
    "where $\\mathbf{R}$ is defined as a product involving the matrices $\\mathbf{R}_{1}(\\psi)$, $\\mathbf{R}_{2}(\\psi)$ and $\\mathbf{R}_{3}(\\psi)$. All these matrices are equal to the identity if their angles are equal to zero."
   ]
  },
  {
   "cell_type": "markdown",
   "metadata": {},
   "source": [
    "For example, let's consider the vector $\\mathbf{v}$ given by:"
   ]
  },
  {
   "cell_type": "code",
   "execution_count": 5,
   "metadata": {},
   "outputs": [],
   "source": [
    "v = np.array([10, 0, 10])\n",
    "v_norm = np.sqrt(np.sum(v*v))"
   ]
  },
  {
   "cell_type": "markdown",
   "metadata": {},
   "source": [
    "Then we define a new vector $\\mathbf{v}^{\\prime}$ by using the following rotation matrix $\\mathbf{R}$:"
   ]
  },
  {
   "cell_type": "code",
   "execution_count": 6,
   "metadata": {},
   "outputs": [],
   "source": [
    "#R = np.dot(mf.R1(15), mf.R2(45))\n",
    "R = mf.R3(45)"
   ]
  },
  {
   "cell_type": "code",
   "execution_count": 7,
   "metadata": {},
   "outputs": [],
   "source": [
    "v_prime = np.dot(R.T, v)\n",
    "v_prime_norm = np.sqrt(np.sum(v_prime*v_prime))"
   ]
  },
  {
   "cell_type": "code",
   "execution_count": 8,
   "metadata": {},
   "outputs": [
    {
     "name": "stdout",
     "output_type": "stream",
     "text": [
      "v  norm: 14.142\n",
      "v' norm: 14.142\n"
     ]
    }
   ],
   "source": [
    "print('v  norm: %.3f' % (v_norm))\n",
    "print(\"v' norm: %.3f\" % (v_prime_norm))"
   ]
  },
  {
   "cell_type": "code",
   "execution_count": 9,
   "metadata": {},
   "outputs": [
    {
     "data": {
      "application/vnd.jupyter.widget-view+json": {
       "model_id": "",
       "version_major": 2,
       "version_minor": 0
      },
      "text/plain": [
       "Canvas(toolbar=Toolbar(toolitems=[('Home', 'Reset original view', 'home', 'home'), ('Back', 'Back to previous …"
      ]
     },
     "metadata": {},
     "output_type": "display_data"
    }
   ],
   "source": [
    "plt.close('all')\n",
    "fig = plt.figure(figsize=(8,10))\n",
    "ax = fig.gca(projection='3d')\n",
    "\n",
    "# use the parameter box to plot a gray box around the axes\n",
    "pfun.limits(ax, 0, 15, 0, 15, 0, 15, box=True)\n",
    "\n",
    "pfun.draw_axes(ax, R=np.identity(3), size=10, color='k', label=('x', 'y', 'z'))\n",
    "\n",
    "pfun.draw_vector(ax, components=v, color='r', label='v')\n",
    "pfun.draw_vector(ax, components=v_prime, color='b', label=\"v'\")\n",
    "\n",
    "ax.view_init(20, 50)\n",
    "\n",
    "plt.show()"
   ]
  },
  {
   "cell_type": "markdown",
   "metadata": {},
   "source": [
    "Notice that this rotation matrix defines a rotation of $45^{\\circ}$ around the $z$-axis."
   ]
  },
  {
   "cell_type": "markdown",
   "metadata": {},
   "source": [
    "### Some properties of rotation matrices"
   ]
  },
  {
   "cell_type": "markdown",
   "metadata": {},
   "source": [
    "Besides being [orthogonal](http://mathworld.wolfram.com/OrthogonalMatrix.html), the rotation matrices $\\mathbf{R}_{1}(\\psi)$ ([equation 1](#eq1)), $\\mathbf{R}_{2}(\\psi)$ ([equation 2](#eq2)) and $\\mathbf{R}_{3}(\\psi)$ ([equation 3](#eq3)) satisfy some interesting properties:"
   ]
  },
  {
   "cell_type": "markdown",
   "metadata": {},
   "source": [
    "<a id='eq5'></a>\n",
    "\n",
    "$$\n",
    "\\mathbf{R}_{\\alpha}(\\phi + \\theta) = \\mathbf{R}_{\\alpha}(\\theta) \\, \\mathbf{R}_{\\alpha}(\\phi)\n",
    "= \\mathbf{R}_{\\alpha}(\\phi) \\, \\mathbf{R}_{\\alpha}(\\theta)\n",
    "\\: , \\quad \\alpha = 1, 2, 3 \\: . \\tag{5}\n",
    "$$"
   ]
  },
  {
   "cell_type": "code",
   "execution_count": 10,
   "metadata": {},
   "outputs": [],
   "source": [
    "phi = 12\n",
    "theta = 7"
   ]
  },
  {
   "cell_type": "code",
   "execution_count": 11,
   "metadata": {},
   "outputs": [],
   "source": [
    "R_phi_plus_theta = mf.R1(phi + theta)\n",
    "R_theta_R_phi = np.dot(mf.R1(theta), mf.R1(phi))\n",
    "R_phi_R_theta = np.dot(mf.R1(phi), mf.R1(theta))"
   ]
  },
  {
   "cell_type": "code",
   "execution_count": 12,
   "metadata": {},
   "outputs": [
    {
     "data": {
      "text/plain": [
       "True"
      ]
     },
     "execution_count": 12,
     "metadata": {},
     "output_type": "execute_result"
    }
   ],
   "source": [
    "np.allclose(R_phi_plus_theta, R_theta_R_phi)"
   ]
  },
  {
   "cell_type": "code",
   "execution_count": 13,
   "metadata": {
    "scrolled": true
   },
   "outputs": [
    {
     "data": {
      "text/plain": [
       "True"
      ]
     },
     "execution_count": 13,
     "metadata": {},
     "output_type": "execute_result"
    }
   ],
   "source": [
    "np.allclose(R_phi_plus_theta, R_phi_R_theta)"
   ]
  },
  {
   "cell_type": "code",
   "execution_count": 14,
   "metadata": {},
   "outputs": [],
   "source": [
    "R_phi_plus_theta = mf.R2(phi + theta)\n",
    "R_theta_R_phi = np.dot(mf.R2(theta), mf.R2(phi))\n",
    "R_phi_R_theta = np.dot(mf.R2(phi), mf.R2(theta))"
   ]
  },
  {
   "cell_type": "code",
   "execution_count": 15,
   "metadata": {},
   "outputs": [
    {
     "data": {
      "text/plain": [
       "True"
      ]
     },
     "execution_count": 15,
     "metadata": {},
     "output_type": "execute_result"
    }
   ],
   "source": [
    "np.allclose(R_phi_plus_theta, R_theta_R_phi)"
   ]
  },
  {
   "cell_type": "code",
   "execution_count": 16,
   "metadata": {},
   "outputs": [
    {
     "data": {
      "text/plain": [
       "True"
      ]
     },
     "execution_count": 16,
     "metadata": {},
     "output_type": "execute_result"
    }
   ],
   "source": [
    "np.allclose(R_phi_plus_theta, R_phi_R_theta)"
   ]
  },
  {
   "cell_type": "code",
   "execution_count": 17,
   "metadata": {},
   "outputs": [],
   "source": [
    "R_phi_plus_theta = mf.R3(phi + theta)\n",
    "R_theta_R_phi = np.dot(mf.R3(theta), mf.R3(phi))\n",
    "R_phi_R_theta = np.dot(mf.R3(phi), mf.R3(theta))"
   ]
  },
  {
   "cell_type": "code",
   "execution_count": 18,
   "metadata": {},
   "outputs": [
    {
     "data": {
      "text/plain": [
       "True"
      ]
     },
     "execution_count": 18,
     "metadata": {},
     "output_type": "execute_result"
    }
   ],
   "source": [
    "np.allclose(R_phi_plus_theta, R_theta_R_phi)"
   ]
  },
  {
   "cell_type": "code",
   "execution_count": 19,
   "metadata": {},
   "outputs": [
    {
     "data": {
      "text/plain": [
       "True"
      ]
     },
     "execution_count": 19,
     "metadata": {},
     "output_type": "execute_result"
    }
   ],
   "source": [
    "np.allclose(R_phi_plus_theta, R_phi_R_theta)"
   ]
  },
  {
   "cell_type": "markdown",
   "metadata": {},
   "source": [
    "<a id='eq6'></a>\n",
    "\n",
    "$$\n",
    "\\mathbf{R}_{\\alpha}(-\\phi) = \\mathbf{R}_{\\alpha}(\\phi)^{\\top} \\: , \\quad \\alpha = 1, 2, 3 \\: . \\tag{6}\n",
    "$$"
   ]
  },
  {
   "cell_type": "code",
   "execution_count": 20,
   "metadata": {},
   "outputs": [],
   "source": [
    "psi = 31"
   ]
  },
  {
   "cell_type": "code",
   "execution_count": 21,
   "metadata": {},
   "outputs": [
    {
     "data": {
      "text/plain": [
       "True"
      ]
     },
     "execution_count": 21,
     "metadata": {},
     "output_type": "execute_result"
    }
   ],
   "source": [
    "np.allclose(mf.R1(-psi), mf.R1(psi).T)"
   ]
  },
  {
   "cell_type": "code",
   "execution_count": 22,
   "metadata": {},
   "outputs": [
    {
     "data": {
      "text/plain": [
       "True"
      ]
     },
     "execution_count": 22,
     "metadata": {},
     "output_type": "execute_result"
    }
   ],
   "source": [
    "np.allclose(mf.R2(-psi), mf.R2(psi).T)"
   ]
  },
  {
   "cell_type": "code",
   "execution_count": 23,
   "metadata": {},
   "outputs": [
    {
     "data": {
      "text/plain": [
       "True"
      ]
     },
     "execution_count": 23,
     "metadata": {},
     "output_type": "execute_result"
    }
   ],
   "source": [
    "np.allclose(mf.R3(-psi), mf.R3(psi).T)"
   ]
  },
  {
   "cell_type": "markdown",
   "metadata": {},
   "source": [
    "### Taking a deeper look in rotations"
   ]
  },
  {
   "cell_type": "markdown",
   "metadata": {},
   "source": [
    "Now, let's rewrite a vector $\\mathbf{v}$ as a sum of three orthogonal vectors:"
   ]
  },
  {
   "cell_type": "markdown",
   "metadata": {},
   "source": [
    "<a id='eq7'></a>\n",
    "\n",
    "$$\n",
    "\\mathbf{v} =\n",
    "\\begin{bmatrix}\n",
    "v_{x} \\\\\n",
    "v_{y} \\\\\n",
    "v_{z}\n",
    "\\end{bmatrix} =\n",
    "v_{x} \\begin{bmatrix}\n",
    "1 \\\\\n",
    "0 \\\\\n",
    "0\n",
    "\\end{bmatrix} +\n",
    "v_{y} \\begin{bmatrix}\n",
    "0 \\\\\n",
    "1 \\\\\n",
    "0\n",
    "\\end{bmatrix} +\n",
    "v_{z} \\begin{bmatrix}\n",
    "0 \\\\\n",
    "0 \\\\\n",
    "1\n",
    "\\end{bmatrix} \\: . \\tag{7}\n",
    "$$"
   ]
  },
  {
   "cell_type": "markdown",
   "metadata": {},
   "source": [
    "Notice that the $\\mathbf{v}$ can be thought of as a sum of three orthogonal vectors with magnitudes $v_{x}$, $v_{y}$ and $v_{z}$ and directions defined by the axes $x$, $y$ and $z$ of the RCS. By pre-multiplying $\\mathbf{v}$ ([equation 7](#eq7)) by a rotation matrix $\\mathbf{R}^{\\top}$, we compute a vector $\\mathbf{v}^{\\prime}$ as follows: "
   ]
  },
  {
   "cell_type": "markdown",
   "metadata": {},
   "source": [
    "<a id='eq8'></a>\n",
    "\n",
    "$$\n",
    "\\mathbf{v}^{\\prime} = \n",
    "\\begin{bmatrix}\n",
    "r_{00} & r_{10} & r_{20} \\\\\n",
    "r_{01} & r_{11} & r_{21} \\\\\n",
    "r_{02} & r_{12} & r_{22}\n",
    "\\end{bmatrix}\n",
    "\\begin{bmatrix}\n",
    "v_{x} \\\\\n",
    "v_{y} \\\\\n",
    "v_{z}\n",
    "\\end{bmatrix} \\: , \\tag{8}\n",
    "$$"
   ]
  },
  {
   "cell_type": "markdown",
   "metadata": {},
   "source": [
    "where $r_{ij}$, $i = 1, 2, 3$, $j = 1, 2, 3$, represents the element $ij$ of $\\mathbf{R}$. By properly manipulating [equation 8](#eq8), $\\mathbf{v}^{\\prime}$ can be rewritten by following two approaches. The first one is given by:"
   ]
  },
  {
   "cell_type": "markdown",
   "metadata": {},
   "source": [
    "<a id='eq9'></a>\n",
    "\n",
    "$$\n",
    "\\mathbf{v}^{\\prime} =\n",
    "\\begin{bmatrix}\n",
    "v_{x}^{\\prime} \\\\\n",
    "v_{y}^{\\prime} \\\\\n",
    "v_{z}^{\\prime}\n",
    "\\end{bmatrix} =\n",
    "v_{x}^{\\prime} \\begin{bmatrix}\n",
    "1 \\\\\n",
    "0 \\\\\n",
    "0\n",
    "\\end{bmatrix} +\n",
    "v_{y}^{\\prime} \\begin{bmatrix}\n",
    "0 \\\\\n",
    "1 \\\\\n",
    "0\n",
    "\\end{bmatrix} +\n",
    "v_{z}^{\\prime} \\begin{bmatrix}\n",
    "0 \\\\\n",
    "0 \\\\\n",
    "1\n",
    "\\end{bmatrix} \\: , \\tag{9}\n",
    "$$"
   ]
  },
  {
   "cell_type": "markdown",
   "metadata": {},
   "source": [
    "where"
   ]
  },
  {
   "cell_type": "markdown",
   "metadata": {},
   "source": [
    "<a id='eq10'></a>\n",
    "\n",
    "$$\n",
    "\\begin{align}\n",
    "v_{x}^{\\prime} = \\begin{bmatrix} r_{00} & r_{10} & r_{20} \\end{bmatrix} \\cdot \\mathbf{v} \\\\\n",
    "v_{y}^{\\prime} = \\begin{bmatrix} r_{01} & r_{11} & r_{21} \\end{bmatrix} \\cdot \\mathbf{v} \\\\\n",
    "v_{z}^{\\prime} = \\begin{bmatrix} r_{02} & r_{12} & r_{22} \\end{bmatrix} \\cdot \\mathbf{v}\n",
    "\\end{align} \\quad . \\tag{10}\n",
    "$$"
   ]
  },
  {
   "cell_type": "markdown",
   "metadata": {},
   "source": [
    "In this case, $\\mathbf{v}^{\\prime}$ ([equation 9](#eq9)) can be interpreted as a vector with components $v_{x}^{\\prime}$, $v_{y}^{\\prime}$ and $v_{z}^{\\prime}$ ([equation 10](#eq10)) in the RCS. In the second approach, we obtain:"
   ]
  },
  {
   "cell_type": "markdown",
   "metadata": {},
   "source": [
    "<a id='eq11'></a>\n",
    "\n",
    "$$\n",
    "\\mathbf{v}^{\\prime} =\n",
    "v_{x} \\begin{bmatrix}\n",
    "r_{00} \\\\\n",
    "r_{01} \\\\\n",
    "r_{02}\n",
    "\\end{bmatrix} +\n",
    "v_{y} \\begin{bmatrix}\n",
    "r_{10} \\\\\n",
    "r_{11} \\\\\n",
    "r_{12}\n",
    "\\end{bmatrix} +\n",
    "v_{z} \\begin{bmatrix}\n",
    "r_{20} \\\\\n",
    "r_{21} \\\\\n",
    "r_{22}\n",
    "\\end{bmatrix} \\: . \\tag{11}\n",
    "$$"
   ]
  },
  {
   "cell_type": "markdown",
   "metadata": {},
   "source": [
    "[Equation 11](#eq11) shows that the vector $\\mathbf{v}^{\\prime}$ can be alternatively interpreted as the sum of three orthogonal vectors, where each one is defined in terms of a row of $\\mathbf{R}$. Notice that these orthogonal vectors are not aligned with the axes $x$, $y$ and $z$ of the RCS. These vectors form a new coordinate system. In this new coordinate system, $\\mathbf{v}^{\\prime}$ has the same components $v_{x}$, $v_{y}$, $v_{z}$ as the original vector $\\mathbf{v}$ in the RCS ([equation 7](#eq7))."
   ]
  },
  {
   "cell_type": "code",
   "execution_count": 24,
   "metadata": {},
   "outputs": [],
   "source": [
    "R = np.dot(mf.R1(15), mf.R2(45))\n",
    "#R = mf.R3(45)"
   ]
  },
  {
   "cell_type": "code",
   "execution_count": 25,
   "metadata": {},
   "outputs": [],
   "source": [
    "v_prime = np.dot(R.T, v)"
   ]
  },
  {
   "cell_type": "code",
   "execution_count": 26,
   "metadata": {},
   "outputs": [
    {
     "data": {
      "application/vnd.jupyter.widget-view+json": {
       "model_id": "",
       "version_major": 2,
       "version_minor": 0
      },
      "text/plain": [
       "Canvas(toolbar=Toolbar(toolitems=[('Home', 'Reset original view', 'home', 'home'), ('Back', 'Back to previous …"
      ]
     },
     "metadata": {},
     "output_type": "display_data"
    },
    {
     "name": "stderr",
     "output_type": "stream",
     "text": [
      "/home/vanderlei/Documents/Disciplina-metodos-computacionais/Content/plot_functions.py:46: UserWarning: vector with null lenght\n",
      "  warnings.warn('vector with null lenght')\n"
     ]
    }
   ],
   "source": [
    "plt.close('all')\n",
    "fig = plt.figure(figsize=(8,10))\n",
    "ax = fig.gca(projection='3d')\n",
    "\n",
    "# use the parameter box to plot a gray box around the axes\n",
    "pfun.limits(ax, 0, 20, 0, 20, 0, 20, box=True)\n",
    "\n",
    "#pfun.draw_axes(ax, R=np.identity(3), size=20, color='k', label=('x', 'y', 'z'))\n",
    "#pfun.draw_axes(ax, R=R, size=20, color='k', label=(\"x'\", \"y' = y\", \"z'\"))\n",
    "\n",
    "pfun.draw_vector(ax, components=v_prime, color='b', label=\"v'\", width=4)\n",
    "pfun.draw_vector(ax, components=v[0]*R[0,:], color='g', label=\"vx'\", width=4)\n",
    "pfun.draw_vector(ax, components=v[1]*R[1,:], color='g', label=\"vy'\", width=4)\n",
    "pfun.draw_vector(ax, components=v[2]*R[2,:], color='g', label=\"vz'\", width=4)\n",
    "pfun.draw_vector(ax, components=[v_prime[0], 0, 0], color='y', label=\"vx\", width=4)\n",
    "pfun.draw_vector(ax, components=[0, v_prime[1], 0], color='y', label=\"vy\", width=4)\n",
    "pfun.draw_vector(ax, components=[0, 0, v_prime[2]], color='y', label=\"vz\", width=4)\n",
    "\n",
    "\n",
    "ax.view_init(20, 50)\n",
    "\n",
    "plt.show()"
   ]
  },
  {
   "cell_type": "markdown",
   "metadata": {},
   "source": [
    "### Using rotations to change coordinates"
   ]
  },
  {
   "cell_type": "markdown",
   "metadata": {},
   "source": [
    "We have discussed the use of rotation matrices for computing a new vector $\\mathbf{v}^{\\prime}$ from a given vector $\\mathbf{v}$. Now, we will analyze **how the same vector can be represented in different coordinate systems**. Actually, we have already adressed this problem when we explored the two possible interpretations for the vector $\\mathbf{v}^{\\prime}$. **The same vector** $\\mathbf{v}^{\\prime}$ can be defined by using [equation 9](#eq9) or [equation 11](#eq11). Notice that, in this case, we are not talking about obtaining a new vector by rotating a given vector. We are talking about representing the same vector in two different ways.\n",
    "\n",
    "In order to avoid confusion, let's define a vector $\\mathbf{w}$ as follows:"
   ]
  },
  {
   "cell_type": "markdown",
   "metadata": {},
   "source": [
    "<a id='eq12'></a>\n",
    "\n",
    "$$\n",
    "\\mathbf{w} = \n",
    "\\underbrace{\\begin{bmatrix}\n",
    "1 & 0 & 0 \\\\\n",
    "0 & 1 & 0 \\\\\n",
    "0 & 0 & 1\n",
    "\\end{bmatrix}}_{\\mathbf{I}}\n",
    "\\begin{bmatrix}\n",
    "w_{x} \\\\\n",
    "w_{y} \\\\\n",
    "w_{z}\n",
    "\\end{bmatrix} =\n",
    "w_{x} \\begin{bmatrix}\n",
    "1 \\\\\n",
    "0 \\\\\n",
    "0\n",
    "\\end{bmatrix} +\n",
    "w_{y} \\begin{bmatrix}\n",
    "0 \\\\\n",
    "1 \\\\\n",
    "0\n",
    "\\end{bmatrix} +\n",
    "w_{z} \\begin{bmatrix}\n",
    "0 \\\\\n",
    "0 \\\\\n",
    "1\n",
    "\\end{bmatrix} \\: . \\tag{12}\n",
    "$$"
   ]
  },
  {
   "cell_type": "markdown",
   "metadata": {},
   "source": [
    "In this case, we are representing $\\mathbf{w}$ as the sum of three [orthonormal vectors](http://mathworld.wolfram.com/OrthonormalVectors.html). These orthonormal vectors define the axes $x$, $y$ and $z$ of a Reference Cartesian System (RCS). Similarly to what we have already done, let's consider a new vector $\\mathbf{w}^{\\ast}$ obtained by rotating $\\mathbf{w}$ as follows:"
   ]
  },
  {
   "cell_type": "markdown",
   "metadata": {},
   "source": [
    "<a id='eq13'></a>\n",
    "\n",
    "$$\n",
    "\\mathbf{w}^{\\ast} = \\mathbf{R}^{\\top} \\mathbf{w} =  \n",
    "\\begin{bmatrix}\n",
    "r_{00} & r_{10} & r_{20} \\\\\n",
    "r_{01} & r_{11} & r_{21} \\\\\n",
    "r_{02} & r_{12} & r_{22}\n",
    "\\end{bmatrix} \\, \n",
    "\\begin{bmatrix}\n",
    "w_{x} \\\\\n",
    "w_{y} \\\\\n",
    "w_{z}\n",
    "\\end{bmatrix} = \n",
    "w_{x} \\begin{bmatrix}\n",
    "r_{00} \\\\\n",
    "r_{01} \\\\\n",
    "r_{02}\n",
    "\\end{bmatrix} +\n",
    "w_{y} \\begin{bmatrix}\n",
    "r_{10} \\\\\n",
    "r_{11} \\\\\n",
    "r_{12}\n",
    "\\end{bmatrix} +\n",
    "w_{z} \\begin{bmatrix}\n",
    "r_{20} \\\\\n",
    "r_{21} \\\\\n",
    "r_{22}\n",
    "\\end{bmatrix} \\: . \\tag{13}\n",
    "$$"
   ]
  },
  {
   "cell_type": "markdown",
   "metadata": {},
   "source": [
    "Since $\\mathbf{R}$ is an [orthogonal matrix](http://mathworld.wolfram.com/OrthogonalMatrix.html), we obtain the following equation:"
   ]
  },
  {
   "cell_type": "markdown",
   "metadata": {},
   "source": [
    "<a id='eq14'></a>\n",
    "\n",
    "$$\n",
    "\\mathbf{w} = \\mathbf{R} \\, \\mathbf{w}^{\\ast} \\: . \\tag{14}\n",
    "$$"
   ]
  },
  {
   "cell_type": "markdown",
   "metadata": {},
   "source": [
    "[Equation 12](#eq12) shows that the vector $\\mathbf{w}$ can be represented as a linear combination of unit vectors aligned with the axes of the RCS. In this case, $\\mathbf{w}$ has components $w_{x}$, $w_{y}$ and $w_{z}$. Alternatively, [equation 14](#eq14) shows that the same vector $\\mathbf{w}$ can be represented as a linear combination of unit vectors forming the columns of the matrix $\\mathbf{R}$. In this case, $\\mathbf{w}$ has components $w_{x}^{\\ast}$, $w_{y}^{\\ast}$ and $w_{z}^{\\ast}$. Notice that the columns of the matrix $\\mathbf{R}$ form a new coordinate system."
   ]
  },
  {
   "cell_type": "code",
   "execution_count": 27,
   "metadata": {},
   "outputs": [],
   "source": [
    "w = np.array([10, 10, 0])"
   ]
  },
  {
   "cell_type": "code",
   "execution_count": 28,
   "metadata": {},
   "outputs": [],
   "source": [
    "#R = mf.R1(45)\n",
    "#R = np.dot(mf.R3(10), mf.R1(30))\n",
    "R = mf.R3(45)"
   ]
  },
  {
   "cell_type": "code",
   "execution_count": 29,
   "metadata": {},
   "outputs": [],
   "source": [
    "w_ast = np.dot(R.T, w)"
   ]
  },
  {
   "cell_type": "code",
   "execution_count": 30,
   "metadata": {},
   "outputs": [
    {
     "name": "stdout",
     "output_type": "stream",
     "text": [
      "[[ 0.70710678 -0.70710678  0.        ]\n",
      " [ 0.70710678  0.70710678  0.        ]\n",
      " [ 0.          0.          1.        ]]\n"
     ]
    }
   ],
   "source": [
    "print(R.T)"
   ]
  },
  {
   "cell_type": "code",
   "execution_count": 31,
   "metadata": {},
   "outputs": [
    {
     "name": "stdout",
     "output_type": "stream",
     "text": [
      "[8.88178420e-16 1.41421356e+01 0.00000000e+00]\n"
     ]
    }
   ],
   "source": [
    "print(w_ast)"
   ]
  },
  {
   "cell_type": "code",
   "execution_count": 32,
   "metadata": {},
   "outputs": [
    {
     "data": {
      "application/vnd.jupyter.widget-view+json": {
       "model_id": "3a8dd4efc22a4be5b1b56af9647a5383",
       "version_major": 2,
       "version_minor": 0
      },
      "text/plain": [
       "Canvas(toolbar=Toolbar(toolitems=[('Home', 'Reset original view', 'home', 'home'), ('Back', 'Back to previous …"
      ]
     },
     "metadata": {},
     "output_type": "display_data"
    },
    {
     "name": "stderr",
     "output_type": "stream",
     "text": [
      "/home/vanderlei/Documents/Disciplina-metodos-computacionais/Content/plot_functions.py:46: UserWarning: vector with null lenght\n",
      "  warnings.warn('vector with null lenght')\n"
     ]
    }
   ],
   "source": [
    "plt.close('all')\n",
    "fig = plt.figure(figsize=(8,10))\n",
    "ax = fig.gca(projection='3d')\n",
    "\n",
    "# use the parameter box to plot a gray box around the axes\n",
    "pfun.limits(ax, 0, 20, 0, 20, 0, 20, box=True)\n",
    "\n",
    "#pfun.draw_axes(ax, R=np.identity(3), size=20, color='k', label=('x', 'y', 'z'))\n",
    "#pfun.draw_axes(ax, R=R, size=20, color='k', label=(\"x'\", \"y' = y\", \"z'\"))\n",
    "\n",
    "pfun.draw_vector(ax, components=w, color='k', label='v')\n",
    "pfun.draw_vector(ax, components=[w[0], 0, 0], color='b', label=\"wx\", width=4)\n",
    "pfun.draw_vector(ax, components=[0, w[1], 0], color='b', label=\"wy\", width=4)\n",
    "pfun.draw_vector(ax, components=[0, 0, w[2]], color='b', label=\"wz\", width=4)\n",
    "pfun.draw_vector(ax, components=w_ast[0]*R[:,0], color='r', label=\"wx*\", width=4)\n",
    "pfun.draw_vector(ax, components=w_ast[1]*R[:,1], color='r', label=\"wy*\", width=4)\n",
    "pfun.draw_vector(ax, components=w_ast[2]*R[:,2], color='r', label=\"wz*\", width=4)\n",
    "\n",
    "\n",
    "\n",
    "ax.view_init(10, 30)\n",
    "\n",
    "plt.show()"
   ]
  },
  {
   "cell_type": "code",
   "execution_count": null,
   "metadata": {},
   "outputs": [],
   "source": []
  }
 ],
 "metadata": {
  "anaconda-cloud": {},
  "kernelspec": {
   "display_name": "Python 3",
   "language": "python",
   "name": "python3"
  },
  "language_info": {
   "codemirror_mode": {
    "name": "ipython",
    "version": 3
   },
   "file_extension": ".py",
   "mimetype": "text/x-python",
   "name": "python",
   "nbconvert_exporter": "python",
   "pygments_lexer": "ipython3",
   "version": "3.7.7"
  }
 },
 "nbformat": 4,
 "nbformat_minor": 1
}
