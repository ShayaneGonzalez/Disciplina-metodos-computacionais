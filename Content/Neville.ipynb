{
 "cells": [
  {
   "cell_type": "markdown",
   "metadata": {},
   "source": [
    "# Neville's method"
   ]
  },
  {
   "cell_type": "markdown",
   "metadata": {},
   "source": [
    "The file `lagrange_neville.pdf` presents some notes about the Neville's method (Kiusalaas, 2013, p. 109).\n",
    "\n",
    "#### References\n",
    "\n",
    "* Kiusalaas, J. Numerical methods in engineering with Python 3, 3rd edition, Cambridge University Press, 2013, ISBN 978-1-107-03385-6"
   ]
  },
  {
   "cell_type": "code",
   "execution_count": 1,
   "metadata": {},
   "outputs": [],
   "source": [
    "%matplotlib inline\n",
    "import numpy as np\n",
    "import matplotlib.pyplot as plt\n",
    "from scipy.interpolate import lagrange\n",
    "\n",
    "#used for inserting images\n",
    "from IPython.display import Image as img"
   ]
  },
  {
   "cell_type": "code",
   "execution_count": 2,
   "metadata": {},
   "outputs": [],
   "source": [
    "x = np.linspace(0., 10., 5) # x coordinates of the data\n",
    "y = np.sin(2.*np.pi*x/10.)  # data values"
   ]
  },
  {
   "cell_type": "code",
   "execution_count": 3,
   "metadata": {},
   "outputs": [],
   "source": [
    "x0 = np.linspace(-3., 13., 30) # x coordinates of the interpolating points\n",
    "y0 = np.sin(2.*np.pi*x0/10.)   # true values of the original function at the interpolation points"
   ]
  },
  {
   "cell_type": "code",
   "execution_count": 4,
   "metadata": {},
   "outputs": [
    {
     "data": {
      "image/png": "[encoded data removed]",
      "text/plain": [
       "<Figure size 720x720 with 1 Axes>"
      ]
     },
     "metadata": {
      "needs_background": "light"
     },
     "output_type": "display_data"
    }
   ],
   "source": [
    "plt.figure(figsize=(10,10))\n",
    "plt.axis('scaled')\n",
    "plt.plot(x, y, 'bo', label='Data')\n",
    "plt.plot(x0, y0, 'b.', label='True interpolated data')\n",
    "plt.xlim(np.min(x0), np.max(x0))\n",
    "plt.ylim(-8., 8.)\n",
    "plt.xlabel('x', fontsize=16)\n",
    "plt.ylabel('y', fontsize=16)\n",
    "plt.xticks(fontsize=14)\n",
    "plt.yticks(fontsize=14)\n",
    "plt.legend(loc='best', numpoints=1, fontsize=16)\n",
    "plt.show()"
   ]
  },
  {
   "cell_type": "markdown",
   "metadata": {},
   "source": [
    "### Simple implementation"
   ]
  },
  {
   "cell_type": "markdown",
   "metadata": {},
   "source": [
    "The function2 below implement the Neville's method for interpolation."
   ]
  },
  {
   "cell_type": "code",
   "execution_count": 5,
   "metadata": {},
   "outputs": [],
   "source": [
    "def my_neville(x, y, xc):\n",
    "    '''\n",
    "    Return an interpolated point by applying\n",
    "    the Neville's method.\n",
    "    \n",
    "    input\n",
    "    x: numpy array 1D - x coordinates\n",
    "    y: numpy array 1D - given values of a function y(x)\n",
    "    xc: float - coordinate x of the interpolating point\n",
    "    \n",
    "    output\n",
    "    yc: float - interpolated ordinate at xc\n",
    "    '''\n",
    "    aux = y.copy()\n",
    "    for j in range(1,x.size):\n",
    "        for k in range(x.size-j):\n",
    "            aux[k] = ((xc - x[j+k])*aux[k] + (x[k] - xc)*aux[k+1])/(x[k] - x[j+k])\n",
    "        \n",
    "    yc = aux[0]\n",
    "    return yc"
   ]
  },
  {
   "cell_type": "code",
   "execution_count": 6,
   "metadata": {},
   "outputs": [],
   "source": [
    "def my_neville2(x, y, xc):\n",
    "    '''\n",
    "    Return an interpolated point by applying\n",
    "    the Neville's method.\n",
    "    \n",
    "    input\n",
    "    x: numpy array 1D - x coordinates\n",
    "    y: numpy array 1D - given values of a function y(x)\n",
    "    xc: float - coordinate x of the interpolating point\n",
    "    \n",
    "    output\n",
    "    yc: float - interpolated ordinate at xc\n",
    "    '''\n",
    "    L = x.size\n",
    "    aux = y.copy()\n",
    "    for j in range(1,L):\n",
    "        aux[:L-j] = ((xc - x[j:])*aux[:L-j] + (x[:L-j] - xc)*aux[1:L-j+1])/(x[:L-j] - x[j:])\n",
    "        \n",
    "    yc = aux[0]\n",
    "    return yc"
   ]
  },
  {
   "cell_type": "markdown",
   "metadata": {},
   "source": [
    "### Interpolation calculated by using the functions `my_neville` and `my_neville2`"
   ]
  },
  {
   "cell_type": "markdown",
   "metadata": {},
   "source": [
    "The cell below shows how to use the functions `my_neville` and `my_neville2` for interpolating the function `y` on a set of points `x0`."
   ]
  },
  {
   "cell_type": "code",
   "execution_count": 7,
   "metadata": {},
   "outputs": [],
   "source": [
    "my_result = np.empty_like(x0)\n",
    "for i, xc in enumerate(x0):\n",
    "    my_result[i] = my_neville(x, y, xc)\n",
    "\n",
    "my_result2 = np.empty_like(x0)\n",
    "for i, xc in enumerate(x0):\n",
    "    my_result2[i] = my_neville2(x, y, xc)"
   ]
  },
  {
   "cell_type": "markdown",
   "metadata": {},
   "source": [
    "### Interpolation calculated by using the function [`scipy.interpolate.lagrange`](http://docs.scipy.org/doc/scipy/reference/generated/scipy.interpolate.lagrange.html)"
   ]
  },
  {
   "cell_type": "code",
   "execution_count": 8,
   "metadata": {},
   "outputs": [],
   "source": [
    "Lagrange = lagrange(x,y)"
   ]
  },
  {
   "cell_type": "code",
   "execution_count": 9,
   "metadata": {},
   "outputs": [],
   "source": [
    "scipy_result = Lagrange(x0)"
   ]
  },
  {
   "cell_type": "markdown",
   "metadata": {},
   "source": [
    "### Validation test"
   ]
  },
  {
   "cell_type": "code",
   "execution_count": 10,
   "metadata": {},
   "outputs": [
    {
     "data": {
      "text/plain": [
       "True"
      ]
     },
     "execution_count": 10,
     "metadata": {},
     "output_type": "execute_result"
    }
   ],
   "source": [
    "np.allclose(scipy_result, my_result)"
   ]
  },
  {
   "cell_type": "code",
   "execution_count": 11,
   "metadata": {},
   "outputs": [
    {
     "data": {
      "text/plain": [
       "True"
      ]
     },
     "execution_count": 11,
     "metadata": {},
     "output_type": "execute_result"
    }
   ],
   "source": [
    "np.allclose(scipy_result, my_result2)"
   ]
  },
  {
   "cell_type": "markdown",
   "metadata": {},
   "source": [
    "### Results"
   ]
  },
  {
   "cell_type": "code",
   "execution_count": 12,
   "metadata": {},
   "outputs": [
    {
     "data": {
      "image/png": "[encoded data removed]",
      "text/plain": [
       "<Figure size 432x288 with 1 Axes>"
      ]
     },
     "metadata": {
      "needs_background": "light"
     },
     "output_type": "display_data"
    }
   ],
   "source": [
    "plt.figure()\n",
    "plt.plot(x, y, 'bo', label='Data')\n",
    "plt.plot(x0, y0, 'b-', label='True interpolated data')\n",
    "plt.plot(x0, scipy_result, 'r-', label='Scipy')\n",
    "plt.plot(x0, my_result, 'k--', label = 'My function')\n",
    "plt.legend(loc='best', numpoints=1)\n",
    "plt.xlabel('x', fontsize=16)\n",
    "plt.ylabel('y', fontsize=16)\n",
    "plt.legend(loc='best', numpoints=1)\n",
    "plt.show()"
   ]
  },
  {
   "cell_type": "code",
   "execution_count": null,
   "metadata": {},
   "outputs": [],
   "source": []
  }
 ],
 "metadata": {
  "kernelspec": {
   "display_name": "Python 3 (ipykernel)",
   "language": "python",
   "name": "python3"
  },
  "language_info": {
   "codemirror_mode": {
    "name": "ipython",
    "version": 3
   },
   "file_extension": ".py",
   "mimetype": "text/x-python",
   "name": "python",
   "nbconvert_exporter": "python",
   "pygments_lexer": "ipython3",
   "version": "3.7.7"
  }
 },
 "nbformat": 4,
 "nbformat_minor": 1
}
