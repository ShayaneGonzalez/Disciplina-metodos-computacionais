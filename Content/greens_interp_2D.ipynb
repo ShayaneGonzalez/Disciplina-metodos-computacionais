{
 "cells": [
  {
   "cell_type": "markdown",
   "metadata": {},
   "source": [
    "# Spline interpolation with Green's functions - 2D"
   ]
  },
  {
   "cell_type": "markdown",
   "metadata": {},
   "source": [
    "##### References\n",
    "\n",
    "* Lancaster, P., Salkauskas, K., 1980. Curve and Surface Fitting: An Introduction. Academic Press, London, UK pp 280.\n",
    "\n",
    "* Wessel, Paul. 2009. “A General-Purpose Green’s Function-Based Interpolator.” Computers & Geosciences 35 (6): 1247–54. https://doi.org/10.1016/j.cageo.2008.08.012."
   ]
  },
  {
   "cell_type": "markdown",
   "metadata": {},
   "source": [
    "## Synthetic relief model"
   ]
  },
  {
   "cell_type": "markdown",
   "metadata": {},
   "source": [
    "The cells below compute the synthetic relief model proposed by Lancaster and Salkauskas (1980, p. 150). This model contains two flat regions separated by a linear slope, with a Gaussian peak placed on lower level."
   ]
  },
  {
   "cell_type": "code",
   "execution_count": 1,
   "metadata": {},
   "outputs": [],
   "source": [
    "# Enabling the `widget` backend.\n",
    "# This requires jupyter-matplotlib a.k.a. ipympl.\n",
    "# ipympl can be install via pip or conda.\n",
    "%matplotlib widget\n",
    "# aka import ipympl"
   ]
  },
  {
   "cell_type": "code",
   "execution_count": 2,
   "metadata": {},
   "outputs": [],
   "source": [
    "import matplotlib.pyplot as plt\n",
    "from mpl_toolkits import mplot3d\n",
    "\n",
    "import numpy as np\n",
    "from scipy.special import k0 as K0"
   ]
  },
  {
   "cell_type": "code",
   "execution_count": 3,
   "metadata": {},
   "outputs": [],
   "source": [
    "def synthetic_relief(x, y):\n",
    "    '''\n",
    "    Compute the synthetic relief model presented by \n",
    "    Lancaster and Salkauskas (1980, p. 150).\n",
    "    \n",
    "    Parameters\n",
    "    ----------\n",
    "    x, y : arrays\n",
    "        Coordinates x and y of points on the synthetic model.\n",
    "    \n",
    "    Returns\n",
    "    -------\n",
    "    z : array\n",
    "        Coordinates z of the model at the given points (x, y).\n",
    "    '''\n",
    "    shapex = x.shape\n",
    "    shapey = y.shape\n",
    "    assert shapex == shapey, 'x and y must have the same shape'\n",
    "\n",
    "    mask1 = ((y - x) >= 0.5)\n",
    "    mask2 = ((0 <= (y - x)) & ((y - x) < 0.5))\n",
    "    mask3 = ((x - 1.5)**2 + (y - 0.5)**2 <= 1/16)\n",
    "\n",
    "    z = np.zeros_like(x)\n",
    "\n",
    "    z[mask1] = 1\n",
    "    z[mask2] = 2*(y[mask2] - x[mask2])\n",
    "    z[mask3] = 0.5*(np.cos(4*np.pi*np.sqrt((x[mask3] - 1.5)**2 + (y[mask3] - 0.5)**2)) + 1)\n",
    "\n",
    "    return z"
   ]
  },
  {
   "cell_type": "code",
   "execution_count": 4,
   "metadata": {},
   "outputs": [],
   "source": [
    "# Number of points along x and y\n",
    "Nx = 100\n",
    "Ny = 50\n",
    "\n",
    "# Boundaries of the modelled area\n",
    "xmin = 0\n",
    "xmax = 2\n",
    "ymin = 0\n",
    "ymax = 1\n",
    "\n",
    "# Grid of coordinates x and y\n",
    "x_grid, y_grid = np.meshgrid(np.linspace(xmin, xmax, Nx),\n",
    "                             np.linspace(ymin, ymax, Ny))"
   ]
  },
  {
   "cell_type": "code",
   "execution_count": 5,
   "metadata": {},
   "outputs": [],
   "source": [
    "# z coordinates of the relief model\n",
    "z_grid = synthetic_relief(x_grid, y_grid)"
   ]
  },
  {
   "cell_type": "code",
   "execution_count": 6,
   "metadata": {},
   "outputs": [
    {
     "data": {
      "application/vnd.jupyter.widget-view+json": {
       "model_id": "a6763e0c85e1424b857f4aa3278d22d9",
       "version_major": 2,
       "version_minor": 0
      },
      "text/plain": [
       "Canvas(toolbar=Toolbar(toolitems=[('Home', 'Reset original view', 'home', 'home'), ('Back', 'Back to previous …"
      ]
     },
     "metadata": {},
     "output_type": "display_data"
    }
   ],
   "source": [
    "fig, ax = plt.subplots(nrows=1, ncols=1)\n",
    "\n",
    "colormap = ax.pcolormesh(x_grid, y_grid, z_grid, cmap=plt.get_cmap('viridis'))\n",
    "fig.colorbar(colormap, ax=ax).set_label('z', fontsize=16)\n",
    "ax.set_xlabel('x', fontsize=16)\n",
    "ax.set_ylabel('y', fontsize=16)\n",
    "\n",
    "plt.show()"
   ]
  },
  {
   "cell_type": "code",
   "execution_count": 7,
   "metadata": {},
   "outputs": [
    {
     "data": {
      "application/vnd.jupyter.widget-view+json": {
       "model_id": "e024f14caf5b418e927c24fb107455f3",
       "version_major": 2,
       "version_minor": 0
      },
      "text/plain": [
       "Canvas(toolbar=Toolbar(toolitems=[('Home', 'Reset original view', 'home', 'home'), ('Back', 'Back to previous …"
      ]
     },
     "metadata": {},
     "output_type": "display_data"
    }
   ],
   "source": [
    "fig = plt.figure()\n",
    "ax = plt.axes(projection=\"3d\")\n",
    "colormap3D = ax.plot_surface(x_grid, y_grid, z_grid, rstride=1, cstride=1, cmap=plt.get_cmap('viridis'))\n",
    "fig.colorbar(colormap3D, ax=ax).set_label('z', fontsize=16)\n",
    "ax.set_xlabel('x', fontsize=16)\n",
    "ax.set_ylabel('y', fontsize=16)\n",
    "plt.show()"
   ]
  },
  {
   "cell_type": "markdown",
   "metadata": {},
   "source": [
    "## Generate irregularly-spaced points for testing interpolation"
   ]
  },
  {
   "cell_type": "code",
   "execution_count": 8,
   "metadata": {},
   "outputs": [],
   "source": [
    "# Set the random number generator\n",
    "np.random.seed(31)\n",
    "\n",
    "# Number of points\n",
    "N = 150\n",
    "\n",
    "# x and y coordinates of the irregularly-spaced points\n",
    "x = xmin + (xmax - xmin)*np.random.rand(N)\n",
    "y = ymin + (ymax - ymin)*np.random.rand(N)"
   ]
  },
  {
   "cell_type": "code",
   "execution_count": 9,
   "metadata": {},
   "outputs": [
    {
     "data": {
      "application/vnd.jupyter.widget-view+json": {
       "model_id": "20769f093a7c4f3c8930380d6227c036",
       "version_major": 2,
       "version_minor": 0
      },
      "text/plain": [
       "Canvas(toolbar=Toolbar(toolitems=[('Home', 'Reset original view', 'home', 'home'), ('Back', 'Back to previous …"
      ]
     },
     "metadata": {},
     "output_type": "display_data"
    }
   ],
   "source": [
    "fig, ax = plt.subplots(nrows=1, ncols=1)\n",
    "\n",
    "colormap = ax.pcolormesh(x_grid, y_grid, z_grid, cmap=plt.get_cmap('viridis'))\n",
    "fig.colorbar(colormap, ax=ax).set_label('z', fontsize=16)\n",
    "ax.plot(x, y, color='k', marker='o', markersize=3, linewidth=0)\n",
    "ax.set_xlabel('x', fontsize=16)\n",
    "ax.set_ylabel('y', fontsize=16)\n",
    "\n",
    "plt.show()"
   ]
  },
  {
   "cell_type": "markdown",
   "metadata": {},
   "source": [
    "## 2D interpolation"
   ]
  },
  {
   "cell_type": "markdown",
   "metadata": {},
   "source": [
    "Implement the 2D Cartesian Green's functions (Table 1 of notebook `greens_interp_theory`) to interpolate the irregularly-spaced data on the synthetic relief model. For convenience, neglect the trend term $\\mathbf{s}(\\mathbf{q})$ (equation 5 of notebook `greens_interp_theory`)."
   ]
  },
  {
   "cell_type": "code",
   "execution_count": 10,
   "metadata": {},
   "outputs": [],
   "source": [
    "def G_2D(p, t=0, p_interp=None):\n",
    "    '''\n",
    "    Compute matrix G formed by 2D Cartesian Green's functions.\n",
    "    \n",
    "    Parameters\n",
    "    ----------\n",
    "    p : array 2D\n",
    "        Matrix with N rows and 2 columns. The first and second \n",
    "        columns contain, respectively, the coordinates x and y\n",
    "        of the data points.\n",
    "\n",
    "    t : float\n",
    "        Positive scalar, in the interval [0, 1[ , controlling the\n",
    "        tension in spline surface.\n",
    "\n",
    "    p_interp : array 2D\n",
    "        Matrix with N rows and 2 columns. The first and second \n",
    "        columns contain, respectively, the coordinates x and y\n",
    "        of the interpolating points.\n",
    "\n",
    "    Returns\n",
    "    -------\n",
    "    G : array 2D\n",
    "        Matrix of Green's functions.\n",
    "    '''\n",
    "\n",
    "    p = np.asarray(p)\n",
    "\n",
    "    assert p.ndim == 2, 'p must be a matrix'\n",
    "    assert p.shape[1] == 2, 'p must have two columns'\n",
    "    assert p.shape[0] > 2, 'p must have more than two rows'\n",
    "    assert np.isscalar(t), 't must be a scalar'\n",
    "    assert (t >= 0) and (t < 1), 't must be greater than or equal to zero and lower lower than one' \n",
    "\n",
    "    tau = np.sqrt(t/(1-t))\n",
    "\n",
    "    if p_interp is not None:\n",
    "        p_interp = np.asarray(p_interp)\n",
    "        assert p_interp.ndim == 2, 'p_interp must be a matrix'\n",
    "        assert p_interp.shape[1] == 2, 'p_interp must have two columns'\n",
    "        assert p_interp.shape[0] > 2, 'p must have more than two rows'\n",
    "        y = p_interp\n",
    "    else:\n",
    "        y = p\n",
    "    \n",
    "    G = np.empty((y.shape[0],p.shape[0]))\n",
    "    if tau == 0:\n",
    "        for j, (xj, yj) in enumerate(p):\n",
    "            Dx = y[:,0] - xj\n",
    "            Dy = y[:,1] - yj\n",
    "            r = np.sqrt(Dx**2 + Dy**2)\n",
    "            G[:,j] = r*r*(np.log(r + 1e-15) - 1)\n",
    "    else:\n",
    "        for j, (xj, yj) in enumerate(p):\n",
    "            Dx = y[:,0] - xj\n",
    "            Dy = y[:,1] - yj\n",
    "            r = np.sqrt(Dx**2 + Dy**2)\n",
    "            #G[:,j] = K0(tau*r + 1e-15) + np.log10(tau*r + 1e-15)\n",
    "            G[:,j] = K0(tau*r + 1e-15) + np.log(tau*r + 1e-15)\n",
    "\n",
    "    return G"
   ]
  },
  {
   "cell_type": "markdown",
   "metadata": {},
   "source": [
    "### Estimate 2D spline coefficients"
   ]
  },
  {
   "cell_type": "code",
   "execution_count": 11,
   "metadata": {},
   "outputs": [],
   "source": [
    "dobs = synthetic_relief(x, y)"
   ]
  },
  {
   "cell_type": "code",
   "execution_count": 12,
   "metadata": {},
   "outputs": [],
   "source": [
    "# G matrix without tension\n",
    "G2D_no_tension = G_2D(p=np.vstack([x, y]).T, t=0, p_interp=None)"
   ]
  },
  {
   "cell_type": "code",
   "execution_count": 13,
   "metadata": {},
   "outputs": [],
   "source": [
    "# Coefficients without tension\n",
    "coeffs_no_tension = np.linalg.solve(G2D_no_tension, dobs)"
   ]
  },
  {
   "cell_type": "code",
   "execution_count": 22,
   "metadata": {},
   "outputs": [],
   "source": [
    "# G matrix with tension\n",
    "G2D_tension = G_2D(p=np.vstack([x, y]).T, t=0.998, p_interp=None)"
   ]
  },
  {
   "cell_type": "code",
   "execution_count": 23,
   "metadata": {},
   "outputs": [],
   "source": [
    "# Coefficients with tension\n",
    "coeffs_tension = np.linalg.solve(G2D_tension, dobs)"
   ]
  },
  {
   "cell_type": "markdown",
   "metadata": {},
   "source": [
    "### Interpolate 2D data"
   ]
  },
  {
   "cell_type": "markdown",
   "metadata": {},
   "source": [
    "Use the regular grid (`x_grid` and `y_grid`) as interpolation coordinates."
   ]
  },
  {
   "cell_type": "code",
   "execution_count": 16,
   "metadata": {},
   "outputs": [],
   "source": [
    "# Compute interpolated data without tension\n",
    "G2D_no_tension_interp = G_2D(p=np.vstack([x, y]).T, t=0, \n",
    "                             p_interp=np.vstack([np.ravel(x_grid), np.ravel(y_grid)]).T)\n",
    "y_no_tension_interp = np.dot(G2D_no_tension_interp, coeffs_no_tension)"
   ]
  },
  {
   "cell_type": "code",
   "execution_count": 24,
   "metadata": {},
   "outputs": [],
   "source": [
    "# Compute interpolated data with tension\n",
    "G2D_tension_interp = G_2D(p=np.vstack([x, y]).T, t=0.998, \n",
    "                          p_interp=np.vstack([np.ravel(x_grid), np.ravel(y_grid)]).T)\n",
    "y_tension_interp = np.dot(G2D_tension_interp, coeffs_tension)"
   ]
  },
  {
   "cell_type": "code",
   "execution_count": 25,
   "metadata": {},
   "outputs": [],
   "source": [
    "# reshape the interpolated points for plotting\n",
    "y_no_tension_interp = np.reshape(y_no_tension_interp, (Ny, Nx))\n",
    "y_tension_interp = np.reshape(y_tension_interp, (Ny, Nx))"
   ]
  },
  {
   "cell_type": "code",
   "execution_count": 19,
   "metadata": {},
   "outputs": [
    {
     "data": {
      "application/vnd.jupyter.widget-view+json": {
       "model_id": "82c3e2b36d0c40589b9db4d0a8c9b696",
       "version_major": 2,
       "version_minor": 0
      },
      "text/plain": [
       "Canvas(toolbar=Toolbar(toolitems=[('Home', 'Reset original view', 'home', 'home'), ('Back', 'Back to previous …"
      ]
     },
     "metadata": {},
     "output_type": "display_data"
    }
   ],
   "source": [
    "# True model\n",
    "fig = plt.figure()\n",
    "ax = plt.axes(projection=\"3d\")\n",
    "colormap3D = ax.plot_surface(x_grid, y_grid, z_grid, rstride=1, cstride=1, cmap=plt.get_cmap('viridis'))\n",
    "fig.colorbar(colormap3D, ax=ax).set_label('z', fontsize=16)\n",
    "ax.set_xlabel('x', fontsize=16)\n",
    "ax.set_ylabel('y', fontsize=16)\n",
    "plt.show()"
   ]
  },
  {
   "cell_type": "code",
   "execution_count": 20,
   "metadata": {},
   "outputs": [
    {
     "data": {
      "application/vnd.jupyter.widget-view+json": {
       "model_id": "e637d507485d4ec0ba9d22f110fa121d",
       "version_major": 2,
       "version_minor": 0
      },
      "text/plain": [
       "Canvas(toolbar=Toolbar(toolitems=[('Home', 'Reset original view', 'home', 'home'), ('Back', 'Back to previous …"
      ]
     },
     "metadata": {},
     "output_type": "display_data"
    }
   ],
   "source": [
    "# Interpolated points without tension\n",
    "fig = plt.figure()\n",
    "ax = plt.axes(projection=\"3d\")\n",
    "colormap3D = ax.plot_surface(x_grid, y_grid, y_no_tension_interp, \n",
    "                             rstride=1, cstride=1, cmap=plt.get_cmap('viridis'))\n",
    "fig.colorbar(colormap3D, ax=ax).set_label('z', fontsize=16)\n",
    "ax.set_xlabel('x', fontsize=16)\n",
    "ax.set_ylabel('y', fontsize=16)\n",
    "plt.show()"
   ]
  },
  {
   "cell_type": "code",
   "execution_count": 26,
   "metadata": {},
   "outputs": [
    {
     "data": {
      "application/vnd.jupyter.widget-view+json": {
       "model_id": "0d1379dbcdc34fcba0b0664a83fdd4ee",
       "version_major": 2,
       "version_minor": 0
      },
      "text/plain": [
       "Canvas(toolbar=Toolbar(toolitems=[('Home', 'Reset original view', 'home', 'home'), ('Back', 'Back to previous …"
      ]
     },
     "metadata": {},
     "output_type": "display_data"
    }
   ],
   "source": [
    "# Interpolated points with tension\n",
    "fig = plt.figure()\n",
    "ax = plt.axes(projection=\"3d\")\n",
    "colormap3D = ax.plot_surface(x_grid, y_grid, y_tension_interp, \n",
    "                             rstride=1, cstride=1, cmap=plt.get_cmap('viridis'))\n",
    "fig.colorbar(colormap3D, ax=ax).set_label('z', fontsize=16)\n",
    "ax.set_xlabel('x', fontsize=16)\n",
    "ax.set_ylabel('y', fontsize=16)\n",
    "plt.show()"
   ]
  },
  {
   "cell_type": "code",
   "execution_count": null,
   "metadata": {},
   "outputs": [],
   "source": []
  }
 ],
 "metadata": {
  "kernelspec": {
   "display_name": "Python 3",
   "language": "python",
   "name": "python3"
  },
  "language_info": {
   "codemirror_mode": {
    "name": "ipython",
    "version": 3
   },
   "file_extension": ".py",
   "mimetype": "text/x-python",
   "name": "python",
   "nbconvert_exporter": "python",
   "pygments_lexer": "ipython3",
   "version": "3.7.7"
  }
 },
 "nbformat": 4,
 "nbformat_minor": 1
}
