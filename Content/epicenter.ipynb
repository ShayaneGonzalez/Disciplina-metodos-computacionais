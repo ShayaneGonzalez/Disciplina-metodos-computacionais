{
 "cells": [
  {
   "cell_type": "markdown",
   "metadata": {},
   "source": [
    "# Simple epicenter problem"
   ]
  },
  {
   "cell_type": "markdown",
   "metadata": {},
   "source": [
    "This notebook illustrates a simple method for estimating the horizontal coordinates of an epicenter."
   ]
  },
  {
   "cell_type": "markdown",
   "metadata": {},
   "source": [
    "## Geophysical problem"
   ]
  },
  {
   "cell_type": "markdown",
   "metadata": {},
   "source": [
    "An earthquake generates seismic waves that propagate in the subsusface and are detected by three of seismic stations, A, B and C (green triangles), located on the Earth's surface."
   ]
  },
  {
   "cell_type": "markdown",
   "metadata": {},
   "source": [
    "<img src='epicenter_figs/fig1.png' width=700>"
   ]
  },
  {
   "cell_type": "markdown",
   "metadata": {
    "collapsed": true
   },
   "source": [
    "Let's consider that, at each station, there is a measure of the difference between the first arrivals of the P and S waves."
   ]
  },
  {
   "cell_type": "markdown",
   "metadata": {},
   "source": [
    "<img src='epicenter_figs/fig2.png' width=700>"
   ]
  },
  {
   "cell_type": "markdown",
   "metadata": {},
   "source": [
    "We may then group these measurements in a vector as follows:"
   ]
  },
  {
   "cell_type": "markdown",
   "metadata": {},
   "source": [
    "<a id='eq1'></a>\n",
    "$$\n",
    "\\mathbf{d} = \\begin{bmatrix}\n",
    "\\Delta t_{A}^{o} \\\\\n",
    "\\Delta t_{B}^{o} \\\\\n",
    "\\Delta t_{C}^{o}\n",
    "\\end{bmatrix} \\: , \\tag{1}\n",
    "$$"
   ]
  },
  {
   "cell_type": "markdown",
   "metadata": {},
   "source": [
    "where $\\Delta t_{i}^{o}$ represents the observed time difference between the first arrivals of the P and S waves at the station $i$, $i = A, B, C$. This vector is called **observed data vector**."
   ]
  },
  {
   "cell_type": "markdown",
   "metadata": {},
   "source": [
    "## Parameterization and forward problem"
   ]
  },
  {
   "cell_type": "markdown",
   "metadata": {},
   "source": [
    "By considering that (i) the ray paths can be approximated by straight lines, (ii) the depth of the hypocenter can be negleted and also that (iii) the crust is homogeneous and isotropic, we can define a time difference $\\Delta t_{i}^{o}$, $i = A, B, C$, as a function of the:\n",
    "\n",
    "* seismic velocities $v_{P}$ and $v_{S}$;\n",
    "\n",
    "* station coordinates $x_{i}$ and $y_{i}$, $i = A, B, C$;\n",
    "\n",
    "* epicenter coordinates $x_{0}$ and $y_{0}$."
   ]
  },
  {
   "cell_type": "markdown",
   "metadata": {},
   "source": [
    "Here, we consider a Cartesian coordinate system in which $x$ points to North, $y$ points to East and $z$ points to the subsurface."
   ]
  },
  {
   "cell_type": "markdown",
   "metadata": {},
   "source": [
    "In this case, the time differences can be written as follows:"
   ]
  },
  {
   "cell_type": "markdown",
   "metadata": {},
   "source": [
    "<a id='eq2'></a>\n",
    "$$\n",
    "\\Delta t_{i} (\\mathbf{p}) = \\alpha \\,\n",
    "\\left[ \\left( x_{i} - x_{0} \\right)^{2} + \\left( y_{i} - y_{0} \\right)^{2} \\right]^{\\frac{1}{2}} \\: , \\quad i = A, B, C \\: , \\tag{2}\n",
    "$$"
   ]
  },
  {
   "cell_type": "markdown",
   "metadata": {},
   "source": [
    "where"
   ]
  },
  {
   "cell_type": "markdown",
   "metadata": {},
   "source": [
    "<a id='eq3'></a>\n",
    "$$\n",
    "\\mathbf{p} = \n",
    "\\left[ \\begin{array}{c}\n",
    "x_{0} \\\\\n",
    "y_{0}\n",
    "\\end{array} \\right] \\tag{3}\n",
    "$$"
   ]
  },
  {
   "cell_type": "markdown",
   "metadata": {},
   "source": [
    "contains the parameters to be estimated (**parameter vector**) and"
   ]
  },
  {
   "cell_type": "markdown",
   "metadata": {},
   "source": [
    "<a id='eq4'></a>\n",
    "$$\n",
    "\\alpha = \\frac{1}{v_{S}} - \\frac{1}{v_{P}} \\: . \\tag{4}\n",
    "$$"
   ]
  },
  {
   "cell_type": "markdown",
   "metadata": {},
   "source": [
    "From these equations, we obtain a **predicted data vector** given by:"
   ]
  },
  {
   "cell_type": "markdown",
   "metadata": {},
   "source": [
    "<a id='eq5'></a>\n",
    "$$\n",
    "\\mathbf{\\Delta t}(\\mathbf{p}) =\n",
    "\\alpha \\, \\left[ \\begin{array}{c}\n",
    "\\Delta t_{A} (\\mathbf{p}) \\\\\n",
    "\\Delta t_{B} (\\mathbf{p}) \\\\\n",
    "\\Delta t_{C} (\\mathbf{p})\n",
    "\\end{array} \\right] \\: . \\tag{5}\n",
    "$$"
   ]
  },
  {
   "cell_type": "markdown",
   "metadata": {},
   "source": [
    "## Goal function"
   ]
  },
  {
   "cell_type": "markdown",
   "metadata": {},
   "source": [
    "Given the observed data vector $\\mathbf{d}$ ([equation 1](#eq1)), the coordinates of the stations, and the seismic velocities $v_{P}$ and $v_{S}$, we can determine the coordinates of the epicenter by estimating the particular parameter vector $\\mathbf{p}^{\\ast}$ ([equation 3](#eq3)) minimizing the goal function:"
   ]
  },
  {
   "cell_type": "markdown",
   "metadata": {},
   "source": [
    "<a id='eq6'></a>\n",
    "$$\n",
    "\\Phi(\\mathbf{p}) = \\left[ \\mathbf{d} - \\mathbf{\\Delta t}(\\mathbf{p}) \\right]^{\\, \\top}\\left[ \\mathbf{d} - \\mathbf{\\Delta t}(\\mathbf{p}) \\right] \\: . \\tag{6}\n",
    "$$"
   ]
  },
  {
   "cell_type": "markdown",
   "metadata": {},
   "source": [
    "Note that, differently from a linear problem (e.g., the problems presented in the notebooks `least_squares` and `grav_net`, the derivative of the predicted data $\\Delta t_{i} (\\mathbf{p})$ ([equation 2](#eq2)), $i = A, B, C$, with respect to $x_{0}$ or $y_{0}$ ([equation 3](#eq3)) is still a function of $x_{0}$ and $y_{0}$. Consequently, setting the gradient of $\\Phi(\\mathbf{p})$ ([equation 6](#eq6)) to the null vector does not result in a linear system for estimating $\\mathbf{p}^{\\ast}$. The problem of estimating $\\mathbf{p}^{\\ast}$ is an example of non-linear optimization problem and needs to be solved iteratively (see the file `Nonlinear_methods.pdf`)."
   ]
  },
  {
   "cell_type": "markdown",
   "metadata": {},
   "source": [
    "## Gradient vector"
   ]
  },
  {
   "cell_type": "markdown",
   "metadata": {},
   "source": [
    "<a id='eq7'></a>\n",
    "$$\n",
    "\\boldsymbol{\\nabla} \\Phi(\\mathbf{p}) = \\begin{bmatrix}\n",
    "\\frac{\\partial \\Phi(\\mathbf{p})}{\\partial p_{0}} \\\\\n",
    "\\frac{\\partial \\Phi(\\mathbf{p})}{\\partial p_{1}}\n",
    "\\end{bmatrix} \\quad , \\tag{7}\n",
    "$$"
   ]
  },
  {
   "cell_type": "markdown",
   "metadata": {},
   "source": [
    "where"
   ]
  },
  {
   "cell_type": "markdown",
   "metadata": {},
   "source": [
    "<a id='eq8'></a>\n",
    "$$\n",
    "\\begin{split}\n",
    "\\frac{\\partial \\Phi(\\mathbf{p})}{\\partial p_{j}} \n",
    "&= \\Bigg\\lbrace \\left[ \\frac{\\partial \\mathbf{d}}{\\partial p_{j}} - \\frac{\\partial \\mathbf{\\Delta t}(\\mathbf{p})}{\\partial p_{j}} \\right]^{\\, \\top}\\left[ \\mathbf{d} - \\mathbf{\\Delta t}(\\mathbf{p}) \\right] \\Bigg\\rbrace +\n",
    "\\Bigg\\lbrace \\left[ \\mathbf{d} - \\mathbf{\\Delta t}(\\mathbf{p}) \\right]^{\\, \\top}\\left[ \\frac{\\partial \\mathbf{d}}{\\partial p_{j}} - \\frac{\\partial \\mathbf{\\Delta t}(\\mathbf{p})}{\\partial p_{j}} \\right] \\Bigg\\rbrace \\\\\n",
    "&= -2 \\: \\frac{\\partial \\mathbf{\\Delta t}(\\mathbf{p})}{\\partial p_{j}}^{\\, \\top}\\left[ \\mathbf{d} - \\mathbf{\\Delta t}(\\mathbf{p}) \\right] \n",
    "\\end{split} \\tag{8}\n",
    "$$"
   ]
  },
  {
   "cell_type": "markdown",
   "metadata": {},
   "source": [
    "<a id='eq9'></a>\n",
    "$$\n",
    "\\frac{\\partial \\mathbf{\\Delta t}(\\mathbf{p})}{\\partial p_{j}} = \n",
    "\\begin{bmatrix}\n",
    "\\frac{\\partial \\Delta t_{A} (\\mathbf{p}) }{\\partial p_{j}} \\\\\n",
    "\\frac{\\partial \\Delta t_{B} (\\mathbf{p}) }{\\partial p_{j}} \\\\\n",
    "\\frac{\\partial \\Delta t_{C} (\\mathbf{p}) }{\\partial p_{j}}\n",
    "\\end{bmatrix} \\tag{9}\n",
    "$$"
   ]
  },
  {
   "cell_type": "markdown",
   "metadata": {},
   "source": [
    "<a id='eq10a'></a>\n",
    "$$\n",
    "\\frac{\\partial \\Delta t_{i} (\\mathbf{p})}{\\partial p_{j}} = \n",
    "\\frac{- \\, \\alpha \\, \\delta_{ij}}{\\left[ \\left( x_{i} - x_{0} \\right)^{2} + \\left( y_{i} - y_{0} \\right)^{2} \\right]^{1/2}} \\quad , \\tag{10a}\n",
    "$$"
   ]
  },
  {
   "cell_type": "markdown",
   "metadata": {},
   "source": [
    "where $i = A, B, C$ and"
   ]
  },
  {
   "cell_type": "markdown",
   "metadata": {},
   "source": [
    "<a id='eq10b'></a>\n",
    "$$\n",
    "\\delta_{ij} = \\begin{cases}\n",
    "x_{i} - x_{0} \\: , \\quad j = 0 \\\\\n",
    "y_{i} - y_{0} \\: , \\quad j = 1 \\\\\n",
    "\\end{cases} \\quad . \\tag{10b}\n",
    "$$"
   ]
  },
  {
   "cell_type": "markdown",
   "metadata": {},
   "source": [
    "<a id='eq11'></a>\n",
    "$$\n",
    "\\boldsymbol{\\nabla} \\Phi(\\mathbf{p}) = -2 \\, \\mathbf{G}(\\mathbf{p})^{\\, \\top} \\left[ \\mathbf{d} - \\mathbf{\\Delta t}(\\mathbf{p}) \\right] \\tag{11}\n",
    "$$"
   ]
  },
  {
   "cell_type": "markdown",
   "metadata": {},
   "source": [
    "<a id='eq12'></a>\n",
    "$$\n",
    "\\mathbf{G}(\\mathbf{p}) = \\begin{bmatrix}\n",
    "\\frac{\\partial \\Delta t_{A} (\\mathbf{p})}{\\partial p_{0}} & \\frac{\\partial \\Delta t_{A} (\\mathbf{p})}{\\partial p_{1}} \\\\\n",
    "\\frac{\\partial \\Delta t_{B} (\\mathbf{p})}{\\partial p_{0}} & \\frac{\\partial \\Delta t_{B} (\\mathbf{p})}{\\partial p_{1}} \\\\\n",
    "\\frac{\\partial \\Delta t_{C} (\\mathbf{p})}{\\partial p_{0}} & \\frac{\\partial \\Delta t_{C} (\\mathbf{p})}{\\partial p_{1}}\n",
    "\\end{bmatrix} \\tag{12}\n",
    "$$"
   ]
  },
  {
   "cell_type": "markdown",
   "metadata": {},
   "source": [
    "## Hessian matrix"
   ]
  },
  {
   "cell_type": "markdown",
   "metadata": {},
   "source": [
    "<a id='eq13'></a>\n",
    "$$\n",
    "\\mathbf{H}(\\mathbf{p}) = \\begin{bmatrix}\n",
    "\\frac{\\partial^{2} \\Phi(\\mathbf{p})}{\\partial p_{0} \\partial p_{0}} &\n",
    "\\frac{\\partial^{2} \\Phi(\\mathbf{p})}{\\partial p_{0} \\partial p_{1}} \\\\\n",
    "\\frac{\\partial^{2} \\Phi(\\mathbf{p})}{\\partial p_{1} \\partial p_{0}} &\n",
    "\\frac{\\partial^{2} \\Phi(\\mathbf{p})}{\\partial p_{1} \\partial p_{1}}\n",
    "\\end{bmatrix} \\quad , \\tag{13}\n",
    "$$"
   ]
  },
  {
   "cell_type": "markdown",
   "metadata": {},
   "source": [
    "<a id='eq14'></a>\n",
    "$$\n",
    "\\begin{split}\n",
    "\\frac{\\partial^{2} \\Phi(\\mathbf{p})}{\\partial p_{k} \\partial p_{j}} \n",
    "&= \\frac{\\partial }{\\partial p_{k}} \\Bigg\\lbrace -2 \\: \\frac{\\partial \\mathbf{\\Delta t}(\\mathbf{p})}{\\partial p_{j}}^{\\, \\top}\\left[ \\mathbf{d} - \\mathbf{\\Delta t}(\\mathbf{p}) \\right] \\Bigg\\rbrace \\\\\n",
    "&= \\Bigg\\lbrace 2 \\, \\frac{\\partial \\mathbf{\\Delta t}(\\mathbf{p})}{\\partial p_{k}}^{\\, \\top} \\frac{\\partial \\mathbf{\\Delta t}(\\mathbf{p})}{\\partial p_{j}} \\Bigg\\rbrace + \n",
    "\\Bigg\\lbrace -2 \\: \\frac{\\partial^{2} \\mathbf{\\Delta t}(\\mathbf{p})}{\\partial p_{k} \\partial p_{j}}^{\\, \\top}\\left[ \\mathbf{d} - \\mathbf{\\Delta t}(\\mathbf{p}) \\right] \\Bigg\\rbrace\n",
    "\\end{split} \\tag{14}\n",
    "$$"
   ]
  },
  {
   "cell_type": "markdown",
   "metadata": {},
   "source": [
    "<a id='eq15a'></a>\n",
    "$$\n",
    "\\mathbf{H}(\\mathbf{p}) = 2 \\, \\mathbf{G}(\\mathbf{p})^{\\top}\\mathbf{G}(\\mathbf{p}) - 2 \\sum\\limits_{i = 0}^{N - 1} \\mathbf{H}_{i}(\\mathbf{p}) \\left( d_{i} - \\Delta t_{i}^{o} \\right) \\tag{15a}\n",
    "$$"
   ]
  },
  {
   "cell_type": "markdown",
   "metadata": {},
   "source": [
    "<a id='eq15b'></a>\n",
    "$$\n",
    "\\mathbf{H}_{i}(\\mathbf{p}) = \\begin{bmatrix}\n",
    "\\frac{\\partial^{2} \\Delta t_{i}(\\mathbf{p})}{\\partial p_{0} \\partial p_{0}} &\n",
    "\\frac{\\partial^{2} \\Delta t_{i}(\\mathbf{p})}{\\partial p_{0} \\partial p_{1}} \\\\\n",
    "\\frac{\\partial^{2} \\Delta t_{i}(\\mathbf{p})}{\\partial p_{1} \\partial p_{0}} &\n",
    "\\frac{\\partial^{2} \\Delta t_{i}(\\mathbf{p})}{\\partial p_{1} \\partial p_{1}}\n",
    "\\end{bmatrix} \\quad . \\tag{15b}\n",
    "$$"
   ]
  },
  {
   "cell_type": "markdown",
   "metadata": {},
   "source": [
    "## Synthetic data"
   ]
  },
  {
   "cell_type": "markdown",
   "metadata": {},
   "source": [
    "<a id='Auxiliary_functions'></a>\n",
    "#### Auxiliary functions"
   ]
  },
  {
   "cell_type": "code",
   "execution_count": 1,
   "metadata": {},
   "outputs": [],
   "source": [
    "def predicted_dt(p,aux):\n",
    "    '''\n",
    "    Computes the predicted data.\n",
    "    \n",
    "    input\n",
    "    p: numpy array - parameter vector\n",
    "    aux: list containing [vp, vs, x, y]\n",
    "        vp, vs: floats - seismic velocities\n",
    "        x, y: numpy arrays - coordinates x and y of the stations\n",
    "    \n",
    "    output\n",
    "    dt: numpy array - predicted data\n",
    "    '''\n",
    "    \n",
    "    p = np.asarray(p, dtype=float)\n",
    "    assert p.ndim == 1, 'p must be a vector'\n",
    "    assert p.size == 2, 'p must have 2 elements'\n",
    "    \n",
    "    vp, vs, x, y = aux\n",
    "    \n",
    "    if vp <= vs:\n",
    "        raise ValueError('vp must be greater than vs')\n",
    "    \n",
    "    if x.size != y.size:\n",
    "        raise ValueError('x and y must have the same number of elements')\n",
    "    \n",
    "    if (vp != 0.) & (vs != 0.):\n",
    "        alfa = 1./vs - 1./vp\n",
    "    else:\n",
    "        raise ValueError('vp and vs must be non-null')\n",
    "    \n",
    "    # predicted data\n",
    "    dt = alfa*np.sqrt((x - p[0])**2 + (y - p[1])**2)\n",
    "    \n",
    "    return dt"
   ]
  },
  {
   "cell_type": "code",
   "execution_count": 2,
   "metadata": {},
   "outputs": [],
   "source": [
    "def plot_data(data, filename=None):\n",
    "    '''\n",
    "    input\n",
    "    data: list of numpy arrays - data sets to be plotted.\n",
    "          In the case of two data sets, the first \n",
    "          one must be the observed data.\n",
    "    filename: string or None - if not None, it saves the figure with\n",
    "              name defined by filename.\n",
    "   \n",
    "    output\n",
    "    matplotlib figure\n",
    "    '''\n",
    "\n",
    "    assert (len(data) == 1) or (len(data) == 2), \\\n",
    "'must use one or two data sets'\n",
    "\n",
    "    plt.figure(figsize=(8,3))\n",
    "    stations_label = ['A', 'B', 'C']\n",
    "    stations = [1,2,3]\n",
    "    \n",
    "    if len(data) == 1:\n",
    "        plt.barh(stations, data[0], align='center', \n",
    "             color='r', alpha=1, label='Observed')\n",
    "    if len(data) == 2:\n",
    "        plt.barh(stations, data[0], align='center', \n",
    "                 color='r', alpha=0.6, label='Observed')\n",
    "        plt.barh(stations, data[1], align='center', \n",
    "                 fill=False, edgecolor='b', alpha=1.,\n",
    "                 linewidth=3., linestyle='dashed', label='Predicted')\n",
    "    plt.yticks(stations, stations_label, fontsize=18)\n",
    "    plt.xticks(fontsize=14)\n",
    "    plt.xlabel('$\\Delta t$ ($s$)', fontsize=18)\n",
    "    plt.ylabel('Stations', fontsize=16)\n",
    "    plt.grid()\n",
    "    plt.legend(bbox_to_anchor=(0., 1.02, 1., .102), \n",
    "               loc=3, ncol=2, borderaxespad=0.)\n",
    "    if filename is not None:\n",
    "        plt.savefig(filename)\n",
    "    plt.show()"
   ]
  },
  {
   "cell_type": "code",
   "execution_count": 3,
   "metadata": {},
   "outputs": [],
   "source": [
    "def goal_function_grid(dobs,p_grid,aux):\n",
    "    '''\n",
    "    Computes the goal function in a grid of\n",
    "    parameters x0 and y0.\n",
    "    \n",
    "    input\n",
    "    dobs: numpy array - observed data\n",
    "    p_grid: list of numpy arrays 2D [x0,y0]\n",
    "    aux: list of parameters [vp,vs,x,y]\n",
    "        vp, vs: floats - seismic velocities\n",
    "        x, y: numpy arrays 1D - coordinates x and y of the stations\n",
    "    \n",
    "    output\n",
    "    phi: numpy array - grid of goal function values\n",
    "    '''\n",
    "\n",
    "    dobs = np.asarray(dobs, dtype=float)\n",
    "    assert dobs.ndim == 1, 'dobs must be a vector'\n",
    "\n",
    "    x0, y0 = p_grid\n",
    "    assert x0.shape == y0.shape, 'x0 and y0 must have the same shape'\n",
    "    assert x0.ndim == 2, 'x0 and y0 must be matrices'\n",
    "    \n",
    "    vp, vs, x, y = aux\n",
    "    \n",
    "    if vp <= vs:\n",
    "        raise ValueError('vp must be greater than vs')\n",
    "    \n",
    "    if x.size != y.size:\n",
    "        raise ValueError('x and y must have the same number of elements')\n",
    "    \n",
    "    if (vp != 0.) & (vs != 0.):\n",
    "        alfa = 1./vs - 1./vp\n",
    "    else:\n",
    "        raise ValueError('vp and vs must be non-null')\n",
    "   \n",
    "    phi = np.zeros_like(x0)\n",
    "    for x, y, dt in zip(x, y, dobs):\n",
    "        phi += (dt - alfa*np.sqrt((x - x0)**2 + (y - y0)**2))**2\n",
    "    return phi"
   ]
  },
  {
   "cell_type": "code",
   "execution_count": 4,
   "metadata": {},
   "outputs": [],
   "source": [
    "def plot_goal_function_grid(p_grid, phi, p_true=None, stations=None, epicenters=None, \n",
    "                            filename=None):\n",
    "    '''\n",
    "    Plot the goal function, the stations, the true epicenter\n",
    "    location and the set of estimated epicenters produced by\n",
    "    an iterative method.\n",
    "    \n",
    "    input\n",
    "    p_grid: list of numpy arrays 2D [x0,y0]\n",
    "        x0, y0: numpy arrays 2D - grid of epicenter coordinates\n",
    "                on which the goal function is evaluated\n",
    "    phi: numpy array 2D - grid of goal function values\n",
    "    p_true: None or numpy array 1D containing the true coordinates\n",
    "            of the epicenter\n",
    "    stations: numpy array 2D - matrix containing the coordinates of\n",
    "              the stations. The first collumn contains the\n",
    "                x coordinate and the second collumn contains the y coordinate\n",
    "                of the stations.\n",
    "    epicenters: numpy array 2D - matrix containing the estimated coordinates\n",
    "                computed by an iterative method. The first collumn contains the\n",
    "                x coordinate and the second collumn contains the y coordinate\n",
    "                of the estimated epicenters.\n",
    "    filename: string or None - if not None, it saves the figure with\n",
    "              name defined by filename\n",
    "    \n",
    "    output\n",
    "    matplotlib figure\n",
    "    '''\n",
    "    \n",
    "    x0, y0 = p_grid\n",
    "    assert x0.shape == y0.shape, 'x0 and y0 must have the same shape'\n",
    "    assert x0.ndim == 2, 'x0 and y0 must be matrices'\n",
    "    \n",
    "    if p_true is not None:\n",
    "        p_true = np.asarray(p_true, dtype=float)\n",
    "        assert p_true.ndim == 1, 'p_true must be a vector'\n",
    "        assert p_true.size == 2, 'p_true must have 2 elements'\n",
    "    if stations is not None:\n",
    "        assert (stations.shape[1] == 2), 'stations must have 2 collumns'\n",
    "        assert (stations.shape[0] >= 3), \\\n",
    "'the number of stations must be greater than or equal to 3'\n",
    "\n",
    "    xmax = np.max(x0)\n",
    "    xmin = np.min(x0)\n",
    "    \n",
    "    ymax = np.max(y0)\n",
    "    ymin = np.min(y0)\n",
    "    \n",
    "    plt.figure(figsize=(8,6))\n",
    "    plt.axis('scaled')\n",
    "    plt.contourf(y0,x0,phi,40, cmap = plt.get_cmap('viridis'))\n",
    "    cbar = plt.colorbar()\n",
    "    cbar.set_label('$\\Delta t$ ($s$)', fontsize=16)\n",
    "    if stations is not None:\n",
    "        plt.plot(stations[:,1], stations[:,0],'k^', markersize=14)\n",
    "    if p_true is not None:\n",
    "        plt.plot([p_true[1]], [p_true[0]], 'ro', markersize=14)\n",
    "    if epicenters is not None:\n",
    "        plt.plot(epicenters[:,1],epicenters[:,0],'w-', linewidth=1)\n",
    "        plt.plot(epicenters[:,1],epicenters[:,0],'wo', markersize=6)\n",
    "    plt.xlabel('y (km)', fontsize=14)\n",
    "    plt.ylabel('x (km)', fontsize=14)\n",
    "    plt.xticks(fontsize=12)\n",
    "    plt.yticks(fontsize=12)\n",
    "    plt.xlim(ymin,ymax)\n",
    "    plt.ylim(xmin,xmax)\n",
    "    if filename is not None:\n",
    "        plt.savefig(filename, dpi=300)\n",
    "    plt.show()"
   ]
  },
  {
   "cell_type": "code",
   "execution_count": 5,
   "metadata": {},
   "outputs": [],
   "source": [
    "def plot_goal_function_iterations(phi, filename=None):\n",
    "    '''\n",
    "    Plot the goal function values along the\n",
    "    iterations.\n",
    "    \n",
    "    input\n",
    "    phi: list - goal function values\n",
    "    filename: string or None - if not None, it saves the figure with\n",
    "              name defined by filename\n",
    "    \n",
    "    output\n",
    "    matplotlib figure\n",
    "    '''\n",
    "    phi = np.asarray(phi, dtype=float)\n",
    "    assert phi.ndim == 1, 'phi must be a vector'\n",
    "    it = [i for i in range(len(phi))]\n",
    "    plt.figure(figsize=(8,8))\n",
    "    plt.plot(it,phi,'ko')\n",
    "    plt.plot(it,phi,'k-')\n",
    "    plt.xlabel('$k$', fontsize=18)\n",
    "    plt.ylabel('$\\phi(\\mathbf{p})$', fontsize=18)\n",
    "    plt.xticks(fontsize=14)\n",
    "    plt.yticks(fontsize=14)\n",
    "    plt.grid()\n",
    "    plt.xlim(0, len(phi))\n",
    "    plt.ylim(-5.,phi[0]+5.)\n",
    "    if filename is not None:\n",
    "        plt.savefig(filename, dpi=300)\n",
    "    plt.show()"
   ]
  },
  {
   "cell_type": "markdown",
   "metadata": {},
   "source": [
    "#### Import the required packages"
   ]
  },
  {
   "cell_type": "code",
   "execution_count": 6,
   "metadata": {},
   "outputs": [],
   "source": [
    "import numpy as np\n",
    "from matplotlib import pyplot as plt"
   ]
  },
  {
   "cell_type": "markdown",
   "metadata": {},
   "source": [
    "#### Limits of the simulated study area"
   ]
  },
  {
   "cell_type": "code",
   "execution_count": 7,
   "metadata": {},
   "outputs": [],
   "source": [
    "# limits of the study area in km\n",
    "xmin = 0.\n",
    "xmax = 100.\n",
    "ymin = -50.\n",
    "ymax = 50."
   ]
  },
  {
   "cell_type": "markdown",
   "metadata": {},
   "source": [
    "#### Seismic velocities"
   ]
  },
  {
   "cell_type": "code",
   "execution_count": 8,
   "metadata": {},
   "outputs": [],
   "source": [
    "# seismic velocities in km/s\n",
    "vp = 6.5\n",
    "vs = 6.5/1.6"
   ]
  },
  {
   "cell_type": "markdown",
   "metadata": {},
   "source": [
    "#### Coordinates of the epicenter"
   ]
  },
  {
   "cell_type": "code",
   "execution_count": 9,
   "metadata": {},
   "outputs": [],
   "source": [
    "# coordinates of the simulated epicenter in km\n",
    "p_true = [50., -17.]"
   ]
  },
  {
   "cell_type": "markdown",
   "metadata": {},
   "source": [
    "#### Coordinates of the seismic stations"
   ]
  },
  {
   "cell_type": "code",
   "execution_count": 10,
   "metadata": {},
   "outputs": [],
   "source": [
    "# coordinates of the seismic stations in km\n",
    "x = np.array([10., 80., 60.])\n",
    "\n",
    "y = np.array([-40., -20., 35.])\n",
    "\n",
    "stations = np.vstack([x, y]).T"
   ]
  },
  {
   "cell_type": "code",
   "execution_count": 11,
   "metadata": {},
   "outputs": [
    {
     "data": {
      "image/png": "[encoded data removed]",
      "text/plain": [
       "<Figure size 576x432 with 1 Axes>"
      ]
     },
     "metadata": {
      "needs_background": "light"
     },
     "output_type": "display_data"
    }
   ],
   "source": [
    "plt.figure(figsize=(8,6))\n",
    "plt.axis('scaled')\n",
    "plt.plot(y, x,'k^', markersize=14, label='Stations')\n",
    "plt.plot([p_true[1]], [p_true[0]], 'ro', markersize=14, label='True epicenter')\n",
    "plt.xlabel('y (km)', fontsize=14)\n",
    "plt.ylabel('x (km)', fontsize=14)\n",
    "plt.legend(loc='best', numpoints=1)\n",
    "plt.xticks(fontsize=12)\n",
    "plt.yticks(fontsize=12)\n",
    "plt.xlim(ymin,ymax)\n",
    "plt.ylim(xmin,xmax)\n",
    "plt.show()"
   ]
  },
  {
   "cell_type": "markdown",
   "metadata": {},
   "source": [
    "#### Synthetic data vector"
   ]
  },
  {
   "cell_type": "markdown",
   "metadata": {},
   "source": [
    "Given the model defined in the previous cells, we can simulate an observed data vector $\\mathbf{d}$ by using the function `predicted_data` as follows:"
   ]
  },
  {
   "cell_type": "code",
   "execution_count": 12,
   "metadata": {},
   "outputs": [],
   "source": [
    "dobs = predicted_dt(p_true, [vp, vs, x, y])"
   ]
  },
  {
   "cell_type": "markdown",
   "metadata": {},
   "source": [
    "#### Goal function"
   ]
  },
  {
   "cell_type": "markdown",
   "metadata": {},
   "source": [
    "In this example, the goal function depends on two parameters, which represent the Cartesian coordinates of the epicenter. It means that, given a point $(x_{0},y_{0})$, and consequently a parameter vector $\\mathbf{p}$ ([equation 3](#eq3)), we can calculate the function $\\Phi(\\mathbf{p})$ ([equation 6](#eq6)). Then, if we define a grid of points $(x_{0},y_{0})$, each one representing a possible epicenter, we can calculate the goal function $\\Phi(\\mathbf{p})$ on a grid."
   ]
  },
  {
   "cell_type": "markdown",
   "metadata": {},
   "source": [
    "The grid of points representing possible epicenter can be defined as follows:"
   ]
  },
  {
   "cell_type": "code",
   "execution_count": 13,
   "metadata": {},
   "outputs": [],
   "source": [
    "# number of points along the x and y axes\n",
    "Nx = 200\n",
    "Ny = 200"
   ]
  },
  {
   "cell_type": "code",
   "execution_count": 14,
   "metadata": {},
   "outputs": [],
   "source": [
    "# grid of Nx by Ny points\n",
    "\n",
    "x0_grid = np.linspace(xmin, xmax, Nx) # numpy array 1D\n",
    "y0_grid = np.linspace(ymin, ymax, Ny) # numpy array 1D\n",
    "\n",
    "# use the numpy arrays 1D to create numpy arrays 2D\n",
    "x0_grid, y0_grid = np.meshgrid(x0_grid,y0_grid)"
   ]
  },
  {
   "cell_type": "code",
   "execution_count": 15,
   "metadata": {},
   "outputs": [],
   "source": [
    "phi_grid = goal_function_grid(dobs,[x0_grid,y0_grid],[vp,vs,x,y])"
   ]
  },
  {
   "cell_type": "code",
   "execution_count": 16,
   "metadata": {},
   "outputs": [
    {
     "data": {
      "image/png": "[encoded data removed]",
      "text/plain": [
       "<Figure size 576x432 with 2 Axes>"
      ]
     },
     "metadata": {
      "needs_background": "light"
     },
     "output_type": "display_data"
    }
   ],
   "source": [
    "plot_goal_function_grid([x0_grid, y0_grid], phi_grid, \n",
    "                        p_true=p_true, stations=stations)"
   ]
  },
  {
   "cell_type": "markdown",
   "metadata": {},
   "source": [
    "Notice that the minimum of the goal function is located at the point representing the true epicenter (red circle). So, we could use the figure above to estimate the coordinates of the epicenter by choosing the point associated with the minimum value of the goal function."
   ]
  },
  {
   "cell_type": "markdown",
   "metadata": {},
   "source": [
    "Another way of estimating the coordinates of the epicenter is using a numerical method. Here, we will limit ourselves to methods based on the gradient of the goal function. Specifically, we will talk about **Newton's**, **Gauss-Newton**, **Steepest Decent**, and **Levenberg-Marquardt** method."
   ]
  },
  {
   "cell_type": "code",
   "execution_count": 17,
   "metadata": {},
   "outputs": [],
   "source": [
    "def convergence(phi0,phi,beta):\n",
    "    '''\n",
    "    Evaluate the convergence criterion.\n",
    "    '''\n",
    "\n",
    "    # relative variation\n",
    "    rel_variation = abs((phi0-phi)/phi0)\n",
    "    \n",
    "    return rel_variation < beta"
   ]
  },
  {
   "cell_type": "code",
   "execution_count": 18,
   "metadata": {},
   "outputs": [],
   "source": [
    "def phi_L2(residuals):\n",
    "    phi = np.sum(residuals*residuals)\n",
    "    return phi"
   ]
  },
  {
   "cell_type": "markdown",
   "metadata": {},
   "source": [
    "The following cell contains an implementation of the **Newton's** method."
   ]
  },
  {
   "cell_type": "code",
   "execution_count": 19,
   "metadata": {},
   "outputs": [],
   "source": [
    "def gradient_based_optimization(p0, predicted_data, dobs, goal_function, \n",
    "                                Jacobian, Hessian, auxiliary_parameters, \n",
    "                                max_it_number, beta=1e-5):\n",
    "    # initial approximation\n",
    "    p0 = np.asarray(p0, dtype=float)\n",
    "    assert p0.ndim == 1, 'p0 must be a vector'\n",
    "\n",
    "    # predicted data produced by the initial approximation\n",
    "    d0 = predicted_data(p0, auxiliary_parameters)\n",
    "    \n",
    "    # residuals produced by the initial approaximation\n",
    "    r0 = dobs - d0\n",
    "    \n",
    "    # goal function produced by the initial approximation\n",
    "    phi0 = goal_function(r0)\n",
    "\n",
    "    # lists used to save the estimated parameters \n",
    "    # and goal function values\n",
    "    estimated_param_list = []\n",
    "    for param in p0:\n",
    "        estimated_param_list.append([param])\n",
    "    phi_list = [phi0]\n",
    "\n",
    "    # maximum number of iterations\n",
    "    assert isinstance(max_it_number, int), 'max_it_number must be an integer'\n",
    "    assert max_it_number > 0, 'max_it_number must be positive'\n",
    "    \n",
    "    # small value controlling the convergence\n",
    "    assert isinstance(beta, float), 'beta must be an float'\n",
    "    assert (beta > 0) & (beta < 1), 'beta must be in the open interval ]0, 1['\n",
    "\n",
    "    for it in range(max_it_number):\n",
    "\n",
    "        # Jacobian matrix\n",
    "        G = Jacobian(p0, auxiliary_parameters)\n",
    "        \n",
    "        # gradient\n",
    "        grad = -2.*np.dot(G.T,r0)\n",
    "        \n",
    "        # Hessian matrix\n",
    "        H = Hessian(p0, r0, G, auxiliary_parameters)\n",
    "\n",
    "        # correction on the parameter vector\n",
    "        dp = np.linalg.solve(H,-grad)\n",
    "\n",
    "        # predicted data produced by the new parameter vector p0+dp\n",
    "        d = predicted_data(p0+dp, auxiliary_parameters)\n",
    "        \n",
    "        # residuals produced by the new parameter vector p0+dp\n",
    "        r = dobs - d\n",
    "        \n",
    "        # goal function produced by the new parameter vector p0+dp\n",
    "        phi = goal_function(r)\n",
    "\n",
    "        # absolute variation in the goal function\n",
    "        dphi = phi - phi0\n",
    "        \n",
    "        # relative variation in the goal function\n",
    "        rel_variation = abs(dphi)/(phi0 + 1e-15)\n",
    "\n",
    "        # convengence analysis\n",
    "        if (dphi > 0) or (rel_variation <= beta):\n",
    "            # convergence achieved\n",
    "            break\n",
    "        else:\n",
    "            # convengence not achieved\n",
    "            phi0 = phi\n",
    "            p0 += dp\n",
    "            d0 = d\n",
    "            r0 = r\n",
    "            for i, param in enumerate(p0):\n",
    "                estimated_param_list[i].append(p0[i])\n",
    "            phi_list.append(phi0)\n",
    "\n",
    "    # predicted data produced by the final estimate\n",
    "    d = d0\n",
    "    \n",
    "    # set of estimated parameters\n",
    "    estimated_parameters = np.array(estimated_param_list).T\n",
    "\n",
    "    return d, estimated_parameters, phi_list"
   ]
  },
  {
   "cell_type": "code",
   "execution_count": 20,
   "metadata": {},
   "outputs": [],
   "source": [
    "def Jacobian_epicenter(p, aux):\n",
    "    '''\n",
    "    Computes the Jacobian matrix.\n",
    "    \n",
    "    input\n",
    "    p: numpy array - parameter vector\n",
    "    aux: list containing auxiliary parameters [vp,vs,xe,ye]\n",
    "        vp, vs: floats - seismic velocities\n",
    "        xe, ye: numpy arrays - coordinates x and y of the stations\n",
    "    \n",
    "    output\n",
    "    jacobian: numpy array 2D\n",
    "    '''\n",
    "    vp,vs,xe,ye = aux\n",
    "    if vp <= vs:\n",
    "        raise ValueError('vp deve ser maior que vs')\n",
    "    \n",
    "    if xe.size != ye.size:\n",
    "        raise ValueError('xe e ye devem ter o mesmo numero de \\\n",
    "                         elementos')\n",
    "    \n",
    "    if (vp != 0.) & (vs != 0.):\n",
    "        alfa = 1./vs - 1./vp\n",
    "    else:\n",
    "        raise ValueError('vp e vs devem ser diferentes de zero')\n",
    "\n",
    "    N = xe.size\n",
    "    M = p.size\n",
    "    \n",
    "    G = np.zeros((N,M))\n",
    "    \n",
    "    X = xe[:] - p[0]\n",
    "    Y = ye[:] - p[1]\n",
    "    r = np.sqrt(X*X + Y*Y)\n",
    "    G[:,0] = -X/r\n",
    "    G[:,1] = -Y/r\n",
    "    G *= alfa\n",
    "    \n",
    "    return G"
   ]
  },
  {
   "cell_type": "code",
   "execution_count": 22,
   "metadata": {},
   "outputs": [],
   "source": [
    "def Hessian_epicenter(p, res, G, aux):\n",
    "    '''\n",
    "    Computes the Hessian matrix composed of true second derivatives.\n",
    "    \n",
    "    input\n",
    "    p: numpy array - parameter vector\n",
    "    res: numpy array 1D - residuals vector\n",
    "    G: numpy array 2D - Jacobian matrix evaluated at p\n",
    "    aux: list containing auxiliary parameters [vp,vs,xe,ye,G,res]\n",
    "        vp, vs: floats - seismic velocities\n",
    "        xe, ye: numpy arrays - coordinates x and y of the stations\n",
    "    \n",
    "    output\n",
    "    Hessian: numpy array 2D\n",
    "    '''\n",
    "    vp,vs,x,y = aux\n",
    "\n",
    "    assert p.ndim == 1, 'p must be a vector'\n",
    "    assert p.size == 2, 'p must have 2 elements'\n",
    "\n",
    "    assert G.shape == (3,2), 'G must be a 3x2 matrix'\n",
    "\n",
    "    if vp <= vs:\n",
    "        raise ValueError('vp deve ser maior que vs')\n",
    "    \n",
    "    if x.size != y.size:\n",
    "        raise ValueError('x e y devem ter o mesmo numero de \\\n",
    "                         elementos')\n",
    "    \n",
    "    if (vp != 0.) & (vs != 0.):\n",
    "        alpha = 1./vs - 1./vp\n",
    "    else:\n",
    "        raise ValueError('vp e vs devem ser diferentes de zero')\n",
    "\n",
    "    M = 2\n",
    "    H = np.zeros((M,M))\n",
    "\n",
    "    H += 2*np.dot(G.T, G)\n",
    "    \n",
    "    X = x[:] - p[0]\n",
    "    Y = y[:] - p[1]\n",
    "    r = np.sqrt(X*X + Y*Y)\n",
    "    r3 = r*r*r\n",
    "    \n",
    "    for ri, r3i, Xi, Yi, resi in zip(r, r3, X, Y, res):\n",
    "        H[0,0] -= 2*alpha*(1/ri - Xi*Xi/r3i)*resi\n",
    "        H[1,1] -= 2*alpha*(1/ri - Yi*Yi/r3i)*resi\n",
    "        H[0,1] -= 2*alpha*(-Xi*Yi/r3i)*resi\n",
    "        H[1,0] -= 2*alpha*(-Yi*Xi/r3i)*resi\n",
    "    \n",
    "    return H"
   ]
  },
  {
   "cell_type": "markdown",
   "metadata": {},
   "source": [
    "#### Estimate the epicenter coordinates"
   ]
  },
  {
   "cell_type": "code",
   "execution_count": 23,
   "metadata": {},
   "outputs": [],
   "source": [
    "# limits of the study area in km\n",
    "xmin = 0.\n",
    "xmax = 100.\n",
    "ymin = -50.\n",
    "ymax = 50."
   ]
  },
  {
   "cell_type": "code",
   "execution_count": 24,
   "metadata": {},
   "outputs": [],
   "source": [
    "# seismic velocities in km/s\n",
    "vp = 6.5\n",
    "vs = 6.5/1.6"
   ]
  },
  {
   "cell_type": "code",
   "execution_count": 25,
   "metadata": {},
   "outputs": [],
   "source": [
    "# coordinates of the simulated epicenter in km\n",
    "p_true = [50., -17.]"
   ]
  },
  {
   "cell_type": "code",
   "execution_count": 26,
   "metadata": {},
   "outputs": [],
   "source": [
    "# coordinates of the seismic stations in km\n",
    "x = np.array([10., 80., 60.])\n",
    "\n",
    "y = np.array([-40., -20., 35.])\n",
    "\n",
    "stations = np.vstack([x, y]).T"
   ]
  },
  {
   "cell_type": "code",
   "execution_count": 27,
   "metadata": {},
   "outputs": [],
   "source": [
    "# observed-data vector\n",
    "dobs = predicted_dt(p_true, [vp, vs, x, y])"
   ]
  },
  {
   "cell_type": "code",
   "execution_count": 28,
   "metadata": {},
   "outputs": [],
   "source": [
    "# number of points along the x and y axes\n",
    "# used to plot the goal function grd\n",
    "Nx = 200\n",
    "Ny = 200"
   ]
  },
  {
   "cell_type": "code",
   "execution_count": 29,
   "metadata": {},
   "outputs": [],
   "source": [
    "# grid of Nx by Ny points\n",
    "x0_grid = np.linspace(xmin, xmax, Nx) # numpy array 1D\n",
    "y0_grid = np.linspace(ymin, ymax, Ny) # numpy array 1D\n",
    "\n",
    "# use the numpy arrays 1D to create numpy arrays 2D\n",
    "x0_grid, y0_grid = np.meshgrid(x0_grid,y0_grid)"
   ]
  },
  {
   "cell_type": "code",
   "execution_count": 30,
   "metadata": {},
   "outputs": [],
   "source": [
    "# initial approximation for epicenter coordinates\n",
    "initial_approximation = [20, 40]"
   ]
  },
  {
   "cell_type": "code",
   "execution_count": 31,
   "metadata": {},
   "outputs": [],
   "source": [
    "# solve the nonlinear optimization problem\n",
    "d_pred, estimated_p, phi_list = gradient_based_optimization(p0=initial_approximation, \n",
    "                                                            predicted_data=predicted_dt, \n",
    "                                                            dobs=dobs, goal_function=phi_L2, \n",
    "                                                            Jacobian=Jacobian_epicenter, \n",
    "                                                            Hessian=Hessian_epicenter, \n",
    "                                                            auxiliary_parameters=[vp,vs,x,y], \n",
    "                                                            max_it_number=15, beta=1e-3)"
   ]
  },
  {
   "cell_type": "code",
   "execution_count": 32,
   "metadata": {},
   "outputs": [
    {
     "data": {
      "image/png": "[encoded data removed]",
      "text/plain": [
       "<Figure size 576x432 with 2 Axes>"
      ]
     },
     "metadata": {
      "needs_background": "light"
     },
     "output_type": "display_data"
    }
   ],
   "source": [
    "# plot the estimated epicenter at each iteration\n",
    "plot_goal_function_grid([x0_grid, y0_grid], phi_grid, \n",
    "                        p_true=p_true, stations=stations, \n",
    "                        epicenters=estimated_p,\n",
    "                        filename='epicenter_figs/result_Newton.png')"
   ]
  },
  {
   "cell_type": "code",
   "execution_count": 33,
   "metadata": {},
   "outputs": [
    {
     "data": {
      "image/png": "[encoded data removed]",
      "text/plain": [
       "<Figure size 576x576 with 1 Axes>"
      ]
     },
     "metadata": {
      "needs_background": "light"
     },
     "output_type": "display_data"
    }
   ],
   "source": [
    "# plot the goal function values at each iteration\n",
    "plot_goal_function_iterations(phi_list, filename='epicenter_figs/convergence_Newton.png')"
   ]
  },
  {
   "cell_type": "code",
   "execution_count": 34,
   "metadata": {},
   "outputs": [
    {
     "data": {
      "image/png": "[encoded data removed]",
      "text/plain": [
       "<Figure size 576x216 with 1 Axes>"
      ]
     },
     "metadata": {
      "needs_background": "light"
     },
     "output_type": "display_data"
    }
   ],
   "source": [
    "# plot the data fit\n",
    "plot_data([dobs, d_pred], filename='epicenter_figs/datafit_Newton.png')"
   ]
  },
  {
   "cell_type": "code",
   "execution_count": null,
   "metadata": {},
   "outputs": [],
   "source": []
  }
 ],
 "metadata": {
  "kernelspec": {
   "display_name": "Python 3",
   "language": "python",
   "name": "python3"
  },
  "language_info": {
   "codemirror_mode": {
    "name": "ipython",
    "version": 3
   },
   "file_extension": ".py",
   "mimetype": "text/x-python",
   "name": "python",
   "nbconvert_exporter": "python",
   "pygments_lexer": "ipython3",
   "version": "3.7.7"
  }
 },
 "nbformat": 4,
 "nbformat_minor": 1
}
