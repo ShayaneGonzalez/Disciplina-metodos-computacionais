{
 "cells": [
  {
   "cell_type": "markdown",
   "id": "5168be2b",
   "metadata": {},
   "source": [
    "# KDTree example"
   ]
  },
  {
   "cell_type": "markdown",
   "id": "0d81da28",
   "metadata": {},
   "source": [
    "This notebook reproduces the code presented in [`scipy-cookbook`](https://scipy-cookbook.readthedocs.io/items/KDTree_example.html)."
   ]
  },
  {
   "cell_type": "code",
   "execution_count": 1,
   "id": "8b7838db",
   "metadata": {},
   "outputs": [],
   "source": [
    "import numpy as np\n",
    "import matplotlib.pyplot as plt"
   ]
  },
  {
   "cell_type": "code",
   "execution_count": 2,
   "id": "8388a1f5",
   "metadata": {},
   "outputs": [],
   "source": [
    "def kdtree( data, leafsize=10 ):\n",
    "    \"\"\"\n",
    "    build a kd-tree for O(n log n) nearest neighbour search\n",
    "\n",
    "    input:\n",
    "        data:       2D ndarray, shape =(ndim,ndata), preferentially C order\n",
    "        leafsize:   max. number of data points to leave in a leaf\n",
    "\n",
    "    output:\n",
    "        kd-tree:    list of tuples\n",
    "    \"\"\"\n",
    "\n",
    "    ndim = data.shape[0]\n",
    "    ndata = data.shape[1]\n",
    "\n",
    "    # find bounding hyper-rectangle\n",
    "    hrect = np.zeros((2,data.shape[0]))\n",
    "    hrect[0,:] = data.min(axis=1)\n",
    "    hrect[1,:] = data.max(axis=1)\n",
    "\n",
    "    # create root of kd-tree\n",
    "    idx = np.argsort(data[0,:], kind='mergesort')\n",
    "    data[:,:] = data[:,idx]\n",
    "    splitval = data[0,ndata//2]\n",
    "\n",
    "    left_hrect = hrect.copy()\n",
    "    right_hrect = hrect.copy()\n",
    "    left_hrect[1, 0] = splitval\n",
    "    right_hrect[0, 0] = splitval\n",
    "\n",
    "    tree = [(None, None, left_hrect, right_hrect, None, None)]\n",
    "\n",
    "    stack = [(data[:,:ndata//2], idx[:ndata//2], 1, 0, True),\n",
    "             (data[:,ndata//2:], idx[ndata//2:], 1, 0, False)]\n",
    "\n",
    "    # recursively split data in halves using hyper-rectangles:\n",
    "    while stack:\n",
    "\n",
    "        # pop data off stack\n",
    "        data, didx, depth, parent, leftbranch = stack.pop()\n",
    "        ndata = data.shape[1]\n",
    "        nodeptr = len(tree)\n",
    "\n",
    "        # update parent node\n",
    "\n",
    "        _didx, _data, _left_hrect, _right_hrect, left, right = tree[parent]\n",
    "\n",
    "        tree[parent] = (_didx, _data, _left_hrect, _right_hrect, nodeptr, right) if leftbranch \\\n",
    "            else (_didx, _data, _left_hrect, _right_hrect, left, nodeptr)\n",
    "\n",
    "        # insert node in kd-tree\n",
    "\n",
    "        # leaf node?\n",
    "        if ndata <= leafsize:\n",
    "            _didx = didx.copy()\n",
    "            _data = data.copy()\n",
    "            leaf = (_didx, _data, None, None, 0, 0)\n",
    "            tree.append(leaf)\n",
    "\n",
    "        # not a leaf, split the data in two      \n",
    "        else:\n",
    "            splitdim = depth % ndim\n",
    "            idx = np.argsort(data[splitdim,:], kind='mergesort')\n",
    "            data[:,:] = data[:,idx]\n",
    "            didx = didx[idx]\n",
    "            nodeptr = len(tree)\n",
    "            stack.append((data[:,:ndata//2], didx[:ndata//2], depth+1, nodeptr, True))\n",
    "            stack.append((data[:,ndata//2:], didx[ndata//2:], depth+1, nodeptr, False))\n",
    "            splitval = data[splitdim,ndata//2]\n",
    "            if leftbranch:\n",
    "                left_hrect = _left_hrect.copy()\n",
    "                right_hrect = _left_hrect.copy()\n",
    "            else:\n",
    "                left_hrect = _right_hrect.copy()\n",
    "                right_hrect = _right_hrect.copy()\n",
    "            left_hrect[1, splitdim] = splitval\n",
    "            right_hrect[0, splitdim] = splitval\n",
    "            # append node to tree\n",
    "            tree.append((None, None, left_hrect, right_hrect, None, None))\n",
    "\n",
    "    return tree"
   ]
  },
  {
   "cell_type": "code",
   "execution_count": 3,
   "id": "19fe4168",
   "metadata": {},
   "outputs": [],
   "source": [
    "N = 10\n",
    "data = np.random.rand(2, N)"
   ]
  },
  {
   "cell_type": "code",
   "execution_count": 4,
   "id": "d5f46401",
   "metadata": {},
   "outputs": [
    {
     "data": {
      "text/plain": [
       "(2, 10)"
      ]
     },
     "execution_count": 4,
     "metadata": {},
     "output_type": "execute_result"
    }
   ],
   "source": [
    "data.shape"
   ]
  },
  {
   "cell_type": "code",
   "execution_count": 5,
   "id": "5ca9b03b",
   "metadata": {},
   "outputs": [
    {
     "data": {
      "image/png": "[encoded data removed]",
      "text/plain": [
       "<Figure size 432x288 with 1 Axes>"
      ]
     },
     "metadata": {
      "needs_background": "light"
     },
     "output_type": "display_data"
    }
   ],
   "source": [
    "plt.figure()\n",
    "plt.plot(data[0], data[1], 'ko')\n",
    "plt.show()"
   ]
  },
  {
   "cell_type": "code",
   "execution_count": 6,
   "id": "e144c608",
   "metadata": {},
   "outputs": [],
   "source": [
    "complete_tree = kdtree(data, leafsize=10)"
   ]
  },
  {
   "cell_type": "code",
   "execution_count": 7,
   "id": "47b24190",
   "metadata": {},
   "outputs": [
    {
     "data": {
      "text/plain": [
       "[(None,\n",
       "  None,\n",
       "  array([[0.01416608, 0.08605675],\n",
       "         [0.37250221, 0.95465068]]),\n",
       "  array([[0.37250221, 0.08605675],\n",
       "         [0.9288732 , 0.95465068]]),\n",
       "  2,\n",
       "  1),\n",
       " (array([4, 5, 8, 6, 1]),\n",
       "  array([[0.37250221, 0.42177526, 0.67869947, 0.92190128, 0.9288732 ],\n",
       "         [0.08605675, 0.65331554, 0.95465068, 0.76310125, 0.64373936]]),\n",
       "  None,\n",
       "  None,\n",
       "  0,\n",
       "  0),\n",
       " (array([7, 9, 3, 0, 2]),\n",
       "  array([[0.01416608, 0.12645906, 0.28545245, 0.28718442, 0.29491963],\n",
       "         [0.67550002, 0.34656121, 0.34901522, 0.57483367, 0.6556452 ]]),\n",
       "  None,\n",
       "  None,\n",
       "  0,\n",
       "  0)]"
      ]
     },
     "execution_count": 7,
     "metadata": {},
     "output_type": "execute_result"
    }
   ],
   "source": [
    "complete_tree"
   ]
  },
  {
   "cell_type": "code",
   "execution_count": 8,
   "id": "5831521c",
   "metadata": {},
   "outputs": [
    {
     "data": {
      "text/plain": [
       "3"
      ]
     },
     "execution_count": 8,
     "metadata": {},
     "output_type": "execute_result"
    }
   ],
   "source": [
    "len(complete_tree)"
   ]
  },
  {
   "cell_type": "code",
   "execution_count": null,
   "id": "44edc3ef",
   "metadata": {},
   "outputs": [],
   "source": [
    "# get data dimension and number of elements\n",
    "ndim = data.shape[0]\n",
    "ndata = data.shape[1]"
   ]
  },
  {
   "cell_type": "code",
   "execution_count": null,
   "id": "f5a6342d",
   "metadata": {},
   "outputs": [],
   "source": [
    "ndim, ndata"
   ]
  },
  {
   "cell_type": "code",
   "execution_count": null,
   "id": "2fce5827",
   "metadata": {},
   "outputs": [],
   "source": [
    "# find bounding hyper-rectangle\n",
    "hrect = np.zeros((ndim,ndim))"
   ]
  },
  {
   "cell_type": "code",
   "execution_count": null,
   "id": "bfc0bf47",
   "metadata": {},
   "outputs": [],
   "source": [
    "# minima x (data[0]) and y (data[1]) values \n",
    "hrect[0,:] = data.min(axis=1)\n",
    "\n",
    "# maxima x (data[0]) and y (data[1]) values \n",
    "hrect[1,:] = data.max(axis=1)"
   ]
  },
  {
   "cell_type": "code",
   "execution_count": null,
   "id": "c0bed55f",
   "metadata": {},
   "outputs": [],
   "source": [
    "hrect"
   ]
  },
  {
   "cell_type": "code",
   "execution_count": null,
   "id": "f29b9cfa",
   "metadata": {},
   "outputs": [],
   "source": [
    "# create root of kd-tree\n",
    "\n",
    "# sort data along x-axis\n",
    "idx = np.argsort(data[0,:])\n",
    "\n",
    "# rearrange data \n",
    "data[:,:] = data[:,idx]\n",
    "\n",
    "# define the x value at the central position of the sorted data\n",
    "splitval = data[0,ndata//2]"
   ]
  },
  {
   "cell_type": "code",
   "execution_count": null,
   "id": "c23a32b4",
   "metadata": {},
   "outputs": [],
   "source": [
    "data"
   ]
  },
  {
   "cell_type": "code",
   "execution_count": null,
   "id": "11ec3a1a",
   "metadata": {},
   "outputs": [],
   "source": [
    "splitval"
   ]
  },
  {
   "cell_type": "code",
   "execution_count": null,
   "id": "b7226318",
   "metadata": {},
   "outputs": [],
   "source": [
    "# create copies of the hrect\n",
    "left_hrect = hrect.copy()\n",
    "right_hrect = hrect.copy()"
   ]
  },
  {
   "cell_type": "code",
   "execution_count": null,
   "id": "280a2b00",
   "metadata": {},
   "outputs": [],
   "source": [
    "# replace maximum x by splitval in left_hrect\n",
    "left_hrect[1, 0] = splitval\n",
    "\n",
    "# replace minimum x by splitval in right_hrect\n",
    "right_hrect[0, 0] = splitval"
   ]
  },
  {
   "cell_type": "code",
   "execution_count": null,
   "id": "af8e7521",
   "metadata": {},
   "outputs": [],
   "source": [
    "left_hrect"
   ]
  },
  {
   "cell_type": "code",
   "execution_count": null,
   "id": "1b7e8185",
   "metadata": {},
   "outputs": [],
   "source": [
    "right_hrect"
   ]
  },
  {
   "cell_type": "code",
   "execution_count": null,
   "id": "95d7f57b",
   "metadata": {},
   "outputs": [],
   "source": [
    "# define the tree as list containing a single tuple\n",
    "# actually, I didn't get it\n",
    "tree = [(None, None, left_hrect, right_hrect, None, None)]"
   ]
  },
  {
   "cell_type": "code",
   "execution_count": null,
   "id": "6e4b843e",
   "metadata": {},
   "outputs": [],
   "source": [
    "tree"
   ]
  },
  {
   "cell_type": "code",
   "execution_count": null,
   "id": "2103d9a8",
   "metadata": {},
   "outputs": [],
   "source": [
    "# define stack as a list containing two tuples\n",
    "# the first contains the first half of ordered data, its indices and \n",
    "# three values that I didn't understand\n",
    "# the second tuples is similar to the first one\n",
    "stack = [(data[:,:ndata//2], idx[:ndata//2], 1, 0, True),\n",
    "         (data[:,ndata//2:], idx[ndata//2:], 1, 0, False)]"
   ]
  },
  {
   "cell_type": "code",
   "execution_count": null,
   "id": "88d08651",
   "metadata": {},
   "outputs": [],
   "source": [
    "stack"
   ]
  },
  {
   "cell_type": "code",
   "execution_count": null,
   "id": "051bf156",
   "metadata": {},
   "outputs": [],
   "source": [
    "len(tree)"
   ]
  },
  {
   "cell_type": "code",
   "execution_count": null,
   "id": "ceb14dce",
   "metadata": {},
   "outputs": [],
   "source": [
    "# pop last tuple off stack\n",
    "# this tuple contains the data after splitval\n",
    "data, didx, depth, parent, leftbranch = stack.pop()\n",
    "\n",
    "# number of data in the selected tuple\n",
    "ndata = data.shape[1]\n",
    "\n",
    "# number of tuples in tree\n",
    "nodeptr = len(tree)"
   ]
  },
  {
   "cell_type": "code",
   "execution_count": null,
   "id": "d291ea63",
   "metadata": {},
   "outputs": [],
   "source": [
    "data, didx, depth, parent, leftbranch"
   ]
  },
  {
   "cell_type": "code",
   "execution_count": null,
   "id": "bf50a95d",
   "metadata": {},
   "outputs": [],
   "source": [
    "ndata"
   ]
  },
  {
   "cell_type": "code",
   "execution_count": null,
   "id": "b3274e95",
   "metadata": {},
   "outputs": [],
   "source": [
    "nodeptr"
   ]
  },
  {
   "cell_type": "code",
   "execution_count": null,
   "id": "bae9c0f6",
   "metadata": {},
   "outputs": [],
   "source": [
    "# update parent node\n",
    "\n",
    "_didx, _data, _left_hrect, _right_hrect, left, right = tree[parent]"
   ]
  },
  {
   "cell_type": "code",
   "execution_count": null,
   "id": "12619280",
   "metadata": {},
   "outputs": [],
   "source": [
    "_didx, _data, _left_hrect, _right_hrect, left, right"
   ]
  },
  {
   "cell_type": "code",
   "execution_count": null,
   "id": "c35a4018",
   "metadata": {},
   "outputs": [],
   "source": [
    "#  if leftbranch \\\n",
    "#     else (_didx, _data, _left_hrect, _right_hrect, left, nodeptr)\n",
    "\n",
    "(_didx, _data, _left_hrect, _right_hrect, nodeptr, right) if leftbranch \\\n",
    "     else (_didx, _data, _left_hrect, _right_hrect, left, nodeptr)"
   ]
  },
  {
   "cell_type": "code",
   "execution_count": null,
   "id": "8c6b44c2",
   "metadata": {},
   "outputs": [],
   "source": [
    "if leftbranch:\n",
    "    tree[parent] = (_didx, _data, _left_hrect, _right_hrect, nodeptr, right)\n",
    "else:\n",
    "    tree[parent] = (_didx, _data, _left_hrect, _right_hrect, left, nodeptr)"
   ]
  },
  {
   "cell_type": "code",
   "execution_count": null,
   "id": "a6db92e7",
   "metadata": {},
   "outputs": [],
   "source": [
    "tree[parent]"
   ]
  },
  {
   "cell_type": "code",
   "execution_count": null,
   "id": "863d2145",
   "metadata": {},
   "outputs": [],
   "source": []
  }
 ],
 "metadata": {
  "kernelspec": {
   "display_name": "Python 3",
   "language": "python",
   "name": "python3"
  },
  "language_info": {
   "codemirror_mode": {
    "name": "ipython",
    "version": 3
   },
   "file_extension": ".py",
   "mimetype": "text/x-python",
   "name": "python",
   "nbconvert_exporter": "python",
   "pygments_lexer": "ipython3",
   "version": "3.7.7"
  }
 },
 "nbformat": 4,
 "nbformat_minor": 5
}
