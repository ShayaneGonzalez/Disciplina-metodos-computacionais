{
 "cells": [
  {
   "cell_type": "markdown",
   "metadata": {},
   "source": [
    "# Flops"
   ]
  },
  {
   "cell_type": "markdown",
   "metadata": {},
   "source": [
    "One way to quantify the computational cost of a matrix computation is to count the total number of *floating-point operations* or *flops*. A flop is an addition, subtraction, multiplication, or division of two [floating-point numbers](https://en.wikipedia.org/wiki/Floating-point_arithmetic#Floating-point_numbers).\n",
    "\n",
    "We can define the total number of flops associated with simple matrix operations. For example:"
   ]
  },
  {
   "cell_type": "markdown",
   "metadata": {},
   "source": [
    "**Product of a scalar $\\alpha$ and an $N \\times 1$ vector $\\mathbf{x}$**\n",
    "\n",
    "$$\n",
    "\\alpha \\, \\begin{bmatrix} x_{0} \\\\ x_{1} \\\\ \\vdots \\\\ x_{N-1} \\end{bmatrix} = \n",
    "\\begin{bmatrix} \\alpha \\, x_{0} \\\\ \\alpha \\, x_{1} \\\\ \\vdots \\\\ \\alpha \\, x_{N-1} \\end{bmatrix} \\: .\n",
    "$$"
   ]
  },
  {
   "cell_type": "markdown",
   "metadata": {},
   "source": [
    "It can be easily verified that this operation requires $N$ multiplications and, consequently, its computational cost is $N$ flops."
   ]
  },
  {
   "cell_type": "markdown",
   "metadata": {
    "collapsed": true
   },
   "source": [
    "### Exercise"
   ]
  },
  {
   "cell_type": "markdown",
   "metadata": {},
   "source": [
    "Determine the number of flops required to perform the folowing operations:"
   ]
  },
  {
   "cell_type": "markdown",
   "metadata": {},
   "source": [
    "**1) Dot product of two $N \\times 1$ vectors $\\mathbf{x}$ and $\\mathbf{y}$**\n",
    "\n",
    "$$\n",
    "\\mathbf{x}^{\\top}\\mathbf{y} = x_{0} \\, y_{0} + x_{1} \\, y_{1} + \\cdots + x_{N-1} \\, y_{N-1} \\: .\n",
    "$$"
   ]
  },
  {
   "cell_type": "markdown",
   "metadata": {},
   "source": [
    "**2) Hadamard (or eletrywise) product of two $N \\times 1$ vectors $\\mathbf{x}$ and $\\mathbf{y}$**\n",
    "\n",
    "$$\n",
    "\\mathbf{x} \\circ \\mathbf{y} = \n",
    "\\begin{bmatrix} x_{0} \\, y_{0} \\\\ x_{1} \\, y_{1} \\\\ \\vdots \\\\ x_{N-1} \\, y_{N-1} \\end{bmatrix} \\: .\n",
    "$$"
   ]
  },
  {
   "cell_type": "markdown",
   "metadata": {},
   "source": [
    "**3) Outer product of an $N \\times 1$ vector $\\mathbf{x}$ and an $M \\times 1$ vector $\\mathbf{y}$**\n",
    "\n",
    "$$\n",
    "\\mathbf{x} \\otimes \\mathbf{y}^{\\top} = \n",
    "\\begin{bmatrix}\n",
    "x_{0} \\, \\mathbf{y}^{\\top} \\\\\n",
    "x_{1} \\, \\mathbf{y}^{\\top}\\\\\n",
    "\\vdots \\\\\n",
    "x_{N-1} \\, \\mathbf{y}^{\\top}\n",
    "\\end{bmatrix} \\: .\n",
    "$$"
   ]
  },
  {
   "cell_type": "markdown",
   "metadata": {},
   "source": [
    "**4) Product of an $N \\times M$ matrix $\\mathbf{A}$ and an $M \\times 1$ vector $\\mathbf{x}$**\n",
    "\n",
    "Determine the total number of flops required for computing the resulting vector (hit: use the dot product formulation).\n",
    "\n",
    "In the notebook ([`matrix-vector.ipynb`](https://nbviewer.jupyter.org/github/birocoles/Disciplina-metodos-computacionais/blob/main/Content/matrix-vector.ipynb)), we have learned three different ways of computing the product $\\mathbf{A} \\mathbf{x}$ with real elements. What is the total number of flops associated with each one?"
   ]
  },
  {
   "cell_type": "markdown",
   "metadata": {},
   "source": [
    "**5) Product of an $N \\times M$ matrix $\\mathbf{A}$ and an $M \\times L$ matrix $\\mathbf{B}$**\n",
    "\n",
    "Determine the total number of flops required for computing the resulting matrix.\n",
    "\n",
    "In the notebook ([`matrix-matrix.ipynb`](https://nbviewer.jupyter.org/github/birocoles/Disciplina-metodos-computacionais/blob/main/Content/matrix-matrix.ipynb)), we have learned five different algorithms for computing the product $\\mathbf{A} \\mathbf{B}$ with real elements. What is the total number of flops associated with each one?"
   ]
  },
  {
   "cell_type": "markdown",
   "metadata": {},
   "source": [
    "**6) Product $\\mathbf{A}\\mathbf{B}\\mathbf{C}$ , where $\\mathbf{A}$ is an $N \\times M$ matrix, $\\mathbf{B}$ is an $M \\times L$ matrix and $\\mathbf{C}$ is an $L \\times P$ matrix**"
   ]
  },
  {
   "cell_type": "markdown",
   "metadata": {},
   "source": [
    "We know that this product can be computed by following two different approaches:\n",
    "\n",
    "$$\n",
    "\\underbrace{\\left( \\mathbf{A} \\, \\mathbf{B}\\right) \\mathbf{C}}_{\\text{approach 1}} = \n",
    "\\underbrace{\\mathbf{A} \\left( \\mathbf{B} \\, \\mathbf{C} \\right)}_{\\text{approach 2}}\n",
    "$$"
   ]
  },
  {
   "cell_type": "markdown",
   "metadata": {},
   "source": [
    "In this case, what is the total number of flops required to compute the resulting matrix by following each approach?"
   ]
  }
 ],
 "metadata": {
  "anaconda-cloud": {},
  "kernelspec": {
   "display_name": "Python 3 (ipykernel)",
   "language": "python",
   "name": "python3"
  },
  "language_info": {
   "codemirror_mode": {
    "name": "ipython",
    "version": 3
   },
   "file_extension": ".py",
   "mimetype": "text/x-python",
   "name": "python",
   "nbconvert_exporter": "python",
   "pygments_lexer": "ipython3",
   "version": "3.7.7"
  }
 },
 "nbformat": 4,
 "nbformat_minor": 1
}
