{
 "cells": [
  {
   "cell_type": "markdown",
   "metadata": {},
   "source": [
    "# Kronecker product"
   ]
  },
  {
   "cell_type": "markdown",
   "metadata": {},
   "source": [
    "#### References\n",
    "\n",
    "* Magnus, J. R. and H. Neudecker (2007), Matrix differential calculus with applications in statistics and econometrics, 3rd edition, John Wiley & Sons, ISBN 0-471-98632-1.\n",
    "\n",
    "* Jain, A. K. (1989), Fundamentals of Digital Image Processing, Prentice Hall, ISBN 978-0-13-336165-0.\n",
    "\n",
    "* Horn, R. A. and C. R. Johnson, (1991), Topics in Matrix Analysis, Cambridge University Press, ISBN 978-0-521-46713-1."
   ]
  },
  {
   "cell_type": "markdown",
   "metadata": {},
   "source": [
    "Let $\\mathbf{A}$ and $\\mathbf{B}$ be, respectively, $N \\times M$ and $L \\times P$ matrices given by:"
   ]
  },
  {
   "cell_type": "markdown",
   "metadata": {},
   "source": [
    "$$\\mathbf{A} \n",
    "= \\begin{bmatrix}\n",
    "a_{00} & \\cdots & a_{0(M-1)} \\\\\n",
    "\\vdots &        & \\vdots \\\\\n",
    "a_{(N-1)0} & \\cdots & a_{(N-1)(M-1)}\n",
    "\\end{bmatrix}_{N \\times M} \\:\n",
    "$$"
   ]
  },
  {
   "cell_type": "markdown",
   "metadata": {},
   "source": [
    "and"
   ]
  },
  {
   "cell_type": "markdown",
   "metadata": {},
   "source": [
    "$$\\mathbf{B} \n",
    "= \\begin{bmatrix}\n",
    "b_{00} & \\cdots & b_{0(P-1)} \\\\\n",
    "\\vdots &        & \\vdots \\\\\n",
    "b_{(L-1)0} & \\cdots & b_{(L-1)(P-1)}\n",
    "\\end{bmatrix}_{L \\times P} \\: .\n",
    "$$"
   ]
  },
  {
   "cell_type": "markdown",
   "metadata": {
    "collapsed": true
   },
   "source": [
    "The [Kronecker product](https://en.wikipedia.org/wiki/Kronecker_product) of $\\mathbf{A}$ and $\\mathbf{B}$, denoted as $\\mathbf{A} \\otimes \\mathbf{B}$, is an $NL \\times MP$ matrix given by:"
   ]
  },
  {
   "cell_type": "markdown",
   "metadata": {},
   "source": [
    "<a id='eq1'></a>\n",
    "$$\n",
    "\\mathbf{A} \\otimes \\mathbf{B}\n",
    "= \\begin{bmatrix}\n",
    "a_{00} \\, \\mathbf{B} & \\cdots & a_{0(M-1)} \\, \\mathbf{B} \\\\\n",
    "\\vdots &        & \\vdots \\\\\n",
    "a_{(N-1)0} \\, \\mathbf{B} & \\cdots & a_{(N-1)(M-1)} \\, \\mathbf{B}\n",
    "\\end{bmatrix}_{\\, NL \\, \\times \\, MP} \\: . \\tag{1}\n",
    "$$"
   ]
  },
  {
   "cell_type": "markdown",
   "metadata": {},
   "source": [
    "Notice that $\\mathbf{A} \\otimes \\mathbf{B}$ ([equation 1](#eq1)) is a block matrix formed by $N \\times M$ blocks, each one with $L \\times P$ elements."
   ]
  },
  {
   "cell_type": "code",
   "execution_count": 1,
   "metadata": {},
   "outputs": [],
   "source": [
    "import numpy as np\n",
    "from numpy.linalg import multi_dot"
   ]
  },
  {
   "cell_type": "code",
   "execution_count": 2,
   "metadata": {},
   "outputs": [],
   "source": [
    "N = 3\n",
    "M = 4\n",
    "L = 2\n",
    "P = 3"
   ]
  },
  {
   "cell_type": "code",
   "execution_count": 3,
   "metadata": {},
   "outputs": [],
   "source": [
    "A = np.random.rand(N, M)\n",
    "B = np.random.rand(L, P)"
   ]
  },
  {
   "cell_type": "code",
   "execution_count": 4,
   "metadata": {},
   "outputs": [
    {
     "name": "stdout",
     "output_type": "stream",
     "text": [
      "[[0.50357681 0.96973804 0.73056838 0.87027423]\n",
      " [0.06757006 0.89455737 0.24410583 0.69944685]\n",
      " [0.01029108 0.51506587 0.79679306 0.57282245]]\n"
     ]
    }
   ],
   "source": [
    "print(A)"
   ]
  },
  {
   "cell_type": "code",
   "execution_count": 5,
   "metadata": {},
   "outputs": [
    {
     "name": "stdout",
     "output_type": "stream",
     "text": [
      "[[0.21283349 0.03818903 0.58210066]\n",
      " [0.74049306 0.0851349  0.78176005]]\n"
     ]
    }
   ],
   "source": [
    "print(B)"
   ]
  },
  {
   "cell_type": "code",
   "execution_count": 6,
   "metadata": {},
   "outputs": [],
   "source": [
    "A_kron_B = np.kron(A, B)"
   ]
  },
  {
   "cell_type": "code",
   "execution_count": 7,
   "metadata": {},
   "outputs": [
    {
     "data": {
      "text/plain": [
       "(6, 12)"
      ]
     },
     "execution_count": 7,
     "metadata": {},
     "output_type": "execute_result"
    }
   ],
   "source": [
    "A_kron_B.shape"
   ]
  },
  {
   "cell_type": "code",
   "execution_count": 8,
   "metadata": {},
   "outputs": [
    {
     "name": "stdout",
     "output_type": "stream",
     "text": [
      "[[1.07178011e-01 1.92311100e-02 2.93132393e-01 2.06392735e-01\n",
      "  3.70333555e-02 5.64485156e-01 1.55489421e-01 2.78996982e-02\n",
      "  4.25264340e-01 1.85223505e-01 3.32349291e-02 5.06587207e-01]\n",
      " [3.72895129e-01 4.28719617e-02 3.93676227e-01 7.18084286e-01\n",
      "  8.25585523e-02 7.58102453e-01 5.40980815e-01 6.21968671e-02\n",
      "  5.71129171e-01 6.44432026e-01 7.40907108e-02 6.80345621e-01]\n",
      " [1.43811717e-02 2.58043503e-03 3.93325759e-02 1.90391770e-01\n",
      "  3.41622785e-02 5.20722436e-01 5.19538978e-02 9.32216517e-03\n",
      "  1.42094168e-01 1.48865717e-01 2.67111971e-02 4.07148475e-01]\n",
      " [5.00351593e-02 5.75257028e-03 5.28235721e-02 6.62413520e-01\n",
      "  7.61580531e-02 6.99329207e-01 1.80758676e-01 2.07819262e-02\n",
      "  1.90832189e-01 5.17935537e-01 5.95473386e-02 5.46799601e-01]\n",
      " [2.19028623e-03 3.93006317e-04 5.99044372e-03 1.09623268e-01\n",
      "  1.96698661e-02 2.99820183e-01 1.69584251e-01 3.04287544e-02\n",
      "  4.63813768e-01 1.21915805e-01 2.18755342e-02 3.33440331e-01]\n",
      " [7.62047232e-03 8.76129968e-04 8.04515412e-03 3.81402699e-01\n",
      "  4.38500818e-02 4.02657915e-01 5.90019729e-01 6.78348984e-02\n",
      "  6.22900977e-01 4.24171051e-01 4.87671832e-02 4.47809708e-01]]\n"
     ]
    }
   ],
   "source": [
    "print(A_kron_B)"
   ]
  },
  {
   "cell_type": "markdown",
   "metadata": {},
   "source": [
    "It can be shown that the Kronecker product satisfies the following conditions:"
   ]
  },
  {
   "cell_type": "markdown",
   "metadata": {},
   "source": [
    "<a id='eq2'></a>\n",
    "$$\n",
    "\\begin{align}\n",
    "\\mathbf{A} \\otimes (\\mathbf{B} + \\mathbf{C}) &= \\mathbf{A} \\otimes \\mathbf{B} + \\mathbf{A} \\otimes \\mathbf{C} \\tag{2a} \\\\\n",
    "(\\mathbf{B} + \\mathbf{C}) \\otimes \\mathbf{A} &= \\mathbf{B} \\otimes \\mathbf{A} + \\mathbf{C} \\otimes \\mathbf{A} \\tag{2b} \\\\\n",
    "(k\\mathbf{A}) \\otimes \\mathbf{B} &= \\mathbf{A} \\otimes (k\\mathbf{B}) = k(\\mathbf{A} \\otimes \\mathbf{B}) \\tag{2c} \\\\\n",
    "(\\mathbf{A} \\otimes \\mathbf{B}) \\otimes \\mathbf{C} &= \\mathbf{A} \\otimes (\\mathbf{B} \\otimes \\mathbf{C}) \\tag{2d} \\\\\n",
    "(\\mathbf{A} \\otimes \\mathbf{B})^{\\top} &= \\mathbf{A}^{\\top} \\otimes \\mathbf{B}^{\\top} \\tag{2e} \\\\\n",
    "(\\mathbf{A} \\otimes \\mathbf{B})^{\\ast} &= \\mathbf{A}^{\\ast} \\otimes \\mathbf{B}^{\\ast} \\tag{2f}\n",
    "\\end{align}\n",
    "$$"
   ]
  },
  {
   "cell_type": "markdown",
   "metadata": {},
   "source": [
    "where $\\mathbf{C}$ is an arbitrary matrix."
   ]
  },
  {
   "cell_type": "code",
   "execution_count": 9,
   "metadata": {},
   "outputs": [
    {
     "data": {
      "text/plain": [
       "True"
      ]
     },
     "execution_count": 9,
     "metadata": {},
     "output_type": "execute_result"
    }
   ],
   "source": [
    "C = np.random.rand(B.shape[0], B.shape[1])\n",
    "A_kron_B_plus_C = np.kron(A, B+C)\n",
    "A_kron_C = np.kron(A, C)\n",
    "np.allclose(A_kron_B_plus_C, A_kron_B + A_kron_C)"
   ]
  },
  {
   "cell_type": "code",
   "execution_count": 10,
   "metadata": {},
   "outputs": [
    {
     "data": {
      "text/plain": [
       "True"
      ]
     },
     "execution_count": 10,
     "metadata": {},
     "output_type": "execute_result"
    }
   ],
   "source": [
    "AT_kron_BT = np.kron(A.T, B.T)\n",
    "np.allclose(A_kron_B.T, AT_kron_BT)"
   ]
  },
  {
   "cell_type": "markdown",
   "metadata": {},
   "source": [
    "Another very important property of the Kronecker product can be defined as follows:\n",
    "\n",
    "The matrix-vector product\n",
    "\n",
    "<a id='eq3'></a>\n",
    "$$\n",
    "\\left( \\mathbf{A} \\otimes \\mathbf{B} \\right) \\mathbf{v} = \\mathbf{w} \\: , \\tag{3}\n",
    "$$\n",
    "\n",
    "where $\\mathbf{v}$ is an $MP \\times 1$ vector and $\\mathbf{w}$ is an $NL \\times 1$ vector,  can be rewritten as follows:\n",
    "\n",
    "<a id='eq4'></a>\n",
    "$$\n",
    "\\mathbf{A} \\mathbf{V} \\mathbf{B}^{\\top} = \\mathbf{W} \\: , \\tag{4}\n",
    "$$\n",
    "\n",
    "where $\\mathbf{V}$ is an $M \\times P$ matrix obtained by reorganizing $\\mathbf{v}$ along its rows and $\\mathbf{W}$ is a $N \\times L$ matrix obtained by reorganizing $\\mathbf{w}$ along its rows (Jain, 1989; Horn and Johnson, 1991)."
   ]
  },
  {
   "cell_type": "code",
   "execution_count": 11,
   "metadata": {},
   "outputs": [
    {
     "name": "stdout",
     "output_type": "stream",
     "text": [
      "3 4 2 3\n"
     ]
    }
   ],
   "source": [
    "print(N, M, L, P)"
   ]
  },
  {
   "cell_type": "code",
   "execution_count": 12,
   "metadata": {},
   "outputs": [
    {
     "data": {
      "text/plain": [
       "(6, 12)"
      ]
     },
     "execution_count": 12,
     "metadata": {},
     "output_type": "execute_result"
    }
   ],
   "source": [
    "A_kron_B.shape"
   ]
  },
  {
   "cell_type": "code",
   "execution_count": 13,
   "metadata": {},
   "outputs": [],
   "source": [
    "v = np.arange(M*P)"
   ]
  },
  {
   "cell_type": "code",
   "execution_count": 14,
   "metadata": {},
   "outputs": [
    {
     "data": {
      "text/plain": [
       "(12,)"
      ]
     },
     "execution_count": 14,
     "metadata": {},
     "output_type": "execute_result"
    }
   ],
   "source": [
    "v.shape"
   ]
  },
  {
   "cell_type": "code",
   "execution_count": 15,
   "metadata": {},
   "outputs": [
    {
     "data": {
      "text/plain": [
       "array([ 0,  1,  2,  3,  4,  5,  6,  7,  8,  9, 10, 11])"
      ]
     },
     "execution_count": 15,
     "metadata": {},
     "output_type": "execute_result"
    }
   ],
   "source": [
    "v"
   ]
  },
  {
   "cell_type": "code",
   "execution_count": 16,
   "metadata": {},
   "outputs": [],
   "source": [
    "w = np.dot(A_kron_B, v)"
   ]
  },
  {
   "cell_type": "code",
   "execution_count": 17,
   "metadata": {},
   "outputs": [
    {
     "data": {
      "text/plain": [
       "(6,)"
      ]
     },
     "execution_count": 17,
     "metadata": {},
     "output_type": "execute_result"
    }
   ],
   "source": [
    "w.shape"
   ]
  },
  {
   "cell_type": "code",
   "execution_count": 18,
   "metadata": {},
   "outputs": [
    {
     "data": {
      "text/plain": [
       "array([16.29740255, 29.38011726, 10.99195073, 19.92829039, 11.84388222,\n",
       "       21.57915299])"
      ]
     },
     "execution_count": 18,
     "metadata": {},
     "output_type": "execute_result"
    }
   ],
   "source": [
    "w"
   ]
  },
  {
   "cell_type": "code",
   "execution_count": 19,
   "metadata": {},
   "outputs": [],
   "source": [
    "# reorganize v along the rows of V\n",
    "V = np.reshape(v, (M, P))"
   ]
  },
  {
   "cell_type": "code",
   "execution_count": 20,
   "metadata": {},
   "outputs": [
    {
     "data": {
      "text/plain": [
       "(4, 3)"
      ]
     },
     "execution_count": 20,
     "metadata": {},
     "output_type": "execute_result"
    }
   ],
   "source": [
    "V.shape"
   ]
  },
  {
   "cell_type": "code",
   "execution_count": 21,
   "metadata": {},
   "outputs": [
    {
     "data": {
      "text/plain": [
       "array([[ 0,  1,  2],\n",
       "       [ 3,  4,  5],\n",
       "       [ 6,  7,  8],\n",
       "       [ 9, 10, 11]])"
      ]
     },
     "execution_count": 21,
     "metadata": {},
     "output_type": "execute_result"
    }
   ],
   "source": [
    "V"
   ]
  },
  {
   "cell_type": "code",
   "execution_count": 22,
   "metadata": {},
   "outputs": [
    {
     "data": {
      "text/plain": [
       "array([ 0,  1,  2,  3,  4,  5,  6,  7,  8,  9, 10, 11])"
      ]
     },
     "execution_count": 22,
     "metadata": {},
     "output_type": "execute_result"
    }
   ],
   "source": [
    "v"
   ]
  },
  {
   "cell_type": "code",
   "execution_count": 23,
   "metadata": {},
   "outputs": [],
   "source": [
    "# reorganize w along the rows of W\n",
    "W = np.reshape(w, (N, L))"
   ]
  },
  {
   "cell_type": "code",
   "execution_count": 24,
   "metadata": {},
   "outputs": [
    {
     "data": {
      "text/plain": [
       "(3, 2)"
      ]
     },
     "execution_count": 24,
     "metadata": {},
     "output_type": "execute_result"
    }
   ],
   "source": [
    "W.shape"
   ]
  },
  {
   "cell_type": "code",
   "execution_count": 25,
   "metadata": {},
   "outputs": [
    {
     "data": {
      "text/plain": [
       "array([[16.29740255, 29.38011726],\n",
       "       [10.99195073, 19.92829039],\n",
       "       [11.84388222, 21.57915299]])"
      ]
     },
     "execution_count": 25,
     "metadata": {},
     "output_type": "execute_result"
    }
   ],
   "source": [
    "W"
   ]
  },
  {
   "cell_type": "code",
   "execution_count": 26,
   "metadata": {},
   "outputs": [
    {
     "data": {
      "text/plain": [
       "array([16.29740255, 29.38011726, 10.99195073, 19.92829039, 11.84388222,\n",
       "       21.57915299])"
      ]
     },
     "execution_count": 26,
     "metadata": {},
     "output_type": "execute_result"
    }
   ],
   "source": [
    "w"
   ]
  },
  {
   "cell_type": "code",
   "execution_count": 27,
   "metadata": {},
   "outputs": [
    {
     "data": {
      "text/plain": [
       "True"
      ]
     },
     "execution_count": 27,
     "metadata": {},
     "output_type": "execute_result"
    }
   ],
   "source": [
    "np.allclose(multi_dot([A, V, B.T]), W)"
   ]
  },
  {
   "cell_type": "markdown",
   "metadata": {},
   "source": [
    "Similarly to equations [3](#eq3) and [4](#eq4), the matrix-vector product\n",
    "\n",
    "<a id='eq5'></a>\n",
    "$$\n",
    "\\left( \\mathbf{B}^{\\top} \\otimes \\mathbf{A} \\right) \\mathbf{v} = \\mathbf{w} \\: , \\tag{5}\n",
    "$$\n",
    "\n",
    "where $\\mathbf{v}$ is an $LM \\times 1$ vector and $\\mathbf{w}$ is an $PN \\times 1$ vector, can be rewritten as follows:\n",
    "\n",
    "<a id='eq6'></a>\n",
    "$$\n",
    "\\mathbf{A} \\mathbf{V} \\mathbf{B} = \\mathbf{W} \\: , \\tag{6}\n",
    "$$\n",
    "\n",
    "where $\\mathbf{V}$ is an $M \\times L$ matrix obtained by reorganizing $\\mathbf{v}$ along its columns and $\\mathbf{W}$ is a $L \\times P$ matrix obtained by reorganizing $\\mathbf{w}$ along its columns (Magnus and Neudecker, 2007)."
   ]
  },
  {
   "cell_type": "code",
   "execution_count": 28,
   "metadata": {},
   "outputs": [],
   "source": [
    "BT_kron_A = np.kron(B.T, A)"
   ]
  },
  {
   "cell_type": "code",
   "execution_count": 29,
   "metadata": {},
   "outputs": [
    {
     "data": {
      "text/plain": [
       "(9, 8)"
      ]
     },
     "execution_count": 29,
     "metadata": {},
     "output_type": "execute_result"
    }
   ],
   "source": [
    "BT_kron_A.shape"
   ]
  },
  {
   "cell_type": "code",
   "execution_count": 30,
   "metadata": {},
   "outputs": [
    {
     "data": {
      "text/plain": [
       "array([[1.07178011e-01, 2.06392735e-01, 1.55489421e-01, 1.85223505e-01,\n",
       "        3.72895129e-01, 7.18084286e-01, 5.40980815e-01, 6.44432026e-01],\n",
       "       [1.43811717e-02, 1.90391770e-01, 5.19538978e-02, 1.48865717e-01,\n",
       "        5.00351593e-02, 6.62413520e-01, 1.80758676e-01, 5.17935537e-01],\n",
       "       [2.19028623e-03, 1.09623268e-01, 1.69584251e-01, 1.21915805e-01,\n",
       "        7.62047232e-03, 3.81402699e-01, 5.90019729e-01, 4.24171051e-01],\n",
       "       [1.92311100e-02, 3.70333555e-02, 2.78996982e-02, 3.32349291e-02,\n",
       "        4.28719617e-02, 8.25585523e-02, 6.21968671e-02, 7.40907108e-02],\n",
       "       [2.58043503e-03, 3.41622785e-02, 9.32216517e-03, 2.67111971e-02,\n",
       "        5.75257028e-03, 7.61580531e-02, 2.07819262e-02, 5.95473386e-02],\n",
       "       [3.93006317e-04, 1.96698661e-02, 3.04287544e-02, 2.18755342e-02,\n",
       "        8.76129968e-04, 4.38500818e-02, 6.78348984e-02, 4.87671832e-02],\n",
       "       [2.93132393e-01, 5.64485156e-01, 4.25264340e-01, 5.06587207e-01,\n",
       "        3.93676227e-01, 7.58102453e-01, 5.71129171e-01, 6.80345621e-01],\n",
       "       [3.93325759e-02, 5.20722436e-01, 1.42094168e-01, 4.07148475e-01,\n",
       "        5.28235721e-02, 6.99329207e-01, 1.90832189e-01, 5.46799601e-01],\n",
       "       [5.99044372e-03, 2.99820183e-01, 4.63813768e-01, 3.33440331e-01,\n",
       "        8.04515412e-03, 4.02657915e-01, 6.22900977e-01, 4.47809708e-01]])"
      ]
     },
     "execution_count": 30,
     "metadata": {},
     "output_type": "execute_result"
    }
   ],
   "source": [
    "BT_kron_A"
   ]
  },
  {
   "cell_type": "code",
   "execution_count": 31,
   "metadata": {},
   "outputs": [],
   "source": [
    "v = np.arange(L*M)"
   ]
  },
  {
   "cell_type": "code",
   "execution_count": 32,
   "metadata": {},
   "outputs": [
    {
     "data": {
      "text/plain": [
       "(8,)"
      ]
     },
     "execution_count": 32,
     "metadata": {},
     "output_type": "execute_result"
    }
   ],
   "source": [
    "v.shape"
   ]
  },
  {
   "cell_type": "code",
   "execution_count": 33,
   "metadata": {},
   "outputs": [
    {
     "data": {
      "text/plain": [
       "array([0, 1, 2, 3, 4, 5, 6, 7])"
      ]
     },
     "execution_count": 33,
     "metadata": {},
     "output_type": "execute_result"
    }
   ],
   "source": [
    "v"
   ]
  },
  {
   "cell_type": "code",
   "execution_count": 34,
   "metadata": {},
   "outputs": [],
   "source": [
    "w = np.dot(BT_kron_A, v)"
   ]
  },
  {
   "cell_type": "code",
   "execution_count": 35,
   "metadata": {},
   "outputs": [
    {
     "data": {
      "text/plain": [
       "(9,)"
      ]
     },
     "execution_count": 35,
     "metadata": {},
     "output_type": "execute_result"
    }
   ],
   "source": [
    "w.shape"
   ]
  },
  {
   "cell_type": "code",
   "execution_count": 36,
   "metadata": {},
   "outputs": [
    {
     "data": {
      "text/plain": [
       "array([13.91195312,  8.96320577,  9.2613503 ,  1.66863433,  1.07826367,\n",
       "        1.11728858, 16.489187  , 10.70688686, 11.14531272])"
      ]
     },
     "execution_count": 36,
     "metadata": {},
     "output_type": "execute_result"
    }
   ],
   "source": [
    "w"
   ]
  },
  {
   "cell_type": "code",
   "execution_count": 37,
   "metadata": {},
   "outputs": [],
   "source": [
    "# reorganize v along the columns of V\n",
    "V = np.reshape(v, (L, M)).T"
   ]
  },
  {
   "cell_type": "code",
   "execution_count": 38,
   "metadata": {},
   "outputs": [
    {
     "data": {
      "text/plain": [
       "(4, 2)"
      ]
     },
     "execution_count": 38,
     "metadata": {},
     "output_type": "execute_result"
    }
   ],
   "source": [
    "V.shape"
   ]
  },
  {
   "cell_type": "code",
   "execution_count": 39,
   "metadata": {},
   "outputs": [
    {
     "data": {
      "text/plain": [
       "array([[0, 4],\n",
       "       [1, 5],\n",
       "       [2, 6],\n",
       "       [3, 7]])"
      ]
     },
     "execution_count": 39,
     "metadata": {},
     "output_type": "execute_result"
    }
   ],
   "source": [
    "V"
   ]
  },
  {
   "cell_type": "code",
   "execution_count": 40,
   "metadata": {},
   "outputs": [
    {
     "data": {
      "text/plain": [
       "array([0, 1, 2, 3, 4, 5, 6, 7])"
      ]
     },
     "execution_count": 40,
     "metadata": {},
     "output_type": "execute_result"
    }
   ],
   "source": [
    "v"
   ]
  },
  {
   "cell_type": "code",
   "execution_count": 41,
   "metadata": {},
   "outputs": [],
   "source": [
    "# reorganize w along the columns of W\n",
    "W = np.reshape(w, (P, N)).T"
   ]
  },
  {
   "cell_type": "code",
   "execution_count": 42,
   "metadata": {},
   "outputs": [
    {
     "data": {
      "text/plain": [
       "(3, 3)"
      ]
     },
     "execution_count": 42,
     "metadata": {},
     "output_type": "execute_result"
    }
   ],
   "source": [
    "W.shape"
   ]
  },
  {
   "cell_type": "code",
   "execution_count": 43,
   "metadata": {},
   "outputs": [
    {
     "data": {
      "text/plain": [
       "array([[13.91195312,  1.66863433, 16.489187  ],\n",
       "       [ 8.96320577,  1.07826367, 10.70688686],\n",
       "       [ 9.2613503 ,  1.11728858, 11.14531272]])"
      ]
     },
     "execution_count": 43,
     "metadata": {},
     "output_type": "execute_result"
    }
   ],
   "source": [
    "W"
   ]
  },
  {
   "cell_type": "code",
   "execution_count": 44,
   "metadata": {},
   "outputs": [
    {
     "data": {
      "text/plain": [
       "array([13.91195312,  8.96320577,  9.2613503 ,  1.66863433,  1.07826367,\n",
       "        1.11728858, 16.489187  , 10.70688686, 11.14531272])"
      ]
     },
     "execution_count": 44,
     "metadata": {},
     "output_type": "execute_result"
    }
   ],
   "source": [
    "w"
   ]
  },
  {
   "cell_type": "code",
   "execution_count": 45,
   "metadata": {},
   "outputs": [
    {
     "data": {
      "text/plain": [
       "True"
      ]
     },
     "execution_count": 45,
     "metadata": {},
     "output_type": "execute_result"
    }
   ],
   "source": [
    "np.allclose(multi_dot([A, V, B]), W)"
   ]
  }
 ],
 "metadata": {
  "anaconda-cloud": {},
  "kernelspec": {
   "display_name": "Python 3",
   "language": "python",
   "name": "python3"
  },
  "language_info": {
   "codemirror_mode": {
    "name": "ipython",
    "version": 3
   },
   "file_extension": ".py",
   "mimetype": "text/x-python",
   "name": "python",
   "nbconvert_exporter": "python",
   "pygments_lexer": "ipython3",
   "version": "3.7.7"
  }
 },
 "nbformat": 4,
 "nbformat_minor": 1
}
