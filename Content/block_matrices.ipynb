{
 "cells": [
  {
   "cell_type": "markdown",
   "metadata": {},
   "source": [
    "# Block matrices"
   ]
  },
  {
   "cell_type": "markdown",
   "metadata": {},
   "source": [
    "Consider an $N \\times M$ matrix $\\mathbf{A}$ given by:"
   ]
  },
  {
   "cell_type": "markdown",
   "metadata": {},
   "source": [
    "$$\\mathbf{A} \n",
    "= \\begin{bmatrix}\n",
    "\\mathbf{A}_{11} & \\cdots & \\mathbf{A}_{1r} \\\\\n",
    "\\vdots & & \\vdots  \\\\\n",
    "\\mathbf{A}_{q1} & \\cdots & \\mathbf{A}_{qr}\n",
    "\\end{bmatrix} \\: ,\n",
    "$$"
   ]
  },
  {
   "cell_type": "markdown",
   "metadata": {},
   "source": [
    "where "
   ]
  },
  {
   "cell_type": "markdown",
   "metadata": {},
   "source": [
    "$$\n",
    "N = \\sum_{\\alpha = 1}^{q} N_{\\alpha} \\: ,\n",
    "$$\n",
    "\n",
    "$$\n",
    "M = \\sum_{\\beta = 1}^{r} M_{\\beta}\n",
    "$$"
   ]
  },
  {
   "cell_type": "markdown",
   "metadata": {},
   "source": [
    "and $\\mathbf{A}_{\\alpha \\beta}$ are $N_{\\alpha} \\times M_{\\beta}$ submatrices, $\\alpha = 1, \\dots, q$, $\\beta = 1, \\dots, r$, defined as follows:"
   ]
  },
  {
   "cell_type": "markdown",
   "metadata": {},
   "source": [
    "$$\n",
    "\\mathbf{A}_{\\alpha \\beta} =\n",
    "\\begin{bmatrix}\n",
    "a_{11}^{(\\alpha \\beta)} & \\cdots & a_{1 M_{\\beta}}^{(\\alpha \\beta)} \\\\\n",
    "\\vdots & & \\vdots \\\\\n",
    "a_{N_{\\alpha} 1}^{(\\alpha \\beta)} & \\cdots & a_{N_{\\alpha} M_{\\beta}}^{(\\alpha \\beta)}\n",
    "\\end{bmatrix} \\: .\n",
    "$$"
   ]
  },
  {
   "cell_type": "markdown",
   "metadata": {},
   "source": [
    "The matrix $\\mathbf{A}$, formed by the submatrices $\\mathbf{A}_{\\alpha \\beta}$, is an example of **block matrix**. The figure below shows an example of a block matrix $\\mathbf{A}$ and its tranpose $\\mathbf{A}^{\\top}$, where $q = 2$, $r = 3$, $M = M_{1} + M_{2} + M_{3}$ and $N = N_{1} + N_{2}$."
   ]
  },
  {
   "cell_type": "markdown",
   "metadata": {},
   "source": [
    "<img src='block_matrices_1.png' width = 700>"
   ]
  },
  {
   "cell_type": "markdown",
   "metadata": {},
   "source": [
    "### Multiplying a block matrix by a scalar"
   ]
  },
  {
   "cell_type": "markdown",
   "metadata": {},
   "source": [
    "It can be easily shown that:"
   ]
  },
  {
   "cell_type": "markdown",
   "metadata": {},
   "source": [
    "$$\n",
    "\\mu \\mathbf{A} = \\begin{bmatrix}\n",
    "\\mu \\mathbf{A}_{11} & \\cdots & \\mu \\mathbf{A}_{1r} \\\\\n",
    "\\vdots & & \\vdots  \\\\\n",
    "\\mu \\mathbf{A}_{q1} & \\cdots & \\mu \\mathbf{A}_{qr}\n",
    "\\end{bmatrix} \\: ,\n",
    "$$"
   ]
  },
  {
   "cell_type": "markdown",
   "metadata": {},
   "source": [
    "where $\\mu$ is a constant. "
   ]
  },
  {
   "cell_type": "markdown",
   "metadata": {},
   "source": [
    "### Adding two block matrices"
   ]
  },
  {
   "cell_type": "markdown",
   "metadata": {},
   "source": [
    "Let's consider another $N \\times M$ matrix $\\mathbf{B}$ given by:"
   ]
  },
  {
   "cell_type": "markdown",
   "metadata": {},
   "source": [
    "$$\\mathbf{B} \n",
    "= \\begin{bmatrix}\n",
    "\\mathbf{B}_{11} & \\cdots & \\mathbf{B}_{1r} \\\\\n",
    "\\vdots & & \\vdots  \\\\\n",
    "\\mathbf{B}_{q1} & \\cdots & \\mathbf{B}_{qr}\n",
    "\\end{bmatrix} \\: ,\n",
    "$$"
   ]
  },
  {
   "cell_type": "markdown",
   "metadata": {},
   "source": [
    "where $\\mathbf{B}_{\\alpha \\beta}$ are $N_{\\alpha} \\times M_{\\beta}$ submatrices, $\\alpha = 1, \\dots, q$, $\\beta = 1, \\dots, r$, defined as follows:"
   ]
  },
  {
   "cell_type": "markdown",
   "metadata": {},
   "source": [
    "$$\n",
    "\\mathbf{B}_{\\alpha \\beta} =\n",
    "\\begin{bmatrix}\n",
    "b_{11}^{(\\alpha \\beta)} & \\cdots & b_{1 M_{\\beta}}^{(\\alpha \\beta)} \\\\\n",
    "\\vdots & & \\vdots \\\\\n",
    "b_{N_{\\alpha} 1}^{(\\alpha \\beta)} & \\cdots & b_{N_{\\alpha} M_{\\beta}}^{(\\alpha \\beta)}\n",
    "\\end{bmatrix} \\: .\n",
    "$$"
   ]
  },
  {
   "cell_type": "markdown",
   "metadata": {},
   "source": [
    "Notice that, in this case, a resultant $N \\times M$ matrix $\\mathbf{C}$ can be defined by adding the submatrices $\\mathbf{A}_{\\alpha \\beta}$ and $\\mathbf{B}_{\\alpha \\beta}$, so that:"
   ]
  },
  {
   "cell_type": "markdown",
   "metadata": {},
   "source": [
    "$$\\mathbf{C} \n",
    "= \\begin{bmatrix}\n",
    "\\mathbf{C}_{11} & \\cdots & \\mathbf{C}_{1r} \\\\\n",
    "\\vdots & & \\vdots  \\\\\n",
    "\\mathbf{C}_{q1} & \\cdots & \\mathbf{C}_{qr}\n",
    "\\end{bmatrix} \\: ,\n",
    "$$"
   ]
  },
  {
   "cell_type": "markdown",
   "metadata": {},
   "source": [
    "where $\\mathbf{C_{\\alpha \\beta}} = \\mathbf{A}_{\\alpha \\beta} + \\mathbf{B}_{\\alpha \\beta}$, $\\alpha = 1, \\dots, q$, $\\beta = 1, \\dots, r$.\n",
    "\n",
    "**Be careful!**\n",
    "\n",
    "The next figure illustrates three block matrices $\\mathbf{A}$, $\\mathbf{B}$ and $\\mathbf{D}$. These three matrices are $N \\times M$. Let's consider a resultant matrix obtained by adding the elements of $\\mathbf{A}$ and $\\mathbf{B}$. In this case, the submatrices forming $\\mathbf{A}$ and $\\mathbf{B}$ have exactly the same shape. Consequently, the resultant matrix $\\mathbf{C}$ can be defined by adding the submatrices of $\\mathbf{A}$ and $\\mathbf{B}$. Consider now the case in which a matrix $\\mathbf{C}$ is obtained by adding the block matrices $\\mathbf{A}$ and $\\mathbf{D}$. In this case, the resultant matrix $\\mathbf{C}$ cannot be defined by adding the submatrices of $\\mathbf{A}$ and $\\mathbf{D}$ because they do not have exactly the same shape. However, it is still possible to define $\\mathbf{C}$ as the sum of $\\mathbf{A}$ and $\\mathbf{D}$ because these two block matrices are $N \\times M$."
   ]
  },
  {
   "cell_type": "markdown",
   "metadata": {},
   "source": [
    "<img src='block_matrices_2.png' width = 700>"
   ]
  },
  {
   "cell_type": "markdown",
   "metadata": {},
   "source": [
    "### Product of two block matrices"
   ]
  },
  {
   "cell_type": "markdown",
   "metadata": {},
   "source": [
    "Let $\\mathbf{A}$ and $\\mathbf{B}$ be two block matrices given by\n",
    "\n",
    "$$\\mathbf{A} \n",
    "= \\begin{bmatrix}\n",
    "\\mathbf{A}_{11} & \\cdots & \\mathbf{A}_{1r} \\\\\n",
    "\\vdots & & \\vdots  \\\\\n",
    "\\mathbf{A}_{q1} & \\cdots & \\mathbf{A}_{qr}\n",
    "\\end{bmatrix}\n",
    "$$\n",
    "\n",
    "and\n",
    "\n",
    "$$\\mathbf{B} \n",
    "= \\begin{bmatrix}\n",
    "\\mathbf{B}_{11} & \\cdots & \\mathbf{B}_{1s} \\\\\n",
    "\\vdots & & \\vdots  \\\\\n",
    "\\mathbf{B}_{r1} & \\cdots & \\mathbf{B}_{rs}\n",
    "\\end{bmatrix} \\: ,\n",
    "$$\n",
    "\n",
    "where $\\mathbf{A}_{\\alpha \\beta}$ and $\\mathbf{B}_{\\beta \\gamma}$ are, respectively, $N_{\\alpha} \\times M_{\\beta}$ and $M_{\\beta} \\times L_{\\gamma}$ submatrices, $\\alpha = 1, \\dots, q$, $\\beta = 1, \\dots, r$, $\\gamma = 1, \\dots, s$,\n",
    "\n",
    "$$\n",
    "N = \\sum_{\\alpha = 1}^{q} N_{\\alpha} \\: ,\n",
    "$$\n",
    "\n",
    "$$\n",
    "M = \\sum_{\\beta = 1}^{r} M_{\\beta}\n",
    "$$\n",
    "\n",
    "and\n",
    "\n",
    "$$\n",
    "L = \\sum_{\\gamma = 1}^{s} L_{\\gamma} \\: .\n",
    "$$"
   ]
  },
  {
   "cell_type": "markdown",
   "metadata": {},
   "source": [
    "In this case, the resultant $N \\times L$ matrix $\\mathbf{C}$ obtained by the product $\\mathbf{A}\\mathbf{B}$ is given by\n",
    "\n",
    "$$\\mathbf{C} \n",
    "= \\begin{bmatrix}\n",
    "\\mathbf{C}_{11} & \\cdots & \\mathbf{C}_{1s} \\\\\n",
    "\\vdots & & \\vdots  \\\\\n",
    "\\mathbf{C}_{q1} & \\cdots & \\mathbf{C}_{qs}\n",
    "\\end{bmatrix} \\: ,\n",
    "$$\n",
    "\n",
    "where $\\mathbf{C}_{\\alpha \\gamma}$ are $N_{\\alpha} \\times L_{\\gamma}$ submatrices."
   ]
  },
  {
   "cell_type": "markdown",
   "metadata": {},
   "source": [
    "The figure below shows a particular case in which the resultant matrix $\\matrix{C}$ is given by\n",
    "\n",
    "$$\n",
    "\\mathbf{C} = \\begin{bmatrix}\n",
    "\\mathbf{C}_{11} & \\mathbf{C}_{12} \\\\\n",
    "\\mathbf{C}_{21} & \\mathbf{C}_{22}\n",
    "\\end{bmatrix} \\: ,\n",
    "$$\n",
    "\n",
    "where\n",
    "\n",
    "$$\n",
    "\\mathbf{C}_{\\alpha \\beta} = \\sum_{\\beta = 1}^{3} \\mathbf{A}_{\\alpha\\beta} \\mathbf{B}_{\\beta\\gamma} \\: .\n",
    "$$\n",
    "\n",
    "The figure below also illustrates how the submatrix $\\mathbf{C}_{11}$ is computed. "
   ]
  },
  {
   "cell_type": "markdown",
   "metadata": {
    "collapsed": true
   },
   "source": [
    "<img src='block_matrices_3.png' width = 700>"
   ]
  },
  {
   "cell_type": "markdown",
   "metadata": {},
   "source": [
    "Let's now consider two particular cases. In both cases, the matrices $\\mathbf{B}$ and $\\mathbf{C}$ are replaced by vectors $\\mathbf{b}$ and $\\mathbf{c}$, respectively, as follows:"
   ]
  },
  {
   "cell_type": "markdown",
   "metadata": {},
   "source": [
    "$$\n",
    "\\mathbf{A} \\mathbf{b} = \\mathbf{c} \\: .\n",
    "$$"
   ]
  },
  {
   "cell_type": "markdown",
   "metadata": {},
   "source": [
    "In the first case, the matrix $\\mathbf{A}$ is partitioned into columns and the vector $\\mathbf{b}$ is divided into three vectors:"
   ]
  },
  {
   "cell_type": "markdown",
   "metadata": {},
   "source": [
    "<img src='block_matrices_4.png' width = 700>"
   ]
  },
  {
   "cell_type": "markdown",
   "metadata": {},
   "source": [
    "Consider an $N \\times M$ matrix $\\mathbf{A}$ formed by $r$ blocks with $M_{\\beta}$ columns each, $\\beta = 1, \\dots, r$, $M = \\sum\\limits_{\\beta = 1}^{r} M_{\\beta}$."
   ]
  },
  {
   "cell_type": "markdown",
   "metadata": {},
   "source": [
    "In the next example, the matrix $\\mathbf{A}$ is partitioned into rows and the vector $\\mathbf{c}$ is divided into two vectors:"
   ]
  },
  {
   "cell_type": "markdown",
   "metadata": {},
   "source": [
    "<img src='block_matrices_5.png' width = 700>"
   ]
  },
  {
   "cell_type": "markdown",
   "metadata": {},
   "source": [
    "Consider an $N \\times M$ matrix $\\mathbf{A}$ formed by $q$ blocks with $N_{\\alpha}$ rows each, $\\alpha = 1, \\dots, q$, $N = \\sum\\limits_{\\alpha = 1}^{q} N_{\\alpha}$."
   ]
  },
  {
   "cell_type": "markdown",
   "metadata": {},
   "source": [
    "### Exercise"
   ]
  },
  {
   "cell_type": "markdown",
   "metadata": {},
   "source": [
    "Let $\\mathbf{A}$ and $\\mathbf{B}$ be two complex matrices given by:\n",
    "\n",
    "$$\n",
    "\\mathbf{A} = \\tilde{\\mathbf{A}} + i \\, \\breve{\\mathbf{A}}\n",
    "$$\n",
    "\n",
    "and\n",
    "\n",
    "$$\n",
    "\\mathbf{B} = \\tilde{\\mathbf{B}} + i \\, \\breve{\\mathbf{B}} \\: ,\n",
    "$$\n",
    "\n",
    "where $i = \\sqrt{-1}$. "
   ]
  },
  {
   "cell_type": "markdown",
   "metadata": {},
   "source": [
    "Let's consider that the complex matrix $\\mathbf{C} = \\tilde{\\mathbf{C}} + i \\, \\breve{\\mathbf{C}}$ obtained by the product of $\\mathbf{A}$ and $\\mathbf{B}$. In this case, show that the relationship between the submatrices $\\tilde{\\mathbf{A}}$, $\\tilde{\\mathbf{B}}$, $\\tilde{\\mathbf{C}}$, $\\breve{\\mathbf{A}}$, $\\breve{\\mathbf{B}}$ and $\\breve{\\mathbf{C}}$ is given by:\n",
    "\n",
    "$$\n",
    "\\begin{bmatrix}\n",
    "\\tilde{\\mathbf{C}} \\\\\n",
    "\\breve{\\mathbf{C}}\n",
    "\\end{bmatrix} =\n",
    "\\begin{bmatrix}\n",
    "\\tilde{\\mathbf{A}} & -\\breve{\\mathbf{A}} \\\\\n",
    "\\breve{\\mathbf{A}} &  \\tilde{\\mathbf{A}}\n",
    "\\end{bmatrix}\n",
    "\\begin{bmatrix}\n",
    "\\tilde{\\mathbf{B}} \\\\\n",
    "\\breve{\\mathbf{B}}\n",
    "\\end{bmatrix} \\: .\n",
    "$$"
   ]
  },
  {
   "cell_type": "markdown",
   "metadata": {},
   "source": [
    "If instead of a matrix $\\mathbf{B}$ we have a vector\n",
    "\n",
    "$$\n",
    "\\mathbf{b} = \\tilde{\\mathbf{b}} + i \\, \\breve{\\mathbf{b}} \\: ,\n",
    "$$\n",
    "\n",
    "the relationship given above can be simplified as follows:\n",
    "\n",
    "$$\n",
    "\\begin{bmatrix}\n",
    "\\tilde{\\mathbf{c}} \\\\\n",
    "\\breve{\\mathbf{c}}\n",
    "\\end{bmatrix} =\n",
    "\\begin{bmatrix}\n",
    "\\tilde{\\mathbf{A}} & -\\breve{\\mathbf{A}} \\\\\n",
    "\\breve{\\mathbf{A}} &  \\tilde{\\mathbf{A}}\n",
    "\\end{bmatrix}\n",
    "\\begin{bmatrix}\n",
    "\\tilde{\\mathbf{b}} \\\\\n",
    "\\breve{\\mathbf{b}}\n",
    "\\end{bmatrix} \\: ,\n",
    "$$\n",
    "\n",
    "where $\\tilde{\\mathbf{c}}$ and $\\breve{\\mathbf{c}}$ are the real and imaginary parts of the resulting vector $\\mathbf{c}$."
   ]
  },
  {
   "cell_type": "markdown",
   "metadata": {},
   "source": [
    "#### Dealing with complex arrays"
   ]
  },
  {
   "cell_type": "code",
   "execution_count": 1,
   "metadata": {},
   "outputs": [],
   "source": [
    "import numpy as np"
   ]
  },
  {
   "cell_type": "code",
   "execution_count": 2,
   "metadata": {},
   "outputs": [],
   "source": [
    "N = 5"
   ]
  },
  {
   "cell_type": "code",
   "execution_count": 3,
   "metadata": {},
   "outputs": [],
   "source": [
    "A_real = 10*np.around(np.random.rand(N,N), decimals=3)\n",
    "A_imaginary = 10*np.around(np.random.rand(N,N), decimals=3)"
   ]
  },
  {
   "cell_type": "code",
   "execution_count": 4,
   "metadata": {},
   "outputs": [
    {
     "data": {
      "text/plain": [
       "array([[0.08, 3.02, 0.1 , 0.5 , 8.22],\n",
       "       [1.86, 6.69, 1.5 , 9.79, 0.49],\n",
       "       [4.75, 2.27, 5.66, 0.33, 7.47],\n",
       "       [6.57, 8.55, 2.71, 9.92, 7.6 ],\n",
       "       [3.15, 1.76, 2.31, 2.77, 6.98]])"
      ]
     },
     "execution_count": 4,
     "metadata": {},
     "output_type": "execute_result"
    }
   ],
   "source": [
    "A_real"
   ]
  },
  {
   "cell_type": "code",
   "execution_count": 5,
   "metadata": {},
   "outputs": [
    {
     "data": {
      "text/plain": [
       "array([[3.  , 3.08, 0.77, 8.84, 6.41],\n",
       "       [4.46, 3.37, 6.99, 4.28, 0.14],\n",
       "       [0.09, 6.51, 9.78, 6.65, 0.5 ],\n",
       "       [0.41, 4.92, 0.72, 0.08, 7.4 ],\n",
       "       [7.77, 1.45, 9.32, 8.96, 3.42]])"
      ]
     },
     "execution_count": 5,
     "metadata": {},
     "output_type": "execute_result"
    }
   ],
   "source": [
    "A_imaginary"
   ]
  },
  {
   "cell_type": "code",
   "execution_count": 6,
   "metadata": {},
   "outputs": [],
   "source": [
    "A = A_real + 1j*A_imaginary"
   ]
  },
  {
   "cell_type": "code",
   "execution_count": 7,
   "metadata": {},
   "outputs": [
    {
     "data": {
      "text/plain": [
       "array([[0.08+3.j  , 3.02+3.08j, 0.1 +0.77j, 0.5 +8.84j, 8.22+6.41j],\n",
       "       [1.86+4.46j, 6.69+3.37j, 1.5 +6.99j, 9.79+4.28j, 0.49+0.14j],\n",
       "       [4.75+0.09j, 2.27+6.51j, 5.66+9.78j, 0.33+6.65j, 7.47+0.5j ],\n",
       "       [6.57+0.41j, 8.55+4.92j, 2.71+0.72j, 9.92+0.08j, 7.6 +7.4j ],\n",
       "       [3.15+7.77j, 1.76+1.45j, 2.31+9.32j, 2.77+8.96j, 6.98+3.42j]])"
      ]
     },
     "execution_count": 7,
     "metadata": {},
     "output_type": "execute_result"
    }
   ],
   "source": [
    "A"
   ]
  },
  {
   "cell_type": "code",
   "execution_count": 8,
   "metadata": {},
   "outputs": [
    {
     "data": {
      "text/plain": [
       "array([[0.08, 3.02, 0.1 , 0.5 , 8.22],\n",
       "       [1.86, 6.69, 1.5 , 9.79, 0.49],\n",
       "       [4.75, 2.27, 5.66, 0.33, 7.47],\n",
       "       [6.57, 8.55, 2.71, 9.92, 7.6 ],\n",
       "       [3.15, 1.76, 2.31, 2.77, 6.98]])"
      ]
     },
     "execution_count": 8,
     "metadata": {},
     "output_type": "execute_result"
    }
   ],
   "source": [
    "A.real"
   ]
  },
  {
   "cell_type": "code",
   "execution_count": 9,
   "metadata": {},
   "outputs": [
    {
     "data": {
      "text/plain": [
       "array([[3.  , 3.08, 0.77, 8.84, 6.41],\n",
       "       [4.46, 3.37, 6.99, 4.28, 0.14],\n",
       "       [0.09, 6.51, 9.78, 6.65, 0.5 ],\n",
       "       [0.41, 4.92, 0.72, 0.08, 7.4 ],\n",
       "       [7.77, 1.45, 9.32, 8.96, 3.42]])"
      ]
     },
     "execution_count": 9,
     "metadata": {},
     "output_type": "execute_result"
    }
   ],
   "source": [
    "A.imag"
   ]
  },
  {
   "cell_type": "code",
   "execution_count": 13,
   "metadata": {},
   "outputs": [
    {
     "data": {
      "text/plain": [
       "array([[0.08-3.j  , 3.02-3.08j, 0.1 -0.77j, 0.5 -8.84j, 8.22-6.41j],\n",
       "       [1.86-4.46j, 6.69-3.37j, 1.5 -6.99j, 9.79-4.28j, 0.49-0.14j],\n",
       "       [4.75-0.09j, 2.27-6.51j, 5.66-9.78j, 0.33-6.65j, 7.47-0.5j ],\n",
       "       [6.57-0.41j, 8.55-4.92j, 2.71-0.72j, 9.92-0.08j, 7.6 -7.4j ],\n",
       "       [3.15-7.77j, 1.76-1.45j, 2.31-9.32j, 2.77-8.96j, 6.98-3.42j]])"
      ]
     },
     "execution_count": 13,
     "metadata": {},
     "output_type": "execute_result"
    }
   ],
   "source": [
    "np.conjugate(A)"
   ]
  },
  {
   "cell_type": "code",
   "execution_count": 14,
   "metadata": {},
   "outputs": [
    {
     "data": {
      "text/plain": [
       "array([[0.08-3.j  , 1.86-4.46j, 4.75-0.09j, 6.57-0.41j, 3.15-7.77j],\n",
       "       [3.02-3.08j, 6.69-3.37j, 2.27-6.51j, 8.55-4.92j, 1.76-1.45j],\n",
       "       [0.1 -0.77j, 1.5 -6.99j, 5.66-9.78j, 2.71-0.72j, 2.31-9.32j],\n",
       "       [0.5 -8.84j, 9.79-4.28j, 0.33-6.65j, 9.92-0.08j, 2.77-8.96j],\n",
       "       [8.22-6.41j, 0.49-0.14j, 7.47-0.5j , 7.6 -7.4j , 6.98-3.42j]])"
      ]
     },
     "execution_count": 14,
     "metadata": {},
     "output_type": "execute_result"
    }
   ],
   "source": [
    "np.conjugate(A).T"
   ]
  },
  {
   "cell_type": "code",
   "execution_count": null,
   "metadata": {},
   "outputs": [],
   "source": []
  }
 ],
 "metadata": {
  "anaconda-cloud": {},
  "kernelspec": {
   "display_name": "Python 3",
   "language": "python",
   "name": "python3"
  },
  "language_info": {
   "codemirror_mode": {
    "name": "ipython",
    "version": 3
   },
   "file_extension": ".py",
   "mimetype": "text/x-python",
   "name": "python",
   "nbconvert_exporter": "python",
   "pygments_lexer": "ipython3",
   "version": "3.7.7"
  }
 },
 "nbformat": 4,
 "nbformat_minor": 1
}
