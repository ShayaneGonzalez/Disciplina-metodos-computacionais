{
 "cells": [
  {
   "cell_type": "markdown",
   "metadata": {},
   "source": [
    "# 2D Fourier Transform"
   ]
  },
  {
   "cell_type": "markdown",
   "metadata": {},
   "source": [
    "The **2D Fourier Transform** for functions depending on two variables $x$ and $y$ can be defined as follows:"
   ]
  },
  {
   "cell_type": "markdown",
   "metadata": {},
   "source": [
    "<a id='eq1'></a>\n",
    "\n",
    "$$\n",
    "G(u, v) = \\int \\limits_{-\\infty}^{\\infty} \\int \\limits_{-\\infty}^{\\infty} \n",
    "g(x, y) \\, e^{\\, -i \\, 2 \\, \\pi \\, \\left( u \\, x + v \\, y \\right)} \\; dx \\, dy \\tag{1}\n",
    "$$"
   ]
  },
  {
   "cell_type": "markdown",
   "metadata": {},
   "source": [
    "and the **2D Inverse Fourier Transform** is given by:"
   ]
  },
  {
   "cell_type": "markdown",
   "metadata": {},
   "source": [
    "<a id='eq2'></a>\n",
    "\n",
    "$$\n",
    "g(x, y) = \\int \\limits_{-\\infty}^{\\infty} \\int \\limits_{-\\infty}^{\\infty} \n",
    "G(u, v) \\, e^{\\, i \\, 2 \\, \\pi \\, \\left( u \\, x + v \\, y \\right)} \\; du \\, dv  \\quad ,\\tag{2}\n",
    "$$"
   ]
  },
  {
   "cell_type": "markdown",
   "metadata": {},
   "source": [
    "where $u$ and $v$ are the coordinates in the Fourier domain (the frequencies)."
   ]
  },
  {
   "cell_type": "markdown",
   "metadata": {},
   "source": [
    "Now, lets discretize these integrals by following an approach similar to that used for the 1D case (notebook `fourier_1D_4`). Lets begin with the integral shown in [equation 1](#eq1):"
   ]
  },
  {
   "cell_type": "markdown",
   "metadata": {},
   "source": [
    "<a id='eq3'></a>\n",
    "\n",
    "$$\n",
    "x_{j} = j \\, \\Delta x \\: , \\quad j = 0, \\dots, M-1 \\tag{3}\n",
    "$$"
   ]
  },
  {
   "cell_type": "markdown",
   "metadata": {},
   "source": [
    "<a id='eq4'></a>\n",
    "\n",
    "$$\n",
    "y_{k} = k \\, \\Delta y \\: , \\quad k = 0, \\dots, N-1 \\tag{4}\n",
    "$$"
   ]
  },
  {
   "cell_type": "markdown",
   "metadata": {},
   "source": [
    "<a id='eq5'></a>\n",
    "\n",
    "$$\n",
    "u_{m} = \\frac{m}{M \\, \\Delta x} \\: , \\quad m = -\\frac{M}{2}, \\dots, \\frac{M}{2} - 1 \\tag{5}\n",
    "$$"
   ]
  },
  {
   "cell_type": "markdown",
   "metadata": {},
   "source": [
    "<a id='eq6'></a>\n",
    "\n",
    "$$\n",
    "v_{n} = \\frac{n}{N \\, \\Delta y} \\: , \\quad n = -\\frac{N}{2}, \\dots, \\frac{N}{2} - 1 \\tag{6}\n",
    "$$"
   ]
  },
  {
   "cell_type": "markdown",
   "metadata": {},
   "source": [
    "<a id='eq7a'></a>\n",
    "\n",
    "$$\n",
    "\\begin{split}\n",
    "G(u_{m}, v_{n}) \n",
    "&\\approx \\sum\\limits_{j=0}^{M-1}\\sum\\limits_{k=0}^{N-1} g(x_{j},y_{k})e^{- i 2 \\pi (u_{m}x_{j} + v_{n}y_{k})} \n",
    "\\Delta x \\Delta y \\\\\n",
    "&\\approx \\Delta x \\Delta y \\sum\\limits_{j=0}^{M-1}\\sum\\limits_{k=0}^{N-1} g(x_{j},y_{k}) \n",
    "e^{- i 2 \\pi (\\frac{m j}{M} + \\frac{n k}{N})} \\\\\n",
    "&\\approx \\Delta x \\Delta y \\sum\\limits_{j=0}^{M-1}\\sum\\limits_{k=0}^{N-1} g_{jk} \n",
    "e^{- i 2 \\pi m j / M} e^{- i 2 \\pi n k / N} \\\\\n",
    "\\end{split} \\tag{7a}\n",
    "$$"
   ]
  },
  {
   "cell_type": "markdown",
   "metadata": {},
   "source": [
    "<a id='eq7b'></a>\n",
    "\n",
    "$$\n",
    "G_{mn} = \\sum\\limits_{j=0}^{M-1}\\sum\\limits_{k=0}^{N-1} g_{jk} w_{M}^{(mj)} w_{N}^{(nk)} \\tag{7b}\n",
    "$$"
   ]
  },
  {
   "cell_type": "markdown",
   "metadata": {},
   "source": [
    "where $G_{mn} \\equiv \\frac{G(u_{m}, v_{n})}{\\Delta x \\Delta y}$ ,"
   ]
  },
  {
   "cell_type": "markdown",
   "metadata": {},
   "source": [
    "<a id='eq7c'></a>\n",
    "\n",
    "$$\n",
    "w_{M} = e^{- i 2 \\pi / M} \\tag{7c}\n",
    "$$"
   ]
  },
  {
   "cell_type": "markdown",
   "metadata": {},
   "source": [
    "and"
   ]
  },
  {
   "cell_type": "markdown",
   "metadata": {},
   "source": [
    "<a id='eq7d'></a>\n",
    "\n",
    "$$\n",
    "w_{N} = e^{- i 2 \\pi / N} \\quad . \\tag{7d}\n",
    "$$"
   ]
  },
  {
   "cell_type": "markdown",
   "metadata": {},
   "source": [
    " Now, by discretizing [equation 2](#eq2), we obtain:"
   ]
  },
  {
   "cell_type": "markdown",
   "metadata": {},
   "source": [
    "<a id='eq8a'></a>\n",
    "\n",
    "$$\n",
    "\\begin{split}\n",
    "g_{jk} \n",
    "&\\approx \\sum\\limits_{m=-\\frac{M}{2}}^{\\frac{M}{2}-1}\\sum\\limits_{n=-\\frac{N}{2}}^{\\frac{N}{2}-1} \n",
    "G(u_{m},v_{n}) e^{i 2 \\pi (u_{m}x_{j} + v_{n}y_{k})} \n",
    "\\frac{1}{M \\, \\Delta x} \\frac{1}{N \\, \\Delta y} \\\\\n",
    "&\\approx \\frac{1}{M \\, N} \\sum\\limits_{m=-\\frac{M}{2}}^{\\frac{M}{2}-1}\\sum\\limits_{n=-\\frac{N}{2}}^{\\frac{N}{2}-1} \n",
    "\\frac{G(u_{m},v_{n})}{\\Delta x \\, \\Delta y}\n",
    "e^{i 2 \\pi (\\frac{m j}{M} + \\frac{n k}{N})} \\\\\n",
    "&\\approx \\frac{1}{M \\, N} \\sum\\limits_{m=-\\frac{M}{2}}^{\\frac{M}{2}-1}\\sum\\limits_{n=-\\frac{N}{2}}^{\\frac{N}{2}-1} \n",
    "G_{mn} \\, \\tilde{w}_{M}^{(mj)} \\, \\tilde{w}_{N}^{(nk)} \\\\\n",
    "\\end{split} \\quad , \\tag{8a}\n",
    "$$"
   ]
  },
  {
   "cell_type": "markdown",
   "metadata": {},
   "source": [
    "where"
   ]
  },
  {
   "cell_type": "markdown",
   "metadata": {},
   "source": [
    "<a id='eq7c'></a>\n",
    "\n",
    "$$\n",
    "\\tilde{w}_{M} = e^{i 2 \\pi / M} \\tag{8b}\n",
    "$$"
   ]
  },
  {
   "cell_type": "markdown",
   "metadata": {},
   "source": [
    "and"
   ]
  },
  {
   "cell_type": "markdown",
   "metadata": {},
   "source": [
    "<a id='eq8c'></a>\n",
    "\n",
    "$$\n",
    "\\tilde{w}_{N} = e^{i 2 \\pi / N} \\quad . \\tag{8c}\n",
    "$$"
   ]
  },
  {
   "cell_type": "markdown",
   "metadata": {},
   "source": [
    "In order to better understand the equations [7b](#eq7b) and [8a](#eq8a), lets analyze the relationship between the elements $g_{j k}$, $G_{m n}$ and the indices $j$, $m$, $n$ and $k$."
   ]
  },
  {
   "cell_type": "markdown",
   "metadata": {},
   "source": [
    "As you may have noticed, equations [7b](#eq7b) and [8a](#eq8a) show that $G_{mn}$ and $g_{jk}$ are elements of $M \\times N$ matrices $\\mathbf{G}$ and $\\mathbf{g}$, respectively. Besides, equations [3](#eq3) and [5](#eq5) establish a relationship between indices $j$ and $m$ and equations [4](#eq4) and [6](#eq6) establish a relationship between indices $k$ and $n$. Similarly to the 1D case, the product of these indices defines the exponent of complex exponentials $e^{\\pm i 2 \\pi m j / M}$ and $e^{\\pm i 2 \\pi n k / N}$."
   ]
  },
  {
   "cell_type": "markdown",
   "metadata": {},
   "source": [
    "See the file `fourier_2D_example.pdf` to understand the relationship between the elements $G_{mn}$, $g_{jk}$ and the indices $j$, $m$, $n$ and $k$. This relationship results in a reorganization of the indices $mn$, so that the summation in [equation 8a](#eq8a) can be rewritten as follows:"
   ]
  },
  {
   "cell_type": "markdown",
   "metadata": {},
   "source": [
    "<a id='eq8b'></a>\n",
    "\n",
    "$$\n",
    "g_{jk} \\approx \\frac{1}{M \\, N}\\sum\\limits_{m=0}^{M-1}\\sum\\limits_{n=0}^{N-1} \n",
    "G_{mn} \\, \\tilde{w}_{M}^{(mj)} \\, \\tilde{w}_{N}^{(nk)}\n",
    "\\quad . \\tag{8b}\n",
    "$$"
   ]
  },
  {
   "cell_type": "markdown",
   "metadata": {},
   "source": [
    "After reorganizing the indices, we can see that [equation 7b](#eq7b) can be rewritten in matrix form: "
   ]
  },
  {
   "cell_type": "markdown",
   "metadata": {},
   "source": [
    "<a id='eq9'></a>\n",
    "\n",
    "$$\n",
    "\\mathbf{G} = \\mathbf{H}_{M} \\, \\mathbf{g} \\, \\mathbf{H}_{N} \\: , \\tag{9}\n",
    "$$"
   ]
  },
  {
   "cell_type": "markdown",
   "metadata": {},
   "source": [
    "where $\\mathbf{G}$ is an $M \\times N$ matrix containing the DFT, $\\mathbf{g}$ is an $M \\times N$ matrix containing the data and $\\mathbf{H}_{M}$ and $\\mathbf{H}_{N}$ are the Fourier matrices (see the notebook `fourier_1D_4`) of order $M$ and $N$, respectively. [Equation 9](#eq9) represents the 2D Discrete Fourier Transform (**2D DFT**). Similarly, we can see that  [equation 8b](#eq8b) can also be rewritten in matrix form:"
   ]
  },
  {
   "cell_type": "markdown",
   "metadata": {},
   "source": [
    "<a id='eq10'></a>\n",
    "\n",
    "$$\n",
    "\\mathbf{g} = \\mathbf{H}_{M}^{-1} \\, \\mathbf{G} \\, \\mathbf{H}_{N}^{-1} \\quad . \\tag{10}\n",
    "$$"
   ]
  },
  {
   "cell_type": "markdown",
   "metadata": {},
   "source": [
    "[Equation 10](#eq10) represents the 2D Inverse Discrete Fourier Transform (**2D IDFT**)."
   ]
  },
  {
   "cell_type": "markdown",
   "metadata": {},
   "source": [
    "<a id='ex1'></a>\n",
    "\n",
    "### Exercise 1"
   ]
  },
  {
   "cell_type": "markdown",
   "metadata": {},
   "source": [
    "1. In your functions file, create a function called `fft2D`. The function must receive the data matrix $\\mathbf{g}$ and the string `scale` representing the scale factor $s$ (the same defined for your function `DFT_matrix` - see the notebook `fourier_1D_4.ipynb`). Your function `fft2D` must return the Discrete Fourier Transform of $\\mathbf{g}$. This function must create the DFT matrices $\\mathbf{H}_{M}$ and $\\mathbf{H}_{N}$ (see the notebook `fourier_1D_4.ipynb`) by using your function `DFT_matrix` and must compute the matrix-matrix products by using your function `matmat_complex`.\n",
    "2. In your test file, create one test for the function `fft2D`. This test must compare the result produced by `fft2D` and the result produced by the routine [`scipy.fft.fft2`](https://docs.scipy.org/doc/scipy/reference/generated/scipy.fft.fft2.html) by using the three possible scale factors."
   ]
  },
  {
   "cell_type": "markdown",
   "metadata": {},
   "source": [
    "<a id='ex2'></a>\n",
    "\n",
    "### Exercise 2"
   ]
  },
  {
   "cell_type": "markdown",
   "metadata": {},
   "source": [
    "3. In your functions file, create a function called `ifft2D`. The function must receive a complex matrix $\\mathbf{G}$ and the string `scale` representing the scale factor $s$ (the same defined for your functions `DFT_matrix` and `fft2D` - see the notebook `fourier_1D_4.ipynb`). Your function `ifft2D` must return the Inverse Discrete Fourier Transform of $\\mathbf{G}$. This function must create the DFT matrices $\\mathbf{H}_{M}^{-1}$ and $\\mathbf{H}_{N}^{-1}$ (see the notebook `fourier_1D_4.ipynb`) by using your function `DFT_matrix` and must compute the matrix-matrix products by using your function `matmat_complex`.\n",
    "4. In your test file, create two tests for the function `ifft2D`. The first test must compare the result produced by `ifft2D` and the result produced by the routine [`scipy.fft.ifft2`](https://docs.scipy.org/doc/scipy/reference/generated/scipy.fft.ifft2.html). The second test must create a real data matrix $\\mathbf{g}$, compute its DFT $\\mathbf{G}$ with your function `fft2D` and then compare the computed the IDFT of $\\mathbf{G}$ with the original vector $\\mathbf{g}$ by using your function `ifft2D`."
   ]
  },
  {
   "cell_type": "code",
   "execution_count": 1,
   "metadata": {},
   "outputs": [],
   "source": [
    "from scipy.linalg import dft\n",
    "import numpy as np"
   ]
  },
  {
   "cell_type": "code",
   "execution_count": 2,
   "metadata": {},
   "outputs": [],
   "source": [
    "from numpy.linalg import multi_dot as mdot"
   ]
  },
  {
   "cell_type": "code",
   "execution_count": 3,
   "metadata": {},
   "outputs": [],
   "source": [
    "from scipy.fft import fft2, ifft2"
   ]
  },
  {
   "cell_type": "code",
   "execution_count": 4,
   "metadata": {},
   "outputs": [],
   "source": [
    "M = 7\n",
    "N = 11"
   ]
  },
  {
   "cell_type": "code",
   "execution_count": 5,
   "metadata": {},
   "outputs": [],
   "source": [
    "HM = dft(M, scale=None)"
   ]
  },
  {
   "cell_type": "code",
   "execution_count": 6,
   "metadata": {},
   "outputs": [],
   "source": [
    "HN = dft(N, scale=None)"
   ]
  },
  {
   "cell_type": "code",
   "execution_count": 7,
   "metadata": {},
   "outputs": [],
   "source": [
    "A = np.random.rand(M, N)"
   ]
  },
  {
   "cell_type": "code",
   "execution_count": 8,
   "metadata": {},
   "outputs": [],
   "source": [
    "FTA = fft2(A)"
   ]
  },
  {
   "cell_type": "code",
   "execution_count": 9,
   "metadata": {},
   "outputs": [],
   "source": [
    "FTA2 = mdot([HM, A, HN])"
   ]
  },
  {
   "cell_type": "code",
   "execution_count": 10,
   "metadata": {},
   "outputs": [
    {
     "data": {
      "text/plain": [
       "True"
      ]
     },
     "execution_count": 10,
     "metadata": {},
     "output_type": "execute_result"
    }
   ],
   "source": [
    "np.allclose(FTA, FTA2)"
   ]
  },
  {
   "cell_type": "code",
   "execution_count": 11,
   "metadata": {},
   "outputs": [],
   "source": [
    "IFTA = ifft2(FTA)"
   ]
  },
  {
   "cell_type": "code",
   "execution_count": 12,
   "metadata": {},
   "outputs": [],
   "source": [
    "IFTA2 = (1/(N*M))*mdot([np.conjugate(HM), FTA2, np.conjugate(HN)])"
   ]
  },
  {
   "cell_type": "code",
   "execution_count": 13,
   "metadata": {},
   "outputs": [
    {
     "data": {
      "text/plain": [
       "True"
      ]
     },
     "execution_count": 13,
     "metadata": {},
     "output_type": "execute_result"
    }
   ],
   "source": [
    "np.allclose(IFTA, IFTA2)"
   ]
  },
  {
   "cell_type": "code",
   "execution_count": null,
   "metadata": {},
   "outputs": [],
   "source": []
  }
 ],
 "metadata": {
  "anaconda-cloud": {},
  "kernelspec": {
   "display_name": "Python 3",
   "language": "python",
   "name": "python3"
  },
  "language_info": {
   "codemirror_mode": {
    "name": "ipython",
    "version": 3
   },
   "file_extension": ".py",
   "mimetype": "text/x-python",
   "name": "python",
   "nbconvert_exporter": "python",
   "pygments_lexer": "ipython3",
   "version": "3.7.7"
  }
 },
 "nbformat": 4,
 "nbformat_minor": 1
}
