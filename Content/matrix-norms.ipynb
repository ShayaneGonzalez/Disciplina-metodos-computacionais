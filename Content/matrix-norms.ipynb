{
 "cells": [
  {
   "cell_type": "markdown",
   "metadata": {},
   "source": [
    "# Matrix norms"
   ]
  },
  {
   "cell_type": "markdown",
   "metadata": {},
   "source": [
    "See Golub and Van Loan (2013, sec. 2.3)."
   ]
  },
  {
   "cell_type": "markdown",
   "metadata": {},
   "source": [
    "## Definition"
   ]
  },
  {
   "cell_type": "markdown",
   "metadata": {},
   "source": [
    "Let $\\mathbf{A}$ be a $N \\times M$ matrix given by:"
   ]
  },
  {
   "cell_type": "markdown",
   "metadata": {},
   "source": [
    "$$\n",
    "\\mathbf{A} = \\begin{bmatrix}\n",
    "a_{00} & a_{01} & \\cdots & a_{0(M-1)} \\\\\n",
    "a_{10} & a_{11} & \\cdots & a_{1(M-1)} \\\\\n",
    "\\vdots & \\vdots &  & \\vdots \\\\\n",
    "a_{(N-1)0} & a_{(N-1)1} & \\cdots & a_{(N-1)(M-1)}\n",
    "\\end{bmatrix}_{\\, N \\times M} \\quad .\n",
    "$$"
   ]
  },
  {
   "cell_type": "markdown",
   "metadata": {},
   "source": [
    "A [matrix norm](http://mathworld.wolfram.com/MatrixNorm.html) is a scalar function $f(\\mathbf{A})$ satisfying the folllowing conditions:\n",
    "\n",
    "$$\n",
    "\\begin{split}\n",
    "f(\\mathbf{A}) > 0 & \\: , \\quad \\mathbf{A} \\in \\mathbb{R}^{N \\times M}, \\quad f(\\mathbf{A}) = 0 \\:\\: \\text{iff} \\:\\: A_{ij} = 0, \\quad \\forall \\: i, j \\\\\n",
    "f(\\mathbf{A} + \\mathbf{B}) \\leq f(\\mathbf{A}) + f(\\mathbf{B}) & \\: , \\quad \\mathbf{A}, \\mathbf{B} \\in \\mathbb{R}^{N \\times M} \\\\\n",
    "f(\\alpha \\, \\mathbf{A}) \\leq \\: \\mid \\alpha \\mid \\, f(\\mathbf{A}) & \\: , \\quad \\mathbf{A} \\in \\mathbb{R}^{N \\times M}, \\:\\: \\alpha \\in \\mathbb{R}\n",
    "\\end{split}\n",
    "$$"
   ]
  },
  {
   "cell_type": "markdown",
   "metadata": {},
   "source": [
    "A famous matrix norm is the Frobenius norm $\\| \\mathbf{A} \\|_{F}$:\n",
    "\n",
    "$$\n",
    "\\begin{split}\n",
    "\\| \\mathbf{A} \\|_{F} &= \\sqrt{\\sum\\limits_{i = 0}^{N-1}\\sum\\limits_{j = 0}^{M-1} \\mid a_{ij} \\mid^{2}} \\\\\n",
    "&= \\sqrt{\\mathrm{Tr}\\left(\\mathbf{A}^{\\top}\\mathbf{A}\\right)}\n",
    "\\end{split} \\quad .\n",
    "$$"
   ]
  },
  {
   "cell_type": "markdown",
   "metadata": {},
   "source": [
    "Similarly to vector norms, there is also an important class of matrix norms called $p$-norms. Three important norms are: "
   ]
  },
  {
   "cell_type": "markdown",
   "metadata": {},
   "source": [
    "#### 2-norm (p = 2)\n",
    "\n",
    "$$\n",
    "\\| \\mathbf{A} \\|_{2} = \\sqrt{\\sigma_{max} \\left(\\mathbf{A}^{\\top}\\mathbf{A} \\right)}\n",
    "$$"
   ]
  },
  {
   "cell_type": "markdown",
   "metadata": {},
   "source": [
    "#### 1-norm (p = 1)\n",
    "\n",
    "$$\n",
    "\\| \\mathbf{A} \\|_{1} = \\max\\limits_{0 \\, \\leq \\, j \\, \\leq \\, M-1} \\, \\sum\\limits_{i = 0}^{N-1} \\mid a_{ij} \\mid\n",
    "$$"
   ]
  },
  {
   "cell_type": "markdown",
   "metadata": {},
   "source": [
    "#### $\\infty$-norm (p = $\\infty$)\n",
    "\n",
    "$$\n",
    "\\| \\mathbf{A} \\|_{\\infty} = \\max\\limits_{0 \\, \\leq \\, i \\, \\leq \\, N-1} \\, \\sum\\limits_{j = 0}^{M-1} \\mid a_{ij} \\mid\n",
    "$$"
   ]
  },
  {
   "cell_type": "markdown",
   "metadata": {},
   "source": [
    "## Inequalities"
   ]
  },
  {
   "cell_type": "markdown",
   "metadata": {},
   "source": [
    "Property of $p$-norms\n",
    "\n",
    "$$\n",
    "\\| \\mathbf{A} \\, \\mathbf{x} \\|_{p} \\leq \\| \\mathbf{A} \\|_{p} \\| \\mathbf{x} \\|_{p}\n",
    "$$"
   ]
  },
  {
   "cell_type": "markdown",
   "metadata": {},
   "source": [
    "Relationships between Frobenius, $2$, $1$ and $\\infty$ norms\n",
    "\n",
    "$$\n",
    "\\| \\mathbf{A} \\|_{2} \\leq \\| \\mathbf{A} \\|_{F} \\leq \\sqrt{\\text{min} \\, (N, M)} \\; \\| \\mathbf{A} \\|_{2}\n",
    "$$\n",
    "\n",
    "$$\n",
    "\\| \\mathbf{A} \\|_{2} \\leq \\sqrt{\\| \\mathbf{A} \\|_{1} \\, \\| \\mathbf{A} \\|_{\\infty}}\n",
    "$$\n",
    "\n",
    "$$\n",
    "\\frac{1}{\\sqrt{M}} \\, \\| \\mathbf{A} \\|_{\\infty} \\leq \\| \\mathbf{A} \\|_{2} \\leq \\sqrt{N} \\, \\| \\mathbf{A} \\|_{\\infty}\n",
    "$$\n",
    "\n",
    "$$\n",
    "\\frac{1}{\\sqrt{N}} \\, \\| \\mathbf{A} \\|_{1} \\leq \\| \\mathbf{A} \\|_{2} \\leq \\sqrt{M} \\, \\| \\mathbf{A} \\|_{1}\n",
    "$$"
   ]
  },
  {
   "cell_type": "markdown",
   "metadata": {},
   "source": [
    "### Exercise (optional)"
   ]
  },
  {
   "cell_type": "markdown",
   "metadata": {},
   "source": [
    "Implement a function `mat_norm` and its corresponding tests."
   ]
  },
  {
   "cell_type": "code",
   "execution_count": null,
   "metadata": {},
   "outputs": [],
   "source": []
  }
 ],
 "metadata": {
  "kernelspec": {
   "display_name": "Python 3 (ipykernel)",
   "language": "python",
   "name": "python3"
  },
  "language_info": {
   "codemirror_mode": {
    "name": "ipython",
    "version": 3
   },
   "file_extension": ".py",
   "mimetype": "text/x-python",
   "name": "python",
   "nbconvert_exporter": "python",
   "pygments_lexer": "ipython3",
   "version": "3.11.8"
  }
 },
 "nbformat": 4,
 "nbformat_minor": 4
}
