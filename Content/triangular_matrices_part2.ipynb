{
 "cells": [
  {
   "cell_type": "markdown",
   "metadata": {},
   "source": [
    "# Triangular matrices - part 2"
   ]
  },
  {
   "cell_type": "markdown",
   "metadata": {},
   "source": [
    "Consider the two $N \\times N$ triangular matrices given below:"
   ]
  },
  {
   "cell_type": "markdown",
   "metadata": {},
   "source": [
    "$$\\mathbf{U} \n",
    "= \\left[ \\begin{array}{ccccc}\n",
    "u_{00} & u_{01} & u_{02} & \\cdots & u_{0(N-1)} \\\\\n",
    "       & u_{11} & u_{12} & \\cdots & u_{1(N-1)} \\\\\n",
    "       &        & u_{22} & \\cdots & u_{2(N-1)}  \\\\\n",
    "       &        &        & \\ddots & \\vdots  \\\\\n",
    "       &        &        &        & u_{(N-1)(N-1)}\n",
    "\\end{array} \\right]\n",
    "$$"
   ]
  },
  {
   "cell_type": "markdown",
   "metadata": {},
   "source": [
    "and"
   ]
  },
  {
   "cell_type": "markdown",
   "metadata": {},
   "source": [
    "$$\n",
    "\\mathbf{L} \n",
    "= \\left[ \\begin{array}{ccccc}\n",
    "l_{00} & & & & \\\\\n",
    "\\vdots & \\ddots & & & \\\\\n",
    "l_{(N-3)0} & \\cdots & l_{(N-3)(N-3)} & &\\\\\n",
    "l_{(N-2)0} & \\cdots & l_{(N-2)(N-3)} & l_{(N-2)(N-2)} &\\\\\n",
    "l_{(N-1)0} & \\cdots & l_{(N-1)(N-3)} & l_{(N-1)(N-2)} & l_{(N-1)(N-1)}\n",
    "\\end{array} \\right] \\: .\n",
    "$$"
   ]
  },
  {
   "cell_type": "markdown",
   "metadata": {},
   "source": [
    "As we can see, they have several elements equal to zero. Let's consider that the matrices $\\mathbf{U}$ and $\\mathbf{L}$ are reorganized, respectively, into vectors $\\mathbf{u}$ and $\\mathbf{l}$, row by row, as follows:"
   ]
  },
  {
   "cell_type": "markdown",
   "metadata": {},
   "source": [
    "$$\n",
    "\\mathbf{u} = \\begin{bmatrix}\n",
    "u_{00} \\\\\n",
    "u_{01} \\\\\n",
    "\\vdots \\\\\n",
    "u_{0(N-1)} \\\\\n",
    "u_{11} \\\\\n",
    "u_{12} \\\\\n",
    "\\vdots \\\\\n",
    "u_{1(N-1)} \\\\\n",
    "\\vdots \\\\\n",
    "u_{(N-1)(N-1)}\n",
    "\\end{bmatrix}_{N(N+1) / 2 \\times 1}\n",
    "$$"
   ]
  },
  {
   "cell_type": "markdown",
   "metadata": {},
   "source": [
    "and"
   ]
  },
  {
   "cell_type": "markdown",
   "metadata": {},
   "source": [
    "$$\n",
    "\\mathbf{l} = \\begin{bmatrix}\n",
    "l_{00} \\\\\n",
    "l_{10} \\\\\n",
    "l_{11} \\\\\n",
    "l_{20} \\\\\n",
    "l_{21} \\\\\n",
    "l_{22} \\\\\n",
    "l_{30} \\\\\n",
    "\\vdots \\\\\n",
    "l_{33} \\\\\n",
    "\\vdots \\\\\n",
    "l_{(N-1)(N-1)}\n",
    "\\end{bmatrix}_{N(N+1) / 2 \\times 1} \\quad .\n",
    "$$"
   ]
  },
  {
   "cell_type": "markdown",
   "metadata": {},
   "source": [
    "Let $\\mathbf{x}$ be a $N \\times 1$ vector given by:"
   ]
  },
  {
   "cell_type": "markdown",
   "metadata": {},
   "source": [
    "$$\\mathbf{x} = \n",
    "\\left[ \\begin{array}{c}\n",
    "x_{0} \\\\\n",
    "\\vdots \\\\\n",
    "x_{(N-1)}\n",
    "\\end{array} \\right] \\: .\n",
    "$$"
   ]
  },
  {
   "cell_type": "markdown",
   "metadata": {},
   "source": [
    "### Exercise (optional)"
   ]
  },
  {
   "cell_type": "markdown",
   "metadata": {},
   "source": [
    "1. In your `my_functions.py` file, create a function called `matvec_triu_opt_prod` to implement the product between the triangular matrix $\\mathbf{U}$ and a vector $\\mathbf{x}$. Your function must receive the vector $\\mathbf{u}$ and the vector $\\mathbf{x}$ and return the resulting vector $\\mathbf{y} = \\mathbf{Ux}$. Notice that $\\mathbf{u}$ must contain the $N(N+1)/2$ non-null elements forming the rows of $\\mathbf{U}$.\n",
    "2. In your `test_my_functions.py` file, create one test for comparing the result produced by `matvec_triu_opt_prod` and that produced by your function `matvec_triu_prod3`.\n",
    "3. In your `my_functions.py` file, create a function called `matvec_tril_opt_prod` to implement the product between the triangular matrix $\\mathbf{L}$ and a vector $\\mathbf{x}$. Your function must receive the vector $\\mathbf{l}$ and the vector $\\mathbf{x}$ and return the resulting vector $\\mathbf{y} = \\mathbf{Lx}$. Notice that $\\mathbf{l}$ must contain the $N(N+1)/2$ non-null elements forming the rows of $\\mathbf{L}$.\n",
    "4. In your `test_my_functions.py` file, create one test for comparing the result produced by `matvec_tril_opt_prod` and that produced by your function `matvec_tril_prod8`."
   ]
  },
  {
   "cell_type": "code",
   "execution_count": null,
   "metadata": {},
   "outputs": [],
   "source": []
  }
 ],
 "metadata": {
  "anaconda-cloud": {},
  "kernelspec": {
   "display_name": "Python 3",
   "language": "python",
   "name": "python3"
  },
  "language_info": {
   "codemirror_mode": {
    "name": "ipython",
    "version": 3
   },
   "file_extension": ".py",
   "mimetype": "text/x-python",
   "name": "python",
   "nbconvert_exporter": "python",
   "pygments_lexer": "ipython3",
   "version": "3.7.7"
  }
 },
 "nbformat": 4,
 "nbformat_minor": 1
}
