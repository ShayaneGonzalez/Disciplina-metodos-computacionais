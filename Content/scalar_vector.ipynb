{
 "cells": [
  {
   "cell_type": "markdown",
   "metadata": {},
   "source": [
    "# Scalar-vector product"
   ]
  },
  {
   "cell_type": "markdown",
   "metadata": {},
   "source": [
    "### Real scalar-vector product"
   ]
  },
  {
   "cell_type": "markdown",
   "metadata": {},
   "source": [
    "Let $a$ be a real number and $\\mathbf{x}$ be an $N \\times 1$ real vector. The product of $a$ and $\\mathbf{x}$ can be defined as follows:"
   ]
  },
  {
   "cell_type": "markdown",
   "metadata": {},
   "source": [
    "$$\n",
    "\\begin{split}\n",
    "\\mathbf{y} &= a \\, \\mathbf{x} \\\\\n",
    "&= \\begin{bmatrix} \n",
    "    a \\, x_{0} \\\\\n",
    "    a \\, x_{1} \\\\\n",
    "    \\vdots \\\\\n",
    "    a \\, x_{N-1}\n",
    " \\end{bmatrix}\n",
    "\\end{split} \\quad .\n",
    "$$"
   ]
  },
  {
   "cell_type": "markdown",
   "metadata": {},
   "source": [
    "A pseudo-code for computing the product $a \\, \\mathbf{x}$ is given by:"
   ]
  },
  {
   "cell_type": "markdown",
   "metadata": {},
   "source": [
    "    scalar_vec_real(a, x):\n",
    "        \n",
    "        # number of elements of x\n",
    "        N = size(x)\n",
    "        \n",
    "        # create a vector with zeros\n",
    "        y = zeros(N)\n",
    "        \n",
    "        # compute the product\n",
    "        for i = 0:N-1\n",
    "            y[i] = a*x[i]\n",
    "        \n",
    "        # return the result\n",
    "        return y"
   ]
  },
  {
   "cell_type": "markdown",
   "metadata": {},
   "source": [
    "### Complex scalar-vector product"
   ]
  },
  {
   "cell_type": "markdown",
   "metadata": {},
   "source": [
    "Let $a = a_{R} + imag \\; a_{I}$ be a complex number and $\\mathbf{x} = \\mathbf{x}_{R} + imag \\; \\mathbf{x}_{I}$ be an $N \\times 1$ complex vector, where $imag = \\sqrt{-1}$ representes the imaginary unit. The product of $a$ and $\\mathbf{x}$ can be defined as follows:"
   ]
  },
  {
   "cell_type": "markdown",
   "metadata": {},
   "source": [
    "$$\n",
    "\\mathbf{y} = \\mathbf{y}_{R} + imag \\; \\mathbf{y}_{I} \\quad ,\n",
    "$$"
   ]
  },
  {
   "cell_type": "markdown",
   "metadata": {},
   "source": [
    "where"
   ]
  },
  {
   "cell_type": "markdown",
   "metadata": {},
   "source": [
    "$$\n",
    "\\mathbf{y}_{R} = a_{R} \\, \\mathbf{x}_{R} - a_{I} \\, \\mathbf{x}_{I} \n",
    "$$"
   ]
  },
  {
   "cell_type": "markdown",
   "metadata": {},
   "source": [
    "and"
   ]
  },
  {
   "cell_type": "markdown",
   "metadata": {},
   "source": [
    "$$\n",
    "\\mathbf{y}_{I} = a_{R} \\, \\mathbf{x}_{I} + a_{I} \\, \\mathbf{x}_{R} \\quad .\n",
    "$$"
   ]
  },
  {
   "cell_type": "markdown",
   "metadata": {},
   "source": [
    "A pseudo-code for computing the complex scalar-vector product can be defined as follows:"
   ]
  },
  {
   "cell_type": "markdown",
   "metadata": {},
   "source": [
    "    scalar_vec_complex(a_R, a_I, x_R, x_I):\n",
    "        \n",
    "        # number of elements of x\n",
    "        N = size(x)\n",
    "        \n",
    "        # create a vectors with zeros\n",
    "        y_R = zeros(N)\n",
    "        y_I = zeros(N)\n",
    "        \n",
    "        # compute the real and imaginary parts of the product\n",
    "        y_R  = scalar_vec_real(a_R, x_R)\n",
    "        y_R -= scalar_vec_real(a_I, x_I)\n",
    "        y_I  = scalar_vec_real(a_R, x_I)\n",
    "        y_I += scalar_vec_real(a_I, x_R)\n",
    "        \n",
    "        # return the result        \n",
    "        return y_R, y_I"
   ]
  },
  {
   "cell_type": "markdown",
   "metadata": {},
   "source": [
    "### (Suggested) Python implementation"
   ]
  },
  {
   "cell_type": "markdown",
   "metadata": {},
   "source": [
    "Take a look in the files `my_functions.py` and `test_my_functions.py`"
   ]
  },
  {
   "cell_type": "markdown",
   "metadata": {},
   "source": [
    "### How fast is your code?"
   ]
  },
  {
   "cell_type": "markdown",
   "metadata": {},
   "source": [
    "Take a look in the notebook `timing_scalar_vector_product.ipynb`"
   ]
  },
  {
   "cell_type": "code",
   "execution_count": null,
   "metadata": {},
   "outputs": [],
   "source": []
  }
 ],
 "metadata": {
  "anaconda-cloud": {},
  "kernelspec": {
   "display_name": "Python 3",
   "language": "python",
   "name": "python3"
  },
  "language_info": {
   "codemirror_mode": {
    "name": "ipython",
    "version": 3
   },
   "file_extension": ".py",
   "mimetype": "text/x-python",
   "name": "python",
   "nbconvert_exporter": "python",
   "pygments_lexer": "ipython3",
   "version": "3.7.7"
  }
 },
 "nbformat": 4,
 "nbformat_minor": 1
}
