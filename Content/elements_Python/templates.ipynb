{
 "cells": [
  {
   "cell_type": "markdown",
   "metadata": {},
   "source": [
    "# Template for functions"
   ]
  },
  {
   "cell_type": "markdown",
   "metadata": {},
   "source": [
    "See the file [`Content/template.py`](https://github.com/birocoles/Disciplina-metodos-computacionais/blob/master/Content/template.py)."
   ]
  },
  {
   "cell_type": "markdown",
   "metadata": {},
   "source": [
    "    import package_bla as pckbla\n",
    "    import package_ble as pckble\n",
    "    import package_bli as pckbli\n",
    "\n",
    "\n",
    "    def my_function(input1, input2):\n",
    "\n",
    "        '''\n",
    "        Description of the function.\n",
    "\n",
    "\n",
    "        input\n",
    "\n",
    "        input1: variable type - description of the variable\n",
    "        input2: variable type - description of the variable    \n",
    "\n",
    "\n",
    "        output\n",
    "\n",
    "        output1: variable type - description of the variable\n",
    "        output2: variable type - description of the variable\n",
    "\n",
    "\n",
    "        '''\n",
    "\n",
    "        # create variables\n",
    "\n",
    "        # define assert statements\n",
    "        assert 'statement A' and 'statement B', 'error message 1'\n",
    "        assert 'statement A' == 'statement B', 'error message 2'\n",
    "        assert 'statement A' != 'statement B', 'error message 3'\n",
    "        assert 'statement A' <= 'statement B', 'error message 4'\n",
    "        assert 'statement A' or 'statement B', 'error message 5'\n",
    "\n",
    "        # your code\n",
    "        a = pckbla.function(...)\n",
    "        b = pckble.function(...)\n",
    "        for i in range ...\n",
    "            c = a*pckbli.function(b)\n",
    "        ...\n",
    "\n",
    "        return output1, output2, ..."
   ]
  },
  {
   "cell_type": "markdown",
   "metadata": {},
   "source": [
    "# Template for tests"
   ]
  },
  {
   "cell_type": "markdown",
   "metadata": {},
   "source": [
    "See the file [`Content/test_template.py`](https://github.com/birocoles/Disciplina-metodos-computacionais/blob/master/Content/test_template.py)."
   ]
  },
  {
   "cell_type": "markdown",
   "metadata": {},
   "source": [
    "    import my_functions as mf\n",
    "    import numpy as np\n",
    "    from numpy.testing import assert_almost_equal as aae\n",
    "    from pytest import raises\n",
    "\n",
    "\n",
    "    def test_my_function1():\n",
    "\n",
    "        'Function must return a specific result given a specific input'\n",
    "\n",
    "        specific_input = ...\n",
    "        expected_result = ...\n",
    "        my_result = mf.my_function1(...)\n",
    "        \n",
    "        aae(my_result, expected_result, decimal=15)\n",
    "\n",
    "\n",
    "    def test_my_function2():\n",
    "\n",
    "        'Function must raise an AssertionError for a specific input'\n",
    "\n",
    "        # parameter values\n",
    "        p1 = ...\n",
    "        p2 = ...\n",
    "        p3 = ...\n",
    "        \n",
    "        raises(AssertionError, mf.my_function2, parameter1=p1, parameter2=p2, parameter3=p3)\n"
   ]
  },
  {
   "cell_type": "markdown",
   "metadata": {},
   "source": [
    "# Notes"
   ]
  },
  {
   "cell_type": "markdown",
   "metadata": {},
   "source": [
    "The test function `test_my_function2` shown above presumes that the function `mf.my_function2` is defined as follows:\n",
    "\n",
    "    def my_function2(parameter1, parameter2, parameter3):\n",
    "        ...\n",
    "        assert ...\n",
    "        return ..."
   ]
  },
  {
   "cell_type": "markdown",
   "metadata": {},
   "source": [
    "Do not use [Tab](https://en.wikipedia.org/wiki/Tab_key) in your code. Replace a Tab by 4 spaces. Use only [ASCII characters](https://en.wikipedia.org/wiki/ASCII#Printable_characters)."
   ]
  },
  {
   "cell_type": "code",
   "execution_count": null,
   "metadata": {},
   "outputs": [],
   "source": []
  }
 ],
 "metadata": {
  "anaconda-cloud": {},
  "kernelspec": {
   "display_name": "Python 3 (ipykernel)",
   "language": "python",
   "name": "python3"
  },
  "language_info": {
   "codemirror_mode": {
    "name": "ipython",
    "version": 3
   },
   "file_extension": ".py",
   "mimetype": "text/x-python",
   "name": "python",
   "nbconvert_exporter": "python",
   "pygments_lexer": "ipython3",
   "version": "3.11.8"
  }
 },
 "nbformat": 4,
 "nbformat_minor": 4
}
