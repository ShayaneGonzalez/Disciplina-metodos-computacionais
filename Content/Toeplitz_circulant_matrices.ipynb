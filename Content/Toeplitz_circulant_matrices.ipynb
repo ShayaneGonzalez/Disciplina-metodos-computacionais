{
 "cells": [
  {
   "cell_type": "markdown",
   "metadata": {},
   "source": [
    "# Matrix-vector products with Toeplitz and Circulant matrices\n",
    "\n",
    "This notebook illustrates algoritmhs for computing the matrix-vector product for the cases in which the matrix is Toeplitz or Circulant.\n",
    "\n",
    "#### References\n",
    "\n",
    "* Jain, A. K. (1989), Fundamentals of Digital Image Processing, Prentice Hall, ISBN 978-0-13-336165-0.\n",
    "\n",
    "* Horn, R. A. and C. R. Johnson, (1991), Topics in Matrix Analysis, Cambridge University Press, ISBN 978-0-521-46713-1.\n",
    "\n",
    "* Chan, R. H. and X-Q Jin (2007), An introduction to iterative Toeplitz solvers, Philadelphia: Society for Industrial and Applied Mathematics, ISBN 978-0-898716-36-8. \n",
    "\n",
    "* Golub, G. H. and C. F. Van Loan, (2013), Matrix computations, 4th edition, Johns Hopkins University Press, ISBN 978-1-4214-0794-4."
   ]
  },
  {
   "cell_type": "markdown",
   "metadata": {},
   "source": [
    "## Topics"
   ]
  },
  {
   "cell_type": "markdown",
   "metadata": {},
   "source": [
    "* [Circulant matrices](#sec1)\n",
    "\n",
    "    * [Circulant matrices are diagonalized by the Fourier matrix](#sec1a)\n",
    "\n",
    "    * [Product of a Circulant matrix $\\mathbf{C}$ and an arbitrary vector $\\mathbf{v}$](#sec1b)\n",
    "\n",
    "* [Toeplitz matrices](#sec2)\n",
    "\n",
    "    * [Arbitrary Toeplitz matrices are not diagonalized by the Fourier matrix](#sec2a)\n",
    "    \n",
    "    * [The Fourier approach used for circulant matrices is not valid for the product of arbitrary Toeplitz matrices and arbitrary vectors](#sec2b)\n",
    "    \n",
    "    * [The Fourier approach used for circulant matrices is valid for the product of some particular Toeplitz matrices and some particular vectors](#sec2c)\n",
    "   \n",
    "* [Arbitrary $N \\times N$ Toeplitz matrices can be embedded into $2N \\times 2N$ circulant matrices](#sec3)\n",
    "\n",
    "    * [Product of an arbitrary Toeplitz matrix $\\mathbf{T}$ and an arbitrary vector $\\mathbf{w}$](#sec3a)"
   ]
  },
  {
   "cell_type": "code",
   "execution_count": 1,
   "metadata": {},
   "outputs": [],
   "source": [
    "import numpy as np\n",
    "import matplotlib.pyplot as plt\n",
    "from scipy.linalg import toeplitz, circulant, dft\n",
    "from scipy.fft import fft, ifft, fft2, ifft2"
   ]
  },
  {
   "cell_type": "markdown",
   "metadata": {},
   "source": [
    "<a id='sec1'></a>\n",
    "## Circulant matrices"
   ]
  },
  {
   "cell_type": "markdown",
   "metadata": {},
   "source": [
    "A $N \\times N$ **circulant** matrix $\\mathbf{C}$ is a particular Toeplitz matrix that can be defined in terms of its first column $\\mathbf{c}_{0}$, as follows:"
   ]
  },
  {
   "cell_type": "markdown",
   "metadata": {},
   "source": [
    "<a id='eq1'></a>\n",
    "$$\n",
    "\\mathbf{C} = c_{00} \\, \\mathbf{I} + c_{10} \\, \\mathbf{D} + c_{20} \\, \\mathbf{D}^{2} + ... + c_{(N-1)0} \\, \\mathbf{D}^{N-1} \\: , \\tag{1}\n",
    "$$"
   ]
  },
  {
   "cell_type": "markdown",
   "metadata": {},
   "source": [
    "where $\\mathbf{I}$ is the identity matrix and $\\mathbf{D}$ is the *downshift permutation matrix* (Golub and Van Loan, 2013, p. 220). For $N = 4$, the downshift permutation matrix is given by:"
   ]
  },
  {
   "cell_type": "markdown",
   "metadata": {},
   "source": [
    "<a id='eq2a'></a>\n",
    "$$\n",
    "\\mathbf{D} = \\begin{bmatrix}\n",
    "0 & 0 & 0 & 1 \\\\\n",
    "1 & 0 & 0 & 0 \\\\\n",
    "0 & 1 & 0 & 0 \\\\\n",
    "0 & 0 & 1 & 0\n",
    "\\end{bmatrix} \\quad , \\tag{2a}\n",
    "$$\n",
    "\n",
    "<a id='eq2b'></a>\n",
    "$$\n",
    "\\mathbf{D}^{2} = \\begin{bmatrix}\n",
    "0 & 0 & 1 & 0 \\\\\n",
    "0 & 0 & 0 & 1 \\\\\n",
    "1 & 0 & 0 & 0 \\\\\n",
    "0 & 1 & 0 & 0\n",
    "\\end{bmatrix} \\quad , \\tag{2b}\n",
    "$$\n",
    "\n",
    "<a id='eq2c'></a>\n",
    "$$\n",
    "\\mathbf{D}^{3} = \\begin{bmatrix}\n",
    "0 & 1 & 0 & 0 \\\\\n",
    "0 & 0 & 1 & 0 \\\\\n",
    "0 & 0 & 0 & 1 \\\\\n",
    "1 & 0 & 0 & 0\n",
    "\\end{bmatrix} \\quad . \\tag{2c}\n",
    "$$"
   ]
  },
  {
   "cell_type": "code",
   "execution_count": 2,
   "metadata": {},
   "outputs": [
    {
     "name": "stdout",
     "output_type": "stream",
     "text": [
      "[0 1 2 3 4]\n"
     ]
    }
   ],
   "source": [
    "x = np.arange(5)\n",
    "print(x)"
   ]
  },
  {
   "cell_type": "code",
   "execution_count": 3,
   "metadata": {},
   "outputs": [],
   "source": [
    "D = np.roll(np.identity(5), shift=1, axis=0)"
   ]
  },
  {
   "cell_type": "code",
   "execution_count": 4,
   "metadata": {},
   "outputs": [
    {
     "name": "stdout",
     "output_type": "stream",
     "text": [
      "[[0. 0. 0. 0. 1.]\n",
      " [1. 0. 0. 0. 0.]\n",
      " [0. 1. 0. 0. 0.]\n",
      " [0. 0. 1. 0. 0.]\n",
      " [0. 0. 0. 1. 0.]]\n"
     ]
    }
   ],
   "source": [
    "print(D)"
   ]
  },
  {
   "cell_type": "code",
   "execution_count": 5,
   "metadata": {},
   "outputs": [
    {
     "name": "stdout",
     "output_type": "stream",
     "text": [
      "[4. 0. 1. 2. 3.]\n"
     ]
    }
   ],
   "source": [
    "print(np.dot(D, x))"
   ]
  },
  {
   "cell_type": "code",
   "execution_count": 6,
   "metadata": {},
   "outputs": [],
   "source": [
    "N = 5\n",
    "#col_C = np.round(2*np.random.rand(N) - 1, decimals=2)\n",
    "col_C = np.linspace(-1, 1, N)"
   ]
  },
  {
   "cell_type": "code",
   "execution_count": 7,
   "metadata": {},
   "outputs": [],
   "source": [
    "C = circulant(col_C)"
   ]
  },
  {
   "cell_type": "code",
   "execution_count": 8,
   "metadata": {},
   "outputs": [
    {
     "name": "stdout",
     "output_type": "stream",
     "text": [
      "[[-1.   1.   0.5  0.  -0.5]\n",
      " [-0.5 -1.   1.   0.5  0. ]\n",
      " [ 0.  -0.5 -1.   1.   0.5]\n",
      " [ 0.5  0.  -0.5 -1.   1. ]\n",
      " [ 1.   0.5  0.  -0.5 -1. ]]\n"
     ]
    }
   ],
   "source": [
    "print(C)"
   ]
  },
  {
   "cell_type": "code",
   "execution_count": 9,
   "metadata": {},
   "outputs": [
    {
     "data": {
      "image/png": "[encoded data removed]",
      "text/plain": [
       "<Figure size 288x288 with 2 Axes>"
      ]
     },
     "metadata": {
      "needs_background": "light"
     },
     "output_type": "display_data"
    }
   ],
   "source": [
    "plt.close('all')\n",
    "plt.matshow(C, vmin = -1, vmax = 1, cmap='gist_rainbow_r')\n",
    "plt.colorbar()\n",
    "plt.xticks(ticks=np.arange(N-1)+0.5, labels=[])\n",
    "plt.yticks(ticks=np.arange(N-1)+0.5, labels=[])\n",
    "plt.grid(color='k', linewidth=2)\n",
    "plt.show()"
   ]
  },
  {
   "cell_type": "markdown",
   "metadata": {},
   "source": [
    "<a id='sec1a'></a>\n",
    "### Circulant matrices are diagonalized by the Fourier matrix"
   ]
  },
  {
   "cell_type": "markdown",
   "metadata": {},
   "source": [
    "The eigenvalues of a [**circulant matrix**](https://en.wikipedia.org/wiki/Circulant_matrix) can be computed by using the 1D Discrete Fourier Transform (DFT)."
   ]
  },
  {
   "cell_type": "markdown",
   "metadata": {},
   "source": [
    "Let's consider a $N \\times 1$ data vector $\\mathbf{d}$. The DFT of $\\tilde{\\mathbf{d}}$ can be computed as follows:\n",
    "\n",
    "<a id='eq3a'></a>\n",
    "$$\n",
    "\\tilde{\\mathbf{d}} = \\mathbf{H} \\, \\mathbf{d} \\: , \\tag{3a}\n",
    "$$\n",
    "\n",
    "where \n",
    "\n",
    "<a id='eq3b'></a>\n",
    "$$\n",
    "\\mathbf{H} = \\tfrac{1}{\\sqrt{N}} \\, \\mathbf{F}_{N} \\quad . \\tag{3b}\n",
    "$$"
   ]
  },
  {
   "cell_type": "code",
   "execution_count": 10,
   "metadata": {},
   "outputs": [],
   "source": [
    "H = dft(N, scale='sqrtn')"
   ]
  },
  {
   "cell_type": "markdown",
   "metadata": {},
   "source": [
    "Here, we compute the DFT by using the scale factor $\\tfrac{1}{\\sqrt{N}}$, where $N$ is the number of data.\n",
    "\n",
    "This scale factor makes the DFT matrix $\\mathbf{H}$ ([equation 3b](#eq3b)) [**unitary**](https://en.wikipedia.org/wiki/Unitary_matrix), with inverse given by $\\mathbf{H}^{-1} = \\mathbf{H}^{H}$, where $\\mathbf{H}^{H}$ is its [**conjugate transpose**](https://en.wikipedia.org/wiki/Conjugate_transpose) (see the notebook `fourier_1D_4`)."
   ]
  },
  {
   "cell_type": "code",
   "execution_count": 12,
   "metadata": {},
   "outputs": [
    {
     "data": {
      "text/plain": [
       "True"
      ]
     },
     "execution_count": 12,
     "metadata": {},
     "output_type": "execute_result"
    }
   ],
   "source": [
    "np.allclose(np.dot(np.conjugate(H).T, H), np.identity(N))"
   ]
  },
  {
   "cell_type": "markdown",
   "metadata": {},
   "source": [
    "Besides, it can be shown that $\\mathbf{H}^{H} = \\mathbf{H}^{\\ast}$ (Golub and Van Loan, 2013), where $\\mathbf{H}^{\\ast}$ is the [**conjugate matrix**](http://mathworld.wolfram.com/ConjugateMatrix.html) of $\\mathbf{H}$."
   ]
  },
  {
   "cell_type": "code",
   "execution_count": 13,
   "metadata": {},
   "outputs": [
    {
     "data": {
      "text/plain": [
       "True"
      ]
     },
     "execution_count": 13,
     "metadata": {},
     "output_type": "execute_result"
    }
   ],
   "source": [
    "np.allclose(np.conjugate(H).T, np.conjugate(H))"
   ]
  },
  {
   "cell_type": "markdown",
   "metadata": {},
   "source": [
    "In this case, the product $\\mathbf{H}^{\\ast}\\mathbf{H} = \\mathbf{H}\\mathbf{H}^{\\ast} = \\mathbf{I}$"
   ]
  },
  {
   "cell_type": "code",
   "execution_count": 14,
   "metadata": {},
   "outputs": [
    {
     "data": {
      "text/plain": [
       "True"
      ]
     },
     "execution_count": 14,
     "metadata": {},
     "output_type": "execute_result"
    }
   ],
   "source": [
    "np.allclose(np.dot(np.conjugate(H), H), np.identity(N))"
   ]
  },
  {
   "cell_type": "markdown",
   "metadata": {},
   "source": [
    "As a consequence, the Inverse Discrete Fourier Transform (IDFT) can be defined as follows:\n",
    "\n",
    "<a id='eq4'></a>\n",
    "$$\n",
    "\\mathbf{d} = \\mathbf{H}^{\\ast} \\tilde{\\mathbf{d}} \\: . \\tag{4}\n",
    "$$"
   ]
  },
  {
   "cell_type": "markdown",
   "metadata": {},
   "source": [
    "It can be shown that the DFT matrix $\\mathbf{H}$ ([equation 3b](#eq3b)) diagonalizes a circulant matrix $\\mathbf{C}$ ([equation 1](#eq1)). It means that the matrix $\\mathbf{C}$ satisfies the following equation:\n",
    "\n",
    "<a id='eq5'></a>\n",
    "$$\n",
    "\\mathbf{C} = \\mathbf{H}^{\\ast}\\boldsymbol{\\Lambda}\\mathbf{H} \\: , \\tag{5}\n",
    "$$\n",
    "\n",
    "where $\\boldsymbol{\\Lambda}$ is a diagonal matrix containing the eigenvalues of $\\mathbf{C}$."
   ]
  },
  {
   "cell_type": "markdown",
   "metadata": {},
   "source": [
    "By properly manipulating the [equation 5](#eq5), "
   ]
  },
  {
   "cell_type": "markdown",
   "metadata": {},
   "source": [
    "$$\n",
    "\\begin{split}\n",
    "\\mathbf{H} \\, \\mathbf{C} &= \\boldsymbol{\\Lambda} \\, \\mathbf{H} \\\\\n",
    "\\mathbf{H} \\, \\mathbf{C} \\, \\mathbf{u}_{0} &= \\boldsymbol{\\Lambda} \\, \\mathbf{H} \\, \\mathbf{u}_{0} \\\\\n",
    "\\mathbf{H} \\, \\mathbf{c}_{0} &= \\boldsymbol{\\Lambda} \\, \\frac{1}{\\sqrt{N}}\\mathbf{1}_{N} \\\\\n",
    "\\end{split} \\quad ,\n",
    "$$\n",
    "\n",
    "which results in the following equation:\n",
    "\n",
    "<a id='eq6'></a>\n",
    "$$\n",
    "\\sqrt{N} \\, \\mathbf{H} \\, \\mathbf{c}_{0} = \\boldsymbol{\\lambda}\n",
    "\\quad , \\tag{6}\n",
    "$$"
   ]
  },
  {
   "cell_type": "markdown",
   "metadata": {},
   "source": [
    "where $\\mathbf{u}_{0}$ is an $N \\times 1$ vector with first element equal to $1$ and all the remaining elements equal to $0$, $\\mathbf{c}_{0}$ is the first column of $\\mathbf{C}$, $\\mathbf{1}_{N}$ is an $N \\times 1$ with all elements equal to 1 and $\\boldsymbol{\\lambda}$ is a vector containing the diagonal of $\\boldsymbol{\\Lambda}$ (the eigenvalues of $\\mathbf{C}$).\n",
    "\n",
    "[Equation 6](#eq6) shows that the eigenvalues of $\\mathbf{C}$ can be computed as the DFT of its first column."
   ]
  },
  {
   "cell_type": "code",
   "execution_count": 15,
   "metadata": {},
   "outputs": [],
   "source": [
    "# vector containing the eigenvalues of C\n",
    "lambda_C = np.sqrt(N)*np.dot(H, C[:,0])"
   ]
  },
  {
   "cell_type": "code",
   "execution_count": 16,
   "metadata": {},
   "outputs": [],
   "source": [
    "# diagonal matrix containing the eigenvalues of C\n",
    "Lambda_C = np.diag(lambda_C)"
   ]
  },
  {
   "cell_type": "code",
   "execution_count": 17,
   "metadata": {},
   "outputs": [],
   "source": [
    "# alternative C\n",
    "C2 = np.linalg.multi_dot([np.conjugate(H), Lambda_C, H]).real"
   ]
  },
  {
   "cell_type": "code",
   "execution_count": 18,
   "metadata": {},
   "outputs": [
    {
     "data": {
      "text/plain": [
       "True"
      ]
     },
     "execution_count": 18,
     "metadata": {},
     "output_type": "execute_result"
    }
   ],
   "source": [
    "# compare the original circulant matrix C and its alternative form\n",
    "np.allclose(C, C2)"
   ]
  },
  {
   "cell_type": "markdown",
   "metadata": {},
   "source": [
    "<a id='sec1b'></a>\n",
    "### Product of a Circulant matrix $\\mathbf{C}$ and arbitrary vector $\\mathbf{v}$"
   ]
  },
  {
   "cell_type": "markdown",
   "metadata": {},
   "source": [
    "Let $\\mathbf{v}$ be an arbitrary $N \\times 1$ vector. From [equation 5](#eq5), we can show that the product of a circulant matrix $\\mathbf{C}$ ([equation 1](#eq1)) and an arbitrary vector $\\mathbf{v}$ is given by:"
   ]
  },
  {
   "cell_type": "markdown",
   "metadata": {},
   "source": [
    "<a id='eq7'></a>\n",
    "$$\n",
    "\\begin{split}\n",
    "\\mathbf{C} \\, \\mathbf{v} \n",
    "&= \\mathbf{H}^{\\ast} \\, \\boldsymbol{\\Lambda} \\, \n",
    "\\overbrace{\\left( \\mathbf{H} \\, \\mathbf{v} \\right)}^{\\text{DFT of } \\mathbf{v}} \\\\\n",
    "&= \\mathbf{H}^{\\ast} \n",
    "\\underbrace{\\left( \\boldsymbol{\\lambda} \\circ \\tilde{\\mathbf{v}} \\right)}_{\\text{Hadamard product}}\n",
    "\\end{split} \\quad . \\tag{7}\n",
    "$$"
   ]
  },
  {
   "cell_type": "markdown",
   "metadata": {},
   "source": [
    "As we can see, the product $\\mathbf{C} \\, \\mathbf{v}$ is the IDFT of $\\boldsymbol{\\lambda} \\circ \\tilde{\\mathbf{v}}$, where $\\boldsymbol{\\lambda}$ is the vector containing the eigenvalues of $\\mathbf{C}$ and $\\tilde{\\mathbf{v}}$ is the DFT of $\\mathbf{v}$."
   ]
  },
  {
   "cell_type": "code",
   "execution_count": 19,
   "metadata": {},
   "outputs": [],
   "source": [
    "# create a vector v\n",
    "v = np.random.rand(N)\n",
    "\n",
    "# compute the product of C and v\n",
    "C_v_matvec = np.dot(C, v)\n",
    "\n",
    "# compute the DFT of v\n",
    "DFT_v = np.dot(H, v)\n",
    "\n",
    "# compute the product of IDFT matrix and the vector obtained from \n",
    "# the Hadamard product of the vetor lambda_C (containing the eigenvalues of C)\n",
    "# and the DFt of v\n",
    "C_v_DFT = np.dot(np.conjugate(H), lambda_C*DFT_v)"
   ]
  },
  {
   "cell_type": "code",
   "execution_count": 20,
   "metadata": {},
   "outputs": [
    {
     "data": {
      "text/plain": [
       "True"
      ]
     },
     "execution_count": 20,
     "metadata": {},
     "output_type": "execute_result"
    }
   ],
   "source": [
    "np.allclose(C_v_matvec, C_v_DFT)"
   ]
  },
  {
   "cell_type": "markdown",
   "metadata": {},
   "source": [
    "<a id='sec2'></a>\n",
    "## Toeplitz matrices"
   ]
  },
  {
   "cell_type": "markdown",
   "metadata": {},
   "source": [
    "Matrices whose entries are constant along each diagonal arise in many applications and are called **Toeplitz** matrices. A $4 \\times 4$ Toeplitz matrix $\\mathbf{T}$ can be represented as follows:\n",
    "\n",
    "<a id='eq8'></a>\n",
    "$$\n",
    "\\mathbf{T} = \\begin{bmatrix}\n",
    "t_{00} & t_{01} & t_{02} & t_{03} \\\\\n",
    "t_{10} & t_{00} & t_{01} & t_{02} \\\\\n",
    "t_{20} & t_{10} & t_{00} & t_{01} \\\\\n",
    "t_{30} & t_{20} & t_{10} & t_{00}\n",
    "\\end{bmatrix} \\quad . \\tag{8}\n",
    "$$"
   ]
  },
  {
   "cell_type": "code",
   "execution_count": 21,
   "metadata": {},
   "outputs": [],
   "source": [
    "N = 10\n",
    "col_T = np.linspace(3, 10, N)\n",
    "row_T = np.linspace(10, 20, N)"
   ]
  },
  {
   "cell_type": "code",
   "execution_count": 22,
   "metadata": {},
   "outputs": [],
   "source": [
    "T = toeplitz(col_T, row_T)"
   ]
  },
  {
   "cell_type": "code",
   "execution_count": 23,
   "metadata": {
    "scrolled": true
   },
   "outputs": [
    {
     "data": {
      "image/png": "[encoded data removed]",
      "text/plain": [
       "<Figure size 288x288 with 2 Axes>"
      ]
     },
     "metadata": {
      "needs_background": "light"
     },
     "output_type": "display_data"
    }
   ],
   "source": [
    "plt.close('all')\n",
    "plt.matshow(T, vmin = 0, vmax = 20, cmap='gist_rainbow_r')\n",
    "plt.colorbar()\n",
    "plt.xticks(ticks=np.arange(N-1)+0.5, labels=[])\n",
    "plt.yticks(ticks=np.arange(N-1)+0.5, labels=[])\n",
    "plt.grid(color='k', linewidth=2)\n",
    "plt.show()"
   ]
  },
  {
   "cell_type": "markdown",
   "metadata": {},
   "source": [
    "<a id='sec2a'></a>\n",
    "### Arbitrary Toeplitz matrices are not diagonalized by the Fourier matrix"
   ]
  },
  {
   "cell_type": "markdown",
   "metadata": {},
   "source": [
    "Differently from circulant matrices ([equation 1](#eq1)), arbitrary $N \\times N$ Toeplitz matrices $\\mathbf{T}$ are not diagonalized by the Fourier matrix $\\mathbf{H}$. It means that we cannot write an [equation 5](#eq5) for the Toeplitz matrix $\\mathbf{T}$, in which the elements of the diagonal matrix $\\boldsymbol{\\Lambda}$ are obtained by computing the Fourier transform of the first column of $\\mathbf{T}$, according to [equation 6](#eq6). In order to illustrate this issue, consider the matrix $\\mathbf{T}^{\\prime}$ given by:"
   ]
  },
  {
   "cell_type": "markdown",
   "metadata": {},
   "source": [
    "<a id='eq9'></a>\n",
    "$$\n",
    "\\mathbf{T}^{\\prime} = \\mathbf{H}^{\\ast} \\, \\boldsymbol{\\Lambda}^{\\prime} \\, \\mathbf{H} \\: , \\tag{9}\n",
    "$$"
   ]
  },
  {
   "cell_type": "markdown",
   "metadata": {},
   "source": [
    "where $\\boldsymbol{\\Lambda}^{\\prime}$ is a diagonal matrix. Besides, consider that the diagonal of $\\boldsymbol{\\Lambda}^{\\prime}$ is defined by the vector $\\boldsymbol{\\lambda}^{\\prime}$:"
   ]
  },
  {
   "cell_type": "markdown",
   "metadata": {},
   "source": [
    "<a id='eq10'></a>\n",
    "$$\n",
    "\\boldsymbol{\\lambda}^{\\prime} = \\sqrt{N} \\, \\mathbf{H} \\, \\mathbf{t}_{0} \\quad , \\tag{10}\n",
    "$$"
   ]
  },
  {
   "cell_type": "markdown",
   "metadata": {},
   "source": [
    "where $\\mathbf{t}_{0}$ is the first column of the $N \\times N$ Toeplitz matrix $\\mathbf{T}$. The cells below show that matrix $\\mathbf{T}^{\\prime}$ is different from the Toeplitz matrix $\\mathbf{T}$."
   ]
  },
  {
   "cell_type": "code",
   "execution_count": 24,
   "metadata": {},
   "outputs": [],
   "source": [
    "# DFT matrix\n",
    "H = dft(N, scale='sqrtn')"
   ]
  },
  {
   "cell_type": "code",
   "execution_count": 25,
   "metadata": {},
   "outputs": [],
   "source": [
    "# DFT of the first column of T\n",
    "lambda_prime = np.sqrt(N)*np.dot(H, T[:,0])"
   ]
  },
  {
   "cell_type": "code",
   "execution_count": 26,
   "metadata": {},
   "outputs": [],
   "source": [
    "# create a diagonal matrix with the vector computed above\n",
    "Lambda_prime = np.diag(lambda_prime)"
   ]
  },
  {
   "cell_type": "code",
   "execution_count": 27,
   "metadata": {},
   "outputs": [],
   "source": [
    "# create a matrix using the diagonal matrix computed above\n",
    "T_prime = np.linalg.multi_dot([np.conjugate(H), Lambda_prime, H]).real"
   ]
  },
  {
   "cell_type": "code",
   "execution_count": 28,
   "metadata": {},
   "outputs": [
    {
     "data": {
      "text/plain": [
       "False"
      ]
     },
     "execution_count": 28,
     "metadata": {},
     "output_type": "execute_result"
    }
   ],
   "source": [
    "# compare the original Toepliz matrix T and that computed above\n",
    "np.allclose(T, T_prime)"
   ]
  },
  {
   "cell_type": "markdown",
   "metadata": {},
   "source": [
    "The cell above shows that $\\mathbf{T} \\ne \\mathbf{T}^{\\prime}$."
   ]
  },
  {
   "cell_type": "code",
   "execution_count": 29,
   "metadata": {},
   "outputs": [
    {
     "data": {
      "image/png": "[encoded data removed]",
      "text/plain": [
       "<Figure size 720x216 with 4 Axes>"
      ]
     },
     "metadata": {
      "needs_background": "light"
     },
     "output_type": "display_data"
    }
   ],
   "source": [
    "plt.close('all')\n",
    "\n",
    "fig, ax = plt.subplots(nrows=1, ncols=2, figsize=(10,3))\n",
    "\n",
    "plt.subplot(121)\n",
    "plt.title('$\\mathbf{T}$', fontsize=18)\n",
    "plt.matshow(T, fignum=False, vmin = 0, vmax = 20, cmap='gist_rainbow_r')\n",
    "plt.colorbar()\n",
    "plt.xticks(ticks=np.arange(N-1)+0.5, labels=[])\n",
    "plt.yticks(ticks=np.arange(N-1)+0.5, labels=[])\n",
    "plt.grid(color='k', linewidth=2)\n",
    "\n",
    "plt.subplot(122)\n",
    "plt.title('$\\mathbf{T}^{\\prime}$', fontsize=18)\n",
    "plt.matshow(T_prime, fignum=False, vmin = 0, vmax = 20, cmap='gist_rainbow_r')\n",
    "plt.colorbar()\n",
    "plt.xticks(ticks=np.arange(N-1)+0.5, labels=[])\n",
    "plt.yticks(ticks=np.arange(N-1)+0.5, labels=[])\n",
    "plt.grid(color='k', linewidth=2)\n",
    "\n",
    "plt.tight_layout()\n",
    "\n",
    "plt.show()"
   ]
  },
  {
   "cell_type": "markdown",
   "metadata": {},
   "source": [
    "Notice that only the lower triangle of these matrices are equal to each other."
   ]
  },
  {
   "cell_type": "code",
   "execution_count": 30,
   "metadata": {},
   "outputs": [
    {
     "data": {
      "text/plain": [
       "True"
      ]
     },
     "execution_count": 30,
     "metadata": {},
     "output_type": "execute_result"
    }
   ],
   "source": [
    "np.allclose(np.tril(T), np.tril(T_prime))"
   ]
  },
  {
   "cell_type": "markdown",
   "metadata": {},
   "source": [
    "<a id='sec2b'></a>\n",
    "### The Fourier approach used for circulant matrices is not valid for the product of arbitrary Toeplitz matrices and arbitrary vectors"
   ]
  },
  {
   "cell_type": "markdown",
   "metadata": {},
   "source": [
    "The cells above show that, for arbitrary Toeplitz matrices $\\mathbf{T}$ and vectors $\\mathbf{w}$, \n",
    "\n",
    "$$\n",
    "\\mathbf{T} \\, \\mathbf{w} \\ne \\mathbf{T}^{\\prime} \\, \\mathbf{w} \\: ,\n",
    "$$\n",
    "\n",
    "where $\\mathbf{T}^{\\prime}$ is defined by equations [9](#eq9) and [10](#eq10). This implies that, for arbitrary Toeplitz matrices $\\mathbf{T}$ and vectors $\\mathbf{w}$, we cannot compute the product $\\mathbf{T} \\mathbf{w}$ via Fourier transform by using the same approach for circulant matrices ([equation 7](#eq7))."
   ]
  },
  {
   "cell_type": "code",
   "execution_count": 31,
   "metadata": {},
   "outputs": [],
   "source": [
    "# create a vector w\n",
    "w = np.random.rand(N)"
   ]
  },
  {
   "cell_type": "code",
   "execution_count": 32,
   "metadata": {},
   "outputs": [],
   "source": [
    "# product of T and this vector w\n",
    "T_w = np.dot(T, w)"
   ]
  },
  {
   "cell_type": "code",
   "execution_count": 33,
   "metadata": {},
   "outputs": [],
   "source": [
    "# compute the matrix T' (equation 9)\n",
    "T_prime_w = np.dot(T_prime, w)"
   ]
  },
  {
   "cell_type": "code",
   "execution_count": 34,
   "metadata": {},
   "outputs": [
    {
     "data": {
      "text/plain": [
       "False"
      ]
     },
     "execution_count": 34,
     "metadata": {},
     "output_type": "execute_result"
    }
   ],
   "source": [
    "# notice that they are not the same\n",
    "np.allclose(T_w, T_prime_w)"
   ]
  },
  {
   "cell_type": "markdown",
   "metadata": {},
   "source": [
    "<a id='sec2c'></a>\n",
    "### The Fourier approach used for circulant matrices is valid for the product of some particular Toeplitz matrices and some particular vectors"
   ]
  },
  {
   "cell_type": "markdown",
   "metadata": {},
   "source": [
    "For some particular Toeplitz matrices $\\mathbf{T}$ and some particular vectors $\\mathbf{w}$, the same approach defined by [equation 7](#eq7) for computing the product of $\\mathbf{C} \\mathbf{v}$ can be used to compute the product $\\mathbf{T} \\mathbf{w}$. "
   ]
  },
  {
   "cell_type": "markdown",
   "metadata": {},
   "source": [
    "These particular Toeplitz matrices $\\mathbf{T}$ and vectors $\\mathbf{w}$ must satisfy the following conditions:\n",
    "\n",
    "* Matrix $\\mathbf{T}$ must be lower triangular;\n",
    "* The last $N-N_{1}$ (or the first $N_{1}$) elements of $\\mathbf{t}_{0} \\equiv \\mathbf{T}[: \\, , \\, 0]$ (with $N_{1} < N$) must be equal to zero;\n",
    "* The last $N_{1}$ elements (with $N_{1} < N$) of $\\mathbf{w}$ must be equal to zero.\n",
    "\n",
    "If $\\mathbf{T}$ and $\\mathbf{w}$ satisfy the above conditions, the matrix $\\mathbf{T}^{\\prime}$ satisfies the following conditions:\n",
    "\n",
    "* $\\mathbf{T}^{\\prime} \\ne \\mathbf{T}$;\n",
    "* $\\mathbf{T}^{\\prime} \\, \\mathbf{w} = \\mathbf{T} \\, \\mathbf{w}$  ."
   ]
  },
  {
   "cell_type": "code",
   "execution_count": 35,
   "metadata": {},
   "outputs": [],
   "source": [
    "# order of matrix T\n",
    "N = 10\n",
    "\n",
    "# number of non-null elements in the first column of T\n",
    "N1 = 4\n",
    "\n",
    "# first column of T with only the first N1 elements different from zero\n",
    "col_T = np.linspace(3, 20, N)\n",
    "col_T[N1:] = 0\n",
    "\n",
    "# the first row has all off-diagonal terms equal to zero\n",
    "row_T = np.zeros(N)"
   ]
  },
  {
   "cell_type": "code",
   "execution_count": 36,
   "metadata": {},
   "outputs": [],
   "source": [
    "T = toeplitz(col_T, row_T)"
   ]
  },
  {
   "cell_type": "code",
   "execution_count": 37,
   "metadata": {},
   "outputs": [],
   "source": [
    "# vector w with the last N1 elements equal to zero\n",
    "w = 17*np.random.rand(N) + 3\n",
    "w[N-N1:] = 0"
   ]
  },
  {
   "cell_type": "code",
   "execution_count": 38,
   "metadata": {},
   "outputs": [
    {
     "data": {
      "image/png": "[encoded data removed]",
      "text/plain": [
       "<Figure size 504x288 with 3 Axes>"
      ]
     },
     "metadata": {
      "needs_background": "light"
     },
     "output_type": "display_data"
    }
   ],
   "source": [
    "plt.figure(figsize=(7, 4))\n",
    "\n",
    "plt.subplot(1,2,1)\n",
    "plt.title('$\\mathbf{T}$', fontsize=18)\n",
    "plt.matshow(T, fignum=0, vmin = 0, vmax = 20, cmap='gist_rainbow_r')\n",
    "plt.xticks(ticks=np.arange(N-1)+0.5, labels=[])\n",
    "plt.yticks(ticks=np.arange(N-1)+0.5, labels=[])\n",
    "plt.grid(color='k', linewidth=2)\n",
    "\n",
    "plt.subplot(1,2,2)\n",
    "plt.title('$\\mathbf{w}$', fontsize=18)\n",
    "plt.matshow(np.reshape(w, (w.size,1)), fignum=0, vmin = 0, vmax = 20, cmap='gist_rainbow_r')\n",
    "plt.colorbar()\n",
    "plt.xticks(ticks=[0.5], labels=[])\n",
    "plt.yticks(ticks=np.arange(N-1)+0.5, labels=[])\n",
    "plt.grid(color='k', linewidth=2)\n",
    "\n",
    "plt.tight_layout()\n",
    "\n",
    "plt.show()"
   ]
  },
  {
   "cell_type": "code",
   "execution_count": 39,
   "metadata": {},
   "outputs": [],
   "source": [
    "# compute T'(equations 9 and 10)\n",
    "DFT_first_column_T = np.sqrt(N)*np.dot(H, T[:,0])\n",
    "Diagonal_matrix = np.diag(DFT_first_column_T)\n",
    "H = dft(N, scale='sqrtn')\n",
    "T_prime = np.linalg.multi_dot([np.conjugate(H), Diagonal_matrix, H]).real"
   ]
  },
  {
   "cell_type": "code",
   "execution_count": 40,
   "metadata": {},
   "outputs": [
    {
     "data": {
      "text/plain": [
       "False"
      ]
     },
     "execution_count": 40,
     "metadata": {},
     "output_type": "execute_result"
    }
   ],
   "source": [
    "# compare the original Toepliz matrix T and its approximated form\n",
    "np.allclose(T, T_prime)"
   ]
  },
  {
   "cell_type": "code",
   "execution_count": 41,
   "metadata": {},
   "outputs": [
    {
     "data": {
      "image/png": "[encoded data removed]",
      "text/plain": [
       "<Figure size 720x216 with 4 Axes>"
      ]
     },
     "metadata": {
      "needs_background": "light"
     },
     "output_type": "display_data"
    }
   ],
   "source": [
    "plt.close('all')\n",
    "\n",
    "fig, ax = plt.subplots(nrows=1, ncols=2, figsize=(10,3))\n",
    "\n",
    "plt.subplot(121)\n",
    "plt.title('$\\mathbf{T}$', fontsize=18)\n",
    "plt.matshow(T, fignum=False, vmin = 0, vmax = 20, cmap='gist_rainbow_r')\n",
    "plt.colorbar()\n",
    "plt.xticks(ticks=np.arange(N-1)+0.5, labels=[])\n",
    "plt.yticks(ticks=np.arange(N-1)+0.5, labels=[])\n",
    "plt.grid(color='k', linewidth=2)\n",
    "\n",
    "plt.subplot(122)\n",
    "plt.title('$\\mathbf{T}^{\\prime}$', fontsize=18)\n",
    "plt.matshow(T_prime, fignum=False, vmin = 0, vmax = 20, cmap='gist_rainbow_r')\n",
    "plt.colorbar()\n",
    "plt.xticks(ticks=np.arange(N-1)+0.5, labels=[])\n",
    "plt.yticks(ticks=np.arange(N-1)+0.5, labels=[])\n",
    "plt.grid(color='k', linewidth=2)\n",
    "\n",
    "plt.tight_layout()\n",
    "\n",
    "plt.show()"
   ]
  },
  {
   "cell_type": "markdown",
   "metadata": {},
   "source": [
    "Notice that, as in the previous case, only the lower triangle of these matrices are equal to each other."
   ]
  },
  {
   "cell_type": "code",
   "execution_count": 42,
   "metadata": {},
   "outputs": [
    {
     "data": {
      "text/plain": [
       "True"
      ]
     },
     "execution_count": 42,
     "metadata": {},
     "output_type": "execute_result"
    }
   ],
   "source": [
    "np.allclose(np.tril(T), np.tril(T_prime))"
   ]
  },
  {
   "cell_type": "markdown",
   "metadata": {},
   "source": [
    "There is something very special here. The differences between $\\mathbf{T}$ and $\\mathbf{T}^{\\prime}$ are concentrated at the upper right corner. The remaining parts of these matrices are equal to each other. Another important thing is that, when multiplied by the vector $\\mathbf{w}$, this upper corner coincides with the last null elements of $\\mathbf{w}$. As a consequence:\n",
    "\n",
    "$$\n",
    "\\mathbf{T} \\mathbf{w} = \\mathbf{T}^{\\prime} \\mathbf{w} \\: .\n",
    "$$"
   ]
  },
  {
   "cell_type": "code",
   "execution_count": 43,
   "metadata": {},
   "outputs": [],
   "source": [
    "T_w = np.dot(T, w)"
   ]
  },
  {
   "cell_type": "code",
   "execution_count": 44,
   "metadata": {},
   "outputs": [],
   "source": [
    "T_prime_w = np.dot(T_prime, w)"
   ]
  },
  {
   "cell_type": "code",
   "execution_count": 45,
   "metadata": {},
   "outputs": [
    {
     "data": {
      "text/plain": [
       "True"
      ]
     },
     "execution_count": 45,
     "metadata": {},
     "output_type": "execute_result"
    }
   ],
   "source": [
    "np.allclose(T_w, T_prime_w)"
   ]
  },
  {
   "cell_type": "markdown",
   "metadata": {},
   "source": [
    "Consequently, we can use the same approach defined by [equation 7](#eq7) to compute the product $\\mathbf{T} \\mathbf{w}$ involving the particular matrix $\\mathbf{T}$ and vector $\\mathbf{w}$:"
   ]
  },
  {
   "cell_type": "code",
   "execution_count": 46,
   "metadata": {},
   "outputs": [],
   "source": [
    "DFT_w = np.dot(H, w)"
   ]
  },
  {
   "cell_type": "code",
   "execution_count": 47,
   "metadata": {},
   "outputs": [],
   "source": [
    "T_w_fft = np.dot(np.conjugate(H), DFT_first_column_T*DFT_w).real"
   ]
  },
  {
   "cell_type": "code",
   "execution_count": 48,
   "metadata": {},
   "outputs": [
    {
     "data": {
      "text/plain": [
       "True"
      ]
     },
     "execution_count": 48,
     "metadata": {},
     "output_type": "execute_result"
    }
   ],
   "source": [
    "np.allclose(T_w, T_w_fft)"
   ]
  },
  {
   "cell_type": "markdown",
   "metadata": {},
   "source": [
    "<a id='sec3'></a>\n",
    "## Arbitrary $N \\times N$ Toeplitz matrices can be embedded into $2N \\times 2N$ circulant matrices"
   ]
  },
  {
   "cell_type": "markdown",
   "metadata": {},
   "source": [
    "Any Toeplitz matrix $\\mathbf{T}$ can be embedded into a $2N \\times 2N$ circulant matrix $\\mathbf{C}$ with first column given by:\n",
    "\n",
    "<a id='eq11'></a>\n",
    "$$\n",
    "\\mathbf{c}_{0} = \\begin{bmatrix}\n",
    "t_{00} \\\\\n",
    "t_{10} \\\\\n",
    "\\vdots \\\\\n",
    "t_{(N-1)0} \\\\\n",
    "0 \\\\\n",
    "t_{0(N-1)} \\\\\n",
    "t_{0(N-2)} \\\\\n",
    "\\vdots \\\\\n",
    "t_{01}\n",
    "\\end{bmatrix} \\: . \\tag{11}\n",
    "$$"
   ]
  },
  {
   "cell_type": "markdown",
   "metadata": {},
   "source": [
    "Let consider $N = 4$. In this case, the Toeplitz matrix $\\mathbf{T}$ and the embedding circulant matrix $\\mathbf{C}$ are given by:"
   ]
  },
  {
   "cell_type": "markdown",
   "metadata": {},
   "source": [
    "<a id='eq12a'></a>\n",
    "$$\n",
    "\\mathbf{T} = \\begin{bmatrix}\n",
    "t_{00} & t_{01} & t_{02} & t_{03} \\\\\n",
    "t_{10} & t_{00} & t_{01} & t_{02} \\\\\n",
    "t_{20} & t_{10} & t_{00} & t_{01} \\\\\n",
    "t_{30} & t_{20} & t_{10} & t_{00} \\\\\n",
    "\\end{bmatrix} \\tag{12a}\n",
    "$$\n",
    "\n",
    "and\n",
    "\n",
    "<a id='eq12b'></a>\n",
    "$$\n",
    "\\mathbf{C} = \\begin{bmatrix}\n",
    "t_{00} & t_{01} & t_{02} & t_{03} &      0 & t_{30} & t_{20} & t_{10} \\\\\n",
    "t_{10} & t_{00} & t_{01} & t_{02} & t_{03} &      0 & t_{30} & t_{20} \\\\\n",
    "t_{20} & t_{10} & t_{00} & t_{01} & t_{02} & t_{03} &      0 & t_{30} \\\\\n",
    "t_{30} & t_{20} & t_{10} & t_{00} & t_{01} & t_{02} & t_{03} &      0 \\\\\n",
    "     0 & t_{30} & t_{20} & t_{10} & t_{00} & t_{01} & t_{02} & t_{03} \\\\\n",
    "t_{03} &      0 & t_{30} & t_{20} & t_{10} & t_{00} & t_{01} & t_{02} \\\\\n",
    "t_{02} & t_{03} &      0 & t_{30} & t_{20} & t_{10} & t_{00} & t_{01} \\\\\n",
    "t_{01} & t_{02} & t_{03} &      0 & t_{30} & t_{20} & t_{10} & t_{00}\n",
    "\\end{bmatrix} \\quad . \\tag{12b}\n",
    "$$"
   ]
  },
  {
   "cell_type": "markdown",
   "metadata": {},
   "source": [
    "Notice that this embedding circulant matrix $\\mathbf{C}$ ([equation 12b](#eq12b)) contains the original Toeplitz matrix $\\mathbf{T}$ ([equation 12a](#eq12a)) in its upper left and lower right corners."
   ]
  },
  {
   "cell_type": "code",
   "execution_count": 49,
   "metadata": {},
   "outputs": [],
   "source": [
    "N = 10\n",
    "col_T = np.linspace(3, 12, N)\n",
    "row_T = np.linspace(12, 20, N)"
   ]
  },
  {
   "cell_type": "code",
   "execution_count": 50,
   "metadata": {},
   "outputs": [],
   "source": [
    "T = toeplitz(col_T, row_T)"
   ]
  },
  {
   "cell_type": "code",
   "execution_count": 51,
   "metadata": {},
   "outputs": [],
   "source": [
    "C_embedding = circulant(c=np.hstack([T[:,0], 0, T[0,-1:0:-1]]))"
   ]
  },
  {
   "cell_type": "code",
   "execution_count": 52,
   "metadata": {},
   "outputs": [
    {
     "data": {
      "image/png": "[encoded data removed]",
      "text/plain": [
       "<Figure size 720x216 with 4 Axes>"
      ]
     },
     "metadata": {
      "needs_background": "light"
     },
     "output_type": "display_data"
    }
   ],
   "source": [
    "plt.close('all')\n",
    "\n",
    "fig, ax = plt.subplots(nrows=1, ncols=2, figsize=(10,3))\n",
    "\n",
    "plt.subplot(121)\n",
    "plt.title('$\\mathbf{T}$', fontsize=18)\n",
    "plt.matshow(T, fignum=False, vmin = 0, vmax = 20, cmap='gist_rainbow_r')\n",
    "plt.colorbar()\n",
    "plt.xticks(ticks=np.arange(N-1)+0.5, labels=[])\n",
    "plt.yticks(ticks=np.arange(N-1)+0.5, labels=[])\n",
    "plt.grid(color='k', linewidth=2)\n",
    "\n",
    "plt.subplot(122)\n",
    "plt.title('$\\mathbf{C}$', fontsize=18)\n",
    "plt.matshow(C_embedding, fignum=False, vmin = 0, vmax = 20, cmap='gist_rainbow_r')\n",
    "plt.colorbar()\n",
    "plt.xticks(ticks=[N-0.5], labels=[])\n",
    "plt.yticks(ticks=[N-0.5], labels=[])\n",
    "plt.grid(color='k', linewidth=2)\n",
    "\n",
    "plt.tight_layout()\n",
    "\n",
    "plt.show()"
   ]
  },
  {
   "cell_type": "markdown",
   "metadata": {},
   "source": [
    "<a id='sec3a'></a>\n",
    "### Product of an arbitrary Toeplitz matrix $\\mathbf{T}$ and an arbitrary vector $\\mathbf{w}$"
   ]
  },
  {
   "cell_type": "markdown",
   "metadata": {},
   "source": [
    "Let $\\mathbf{w}$ be an arbitrary $N \\times 1$ vector. The product of the $N \\times N$ Toeplitz matrix $\\mathbf{T}$ and vector $\\mathbf{w}$ can be computed according to the algorithm below:\n",
    "\n",
    "   * Use $\\mathbf{T}$ to compute an $2N \\times 2N$ embedding circulant matrix $\\mathbf{C}$ (equations [11](#eq11), [12a](#eq12a) and [12b](#eq12b));\n",
    "   * Pad the vector $\\mathbf{w}$ with $N$ zeros to create a new vector $\\mathbf{v}$;\n",
    "   * Apply [equation 7](#eq7) to compute the product $\\mathbf{C} \\, \\mathbf{v}$;\n",
    "   * Retrieve the first $N$ elements of the resulting vector. They are the result of the product $\\mathbf{T} \\, \\mathbf{w}$."
   ]
  },
  {
   "cell_type": "code",
   "execution_count": 53,
   "metadata": {},
   "outputs": [],
   "source": [
    "N = 21\n",
    "col_T = 10*np.random.rand(N)\n",
    "row_T = 10*np.random.rand(N)"
   ]
  },
  {
   "cell_type": "code",
   "execution_count": 54,
   "metadata": {},
   "outputs": [],
   "source": [
    "T = toeplitz(col_T, row_T)"
   ]
  },
  {
   "cell_type": "code",
   "execution_count": 55,
   "metadata": {},
   "outputs": [],
   "source": [
    "w = np.random.rand(N)"
   ]
  },
  {
   "cell_type": "code",
   "execution_count": 56,
   "metadata": {},
   "outputs": [],
   "source": [
    "T_w = np.dot(T, w)"
   ]
  },
  {
   "cell_type": "code",
   "execution_count": 57,
   "metadata": {},
   "outputs": [],
   "source": [
    "C_embedding = circulant(c=np.hstack([T[:,0], 0, T[0,-1:0:-1]]))"
   ]
  },
  {
   "cell_type": "code",
   "execution_count": 58,
   "metadata": {},
   "outputs": [],
   "source": [
    "v_embedding = np.hstack([w, np.zeros(N)])"
   ]
  },
  {
   "cell_type": "code",
   "execution_count": 59,
   "metadata": {},
   "outputs": [],
   "source": [
    "H = dft(2*N, scale='sqrtn')"
   ]
  },
  {
   "cell_type": "code",
   "execution_count": 60,
   "metadata": {},
   "outputs": [],
   "source": [
    "DFT_v_embedding = np.dot(H, v_embedding)"
   ]
  },
  {
   "cell_type": "code",
   "execution_count": 61,
   "metadata": {},
   "outputs": [],
   "source": [
    "lambda_C_embedding = np.sqrt(2*N)*np.dot(H, C_embedding[:,0])"
   ]
  },
  {
   "cell_type": "code",
   "execution_count": 62,
   "metadata": {},
   "outputs": [],
   "source": [
    "C_v_embedding = np.dot(np.conjugate(H), lambda_C_embedding*DFT_v_embedding)"
   ]
  },
  {
   "cell_type": "code",
   "execution_count": 63,
   "metadata": {},
   "outputs": [
    {
     "data": {
      "text/plain": [
       "True"
      ]
     },
     "execution_count": 63,
     "metadata": {},
     "output_type": "execute_result"
    }
   ],
   "source": [
    "np.allclose(T_w, C_v_embedding[:N])"
   ]
  },
  {
   "cell_type": "code",
   "execution_count": null,
   "metadata": {},
   "outputs": [],
   "source": []
  }
 ],
 "metadata": {
  "kernelspec": {
   "display_name": "Python 3",
   "language": "python",
   "name": "python3"
  },
  "language_info": {
   "codemirror_mode": {
    "name": "ipython",
    "version": 3
   },
   "file_extension": ".py",
   "mimetype": "text/x-python",
   "name": "python",
   "nbconvert_exporter": "python",
   "pygments_lexer": "ipython3",
   "version": "3.7.7"
  }
 },
 "nbformat": 4,
 "nbformat_minor": 2
}
