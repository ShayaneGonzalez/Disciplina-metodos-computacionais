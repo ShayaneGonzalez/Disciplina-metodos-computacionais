{
 "cells": [
  {
   "cell_type": "markdown",
   "metadata": {},
   "source": [
    "# Diagonal matrices - part 2"
   ]
  },
  {
   "cell_type": "markdown",
   "metadata": {},
   "source": [
    "Consider now a generalized $N \\times N$ diagonal matrix $\\mathbf{D}_{k}$ with a dislocated diagonal. Let's consider that the diagonal has an offset $k$. If $k > 0$, the diagonal is dislocated towards the upper triangle of $\\mathbf{D}_{k}$. If $k < 0$, then it is dislocated towards the lower triangle of $\\mathbf{D}_{k}$. The particular case in which $k = 0$ is equivalent to the diagonal matrix presented in `diagonal_matrices_part1.ipynb`. Consider a the following examples with $N = 5$:"
   ]
  },
  {
   "cell_type": "markdown",
   "metadata": {},
   "source": [
    "$$\\mathbf{D}_{2} = \\begin{bmatrix}\n",
    "0 & 0 & d_{02} & 0 & 0 \\\\\n",
    "0 & 0 & 0 & d_{13} & 0 \\\\\n",
    "0 & 0 & 0 & 0 & d_{24} \\\\\n",
    "0 & 0 & 0 & 0 & 0 \\\\\n",
    "0 & 0 & 0 & 0 & 0\n",
    "\\end{bmatrix}\n",
    "$$"
   ]
  },
  {
   "cell_type": "markdown",
   "metadata": {},
   "source": [
    "$$\\mathbf{D}_{-1} = \\begin{bmatrix}\n",
    "0 & 0 & 0 & 0 & 0 \\\\\n",
    "d_{10} & 0 & 0 & 0 & 0 \\\\\n",
    "0 & d_{21} & 0 & 0 & 0 \\\\\n",
    "0 & 0 & d_{32} & 0 & 0 \\\\\n",
    "0 & 0 & 0 & d_{43} & 0\n",
    "\\end{bmatrix}\n",
    "$$"
   ]
  },
  {
   "cell_type": "markdown",
   "metadata": {},
   "source": [
    "Notice that $k$ is an integer varying from $-(N-1)$ to $N-1$. Similarly to the case $k = 0$, the product of $\\mathbf{D}_{k}$ and a vector $\\mathbf{x}$ for $k \\ne 0$ can be defined in terms of the Hadamard product (see the notebook `hadamard.ipynb`), as follows:"
   ]
  },
  {
   "cell_type": "markdown",
   "metadata": {},
   "source": [
    "$$\n",
    "\\mathbf{D}_{k} \\mathbf{x} = \\begin{bmatrix}\n",
    "\\mathbf{d} \\circ \\mathbf{x}[ k + 1: \\,] \\\\\n",
    "\\mathbf{0}_{k \\times 1}\n",
    "\\end{bmatrix} \\: , \\quad k > 0 \\: ,\n",
    "$$"
   ]
  },
  {
   "cell_type": "markdown",
   "metadata": {},
   "source": [
    "$$\n",
    "\\mathbf{D}_{k} \\mathbf{x} = \\mathbf{d} \\circ \\mathbf{x} \\: , \\quad k = 0 \\: ,\n",
    "$$"
   ]
  },
  {
   "cell_type": "markdown",
   "metadata": {},
   "source": [
    "or"
   ]
  },
  {
   "cell_type": "markdown",
   "metadata": {},
   "source": [
    "$$\n",
    "\\mathbf{D}_{k} \\mathbf{x} = \\begin{bmatrix}\n",
    "\\mathbf{0}_{(-k) \\times 1} \\\\\n",
    "\\mathbf{d} \\circ \\mathbf{x}[ \\, : N+k ]\n",
    "\\end{bmatrix} \\: , \\quad k < 0 \\: ,\n",
    "$$"
   ]
  },
  {
   "cell_type": "markdown",
   "metadata": {},
   "source": [
    "where $\\mathbf{d}$ is a $(N - \\mid k \\mid) \\times 1$ vector containing the non-null elements of $\\mathbf{D}_{k}$."
   ]
  }
 ],
 "metadata": {
  "anaconda-cloud": {},
  "kernelspec": {
   "display_name": "Python 3",
   "language": "python",
   "name": "python3"
  },
  "language_info": {
   "codemirror_mode": {
    "name": "ipython",
    "version": 3
   },
   "file_extension": ".py",
   "mimetype": "text/x-python",
   "name": "python",
   "nbconvert_exporter": "python",
   "pygments_lexer": "ipython3",
   "version": "3.7.7"
  }
 },
 "nbformat": 4,
 "nbformat_minor": 1
}
