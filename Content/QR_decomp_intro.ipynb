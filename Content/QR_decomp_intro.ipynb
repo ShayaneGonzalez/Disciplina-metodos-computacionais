{
 "cells": [
  {
   "cell_type": "markdown",
   "metadata": {},
   "source": [
    "# QR decomposition - introduction"
   ]
  },
  {
   "cell_type": "markdown",
   "metadata": {},
   "source": [
    "### References\n",
    "\n",
    "* Lawson, C. L,. and Hanson, R. J. (1995). Solving least squares problems. SIAM, ISBN 0-89871-356-0\n",
    "\n",
    "* Golub, G. H. and C. F. Van Loan, (2013), Matrix computations, 4th edition, Johns Hopkins University Press, ISBN 978-1-4214-0794-4."
   ]
  },
  {
   "cell_type": "code",
   "execution_count": 1,
   "metadata": {},
   "outputs": [],
   "source": [
    "import numpy as np\n",
    "import matplotlib.pyplot as plt\n",
    "#np.set_printoptions(precision=3)\n",
    "np.set_printoptions(suppress=True)"
   ]
  },
  {
   "cell_type": "markdown",
   "metadata": {},
   "source": [
    "### Definition"
   ]
  },
  {
   "cell_type": "markdown",
   "metadata": {},
   "source": [
    "Let $\\mathbf{A}$ be an $M \\times N$ matrix. There is an $M \\times M$ orthogonal matrix $\\mathbf{Q}$ such that"
   ]
  },
  {
   "cell_type": "markdown",
   "metadata": {},
   "source": [
    "<a id='eq1'></a>\n",
    "$$\n",
    "\\mathbf{A} = \\mathbf{Q} \\, \\mathbf{R} \\quad , \\tag{1}\n",
    "$$"
   ]
  },
  {
   "cell_type": "markdown",
   "metadata": {},
   "source": [
    "where $\\mathbf{R}$ is an $M \\times N$ upper triangular matrix. There is an importan theorem for the particualr case in which $\\mathbf{A}$ is a full-column rank $M \\times N$ matrix, where $M \\ge N$ (Golub and Van Loan, 2013, p. 248):"
   ]
  },
  {
   "cell_type": "markdown",
   "metadata": {},
   "source": [
    "<a id='theorem_thin_QR'></a>\n",
    "**THEOREM:** Suppose $\\mathbf{A} \\in \\mathbb{R}^{M \\times N}$ has full column rank. The *thin QR factorization* \n",
    "\n",
    "$$\n",
    "\\mathbf{A} = \\mathbf{Q}_{1} \\, \\mathbf{R}_{1} \\quad ,\n",
    "$$\n",
    "\n",
    "is unique where $\\mathbf{Q}_{1}$ has orthonormal columns and $\\mathbf{R}_{1}$ is upper triangular with positive diagonal entries. Moreover, $\\mathbf{R}_{1} = \\mathbf{G}^{\\top}$, where $\\mathbf{G}$ is the lower triangular Cholesky factor of $\\mathbf{A}^{\\top}\\mathbf{A}$."
   ]
  },
  {
   "cell_type": "markdown",
   "metadata": {},
   "source": [
    "### Create synthetic data"
   ]
  },
  {
   "cell_type": "code",
   "execution_count": 2,
   "metadata": {},
   "outputs": [],
   "source": [
    "np.random.seed(6)\n",
    "M = 13\n",
    "N = 10"
   ]
  },
  {
   "cell_type": "code",
   "execution_count": 3,
   "metadata": {},
   "outputs": [],
   "source": [
    "A = np.round(np.random.rand(M,N), decimals=3)"
   ]
  },
  {
   "cell_type": "code",
   "execution_count": 6,
   "metadata": {},
   "outputs": [],
   "source": [
    "Q, R = np.linalg.qr(A, mode='complete')"
   ]
  },
  {
   "cell_type": "code",
   "execution_count": 16,
   "metadata": {},
   "outputs": [
    {
     "data": {
      "image/png": "[encoded data removed]",
      "text/plain": [
       "<Figure size 864x288 with 6 Axes>"
      ]
     },
     "metadata": {
      "needs_background": "light"
     },
     "output_type": "display_data"
    }
   ],
   "source": [
    "cmap = plt.cm.hsv\n",
    "cmap.set_bad(color='black')\n",
    "\n",
    "plt.figure(figsize=(12,4))\n",
    "\n",
    "plt.subplot(131)\n",
    "plt.title('$\\mathbf{A}$\\n', fontsize=18)\n",
    "#plt.matshow(A, fignum=0, cmap='jet')\n",
    "A_masked = np.ma.masked_where(A == 0, A)\n",
    "plt.matshow(A_masked, fignum=0, cmap=cmap)\n",
    "plt.colorbar()\n",
    "\n",
    "plt.subplot(132)\n",
    "plt.title('$\\mathbf{Q}$\\n', fontsize=18)\n",
    "#plt.matshow(Q, fignum=0, cmap='jet')\n",
    "Q_masked = np.ma.masked_where(Q == 0, Q)\n",
    "plt.matshow(Q_masked, fignum=0, cmap=cmap)\n",
    "plt.colorbar()\n",
    "\n",
    "plt.subplot(133)\n",
    "plt.title('$\\mathbf{R}$\\n', fontsize=18)\n",
    "#plt.matshow(R, fignum=0, cmap='jet')\n",
    "R_masked = np.ma.masked_where(R == 0, R)\n",
    "plt.matshow(R_masked, fignum=0, cmap=cmap)\n",
    "plt.colorbar()\n",
    "\n",
    "#plt.tight_layout()\n",
    "plt.show()"
   ]
  },
  {
   "cell_type": "code",
   "execution_count": 24,
   "metadata": {},
   "outputs": [
    {
     "data": {
      "text/plain": [
       "((13, 10), (13, 13), (13, 10))"
      ]
     },
     "execution_count": 24,
     "metadata": {},
     "output_type": "execute_result"
    }
   ],
   "source": [
    "A.shape, Q.shape, R.shape"
   ]
  },
  {
   "cell_type": "code",
   "execution_count": 25,
   "metadata": {},
   "outputs": [
    {
     "data": {
      "text/plain": [
       "True"
      ]
     },
     "execution_count": 25,
     "metadata": {},
     "output_type": "execute_result"
    }
   ],
   "source": [
    "np.allclose(np.identity(M), np.dot(Q.T,Q))"
   ]
  },
  {
   "cell_type": "code",
   "execution_count": 26,
   "metadata": {},
   "outputs": [
    {
     "data": {
      "text/plain": [
       "True"
      ]
     },
     "execution_count": 26,
     "metadata": {},
     "output_type": "execute_result"
    }
   ],
   "source": [
    "np.allclose(np.identity(M), np.dot(Q,Q.T))"
   ]
  },
  {
   "cell_type": "markdown",
   "metadata": {},
   "source": [
    "### Least squares solution via QR decomposition"
   ]
  },
  {
   "cell_type": "markdown",
   "metadata": {},
   "source": [
    "See Golub and Van Loan (2013, p. 263)."
   ]
  },
  {
   "cell_type": "markdown",
   "metadata": {},
   "source": [
    "Consider the linear system"
   ]
  },
  {
   "cell_type": "markdown",
   "metadata": {},
   "source": [
    "<a id='eq2'></a>\n",
    "$$\n",
    "\\mathbf{A} \\, \\mathbf{x} = \\mathbf{b} \\quad , \\tag{2}\n",
    "$$"
   ]
  },
  {
   "cell_type": "markdown",
   "metadata": {},
   "source": [
    "where $\\mathbf{A}$ is an $M \\times N$ full-column rank matrix with $M \\ge N$."
   ]
  },
  {
   "cell_type": "markdown",
   "metadata": {},
   "source": [
    "<a id='eq2a'></a>\n",
    "$$\n",
    "\\mathbf{Q}^{\\top} \\mathbf{A} = \\mathbf{R} \\quad , \\tag{2a}\n",
    "$$"
   ]
  },
  {
   "cell_type": "markdown",
   "metadata": {},
   "source": [
    "<a id='eq2b'></a>\n",
    "$$\n",
    "\\mathbf{R} = \\begin{bmatrix}\n",
    "\\mathbf{R}_{1} \\\\\n",
    "\\mathbf{0}\n",
    "\\end{bmatrix} \\quad , \\tag{2b}\n",
    "$$"
   ]
  },
  {
   "cell_type": "markdown",
   "metadata": {},
   "source": [
    "where $\\mathbf{R}_{1}$ is an $N \\times N$ upper triangular matrix and $\\mathbf{0}$ is a $(M-N) \\times N$ matrix of zeros."
   ]
  },
  {
   "cell_type": "markdown",
   "metadata": {},
   "source": [
    "<a id='eq3'></a>\n",
    "$$\n",
    "\\mathbf{Q}^{\\top} \\mathbf{b} = \\begin{bmatrix}\n",
    "\\mathbf{c} \\\\\n",
    "\\mathbf{d}\n",
    "\\end{bmatrix} \\quad , \\tag{3}\n",
    "$$"
   ]
  },
  {
   "cell_type": "markdown",
   "metadata": {},
   "source": [
    "where $\\mathbf{c}$ and $\\mathbf{d}$ are $N \\times 1$ and $(M-N) \\times 1$ vectors."
   ]
  },
  {
   "cell_type": "markdown",
   "metadata": {},
   "source": [
    "<a id='eq4'></a>\n",
    "$$\n",
    "\\begin{split}\n",
    "\\left[ \\mathbf{A} \\, \\mathbf{x} - \\mathbf{b} \\right]^{\\top}\\left[ \\mathbf{A}\\, \\mathbf{x} - \\mathbf{b} \\right] \n",
    "&= \\left[ \\mathbf{A} \\, \\mathbf{x} - \\mathbf{b} \\right]^{\\top}\\mathbf{Q}\\mathbf{Q}^{\\top} \\left[ \\mathbf{A}\\, \\mathbf{x} - \\mathbf{b} \\right] \\\\\n",
    "&= \\left[ \\mathbf{Q}^{\\top} \\mathbf{A} \\, \\mathbf{x} - \\mathbf{Q}^{\\top} \\mathbf{b} \\right]^{\\top} \\left[ \\mathbf{Q}^{\\top} \\mathbf{A}\\, \\mathbf{x} - \\mathbf{Q}^{\\top} \\mathbf{b} \\right] \\\\\n",
    "&= \\left[ \\mathbf{R} \\, \\mathbf{x} - \\mathbf{Q}^{\\top} \\mathbf{b} \\right]^{\\top} \\left[ \\mathbf{R} \\, \\mathbf{x} - \\mathbf{Q}^{\\top} \\mathbf{b} \\right] \\\\\n",
    "&= \\left[ \\mathbf{R}_{1} \\, \\mathbf{x} - \\mathbf{c} \\right]^{\\top} \\left[ \\mathbf{R}_{1} \\, \\mathbf{x} - \\mathbf{c} \\right] + \\left[ \\mathbf{0} \\, \\mathbf{x} - \\mathbf{d} \\right]^{\\top} \\left[ \\mathbf{0} \\, \\mathbf{x} - \\mathbf{d} \\right]\\\\\n",
    "&= \\left[ \\mathbf{R}_{1} \\, \\mathbf{x} - \\mathbf{c} \\right]^{\\top} \\left[ \\mathbf{R}_{1} \\, \\mathbf{x} - \\mathbf{c} \\right] + \\mathbf{d}^{\\top}\\mathbf{d} \n",
    "\\end{split} \\quad . \\tag{4}\n",
    "$$"
   ]
  },
  {
   "cell_type": "markdown",
   "metadata": {},
   "source": [
    "<a id='eq5a'></a>\n",
    "$$\n",
    "\\mathbf{R}_{1} \\, \\mathbf{x}^{\\ast} = \\mathbf{c} \\quad , \\tag{5a}\n",
    "$$"
   ]
  },
  {
   "cell_type": "markdown",
   "metadata": {},
   "source": [
    "<a id='eq5b'></a>\n",
    "$$\n",
    "\\rho = \\sqrt{\\mathbf{d}^{\\top}\\mathbf{d}} \\quad . \\tag{5b}\n",
    "$$"
   ]
  },
  {
   "cell_type": "code",
   "execution_count": 4,
   "metadata": {},
   "outputs": [],
   "source": [
    "x_true = np.random.rand(N) + 1"
   ]
  },
  {
   "cell_type": "code",
   "execution_count": 5,
   "metadata": {},
   "outputs": [],
   "source": [
    "y = np.dot(A, x_true)"
   ]
  },
  {
   "cell_type": "code",
   "execution_count": 18,
   "metadata": {},
   "outputs": [],
   "source": [
    "QTy = np.dot(Q.T,y)\n",
    "c = QTy[:N]\n",
    "rho = np.linalg.norm(QTy[N:])"
   ]
  },
  {
   "cell_type": "code",
   "execution_count": 19,
   "metadata": {},
   "outputs": [],
   "source": [
    "x_ast = np.linalg.solve(R[:N], c)"
   ]
  },
  {
   "cell_type": "code",
   "execution_count": 20,
   "metadata": {},
   "outputs": [
    {
     "name": "stdout",
     "output_type": "stream",
     "text": [
      "[1.27666659 1.30154554 1.18031763 1.06697796 1.77923395 1.40074847\n",
      " 1.24581485 1.52377219 1.25498569 1.85190846]\n"
     ]
    }
   ],
   "source": [
    "print(x_true)"
   ]
  },
  {
   "cell_type": "code",
   "execution_count": 21,
   "metadata": {},
   "outputs": [
    {
     "name": "stdout",
     "output_type": "stream",
     "text": [
      "[1.27666659 1.30154554 1.18031763 1.06697796 1.77923395 1.40074847\n",
      " 1.24581485 1.52377219 1.25498569 1.85190846]\n"
     ]
    }
   ],
   "source": [
    "print(x_ast)"
   ]
  },
  {
   "cell_type": "code",
   "execution_count": 22,
   "metadata": {},
   "outputs": [
    {
     "name": "stdout",
     "output_type": "stream",
     "text": [
      "1.4238265370861067e-15\n"
     ]
    }
   ],
   "source": [
    "print(rho)"
   ]
  },
  {
   "cell_type": "code",
   "execution_count": null,
   "metadata": {},
   "outputs": [],
   "source": []
  }
 ],
 "metadata": {
  "kernelspec": {
   "display_name": "Python 3",
   "language": "python",
   "name": "python3"
  },
  "language_info": {
   "codemirror_mode": {
    "name": "ipython",
    "version": 3
   },
   "file_extension": ".py",
   "mimetype": "text/x-python",
   "name": "python",
   "nbconvert_exporter": "python",
   "pygments_lexer": "ipython3",
   "version": "3.7.7"
  }
 },
 "nbformat": 4,
 "nbformat_minor": 1
}
