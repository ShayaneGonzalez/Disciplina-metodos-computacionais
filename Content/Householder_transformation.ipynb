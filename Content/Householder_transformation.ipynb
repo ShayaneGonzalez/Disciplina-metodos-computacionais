{
 "cells": [
  {
   "cell_type": "markdown",
   "metadata": {},
   "source": [
    "# Householder transformation"
   ]
  },
  {
   "cell_type": "markdown",
   "metadata": {},
   "source": [
    "### References\n",
    "\n",
    "* Lawson, C. L,. and Hanson, R. J. (1995). Solving least squares problems. SIAM, ISBN 0-89871-356-0\n",
    "\n",
    "* Golub, G. H. and C. F. Van Loan, (2013), Matrix computations, 4th edition, Johns Hopkins University Press, ISBN 978-1-4214-0794-4."
   ]
  },
  {
   "cell_type": "code",
   "execution_count": 1,
   "metadata": {},
   "outputs": [],
   "source": [
    "import numpy as np\n",
    "import matplotlib.pyplot as plt\n",
    "import QR_algorithms as qra\n",
    "#np.set_printoptions(precision=3)\n",
    "np.set_printoptions(suppress=True)"
   ]
  },
  {
   "cell_type": "markdown",
   "metadata": {},
   "source": [
    "### Definition"
   ]
  },
  {
   "cell_type": "markdown",
   "metadata": {},
   "source": [
    "A *Householder trasformation* $\\mathbf{P}$ (also known as *Householder reflection* or *Householder matrix*) is an $M \\times M$ symmetric and orthogonal matrix given by:"
   ]
  },
  {
   "cell_type": "markdown",
   "metadata": {},
   "source": [
    "<a id='eq1a'></a>\n",
    "$$\n",
    "\\mathbf{P} = \\mathbf{I} - \\beta \\, \\mathbf{v} \\cdot \\mathbf{v}^{\\top} \\quad , \\tag{1a}\n",
    "$$"
   ]
  },
  {
   "cell_type": "markdown",
   "metadata": {},
   "source": [
    "<a id='eq1b'></a>\n",
    "$$\n",
    "\\beta = \\frac{2}{\\mathbf{v}^{\\top}\\mathbf{v}} \\quad , \\tag{1b}\n",
    "$$"
   ]
  },
  {
   "cell_type": "markdown",
   "metadata": {},
   "source": [
    "where $\\mathbf{v}$ is called *Householder vector*."
   ]
  },
  {
   "cell_type": "markdown",
   "metadata": {},
   "source": [
    "### Create synthetic data"
   ]
  },
  {
   "cell_type": "code",
   "execution_count": 2,
   "metadata": {},
   "outputs": [],
   "source": [
    "np.random.seed(6)\n",
    "M = 13"
   ]
  },
  {
   "cell_type": "code",
   "execution_count": 3,
   "metadata": {},
   "outputs": [],
   "source": [
    "x = np.random.rand(M)"
   ]
  },
  {
   "cell_type": "code",
   "execution_count": 4,
   "metadata": {},
   "outputs": [],
   "source": [
    "v, beta = qra.House_vector(x)"
   ]
  },
  {
   "cell_type": "code",
   "execution_count": 5,
   "metadata": {},
   "outputs": [
    {
     "data": {
      "image/png": "[encoded data removed]",
      "text/plain": [
       "<Figure size 432x288 with 4 Axes>"
      ]
     },
     "metadata": {
      "needs_background": "light"
     },
     "output_type": "display_data"
    }
   ],
   "source": [
    "plt.figure(figsize=(6,4))\n",
    "\n",
    "plt.subplot(121)\n",
    "plt.title('$\\mathbf{x}$\\n', fontsize=18)\n",
    "plt.matshow(np.reshape(x, (M,1)), fignum=0, cmap='hsv')\n",
    "plt.colorbar()\n",
    "plt.xticks([])\n",
    "\n",
    "plt.subplot(122)\n",
    "plt.title('$\\mathbf{v}$\\n', fontsize=18)\n",
    "plt.matshow(np.reshape(v, (M,1)), fignum=0, cmap='hsv')\n",
    "plt.colorbar()\n",
    "plt.xticks([])\n",
    "\n",
    "plt.tight_layout()\n",
    "plt.show()"
   ]
  },
  {
   "cell_type": "markdown",
   "metadata": {},
   "source": [
    "### Properties"
   ]
  },
  {
   "cell_type": "code",
   "execution_count": 6,
   "metadata": {},
   "outputs": [],
   "source": [
    "# Create the Householder transformation\n",
    "P = np.identity(M) - beta*np.outer(v,v)"
   ]
  },
  {
   "cell_type": "code",
   "execution_count": 7,
   "metadata": {},
   "outputs": [
    {
     "data": {
      "text/plain": [
       "True"
      ]
     },
     "execution_count": 7,
     "metadata": {},
     "output_type": "execute_result"
    }
   ],
   "source": [
    "np.allclose(np.dot(P.T,P), np.dot(P,P.T))"
   ]
  },
  {
   "cell_type": "code",
   "execution_count": 8,
   "metadata": {},
   "outputs": [
    {
     "data": {
      "text/plain": [
       "True"
      ]
     },
     "execution_count": 8,
     "metadata": {},
     "output_type": "execute_result"
    }
   ],
   "source": [
    "np.allclose(np.identity(M), np.dot(P,P.T))"
   ]
  },
  {
   "cell_type": "code",
   "execution_count": 9,
   "metadata": {},
   "outputs": [],
   "source": [
    "Px = np.dot(P,x)"
   ]
  },
  {
   "cell_type": "code",
   "execution_count": 10,
   "metadata": {},
   "outputs": [
    {
     "data": {
      "image/png": "[encoded data removed]",
      "text/plain": [
       "<Figure size 432x288 with 4 Axes>"
      ]
     },
     "metadata": {
      "needs_background": "light"
     },
     "output_type": "display_data"
    }
   ],
   "source": [
    "cmap = plt.cm.hsv\n",
    "cmap.set_bad(color='black')\n",
    "\n",
    "plt.figure(figsize=(6,4))\n",
    "\n",
    "plt.subplot(121)\n",
    "plt.title('$\\mathbf{x}$\\n', fontsize=18)\n",
    "plt.matshow(np.reshape(x, (M,1)), fignum=0, cmap=\"hsv\")\n",
    "plt.colorbar()\n",
    "plt.xticks([])\n",
    "\n",
    "plt.subplot(122)\n",
    "plt.title('$\\mathbf{P \\, x}$\\n', fontsize=18)\n",
    "Px_masked = np.ma.masked_where(Px < 1e-15, Px)\n",
    "plt.matshow(np.reshape(Px_masked, (M,1)), fignum=0, cmap=cmap)\n",
    "plt.colorbar()\n",
    "plt.xticks([])\n",
    "\n",
    "plt.tight_layout()\n",
    "plt.show()"
   ]
  },
  {
   "cell_type": "code",
   "execution_count": 11,
   "metadata": {},
   "outputs": [
    {
     "data": {
      "text/plain": [
       "True"
      ]
     },
     "execution_count": 11,
     "metadata": {},
     "output_type": "execute_result"
    }
   ],
   "source": [
    "np.allclose(Px[0], np.linalg.norm(x))"
   ]
  },
  {
   "cell_type": "code",
   "execution_count": 12,
   "metadata": {},
   "outputs": [],
   "source": [
    "v, beta = qra.House_vector(x[4:])"
   ]
  },
  {
   "cell_type": "code",
   "execution_count": 13,
   "metadata": {},
   "outputs": [],
   "source": [
    "# Create the Householder transformation\n",
    "P = np.identity(M-4) - beta*np.outer(v,v)"
   ]
  },
  {
   "cell_type": "code",
   "execution_count": 14,
   "metadata": {},
   "outputs": [],
   "source": [
    "Px = np.hstack([x[:4], np.dot(P,x[4:])])"
   ]
  },
  {
   "cell_type": "code",
   "execution_count": 15,
   "metadata": {},
   "outputs": [
    {
     "data": {
      "image/png": "[encoded data removed]",
      "text/plain": [
       "<Figure size 432x288 with 4 Axes>"
      ]
     },
     "metadata": {
      "needs_background": "light"
     },
     "output_type": "display_data"
    }
   ],
   "source": [
    "cmap = plt.cm.hsv\n",
    "cmap.set_bad(color='black')\n",
    "\n",
    "plt.figure(figsize=(6,4))\n",
    "\n",
    "plt.subplot(121)\n",
    "plt.title('$\\mathbf{x}$\\n', fontsize=18)\n",
    "plt.matshow(np.reshape(x, (M,1)), fignum=0, cmap=\"hsv\")\n",
    "plt.colorbar()\n",
    "plt.xticks([])\n",
    "\n",
    "plt.subplot(122)\n",
    "plt.title('$\\mathbf{P \\, x}$\\n', fontsize=18)\n",
    "Px_masked = np.ma.masked_where(Px < 1e-15, Px)\n",
    "plt.matshow(np.reshape(Px_masked, (M,1)), fignum=0, cmap=cmap)\n",
    "plt.colorbar()\n",
    "plt.xticks([])\n",
    "\n",
    "plt.tight_layout()\n",
    "plt.show()"
   ]
  },
  {
   "cell_type": "code",
   "execution_count": null,
   "metadata": {},
   "outputs": [],
   "source": []
  }
 ],
 "metadata": {
  "kernelspec": {
   "display_name": "Python 3",
   "language": "python",
   "name": "python3"
  },
  "language_info": {
   "codemirror_mode": {
    "name": "ipython",
    "version": 3
   },
   "file_extension": ".py",
   "mimetype": "text/x-python",
   "name": "python",
   "nbconvert_exporter": "python",
   "pygments_lexer": "ipython3",
   "version": "3.7.7"
  }
 },
 "nbformat": 4,
 "nbformat_minor": 1
}
